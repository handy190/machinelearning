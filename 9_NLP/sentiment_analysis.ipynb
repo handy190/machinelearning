{
 "cells": [
  {
   "cell_type": "markdown",
   "metadata": {},
   "source": [
    "# Sentiment Analysis by nltk"
   ]
  },
  {
   "cell_type": "code",
   "execution_count": 2,
   "metadata": {},
   "outputs": [
    {
     "name": "stdout",
     "output_type": "stream",
     "text": [
      "Great place to be when you are in Bangalore\n",
      "neg:0.0,  neu:0.661,  compound:0.6249,  pos:0.339,  The place was being renovated when I visited so the seating was limited\n",
      "neg:0.147,  neu:0.853,  compound:-0.2263,  pos:0.0,  Loved the ambience, loved the food\n",
      "neg:0.0,  neu:0.339,  compound:0.8316,  pos:0.661,  The place is not easy to locate\n",
      "neg:0.286,  neu:0.714,  compound:-0.3412,  pos:0.0,  "
     ]
    }
   ],
   "source": [
    "import nltk\n",
    "from nltk.sentiment.vader import SentimentIntensityAnalyzer\n",
    "# nltk.download('vader_lexicon')\n",
    "view = [\"Great place to be when you are in Bangalore\",\n",
    "        \"The place was being renovated when I visited so the seating was limited\",\n",
    "        \"Loved the ambience, loved the food\",\n",
    "        \"The place is not easy to locate\"]\n",
    "sid = SentimentIntensityAnalyzer()\n",
    "for sen in view:\n",
    "    print(sen)\n",
    "    ss = sid.polarity_scores(sen)\n",
    "    for k in ss:\n",
    "        print('{0}:{1},  '.format(k, ss[k]), end='')"
   ]
  },
  {
   "cell_type": "markdown",
   "metadata": {},
   "source": [
    "**output**\n",
    "\n",
    "* neg: negative\n",
    "* pos: positive\n",
    "* neu: neutral\n",
    "* compound: 妥协"
   ]
  }
 ],
 "metadata": {
  "kernelspec": {
   "display_name": "Python 3",
   "language": "python",
   "name": "python3"
  },
  "language_info": {
   "codemirror_mode": {
    "name": "ipython",
    "version": 3
   },
   "file_extension": ".py",
   "mimetype": "text/x-python",
   "name": "python",
   "nbconvert_exporter": "python",
   "pygments_lexer": "ipython3",
   "version": "3.5.4"
  }
 },
 "nbformat": 4,
 "nbformat_minor": 2
}
