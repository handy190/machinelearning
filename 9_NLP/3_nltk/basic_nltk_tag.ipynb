{
 "cells": [
  {
   "cell_type": "markdown",
   "metadata": {},
   "source": [
    "# 1. Tag Meaning"
   ]
  },
  {
   "cell_type": "markdown",
   "metadata": {},
   "source": [
    "* CC coordinating conjunction\n",
    "* CD cardinal digit\n",
    "* DT determiner\n",
    "* EX existential there (like: “there is” … think of it like “there exists”)\n",
    "* FW foreign word\n",
    "* IN preposition/subordinating conjunction\n",
    "* JJ adjective ‘big’\n",
    "* JJR adjective, comparative ‘bigger’\n",
    "* JJS adjective, superlative ‘biggest’\n",
    "* LS list marker 1)\n",
    "* MD modal could, will\n",
    "* NN noun, singular ‘desk’\n",
    "* NNS noun plural ‘desks’\n",
    "* NNP proper noun, singular ‘Harrison’\n",
    "* NNPS proper noun, plural ‘Americans’\n",
    "* PDT predeterminer ‘all the kids’\n",
    "* POS possessive ending parent’s\n",
    "* PRP personal pronoun I, he, she\n",
    "* PRP+dollar possessive pronoun my, his, hers\n",
    "* RB adverb very, silently,\n",
    "* RBR adverb, comparative better\n",
    "* RBS adverb, superlative best\n",
    "* RP particle give up\n",
    "* TO, to go ‘to’ the store.\n",
    "* UH interjection, errrrrrrrm\n",
    "* VB verb, base form take\n",
    "* VBD verb, past tense took\n",
    "* VBG verb, gerund/present participle taking\n",
    "* VBN verb, past participle taken\n",
    "* VBP verb, sing. present, non-3d take\n",
    "* VBZ verb, 3rd person sing. present takes\n",
    "* WDT wh-determiner which\n",
    "* WP wh-pronoun who, what\n",
    "* WP+dollar possessive wh-pronoun whose\n",
    "* WRB wh-abverb where, when\n"
   ]
  },
  {
   "cell_type": "markdown",
   "metadata": {},
   "source": [
    "# 2. NLTK词性"
   ]
  },
  {
   "cell_type": "markdown",
   "metadata": {},
   "source": [
    "* CC 连词 and, or,but, if, while,although\n",
    "* CD 数词 twenty-four, fourth, 1991,14:24\n",
    "* DT 限定词 the, a, some, most,every, no\n",
    "* EX 存在量词 there, there's\n",
    "* FW 外来词 dolce, ersatz, esprit, quo,maitre\n",
    "* IN 介词连词 on, of,at, with,by,into, under\n",
    "* JJ 形容词 new,good, high, special, big, local\n",
    "* JJR 比较级词语 bleaker braver breezier briefer brighter brisker\n",
    "* JJS 最高级词语 calmest cheapest choicest classiest cleanest clearest\n",
    "* LS 标记 A A. B B. C C. D E F First G H I J K\n",
    "* MD 情态动词 can cannot could couldn't\n",
    "* NN 名词 year,home, costs, time, education\n",
    "* NNS 名词复数 undergraduates scotches\n",
    "* NNP 专有名词 Alison,Africa,April,Washington\n",
    "* NNPS 专有名词复数 Americans Americas Amharas Amityvilles\n",
    "* PDT 前限定词 all both half many\n",
    "* POS 所有格标记 ' 's\n",
    "* PRP 人称代词 hers herself him himself hisself\n",
    "* PRP+dollar 所有格 her his mine my our ours\n",
    "* RB 副词 occasionally unabatingly maddeningly\n",
    "* RBR 副词比较级 further gloomier grander\n",
    "* RBS 副词最高级 best biggest bluntest earliest\n",
    "* RP 虚词 aboard about across along apart\n",
    "* SYM 符号 % & ' '' ''. ) )\n",
    "* TO 词to to\n",
    "* UH 感叹词 Goodbye Goody Gosh Wow\n",
    "* VB 动词 ask assemble assess\n",
    "* VBD 动词过去式 dipped pleaded swiped\n",
    "* VBG 动词现在分词 telegraphing stirring focusing\n",
    "* VBN 动词过去分词 multihulled dilapidated aerosolized\n",
    "* VBP 动词现在式非第三人称时态 predominate wrap resort sue\n",
    "* VBZ 动词现在式第三人称时态 bases reconstructs marks\n",
    "* WDT Wh限定词 who,which,when,what,where,how\n",
    "* WP WH代词 that what whatever\n",
    "* WP+dollar WH代词所有格 whose\n",
    "* WRB WH副词"
   ]
  },
  {
   "cell_type": "code",
   "execution_count": null,
   "metadata": {},
   "outputs": [],
   "source": []
  },
  {
   "cell_type": "code",
   "execution_count": null,
   "metadata": {},
   "outputs": [],
   "source": []
  }
 ],
 "metadata": {
  "kernelspec": {
   "display_name": "Python 3",
   "language": "python",
   "name": "python3"
  },
  "language_info": {
   "codemirror_mode": {
    "name": "ipython",
    "version": 3
   },
   "file_extension": ".py",
   "mimetype": "text/x-python",
   "name": "python",
   "nbconvert_exporter": "python",
   "pygments_lexer": "ipython3",
   "version": "3.5.5"
  }
 },
 "nbformat": 4,
 "nbformat_minor": 2
}
