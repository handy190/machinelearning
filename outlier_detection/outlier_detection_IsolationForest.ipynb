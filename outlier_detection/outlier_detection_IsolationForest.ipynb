{
 "cells": [
  {
   "cell_type": "code",
   "execution_count": 15,
   "metadata": {
    "collapsed": false
   },
   "outputs": [
    {
     "data": {
      "text/plain": [
       "array([ 1, -1, -1])"
      ]
     },
     "execution_count": 15,
     "metadata": {},
     "output_type": "execute_result"
    }
   ],
   "source": [
    "from sklearn.ensemble import IsolationForest\n",
    "\n",
    "x_train = [ [1,2,3], [2,2,3], [3,2,1], [3,2,3], [1,2,1], [3,1,1], [23,-33,12], [22,33,22] ]\n",
    "y_train = [1,1,1,1,1,1,-1,-1]\n",
    "\n",
    "model = IsolationForest()\n",
    "\n",
    "model.fit(x_train, y_train)\n",
    "\n",
    "model.predict([[1,2,3], [22,-32,33], [222,555,22]])"
   ]
  },
  {
   "cell_type": "markdown",
   "metadata": {},
   "source": [
    "* ref\n",
    "   * http://scikit-learn.org/stable/modules/outlier_detection.html"
   ]
  }
 ],
 "metadata": {
  "kernelspec": {
   "display_name": "Python 3",
   "language": "python",
   "name": "python3"
  },
  "language_info": {
   "codemirror_mode": {
    "name": "ipython",
    "version": 3
   },
   "file_extension": ".py",
   "mimetype": "text/x-python",
   "name": "python",
   "nbconvert_exporter": "python",
   "pygments_lexer": "ipython3",
   "version": "3.5.2"
  }
 },
 "nbformat": 4,
 "nbformat_minor": 2
}
