{
 "cells": [
  {
   "cell_type": "markdown",
   "metadata": {},
   "source": [
    "# Find all faces in picture"
   ]
  },
  {
   "cell_type": "code",
   "execution_count": 1,
   "metadata": {},
   "outputs": [
    {
     "name": "stdout",
     "output_type": "stream",
     "text": [
      "I found 64 face(s) in this photograph.\n",
      "A face is located at pixel location Top: 98, Left: 17, Bottom: 134, Right: 53\n",
      "A face is located at pixel location Top: 174, Left: 553, Bottom: 210, Right: 589\n",
      "A face is located at pixel location Top: 324, Left: 88, Bottom: 367, Right: 132\n",
      "A face is located at pixel location Top: 406, Left: 88, Bottom: 449, Right: 132\n",
      "A face is located at pixel location Top: 98, Left: 169, Bottom: 134, Right: 205\n",
      "A face is located at pixel location Top: 252, Left: 165, Bottom: 295, Right: 208\n",
      "A face is located at pixel location Top: 478, Left: 245, Bottom: 514, Right: 281\n",
      "A face is located at pixel location Top: 478, Left: 93, Bottom: 521, Right: 136\n",
      "A face is located at pixel location Top: 475, Left: 164, Bottom: 527, Right: 216\n",
      "A face is located at pixel location Top: 22, Left: 21, Bottom: 58, Right: 57\n",
      "A face is located at pixel location Top: 247, Left: 256, Bottom: 290, Right: 299\n",
      "A face is located at pixel location Top: 247, Left: 88, Bottom: 290, Right: 132\n",
      "A face is located at pixel location Top: 250, Left: 29, Bottom: 286, Right: 65\n",
      "A face is located at pixel location Top: 178, Left: 397, Bottom: 214, Right: 433\n",
      "A face is located at pixel location Top: 102, Left: 249, Bottom: 138, Right: 285\n",
      "A face is located at pixel location Top: 324, Left: 160, Bottom: 367, Right: 204\n",
      "A face is located at pixel location Top: 402, Left: 557, Bottom: 438, Right: 593\n",
      "A face is located at pixel location Top: 166, Left: 319, Bottom: 209, Right: 362\n",
      "A face is located at pixel location Top: 401, Left: 152, Bottom: 452, Right: 204\n",
      "A face is located at pixel location Top: 478, Left: 467, Bottom: 521, Right: 511\n",
      "A face is located at pixel location Top: 401, Left: 16, Bottom: 444, Right: 59\n",
      "A face is located at pixel location Top: 326, Left: 249, Bottom: 362, Right: 285\n",
      "A face is located at pixel location Top: 326, Left: 17, Bottom: 362, Right: 53\n",
      "A face is located at pixel location Top: 94, Left: 549, Bottom: 137, Right: 592\n",
      "A face is located at pixel location Top: 18, Left: 317, Bottom: 54, Right: 353\n",
      "A face is located at pixel location Top: 545, Left: 405, Bottom: 588, Right: 448\n",
      "A face is located at pixel location Top: 402, Left: 241, Bottom: 438, Right: 277\n",
      "A face is located at pixel location Top: 22, Left: 472, Bottom: 65, Right: 516\n",
      "A face is located at pixel location Top: 238, Left: 549, Bottom: 281, Right: 592\n",
      "A face is located at pixel location Top: 324, Left: 554, Bottom: 367, Right: 597\n",
      "A face is located at pixel location Top: 247, Left: 482, Bottom: 290, Right: 525\n",
      "A face is located at pixel location Top: 566, Left: 481, Bottom: 602, Right: 517\n",
      "A face is located at pixel location Top: 401, Left: 472, Bottom: 444, Right: 516\n",
      "A face is located at pixel location Top: 174, Left: 89, Bottom: 210, Right: 125\n",
      "A face is located at pixel location Top: 174, Left: 17, Bottom: 210, Right: 53\n",
      "A face is located at pixel location Top: 30, Left: 401, Bottom: 66, Right: 437\n",
      "A face is located at pixel location Top: 26, Left: 553, Bottom: 62, Right: 589\n",
      "A face is located at pixel location Top: 402, Left: 321, Bottom: 438, Right: 357\n",
      "A face is located at pixel location Top: 559, Left: 247, Bottom: 602, Right: 290\n",
      "A face is located at pixel location Top: 94, Left: 477, Bottom: 130, Right: 513\n",
      "A face is located at pixel location Top: 478, Left: 401, Bottom: 514, Right: 437\n",
      "A face is located at pixel location Top: 554, Left: 93, Bottom: 590, Right: 129\n",
      "A face is located at pixel location Top: 174, Left: 169, Bottom: 210, Right: 205\n",
      "A face is located at pixel location Top: 550, Left: 21, Bottom: 593, Right: 64\n",
      "A face is located at pixel location Top: 250, Left: 325, Bottom: 286, Right: 361\n",
      "A face is located at pixel location Top: 324, Left: 328, Bottom: 367, Right: 371\n",
      "A face is located at pixel location Top: 26, Left: 253, Bottom: 62, Right: 289\n",
      "A face is located at pixel location Top: 559, Left: 323, Bottom: 602, Right: 367\n",
      "A face is located at pixel location Top: 98, Left: 97, Bottom: 134, Right: 133\n",
      "A face is located at pixel location Top: 98, Left: 333, Bottom: 134, Right: 369\n",
      "A face is located at pixel location Top: 324, Left: 472, Bottom: 367, Right: 516\n",
      "A face is located at pixel location Top: 324, Left: 395, Bottom: 367, Right: 439\n",
      "A face is located at pixel location Top: 486, Left: 25, Bottom: 522, Right: 61\n",
      "A face is located at pixel location Top: 164, Left: 475, Bottom: 216, Right: 527\n",
      "A face is located at pixel location Top: 559, Left: 544, Bottom: 602, Right: 588\n",
      "A face is located at pixel location Top: 402, Left: 401, Bottom: 438, Right: 437\n",
      "A face is located at pixel location Top: 478, Left: 325, Bottom: 514, Right: 361\n",
      "A face is located at pixel location Top: 559, Left: 160, Bottom: 602, Right: 204\n",
      "A face is located at pixel location Top: 250, Left: 405, Bottom: 286, Right: 441\n",
      "A face is located at pixel location Top: 170, Left: 257, Bottom: 206, Right: 293\n",
      "A face is located at pixel location Top: 22, Left: 85, Bottom: 58, Right: 121\n",
      "A face is located at pixel location Top: 482, Left: 549, Bottom: 526, Right: 592\n",
      "A face is located at pixel location Top: 89, Left: 391, Bottom: 132, Right: 434\n",
      "A face is located at pixel location Top: 12, Left: 156, Bottom: 55, Right: 199\n"
     ]
    }
   ],
   "source": [
    "from PIL import Image\n",
    "import face_recognition\n",
    "\n",
    "# Load the jpg file into a numpy array\n",
    "image = face_recognition.load_image_file(\"faces.jpg\")\n",
    "\n",
    "# Find all the faces in the image using the default HOG-based model.\n",
    "# This method is fairly accurate, but not as accurate as the CNN model and not GPU accelerated.\n",
    "# See also: find_faces_in_picture_cnn.py\n",
    "face_locations = face_recognition.face_locations(image)\n",
    "\n",
    "print(\"I found {} face(s) in this photograph.\".format(len(face_locations)))\n",
    "\n",
    "for face_location in face_locations:\n",
    "\n",
    "    # Print the location of each face in this image\n",
    "    top, right, bottom, left = face_location\n",
    "    print(\"A face is located at pixel location Top: {}, Left: {}, Bottom: {}, Right: {}\".format(top, left, bottom, right))\n",
    "\n",
    "    # You can access the actual face itself like this:\n",
    "    face_image = image[top:bottom, left:right]\n",
    "    pil_image = Image.fromarray(face_image)\n",
    "    pil_image.show()\n",
    "    # save to file\n",
    "    #pil_image.save('xx.jpg')\n"
   ]
  },
  {
   "cell_type": "code",
   "execution_count": null,
   "metadata": {
    "collapsed": true
   },
   "outputs": [],
   "source": []
  }
 ],
 "metadata": {
  "kernelspec": {
   "display_name": "Python 3",
   "language": "python",
   "name": "python3"
  },
  "language_info": {
   "codemirror_mode": {
    "name": "ipython",
    "version": 3
   },
   "file_extension": ".py",
   "mimetype": "text/x-python",
   "name": "python",
   "nbconvert_exporter": "python",
   "pygments_lexer": "ipython3",
   "version": "3.6.3"
  }
 },
 "nbformat": 4,
 "nbformat_minor": 2
}
