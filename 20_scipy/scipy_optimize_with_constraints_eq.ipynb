{
 "cells": [
  {
   "cell_type": "markdown",
   "metadata": {},
   "source": [
    "# optimization with constraints equal"
   ]
  },
  {
   "cell_type": "code",
   "execution_count": 1,
   "metadata": {},
   "outputs": [],
   "source": [
    "import numpy as np\n",
    "import scipy.optimize as opt\n",
    "\n",
    "# 目标函数\n",
    "def func(x): \n",
    "    return 2*x[0]*x[1] + 2*x[0] - x[0]**2 - 2*x[1]**2# f(x,y) = 2xy+2x-x^2-2y^2\n",
    "\n",
    "\n",
    "# 约束条件\n",
    "cons = ({'type': 'eq',\n",
    "         'fun' : lambda x: np.array([x[0]**3 - x[1]]),},  # x^3-y=0\n",
    "        )"
   ]
  },
  {
   "cell_type": "code",
   "execution_count": 2,
   "metadata": {},
   "outputs": [
    {
     "name": "stdout",
     "output_type": "stream",
     "text": [
      "Rank-deficient equality constraint subproblem HFTI    (Exit mode 7)\n",
      "            Current function value: -3.893346189065152e+19\n",
      "            Iterations: 51\n",
      "            Function evaluations: 548\n",
      "            Gradient evaluations: 51\n"
     ]
    }
   ],
   "source": [
    "# opt.minimize(目标函数, 初始值, constraints=约束条件, bounds=约束边界, jac=雅可比函数, ...)\n",
    "res = opt.minimize(func, [-1.0,1.0], constraints=cons,  method='SLSQP', options={'disp': True})"
   ]
  },
  {
   "cell_type": "code",
   "execution_count": 3,
   "metadata": {},
   "outputs": [
    {
     "data": {
      "text/plain": [
       "     fun: -3.893346189065152e+19\n",
       "     jac: array([ 0.,  0.])\n",
       " message: 'Rank-deficient equality constraint subproblem HFTI'\n",
       "    nfev: 548\n",
       "     nit: 51\n",
       "    njev: 51\n",
       "  status: 7\n",
       " success: False\n",
       "       x: array([  1.64012355e+03,   4.41211267e+09])"
      ]
     },
     "execution_count": 3,
     "metadata": {},
     "output_type": "execute_result"
    }
   ],
   "source": [
    "res"
   ]
  }
 ],
 "metadata": {
  "kernelspec": {
   "display_name": "Python 3",
   "language": "python",
   "name": "python3"
  },
  "language_info": {
   "codemirror_mode": {
    "name": "ipython",
    "version": 3
   },
   "file_extension": ".py",
   "mimetype": "text/x-python",
   "name": "python",
   "nbconvert_exporter": "python",
   "pygments_lexer": "ipython3",
   "version": "3.5.4"
  }
 },
 "nbformat": 4,
 "nbformat_minor": 2
}
