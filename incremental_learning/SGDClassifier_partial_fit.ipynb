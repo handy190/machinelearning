{
 "cells": [
  {
   "cell_type": "markdown",
   "metadata": {},
   "source": [
    "# Incremental learning by partial_fit()"
   ]
  },
  {
   "cell_type": "markdown",
   "metadata": {},
   "source": [
    "* http://scikit-learn.org/stable/modules/scaling_strategies.html\n",
    "* http://scikit-learn.org/stable/auto_examples/applications/plot_out_of_core_classification.html#sphx-glr-auto-examples-applications-plot-out-of-core-classification-py"
   ]
  },
  {
   "cell_type": "code",
   "execution_count": 2,
   "metadata": {
    "collapsed": false
   },
   "outputs": [
    {
     "data": {
      "text/plain": [
       "(1797, 64)"
      ]
     },
     "execution_count": 2,
     "metadata": {},
     "output_type": "execute_result"
    }
   ],
   "source": [
    "from sklearn import datasets\n",
    "\n",
    "#Load the digits dataset\n",
    "digits = datasets.load_digits()"
   ]
  },
  {
   "cell_type": "code",
   "execution_count": 4,
   "metadata": {
    "collapsed": false
   },
   "outputs": [],
   "source": [
    "from sklearn.model_selection import train_test_split\n",
    "\n",
    "x_train, x_test, y_train, y_test = train_test_split(digits.data, digits.target, test_size=0.2, random_state=42)"
   ]
  },
  {
   "cell_type": "code",
   "execution_count": 7,
   "metadata": {
    "collapsed": false
   },
   "outputs": [
    {
     "data": {
      "text/plain": [
       "(1437, 64)"
      ]
     },
     "execution_count": 7,
     "metadata": {},
     "output_type": "execute_result"
    }
   ],
   "source": [
    "x_train.shape"
   ]
  },
  {
   "cell_type": "code",
   "execution_count": 12,
   "metadata": {
    "collapsed": false
   },
   "outputs": [],
   "source": [
    "from sklearn.linear_model import SGDClassifier\n",
    "\n",
    "\n",
    "model = SGDClassifier()\n",
    "scores = []\n",
    "classes = [0,1,2,3,4,5,6,7,8,9]\n",
    "\n",
    "for i in range(100):\n",
    "    x = x_train[i*14:(i+1)*14]\n",
    "    y = y_train[i*14:(i+1)*14]\n",
    "    model.partial_fit(x,y,classes=classes)\n",
    "    score = model.score(x_test,y_test)\n",
    "    scores.append(score)"
   ]
  },
  {
   "cell_type": "code",
   "execution_count": 13,
   "metadata": {
    "collapsed": false
   },
   "outputs": [
    {
     "data": {
      "text/plain": [
       "[0.20277777777777778,\n",
       " 0.1388888888888889,\n",
       " 0.21944444444444444,\n",
       " 0.40833333333333333,\n",
       " 0.63611111111111107,\n",
       " 0.59444444444444444,\n",
       " 0.67222222222222228,\n",
       " 0.65833333333333333,\n",
       " 0.56944444444444442,\n",
       " 0.72222222222222221,\n",
       " 0.56666666666666665,\n",
       " 0.57499999999999996,\n",
       " 0.74444444444444446,\n",
       " 0.82222222222222219,\n",
       " 0.81944444444444442,\n",
       " 0.71944444444444444,\n",
       " 0.78611111111111109,\n",
       " 0.81388888888888888,\n",
       " 0.75,\n",
       " 0.80833333333333335,\n",
       " 0.88888888888888884,\n",
       " 0.81666666666666665,\n",
       " 0.84444444444444444,\n",
       " 0.82222222222222219,\n",
       " 0.88055555555555554,\n",
       " 0.88611111111111107,\n",
       " 0.8833333333333333,\n",
       " 0.66666666666666663,\n",
       " 0.78888888888888886,\n",
       " 0.82499999999999996,\n",
       " 0.84722222222222221,\n",
       " 0.87777777777777777,\n",
       " 0.85555555555555551,\n",
       " 0.83611111111111114,\n",
       " 0.69166666666666665,\n",
       " 0.90277777777777779,\n",
       " 0.87777777777777777,\n",
       " 0.84444444444444444,\n",
       " 0.83611111111111114,\n",
       " 0.85833333333333328,\n",
       " 0.83611111111111114,\n",
       " 0.89166666666666672,\n",
       " 0.72499999999999998,\n",
       " 0.84166666666666667,\n",
       " 0.78888888888888886,\n",
       " 0.8666666666666667,\n",
       " 0.71111111111111114,\n",
       " 0.84444444444444444,\n",
       " 0.84722222222222221,\n",
       " 0.9194444444444444,\n",
       " 0.8305555555555556,\n",
       " 0.7416666666666667,\n",
       " 0.84999999999999998,\n",
       " 0.91666666666666663,\n",
       " 0.8833333333333333,\n",
       " 0.61111111111111116,\n",
       " 0.88611111111111107,\n",
       " 0.75277777777777777,\n",
       " 0.77500000000000002,\n",
       " 0.86944444444444446,\n",
       " 0.90277777777777779,\n",
       " 0.83333333333333337,\n",
       " 0.83611111111111114,\n",
       " 0.86944444444444446,\n",
       " 0.86111111111111116,\n",
       " 0.87222222222222223,\n",
       " 0.89722222222222225,\n",
       " 0.85555555555555551,\n",
       " 0.87777777777777777,\n",
       " 0.91388888888888886,\n",
       " 0.82222222222222219,\n",
       " 0.9194444444444444,\n",
       " 0.91388888888888886,\n",
       " 0.81111111111111112,\n",
       " 0.7944444444444444,\n",
       " 0.68055555555555558,\n",
       " 0.85555555555555551,\n",
       " 0.85277777777777775,\n",
       " 0.86388888888888893,\n",
       " 0.89444444444444449,\n",
       " 0.88611111111111107,\n",
       " 0.86388888888888893,\n",
       " 0.84444444444444444,\n",
       " 0.84166666666666667,\n",
       " 0.89722222222222225,\n",
       " 0.86111111111111116,\n",
       " 0.85555555555555551,\n",
       " 0.94444444444444442,\n",
       " 0.93888888888888888,\n",
       " 0.92500000000000004,\n",
       " 0.875,\n",
       " 0.90555555555555556,\n",
       " 0.92222222222222228,\n",
       " 0.91388888888888886,\n",
       " 0.8305555555555556,\n",
       " 0.87222222222222223,\n",
       " 0.94722222222222219,\n",
       " 0.91388888888888886,\n",
       " 0.91388888888888886,\n",
       " 0.88888888888888884]"
      ]
     },
     "execution_count": 13,
     "metadata": {},
     "output_type": "execute_result"
    }
   ],
   "source": [
    "scores"
   ]
  }
 ],
 "metadata": {
  "kernelspec": {
   "display_name": "Python 3",
   "language": "python",
   "name": "python3"
  },
  "language_info": {
   "codemirror_mode": {
    "name": "ipython",
    "version": 3
   },
   "file_extension": ".py",
   "mimetype": "text/x-python",
   "name": "python",
   "nbconvert_exporter": "python",
   "pygments_lexer": "ipython3",
   "version": "3.6.0"
  }
 },
 "nbformat": 4,
 "nbformat_minor": 2
}
