{
 "cells": [
  {
   "cell_type": "markdown",
   "metadata": {},
   "source": [
    "# doc2bow"
   ]
  },
  {
   "cell_type": "code",
   "execution_count": 3,
   "metadata": {},
   "outputs": [
    {
     "name": "stdout",
     "output_type": "stream",
     "text": [
      "Dictionary(5 unique tokens: ['想吃', '烤猪蹄', '大龙虾', '我', '和'])\n",
      "[(0, 1), (1, 1), (2, 1), (3, 2), (4, 1)]\n"
     ]
    }
   ],
   "source": [
    "from gensim.corpora import Dictionary\n",
    "# create dictionary\n",
    "text = [['我', '想吃', '大龙虾', '和', '烤猪蹄']] # no duplicated\n",
    "dictionary = Dictionary(text)\n",
    "print((dictionary))\n",
    "# convert text to bow by the created dictionary\n",
    "doc = dictionary.doc2bow(['我', '想吃', '大龙虾', '和','我' , '烤猪蹄'])\n",
    "print(doc)"
   ]
  },
  {
   "cell_type": "code",
   "execution_count": null,
   "metadata": {
    "collapsed": true
   },
   "outputs": [],
   "source": [
    "# 我，用0表示，出现1次\n",
    "# \n",
    "# 出现了两个 我 ，所以 3，2"
   ]
  }
 ],
 "metadata": {
  "kernelspec": {
   "display_name": "Python 3",
   "language": "python",
   "name": "python3"
  },
  "language_info": {
   "codemirror_mode": {
    "name": "ipython",
    "version": 3
   },
   "file_extension": ".py",
   "mimetype": "text/x-python",
   "name": "python",
   "nbconvert_exporter": "python",
   "pygments_lexer": "ipython3",
   "version": "3.5.4"
  }
 },
 "nbformat": 4,
 "nbformat_minor": 2
}
