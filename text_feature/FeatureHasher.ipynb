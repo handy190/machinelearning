{
 "cells": [
  {
   "cell_type": "markdown",
   "metadata": {},
   "source": [
    "FeatureHasher\n",
    "------------"
   ]
  },
  {
   "cell_type": "markdown",
   "metadata": {},
   "source": [
    "**max feature number**\n",
    "\n",
    "FeatureHasher uses the signed 32-bit variant of MurmurHash3. \n",
    "\n",
    "As a result (and because of limitations in scipy.sparse), \n",
    "the maximum number of features supported is currently 2^{31} - 1."
   ]
  },
  {
   "cell_type": "markdown",
   "metadata": {},
   "source": [
    "**input data type**\n",
    "\n",
    "FeatureHasher support [{}]. So ['feat1', 'feat2', 'feat3'] is interpreted as [{'feat1': 1}, {'feat2': 1}, {'feat3': 1}]"
   ]
  },
  {
   "cell_type": "markdown",
   "metadata": {},
   "source": [
    "# 1. Basic Usage"
   ]
  },
  {
   "cell_type": "code",
   "execution_count": 2,
   "metadata": {
    "collapsed": false
   },
   "outputs": [
    {
     "data": {
      "text/plain": [
       "array([[ 0.,  0., -4., -1.,  0.,  0.,  0.,  0.,  0.,  2.],\n",
       "       [ 0.,  0.,  0., -2., -5.,  0.,  0.,  0.,  0.,  0.]])"
      ]
     },
     "execution_count": 2,
     "metadata": {},
     "output_type": "execute_result"
    }
   ],
   "source": [
    "from sklearn.feature_extraction import FeatureHasher\n",
    "h = FeatureHasher(n_features=10)\n",
    "D = [{'dog': 1, 'cat':2, 'elephant':4},{'dog': 2, 'run': 5}]\n",
    "f = h.transform(D)\n",
    "f.toarray()\n"
   ]
  },
  {
   "cell_type": "markdown",
   "metadata": {},
   "source": [
    "# 2. Hash class name string list"
   ]
  },
  {
   "cell_type": "code",
   "execution_count": 9,
   "metadata": {
    "collapsed": false
   },
   "outputs": [
    {
     "data": {
      "text/plain": [
       "array([ 1.,  4.,  1.,  1.,  0.,  0.,  0.,  1.,  2.,  2.])"
      ]
     },
     "execution_count": 9,
     "metadata": {},
     "output_type": "execute_result"
    }
   ],
   "source": [
    "class_item_list = [ 'Lcom.heju.huafei.pp', \n",
    "'Lcom.adfeiwo.ad.coverscreen.c.i',\n",
    "'Lcom.ta.utdid2.android.utils',\n",
    "'Lcom.zdtpay.net',\n",
    "'Lcom.igexin.push.f',\n",
    "'Lcom.ucweb.union.ads.common.a.a',\n",
    "'Lcom.nd.dianjin.activity',\n",
    "'Lvn.adflex.ads',\n",
    "'Lcom.sex.mobilepay',\n",
    "'Lcom.droid.snaillib.apkRun.runtime',\n",
    "'Lcom.uucun.adsdk.e',\n",
    "'Lcom.adsdk.sdk',\n",
    "'Lmm.purchasesdk.j',\n",
    "'Lnet.youmi.android.a.g',\n",
    "'Lcom.kuguo.a',\n",
    "'Lcn.jpush.android',\n",
    "'Lcom.rixallab.ads',\n",
    "'Lcom.adsmogo.adapters',\n",
    "'Lcom.mobisage.android.ads.msg',\n",
    "'Lcom.adchina.android.ads.controllers']\n",
    "\n",
    "\n",
    "D=[{}]\n",
    "for class_name in class_item_list:\n",
    "    class_name\n",
    "    D[0][class_name] = 1\n",
    "h = FeatureHasher(n_features=10, non_negative=True)\n",
    "f = h.transform(D)\n",
    "f.toarray()[0]\n"
   ]
  }
 ],
 "metadata": {
  "kernelspec": {
   "display_name": "Python 3",
   "language": "python",
   "name": "python3"
  },
  "language_info": {
   "codemirror_mode": {
    "name": "ipython",
    "version": 3
   },
   "file_extension": ".py",
   "mimetype": "text/x-python",
   "name": "python",
   "nbconvert_exporter": "python",
   "pygments_lexer": "ipython3",
   "version": "3.5.2"
  }
 },
 "nbformat": 4,
 "nbformat_minor": 0
}
