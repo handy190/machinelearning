{
 "cells": [
  {
   "cell_type": "code",
   "execution_count": 3,
   "metadata": {
    "collapsed": false
   },
   "outputs": [],
   "source": [
    "%matplotlib inline\n",
    "\n",
    "import matplotlib\n",
    "import matplotlib.pyplot as plt\n",
    "import matplotlib.cm as cm\n",
    "import numpy as np\n",
    "\n",
    "\n",
    "y_true = np.array([1,2,3,4,5,6,7,8,9])\n",
    "y_pred = np.array([0.8, 2.1, 2.8, 4.5, 5, 6.2, 7.1, 7.8, 8.9])"
   ]
  },
  {
   "cell_type": "code",
   "execution_count": 5,
   "metadata": {
    "collapsed": false
   },
   "outputs": [
    {
     "data": {
      "image/png": "[encoded data removed]",
      "text/plain": [
       "<matplotlib.figure.Figure at 0x7abb550>"
      ]
     },
     "metadata": {},
     "output_type": "display_data"
    }
   ],
   "source": [
    "import numpy as np  \n",
    "import matplotlib.pyplot as plt  \n",
    "\n",
    "n_groups = y_true.shape[0]\n",
    "    \n",
    "fig, ax = plt.subplots()  \n",
    "index = np.arange(n_groups)  \n",
    "bar_width = 0.35  \n",
    "  \n",
    "opacity = 0.4  \n",
    "rects1 = plt.bar(index, y_true, bar_width,alpha=opacity, color='b',label=    'y_true')  \n",
    "rects2 = plt.bar(index + bar_width, y_pred, bar_width,alpha=opacity,color='r',label='y_pred')  \n",
    "  \n",
    "plt.xlabel('count')  \n",
    "plt.ylabel('days')  \n",
    "plt.title('prediction result')  \n",
    "plt.ylim(0,15)  \n",
    "plt.legend()  \n",
    "  \n",
    "plt.tight_layout()  \n",
    "plt.show()  \n"
   ]
  },
  {
   "cell_type": "code",
   "execution_count": null,
   "metadata": {
    "collapsed": true
   },
   "outputs": [],
   "source": []
  }
 ],
 "metadata": {
  "kernelspec": {
   "display_name": "Python 3",
   "language": "python",
   "name": "python3"
  },
  "language_info": {
   "codemirror_mode": {
    "name": "ipython",
    "version": 3
   },
   "file_extension": ".py",
   "mimetype": "text/x-python",
   "name": "python",
   "nbconvert_exporter": "python",
   "pygments_lexer": "ipython3",
   "version": "3.6.0"
  }
 },
 "nbformat": 4,
 "nbformat_minor": 2
}
