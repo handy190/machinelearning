{
 "cells": [
  {
   "cell_type": "markdown",
   "metadata": {},
   "source": [
    "# Industrial Control System (ICS) Cyber Attack\n",
    "\n",
    "\n",
    "* ref: https://sites.google.com/a/uah.edu/tommy-morris-uah/ics-data-sets"
   ]
  },
  {
   "cell_type": "markdown",
   "metadata": {},
   "source": [
    "# 1. download dataset"
   ]
  },
  {
   "cell_type": "code",
   "execution_count": 1,
   "metadata": {},
   "outputs": [
    {
     "name": "stdout",
     "output_type": "stream",
     "text": [
      "--2018-12-29 15:34:11--  http://www.ece.uah.edu/~thm0009/icsdatasets/binaryAllNaturalPlusNormalVsAttacks.7z\n",
      "Resolving www.ece.uah.edu (www.ece.uah.edu)... 146.229.162.145\n",
      "Connecting to www.ece.uah.edu (www.ece.uah.edu)|146.229.162.145|:80... connected.\n",
      "HTTP request sent, awaiting response... 200 OK\n",
      "Length: 19716777 (19M) [text/plain]\n",
      "Saving to: ‘binaryAllNaturalPlusNormalVsAttacks.7z’\n",
      "\n",
      "binaryAllNaturalPlu 100%[===================>]  18.80M  3.02MB/s    in 11s     \n",
      "\n",
      "2018-12-29 15:34:23 (1.79 MB/s) - ‘binaryAllNaturalPlusNormalVsAttacks.7z’ saved [19716777/19716777]\n",
      "\n"
     ]
    }
   ],
   "source": [
    "! wget http://www.ece.uah.edu/~thm0009/icsdatasets/binaryAllNaturalPlusNormalVsAttacks.7z"
   ]
  },
  {
   "cell_type": "code",
   "execution_count": null,
   "metadata": {},
   "outputs": [],
   "source": []
  }
 ],
 "metadata": {
  "kernelspec": {
   "display_name": "Python 3",
   "language": "python",
   "name": "python3"
  },
  "language_info": {
   "codemirror_mode": {
    "name": "ipython",
    "version": 3
   },
   "file_extension": ".py",
   "mimetype": "text/x-python",
   "name": "python",
   "nbconvert_exporter": "python",
   "pygments_lexer": "ipython3",
   "version": "3.5.5"
  }
 },
 "nbformat": 4,
 "nbformat_minor": 2
}
