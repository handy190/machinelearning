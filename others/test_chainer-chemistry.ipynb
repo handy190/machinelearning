{
 "cells": [
  {
   "cell_type": "markdown",
   "metadata": {},
   "source": [
    "# 1. init"
   ]
  },
  {
   "cell_type": "code",
   "execution_count": 1,
   "metadata": {
    "scrolled": true
   },
   "outputs": [
    {
     "name": "stdout",
     "output_type": "stream",
     "text": [
      "Collecting chainer-chemistry\n",
      "\u001b[?25l  Downloading https://files.pythonhosted.org/packages/87/c7/f59d5010ea20c56ba45b789f5a632c2a51633a8099668463e389eeb686e7/chainer-chemistry-0.4.0.tar.gz (54kB)\n",
      "\u001b[K    100% |████████████████████████████████| 61kB 696kB/s ta 0:00:01\n",
      "\u001b[?25hCollecting chainer>=3.0 (from chainer-chemistry)\n",
      "\u001b[?25l  Downloading https://files.pythonhosted.org/packages/71/17/e7e3b6f0cd58256085fda9e34623d0de2f888d20dd080ea1c74e8e6c1748/chainer-5.1.0.tar.gz (513kB)\n",
      "\u001b[K    100% |████████████████████████████████| 522kB 1.8MB/s ta 0:00:01\n",
      "\u001b[?25hRequirement already satisfied: pandas in /root/anaconda3/envs/envtf/lib/python3.5/site-packages (from chainer-chemistry) (0.23.4)\n",
      "Requirement already satisfied: scikit-learn in /root/anaconda3/envs/envtf/lib/python3.5/site-packages (from chainer-chemistry) (0.20.2)\n",
      "Requirement already satisfied: scipy in /root/anaconda3/envs/envtf/lib/python3.5/site-packages (from chainer-chemistry) (1.1.0)\n",
      "Collecting tqdm (from chainer-chemistry)\n",
      "\u001b[?25l  Downloading https://files.pythonhosted.org/packages/ed/d6/3458d39cf4978f4ece846295e83daf5ece710ab0a4106774f7f7b3a68697/tqdm-4.29.1-py2.py3-none-any.whl (46kB)\n",
      "\u001b[K    100% |████████████████████████████████| 51kB 3.4MB/s ta 0:00:01\n",
      "\u001b[?25hCollecting filelock (from chainer>=3.0->chainer-chemistry)\n",
      "  Downloading https://files.pythonhosted.org/packages/d7/ca/3c74396a9ed8a4cfab5459800edeef9a1269591cb21f5a49bd71a49c5fa2/filelock-3.0.10-py3-none-any.whl\n",
      "Requirement already satisfied: numpy>=1.9.0 in /root/anaconda3/envs/envtf/lib/python3.5/site-packages (from chainer>=3.0->chainer-chemistry) (1.15.0)\n",
      "Requirement already satisfied: protobuf>=3.0.0 in /root/anaconda3/envs/envtf/lib/python3.5/site-packages (from chainer>=3.0->chainer-chemistry) (3.6.0)\n",
      "Requirement already satisfied: six>=1.9.0 in /root/anaconda3/envs/envtf/lib/python3.5/site-packages (from chainer>=3.0->chainer-chemistry) (1.11.0)\n",
      "Requirement already satisfied: python-dateutil>=2.5.0 in /root/anaconda3/envs/envtf/lib/python3.5/site-packages (from pandas->chainer-chemistry) (2.7.3)\n",
      "Requirement already satisfied: pytz>=2011k in /root/anaconda3/envs/envtf/lib/python3.5/site-packages (from pandas->chainer-chemistry) (2018.5)\n",
      "Requirement already satisfied: setuptools in /root/anaconda3/envs/envtf/lib/python3.5/site-packages (from protobuf>=3.0.0->chainer>=3.0->chainer-chemistry) (40.0.0)\n",
      "Building wheels for collected packages: chainer-chemistry, chainer\n",
      "  Running setup.py bdist_wheel for chainer-chemistry ... \u001b[?25ldone\n",
      "\u001b[?25h  Stored in directory: /root/.cache/pip/wheels/cd/ad/92/2437e7e756082248054bc5d1fa42f1ddd8d13546d98246c018\n",
      "  Running setup.py bdist_wheel for chainer ... \u001b[?25ldone\n",
      "\u001b[?25h  Stored in directory: /root/.cache/pip/wheels/91/82/5d/4ef2ad99aa90614010eced537d2074b31c5c15f75cb278d272\n",
      "Successfully built chainer-chemistry chainer\n",
      "\u001b[31mtwisted 18.7.0 requires PyHamcrest>=1.9.0, which is not installed.\u001b[0m\n",
      "\u001b[31mmkl-random 1.0.1 requires cython, which is not installed.\u001b[0m\n",
      "\u001b[31mmxnet 1.2.1 requires graphviz<0.9.0,>=0.8.1, which is not installed.\u001b[0m\n",
      "\u001b[31mmkl-fft 1.0.4 requires cython, which is not installed.\u001b[0m\n",
      "\u001b[31mtensorflow 1.10.0 has requirement numpy<=1.14.5,>=1.13.3, but you'll have numpy 1.15.0 which is incompatible.\u001b[0m\n",
      "\u001b[31mtensorflow 1.10.0 has requirement setuptools<=39.1.0, but you'll have setuptools 40.0.0 which is incompatible.\u001b[0m\n",
      "Installing collected packages: filelock, chainer, tqdm, chainer-chemistry\n",
      "Successfully installed chainer-5.1.0 chainer-chemistry-0.4.0 filelock-3.0.10 tqdm-4.29.1\n",
      "\u001b[33mYou are using pip version 10.0.1, however version 18.1 is available.\n",
      "You should consider upgrading via the 'pip install --upgrade pip' command.\u001b[0m\n"
     ]
    }
   ],
   "source": [
    "! pip install chainer-chemistry"
   ]
  },
  {
   "cell_type": "code",
   "execution_count": 5,
   "metadata": {
    "scrolled": true
   },
   "outputs": [
    {
     "name": "stdout",
     "output_type": "stream",
     "text": [
      "Solving environment: done\n",
      "\n",
      "\n",
      "==> WARNING: A newer version of conda exists. <==\n",
      "  current version: 4.5.4\n",
      "  latest version: 4.5.12\n",
      "\n",
      "Please update conda by running\n",
      "\n",
      "    $ conda update -n base conda\n",
      "\n",
      "\n",
      "\n",
      "## Package Plan ##\n",
      "\n",
      "  environment location: /root/anaconda3/envs/envtf\n",
      "\n",
      "  added / updated specs: \n",
      "    - rdkit\n",
      "\n",
      "\n",
      "The following packages will be downloaded:\n",
      "\n",
      "    package                    |            build\n",
      "    ---------------------------|-----------------\n",
      "    py-boost-1.65.1            |   py35hf484d3e_4         297 KB\n",
      "    olefile-0.46               |           py35_0          48 KB\n",
      "    pillow-5.2.0               |   py35heded4f4_0         589 KB\n",
      "    rdkit-2018.03.4.0          |   py35h71b666b_1        19.7 MB  rdkit\n",
      "    libboost-1.65.1            |       habcd387_4        19.2 MB\n",
      "    ------------------------------------------------------------\n",
      "                                           Total:        39.8 MB\n",
      "\n",
      "The following NEW packages will be INSTALLED:\n",
      "\n",
      "    libboost: 1.65.1-habcd387_4               \n",
      "    olefile:  0.46-py35_0                     \n",
      "    pillow:   5.2.0-py35heded4f4_0            \n",
      "    py-boost: 1.65.1-py35hf484d3e_4           \n",
      "    rdkit:    2018.03.4.0-py35h71b666b_1 rdkit\n",
      "\n",
      "Proceed ([y]/n)? "
     ]
    }
   ],
   "source": [
    "! conda install -c rdkit rdkit"
   ]
  },
  {
   "cell_type": "markdown",
   "metadata": {},
   "source": [
    "# 2. check data (tox21)"
   ]
  },
  {
   "cell_type": "code",
   "execution_count": 2,
   "metadata": {},
   "outputs": [],
   "source": [
    "from chainer_chemistry import datasets as D"
   ]
  },
  {
   "cell_type": "code",
   "execution_count": 3,
   "metadata": {},
   "outputs": [
    {
     "data": {
      "text/plain": [
       "['NumpyTupleDataset',\n",
       " '__builtins__',\n",
       " '__cached__',\n",
       " '__doc__',\n",
       " '__file__',\n",
       " '__loader__',\n",
       " '__name__',\n",
       " '__package__',\n",
       " '__path__',\n",
       " '__spec__',\n",
       " 'get_qm9',\n",
       " 'get_qm9_filepath',\n",
       " 'get_qm9_label_names',\n",
       " 'get_tox21',\n",
       " 'get_tox21_filepath',\n",
       " 'get_tox21_label_names',\n",
       " 'molnet',\n",
       " 'numpy_tuple_dataset',\n",
       " 'qm9',\n",
       " 'tox21']"
      ]
     },
     "execution_count": 3,
     "metadata": {},
     "output_type": "execute_result"
    }
   ],
   "source": [
    "dir(D) # list all contains dataset"
   ]
  },
  {
   "cell_type": "code",
   "execution_count": 25,
   "metadata": {},
   "outputs": [
    {
     "name": "stderr",
     "output_type": "stream",
     "text": [
      "100%|██████████| 11764/11764 [00:24<00:00, 487.54it/s]\n",
      "100%|██████████| 296/296 [00:00<00:00, 419.49it/s]\n",
      "100%|██████████| 647/647 [00:01<00:00, 520.26it/s]\n"
     ]
    }
   ],
   "source": [
    "train, val, test = D.get_tox21() # download dataset"
   ]
  },
  {
   "cell_type": "code",
   "execution_count": 26,
   "metadata": {},
   "outputs": [],
   "source": [
    "x_train, y_train = train.get_datasets()"
   ]
  },
  {
   "cell_type": "code",
   "execution_count": 27,
   "metadata": {},
   "outputs": [
    {
     "data": {
      "text/plain": [
       "array([[-1, -1, -1, ...,  0, -1, -1],\n",
       "       [-1, -1, -1, ...,  0, -1, -1],\n",
       "       [-1, -1, -1, ...,  0, -1, -1],\n",
       "       ...,\n",
       "       [ 0,  0,  0, ...,  0,  0,  0],\n",
       "       [ 0,  0,  1, ...,  0,  0,  0],\n",
       "       [ 0,  0,  0, ...,  0,  0,  1]], dtype=int32)"
      ]
     },
     "execution_count": 27,
     "metadata": {},
     "output_type": "execute_result"
    }
   ],
   "source": [
    "y_train"
   ]
  },
  {
   "cell_type": "code",
   "execution_count": 28,
   "metadata": {},
   "outputs": [
    {
     "data": {
      "text/plain": [
       "array([array([ 6,  7,  6,  6,  6,  7,  6,  6,  6,  6,  6,  6,  6,  6,  7,  6,  6,\n",
       "        7,  6,  6,  6,  6,  6,  6,  6,  6,  6,  7,  6,  6,  7,  6,  6, 17],\n",
       "      dtype=int32),\n",
       "       array([ 8,  6,  8,  6,  6,  6,  6,  6,  6,  6,  6,  6,  6, 35,  6,  8,  6,\n",
       "       35,  6,  8,  6,  6, 35,  6,  8,  6, 35,  6,  6, 11, 11],\n",
       "      dtype=int32),\n",
       "       array([6, 8, 6, 6, 6, 8, 6, 6, 6, 6, 8, 6, 6, 8, 6, 6, 6, 6, 6, 8, 6, 6,\n",
       "       6, 6, 6, 6, 6, 6, 6, 6, 6, 6, 6, 8, 6, 6, 6, 6, 6, 6, 8, 6, 8, 6,\n",
       "       6, 8, 8, 6, 6, 6, 8, 6, 6, 8, 6, 8, 8, 8, 8, 6, 6, 6, 8, 6, 7],\n",
       "      dtype=int32),\n",
       "       ..., array([16,  6,  7,  6,  6,  7], dtype=int32),\n",
       "       array([ 6,  6,  8, 15, 16,  8,  6,  6,  8,  6,  6,  6,  6,  7,  8,  8,  6,\n",
       "        6], dtype=int32),\n",
       "       array([ 6,  6,  6,  6,  8,  6,  8,  6,  6, 16,  6,  8,  6,  8,  6,  6, 16,\n",
       "        6,  8,  6,  8,  6,  6, 16], dtype=int32)], dtype=object)"
      ]
     },
     "execution_count": 28,
     "metadata": {},
     "output_type": "execute_result"
    }
   ],
   "source": [
    "x_train"
   ]
  }
 ],
 "metadata": {
  "kernelspec": {
   "display_name": "Python 3",
   "language": "python",
   "name": "python3"
  },
  "language_info": {
   "codemirror_mode": {
    "name": "ipython",
    "version": 3
   },
   "file_extension": ".py",
   "mimetype": "text/x-python",
   "name": "python",
   "nbconvert_exporter": "python",
   "pygments_lexer": "ipython3",
   "version": "3.6.5"
  }
 },
 "nbformat": 4,
 "nbformat_minor": 2
}
