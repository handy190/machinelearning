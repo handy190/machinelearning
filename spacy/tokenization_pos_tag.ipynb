{
 "cells": [
  {
   "cell_type": "markdown",
   "metadata": {},
   "source": [
    "# Tokenization with Part-of-speech (POS) Tagging"
   ]
  },
  {
   "cell_type": "code",
   "execution_count": 4,
   "metadata": {},
   "outputs": [
    {
     "name": "stdout",
     "output_type": "stream",
     "text": [
      "Apple\t\tPROPN\t\tnsubj\n",
      "is\t\tVERB\t\taux\n",
      "looking\t\tVERB\t\tROOT\n",
      "at\t\tADP\t\tprep\n",
      "buying\t\tVERB\t\tpcomp\n",
      "U.K.\t\tPROPN\t\tcompound\n",
      "startup\t\tNOUN\t\tdobj\n",
      "for\t\tADP\t\tprep\n",
      "$\t\tSYM\t\tquantmod\n",
      "1\t\tNUM\t\tcompound\n",
      "billion\t\tNUM\t\tpobj\n"
     ]
    }
   ],
   "source": [
    "import spacy\n",
    "\n",
    "nlp = spacy.load(\"en_core_web_sm\")\n",
    "doc = nlp(u\"Apple is looking at buying U.K. startup for $1 billion\")\n",
    "for token in doc:\n",
    "    print( '{0}\\t\\t{1}\\t\\t{2}'.format(token.text, token.pos_, token.dep_) )"
   ]
  },
  {
   "cell_type": "markdown",
   "metadata": {},
   "source": [
    "* pos_: unicode, Coarse-grained part-of-speech.\n",
    "* dep_: unicode, Syntactic dependency relation."
   ]
  }
 ],
 "metadata": {
  "kernelspec": {
   "display_name": "Python 3",
   "language": "python",
   "name": "python3"
  },
  "language_info": {
   "codemirror_mode": {
    "name": "ipython",
    "version": 3
   },
   "file_extension": ".py",
   "mimetype": "text/x-python",
   "name": "python",
   "nbconvert_exporter": "python",
   "pygments_lexer": "ipython3",
   "version": "3.5.4"
  }
 },
 "nbformat": 4,
 "nbformat_minor": 2
}
