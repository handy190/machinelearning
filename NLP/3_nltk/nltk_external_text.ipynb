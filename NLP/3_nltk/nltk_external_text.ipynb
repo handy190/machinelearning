{
 "cells": [
  {
   "cell_type": "markdown",
   "metadata": {},
   "source": [
    "# How to load and process external text by file"
   ]
  },
  {
   "cell_type": "markdown",
   "metadata": {},
   "source": [
    "## 1. download text from http://www.gutenberg.org/files/2554/2554-0.txt"
   ]
  },
  {
   "cell_type": "code",
   "execution_count": null,
   "metadata": {},
   "outputs": [],
   "source": []
  },
  {
   "cell_type": "markdown",
   "metadata": {},
   "source": [
    "## 2. load text"
   ]
  },
  {
   "cell_type": "code",
   "execution_count": 2,
   "metadata": {},
   "outputs": [],
   "source": [
    "import nltk\n",
    "from nltk.corpus import PlaintextCorpusReader\n",
    "\n",
    "# RegEx or list of file names\n",
    "corpus0 = PlaintextCorpusReader('.', '2554-0.txt')\n",
    "corpus  = nltk.Text(corpus0.words())"
   ]
  },
  {
   "cell_type": "markdown",
   "metadata": {},
   "source": [
    "## 3. tokenize"
   ]
  },
  {
   "cell_type": "code",
   "execution_count": 6,
   "metadata": {},
   "outputs": [],
   "source": [
    "tokens = corpus0.words()"
   ]
  },
  {
   "cell_type": "code",
   "execution_count": 8,
   "metadata": {},
   "outputs": [
    {
     "data": {
      "text/plain": [
       "42135"
      ]
     },
     "execution_count": 8,
     "metadata": {},
     "output_type": "execute_result"
    }
   ],
   "source": [
    "len(tokens)"
   ]
  },
  {
   "cell_type": "code",
   "execution_count": 9,
   "metadata": {},
   "outputs": [
    {
     "data": {
      "text/plain": [
       "['The', 'Project', 'Gutenberg', 'EBook', 'of', 'Crime', ...]"
      ]
     },
     "execution_count": 9,
     "metadata": {},
     "output_type": "execute_result"
    }
   ],
   "source": [
    "tokens"
   ]
  },
  {
   "cell_type": "markdown",
   "metadata": {},
   "source": [
    "## 4. tagging"
   ]
  },
  {
   "cell_type": "code",
   "execution_count": 10,
   "metadata": {},
   "outputs": [],
   "source": [
    "tagged = nltk.pos_tag(tokens)"
   ]
  },
  {
   "cell_type": "code",
   "execution_count": 13,
   "metadata": {},
   "outputs": [
    {
     "data": {
      "text/plain": [
       "[('The', 'DT'),\n",
       " ('Project', 'NNP'),\n",
       " ('Gutenberg', 'NNP'),\n",
       " ('EBook', 'NNP'),\n",
       " ('of', 'IN'),\n",
       " ('Crime', 'NNP'),\n",
       " ('and', 'CC'),\n",
       " ('Punishment', 'NNP'),\n",
       " (',', ','),\n",
       " ('by', 'IN'),\n",
       " ('Fyodor', 'NNP'),\n",
       " ('Dostoevsky', 'NNP'),\n",
       " ('This', 'DT'),\n",
       " ('eBook', 'NN'),\n",
       " ('is', 'VBZ'),\n",
       " ('for', 'IN'),\n",
       " ('the', 'DT'),\n",
       " ('use', 'NN'),\n",
       " ('of', 'IN'),\n",
       " ('anyone', 'NN'),\n",
       " ('anywhere', 'RB'),\n",
       " ('at', 'IN'),\n",
       " ('no', 'DT'),\n",
       " ('cost', 'NN'),\n",
       " ('and', 'CC'),\n",
       " ('with', 'IN'),\n",
       " ('almost', 'RB'),\n",
       " ('no', 'DT'),\n",
       " ('restrictions', 'NNS'),\n",
       " ('whatsoever', 'RB'),\n",
       " ('.', '.'),\n",
       " ('You', 'PRP'),\n",
       " ('may', 'MD'),\n",
       " ('copy', 'VB'),\n",
       " ('it', 'PRP'),\n",
       " (',', ','),\n",
       " ('give', 'VB'),\n",
       " ('it', 'PRP'),\n",
       " ('away', 'RB'),\n",
       " ('or', 'CC'),\n",
       " ('re', 'VB'),\n",
       " ('-', ':'),\n",
       " ('use', 'NN'),\n",
       " ('it', 'PRP'),\n",
       " ('under', 'IN'),\n",
       " ('the', 'DT'),\n",
       " ('terms', 'NNS'),\n",
       " ('of', 'IN'),\n",
       " ('the', 'DT'),\n",
       " ('Project', 'NNP')]"
      ]
     },
     "execution_count": 13,
     "metadata": {},
     "output_type": "execute_result"
    }
   ],
   "source": [
    "tagged[:50]"
   ]
  },
  {
   "cell_type": "code",
   "execution_count": null,
   "metadata": {},
   "outputs": [],
   "source": []
  }
 ],
 "metadata": {
  "kernelspec": {
   "display_name": "Python 3",
   "language": "python",
   "name": "python3"
  },
  "language_info": {
   "codemirror_mode": {
    "name": "ipython",
    "version": 3
   },
   "file_extension": ".py",
   "mimetype": "text/x-python",
   "name": "python",
   "nbconvert_exporter": "python",
   "pygments_lexer": "ipython3",
   "version": "3.5.5"
  }
 },
 "nbformat": 4,
 "nbformat_minor": 2
}
