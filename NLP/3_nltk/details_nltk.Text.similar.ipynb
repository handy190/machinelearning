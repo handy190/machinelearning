{
 "cells": [
  {
   "cell_type": "markdown",
   "metadata": {},
   "source": [
    "# 1. similar is by context"
   ]
  },
  {
   "cell_type": "code",
   "execution_count": 24,
   "metadata": {},
   "outputs": [],
   "source": [
    "import nltk\n",
    "\n",
    "s = '''A B C boy D E F G\n",
    "A B C dog D E F G\n",
    "A B C cat D E F G\n",
    "A A A man B B B B\n",
    "'''\n",
    "\n",
    "tokens = nltk.word_tokenize(s)\n",
    "text = nltk.Text(tokens)"
   ]
  },
  {
   "cell_type": "code",
   "execution_count": 25,
   "metadata": {},
   "outputs": [
    {
     "name": "stdout",
     "output_type": "stream",
     "text": [
      "cat dog\n"
     ]
    }
   ],
   "source": [
    "text.similar('boy')"
   ]
  },
  {
   "cell_type": "markdown",
   "metadata": {},
   "source": [
    "* cat and dog has the same context (A B C X D E F G) as boy\n",
    "* man not has the same context as boy, althrough man has the same meaning with boy"
   ]
  },
  {
   "cell_type": "code",
   "execution_count": 26,
   "metadata": {},
   "outputs": [
    {
     "name": "stdout",
     "output_type": "stream",
     "text": [
      "cat\n"
     ]
    }
   ],
   "source": [
    "text.similar('boy',1)# num is the output words count"
   ]
  },
  {
   "cell_type": "markdown",
   "metadata": {},
   "source": [
    "## 2. context length\n",
    "\n",
    "* should be (A B C X D E F G) or (C X D) is enough"
   ]
  },
  {
   "cell_type": "code",
   "execution_count": 12,
   "metadata": {},
   "outputs": [
    {
     "name": "stdout",
     "output_type": "stream",
     "text": [
      "dog man\n"
     ]
    }
   ],
   "source": [
    "import nltk\n",
    "\n",
    "s = '''A B C boy D E F G\n",
    "C dog D \n",
    "A B B cat D E F G\n",
    "A A c man d B B B\n",
    "'''\n",
    "\n",
    "tokens = nltk.word_tokenize(s)\n",
    "text = nltk.Text(tokens)\n",
    "text.similar('boy')"
   ]
  },
  {
   "cell_type": "markdown",
   "metadata": {},
   "source": [
    "* RESULT\n",
    "   * just care pre-word and post-word\n",
    "   * lower case and upper case is neglected"
   ]
  }
 ],
 "metadata": {
  "kernelspec": {
   "display_name": "Python 3",
   "language": "python",
   "name": "python3"
  },
  "language_info": {
   "codemirror_mode": {
    "name": "ipython",
    "version": 3
   },
   "file_extension": ".py",
   "mimetype": "text/x-python",
   "name": "python",
   "nbconvert_exporter": "python",
   "pygments_lexer": "ipython3",
   "version": "3.5.5"
  }
 },
 "nbformat": 4,
 "nbformat_minor": 2
}
