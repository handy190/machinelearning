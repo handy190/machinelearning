{
 "cells": [
  {
   "cell_type": "markdown",
   "metadata": {},
   "source": [
    "# 1. get word vector"
   ]
  },
  {
   "cell_type": "code",
   "execution_count": null,
   "metadata": {
    "collapsed": true
   },
   "outputs": [],
   "source": [
    "import gensim"
   ]
  },
  {
   "cell_type": "code",
   "execution_count": 20,
   "metadata": {
    "collapsed": false
   },
   "outputs": [],
   "source": [
    "# pay attention to the sentences format\n",
    "sentences = [['first', 'sentence'], ['second', 'sentence']]\n",
    "model = gensim.models.Word2Vec(sentences, size=100, window=5, min_count=1, workers=4)"
   ]
  },
  {
   "cell_type": "code",
   "execution_count": 9,
   "metadata": {
    "collapsed": false
   },
   "outputs": [
    {
     "name": "stdout",
     "output_type": "stream",
     "text": [
      "Word2Vec(vocab=3, size=100, alpha=0.025)\n"
     ]
    }
   ],
   "source": [
    "# model details\n",
    "print(model)"
   ]
  },
  {
   "cell_type": "code",
   "execution_count": 14,
   "metadata": {
    "collapsed": false
   },
   "outputs": [
    {
     "data": {
      "text/plain": [
       "3"
      ]
     },
     "execution_count": 14,
     "metadata": {},
     "output_type": "execute_result"
    }
   ],
   "source": [
    "len(model.wv.vocab)# vocab/words length"
   ]
  },
  {
   "cell_type": "code",
   "execution_count": 17,
   "metadata": {
    "collapsed": false
   },
   "outputs": [
    {
     "data": {
      "text/plain": [
       "{'first': <gensim.models.keyedvectors.Vocab at 0x7fc34a0ce9e8>,\n",
       " 'second': <gensim.models.keyedvectors.Vocab at 0x7fc34a0ce9b0>,\n",
       " 'sentence': <gensim.models.keyedvectors.Vocab at 0x7fc34a0cea20>}"
      ]
     },
     "execution_count": 17,
     "metadata": {},
     "output_type": "execute_result"
    }
   ],
   "source": [
    "# all vocab/words\n",
    "model.wv.vocab"
   ]
  },
  {
   "cell_type": "code",
   "execution_count": 18,
   "metadata": {
    "collapsed": false,
    "scrolled": true
   },
   "outputs": [
    {
     "data": {
      "text/plain": [
       "array([ -3.73114075e-04,   6.65089683e-05,  -2.91167339e-03,\n",
       "        -2.33912840e-03,   1.94476335e-03,   9.11975512e-04,\n",
       "        -3.70769994e-03,   1.61292532e-03,   4.76544024e-03,\n",
       "         3.91378161e-03,   4.91491379e-03,  -7.38434901e-05,\n",
       "         1.17667939e-03,   4.69572842e-03,  -8.60346889e-04,\n",
       "        -4.11178963e-03,  -1.43056910e-03,  -4.36558947e-03,\n",
       "        -4.52903518e-03,  -9.28389432e-04,   3.60241364e-04,\n",
       "         2.62522604e-03,  -3.86472489e-03,  -3.53252282e-03,\n",
       "         4.30281181e-03,   1.02590944e-03,  -1.45286811e-03,\n",
       "         1.90738309e-03,   2.93624541e-03,   2.04477157e-03,\n",
       "         1.73914526e-03,  -3.48981912e-03,   2.17196159e-03,\n",
       "        -4.59212577e-03,   3.21300514e-03,   1.50256767e-03,\n",
       "        -2.94241309e-03,   2.08349619e-03,   4.81527485e-03,\n",
       "         1.07107149e-03,  -2.68486910e-03,  -2.64728069e-03,\n",
       "         8.94949888e-04,  -1.95068843e-03,   4.46452526e-03,\n",
       "        -3.21125286e-03,   2.96944100e-03,   4.66646301e-03,\n",
       "        -1.38273253e-03,  -3.31105641e-03,   1.61171460e-03,\n",
       "         4.26165480e-03,   4.53519868e-03,  -3.67820030e-03,\n",
       "         1.67678681e-03,  -2.49028462e-03,  -4.59431065e-03,\n",
       "        -1.00300764e-03,   1.07070233e-03,   3.06652091e-03,\n",
       "         2.57276674e-03,   8.46565003e-04,   3.54865612e-03,\n",
       "        -2.24081357e-03,  -6.34266180e-04,  -1.09571207e-03,\n",
       "         8.83817920e-05,   4.38189460e-03,  -3.97831295e-03,\n",
       "        -4.90246387e-03,  -1.97304311e-04,  -2.86548235e-03,\n",
       "        -3.98851652e-03,  -4.82591288e-03,  -2.46841839e-04,\n",
       "         4.24306979e-03,  -2.86004087e-03,   9.83594364e-05,\n",
       "        -2.92772241e-03,  -1.43426226e-03,  -8.07188684e-04,\n",
       "        -7.72733125e-04,  -1.09762419e-03,  -3.63604492e-03,\n",
       "        -4.11638850e-03,   1.75324455e-03,  -1.75016711e-03,\n",
       "        -1.36495579e-03,  -2.76964693e-03,  -1.70081120e-03,\n",
       "         2.00432003e-03,   4.10108129e-03,   1.63202058e-03,\n",
       "         2.11378181e-04,   1.32356735e-03,   6.29323244e-04,\n",
       "         6.22497173e-04,  -7.31116743e-04,  -2.27192068e-03,\n",
       "        -2.75110418e-04], dtype=float32)"
      ]
     },
     "execution_count": 18,
     "metadata": {},
     "output_type": "execute_result"
    }
   ],
   "source": [
    "# get word vector\n",
    "model.wv['sentence']"
   ]
  },
  {
   "cell_type": "code",
   "execution_count": 16,
   "metadata": {
    "collapsed": false
   },
   "outputs": [],
   "source": [
    "# get all word vector\n",
    "for word in model.wv.vocab:\n",
    "    wordvec = model.wv[word]"
   ]
  },
  {
   "cell_type": "markdown",
   "metadata": {},
   "source": [
    "# 2. similarity"
   ]
  },
  {
   "cell_type": "code",
   "execution_count": 21,
   "metadata": {
    "collapsed": false
   },
   "outputs": [
    {
     "data": {
      "text/plain": [
       "-0.055987154539623572"
      ]
     },
     "execution_count": 21,
     "metadata": {},
     "output_type": "execute_result"
    }
   ],
   "source": [
    "# 2 words similarity\n",
    "model.similarity('first', 'sentence')"
   ]
  },
  {
   "cell_type": "markdown",
   "metadata": {},
   "source": [
    "# 3. cluster\n",
    "\n",
    "* by sklearn"
   ]
  }
 ],
 "metadata": {
  "kernelspec": {
   "display_name": "Python 3",
   "language": "python",
   "name": "python3"
  },
  "language_info": {
   "codemirror_mode": {
    "name": "ipython",
    "version": 3
   },
   "file_extension": ".py",
   "mimetype": "text/x-python",
   "name": "python",
   "nbconvert_exporter": "python",
   "pygments_lexer": "ipython3",
   "version": "3.5.2"
  }
 },
 "nbformat": 4,
 "nbformat_minor": 2
}
