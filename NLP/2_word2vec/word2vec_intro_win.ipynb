{
 "cells": [
  {
   "cell_type": "markdown",
   "metadata": {},
   "source": [
    "Word2vec Intro\n",
    "----------------"
   ]
  },
  {
   "cell_type": "markdown",
   "metadata": {},
   "source": [
    "# 1. Environment setup"
   ]
  },
  {
   "cell_type": "code",
   "execution_count": 1,
   "metadata": {
    "collapsed": false
   },
   "outputs": [
    {
     "name": "stdout",
     "output_type": "stream",
     "text": [
      "Collecting word2vec\n",
      "  Downloading word2vec-0.9.1-cp27-cp27m-win_amd64.whl (182kB)\n",
      "Collecting cython (from word2vec)\n",
      "  Downloading Cython-0.25.2-cp27-none-win_amd64.whl (2.1MB)\n",
      "Requirement already satisfied: numpy in d:\\projects\\py2env\\lib\\site-packages (from word2vec)\n",
      "Installing collected packages: cython, word2vec\n",
      "Successfully installed cython-0.25.2 word2vec-0.9.1\n"
     ]
    }
   ],
   "source": [
    "! pip install word2vec"
   ]
  },
  {
   "cell_type": "markdown",
   "metadata": {},
   "source": [
    "Download text8.zip from http://mattmahoney.net/dc/text8.zip"
   ]
  },
  {
   "cell_type": "markdown",
   "metadata": {},
   "source": [
    "# 2. Training"
   ]
  },
  {
   "cell_type": "code",
   "execution_count": 2,
   "metadata": {
    "collapsed": true
   },
   "outputs": [],
   "source": [
    "import word2vec"
   ]
  },
  {
   "cell_type": "markdown",
   "metadata": {},
   "source": [
    "## 2.1 把文本变为词组"
   ]
  },
  {
   "cell_type": "code",
   "execution_count": 6,
   "metadata": {
    "collapsed": false
   },
   "outputs": [
    {
     "name": "stdout",
     "output_type": "stream",
     "text": [
      "Wall time: 53 s\n"
     ]
    }
   ],
   "source": [
    "%%time\n",
    "\n",
    "word2vec.word2phrase('text8', 'text8-phrases')"
   ]
  },
  {
   "cell_type": "markdown",
   "metadata": {},
   "source": [
    "下面查看结果\n",
    "文件text8-phrases中，会将词组以aaa_bbb的形式显示出来"
   ]
  },
  {
   "cell_type": "code",
   "execution_count": 7,
   "metadata": {
    "collapsed": false
   },
   "outputs": [
    {
     "name": "stdout",
     "output_type": "stream",
     "text": [
      "Wall time: 3.72 s\n"
     ]
    }
   ],
   "source": [
    "%%time\n",
    "\n",
    "txt = ''\n",
    "\n",
    "with open('text8-phrases') as f:\n",
    "    txt = f.readline()\n",
    "\n",
    "word_list = txt.split(' ')\n",
    "phase_list = []\n",
    "for w in word_list:\n",
    "    if('_' in w):\n",
    "        phase_list.append(w)"
   ]
  },
  {
   "cell_type": "code",
   "execution_count": 10,
   "metadata": {
    "collapsed": false
   },
   "outputs": [
    {
     "data": {
      "text/plain": [
       "['working_class',\n",
       " 'sans_culottes',\n",
       " 'french_revolution',\n",
       " 'derived_from',\n",
       " 'should_be',\n",
       " 'does_not',\n",
       " 'anti_authoritarian',\n",
       " 'based_upon',\n",
       " 'mutual_aid',\n",
       " 'self_governance']"
      ]
     },
     "execution_count": 10,
     "metadata": {},
     "output_type": "execute_result"
    }
   ],
   "source": [
    "phase_list[:10] # 结果"
   ]
  },
  {
   "cell_type": "markdown",
   "metadata": {},
   "source": [
    "## 2.2 把词组变为向量(模型)"
   ]
  },
  {
   "cell_type": "code",
   "execution_count": 11,
   "metadata": {
    "collapsed": false
   },
   "outputs": [
    {
     "name": "stdout",
     "output_type": "stream",
     "text": [
      "Wall time: 41 s\n"
     ]
    }
   ],
   "source": [
    "%%time\n",
    "\n",
    "word2vec.word2vec('text8-phrases', 'text8.bin')"
   ]
  },
  {
   "cell_type": "markdown",
   "metadata": {},
   "source": [
    "text8.bin是word2vec的模型，无法可视化查看"
   ]
  },
  {
   "cell_type": "markdown",
   "metadata": {},
   "source": [
    "## 2.3 相似词聚类"
   ]
  },
  {
   "cell_type": "code",
   "execution_count": 12,
   "metadata": {
    "collapsed": false
   },
   "outputs": [
    {
     "name": "stdout",
     "output_type": "stream",
     "text": [
      "Starting training using file text8\n",
      "Vocab size: 71291\n",
      "Words in train file: 16718843\n",
      "Alpha: 0.000129  Progress: 99.55%  Words/thread/sec: 657.83k  Wall time: 45.9 s\n"
     ]
    }
   ],
   "source": [
    "%%time\n",
    "\n",
    "word2vec.word2clusters('text8', 'text8-clusters.txt', 100, verbose=True)"
   ]
  },
  {
   "cell_type": "markdown",
   "metadata": {},
   "source": [
    "# 3. Predict"
   ]
  },
  {
   "cell_type": "markdown",
   "metadata": {},
   "source": [
    "## 3.1 加载模型"
   ]
  },
  {
   "cell_type": "code",
   "execution_count": 13,
   "metadata": {
    "collapsed": false
   },
   "outputs": [
    {
     "name": "stdout",
     "output_type": "stream",
     "text": [
      "Wall time: 2.55 s\n"
     ]
    }
   ],
   "source": [
    "%%time\n",
    "\n",
    "model = word2vec.load('text8.bin')"
   ]
  },
  {
   "cell_type": "markdown",
   "metadata": {},
   "source": [
    "## 3.2 查看模型向量"
   ]
  },
  {
   "cell_type": "code",
   "execution_count": 14,
   "metadata": {
    "collapsed": false
   },
   "outputs": [
    {
     "data": {
      "text/plain": [
       "(98331L, 100L)"
      ]
     },
     "execution_count": 14,
     "metadata": {},
     "output_type": "execute_result"
    }
   ],
   "source": [
    "# 查看维度\n",
    "model.vectors.shape"
   ]
  },
  {
   "cell_type": "code",
   "execution_count": 15,
   "metadata": {
    "collapsed": false
   },
   "outputs": [
    {
     "data": {
      "text/plain": [
       "array([-0.16299245, -0.12382638, -0.11257624,  0.03756531,  0.13419886,\n",
       "        0.11617669, -0.13849744,  0.00653765,  0.03422417,  0.01381833,\n",
       "        0.13329126,  0.15636005,  0.15067512, -0.0991419 ,  0.0242307 ,\n",
       "        0.08754268, -0.11797192,  0.07145537,  0.06698723, -0.11861023,\n",
       "       -0.16042924,  0.04071694,  0.07281177,  0.1260405 , -0.06704707,\n",
       "        0.15283939, -0.16306224, -0.02266485,  0.08864973, -0.10875637,\n",
       "        0.0617611 ,  0.1070509 , -0.04441712,  0.15174229, -0.06674786,\n",
       "       -0.09289846, -0.00235874, -0.09029537,  0.04199355,  0.05103955,\n",
       "        0.00051364,  0.09795504, -0.10546511,  0.10798842,  0.0072358 ,\n",
       "       -0.10276229,  0.01353907,  0.02288427,  0.03650811, -0.10957421,\n",
       "        0.16022977,  0.06020522,  0.0033162 , -0.10370977,  0.08258583,\n",
       "       -0.14515977,  0.11773255,  0.05179754, -0.12131305, -0.00886148,\n",
       "       -0.0868545 ,  0.14849092, -0.15766658, -0.10919521,  0.10166519,\n",
       "       -0.09081399,  0.14849092,  0.00597913, -0.14784265,  0.11295523,\n",
       "       -0.08105988,  0.13736047, -0.10201427,  0.0644739 , -0.05267521,\n",
       "       -0.08717366,  0.14823161,  0.13991368,  0.12686831,  0.10933484,\n",
       "       -0.07820745,  0.00313668,  0.10862672,  0.06907169, -0.06387548,\n",
       "       -0.08292493,  0.11606698,  0.02340289,  0.11700448, -0.00733553,\n",
       "       -0.01418735, -0.01902451, -0.12206107, -0.1018547 , -0.10329088,\n",
       "        0.07169473, -0.16238405,  0.08034179, -0.12345736, -0.11461084])"
      ]
     },
     "execution_count": 15,
     "metadata": {},
     "output_type": "execute_result"
    }
   ],
   "source": [
    "# 查看某个向量\n",
    "model.vectors[0]"
   ]
  },
  {
   "cell_type": "code",
   "execution_count": 16,
   "metadata": {
    "collapsed": false
   },
   "outputs": [
    {
     "data": {
      "text/plain": [
       "array([ 0.0404917 , -0.21929267,  0.0900031 , -0.01635313, -0.09535735,\n",
       "       -0.23004085, -0.05401799, -0.06359713,  0.04510297,  0.15695578,\n",
       "       -0.03373741, -0.24344453,  0.05506968, -0.06589295,  0.08143154,\n",
       "        0.01088519,  0.12717766, -0.00065899,  0.0875503 , -0.16578481,\n",
       "       -0.07191166, -0.10214885, -0.06966231,  0.03901153,  0.03669783,\n",
       "       -0.01593973,  0.06193575, -0.11606269, -0.01676246, -0.01782042,\n",
       "       -0.0081625 , -0.01753607,  0.20049143,  0.0814201 , -0.00413563,\n",
       "        0.0931877 , -0.02165939, -0.10927138, -0.10155135, -0.05190689,\n",
       "       -0.03913409,  0.06913613, -0.0158022 ,  0.0045671 , -0.25836891,\n",
       "       -0.06862895, -0.12792477,  0.02216368,  0.01569648, -0.05261899,\n",
       "       -0.04047079, -0.01103894,  0.27481362,  0.11803567,  0.02176232,\n",
       "        0.03383744,  0.0047348 , -0.18896218, -0.06432848, -0.10793414,\n",
       "        0.09994719, -0.04930592, -0.05250505, -0.12186269,  0.05668881,\n",
       "        0.05793966, -0.06357146, -0.08746185, -0.00340339, -0.08747597,\n",
       "       -0.01908687, -0.0736758 , -0.13448796, -0.09893617,  0.04394563,\n",
       "        0.25254571, -0.13853024,  0.08916505,  0.02293291, -0.16564342,\n",
       "        0.00528168, -0.04107687,  0.02850035, -0.08929012,  0.01566241,\n",
       "        0.13202019, -0.09910192,  0.02339083, -0.04019295,  0.10144294,\n",
       "       -0.00953584, -0.03383791, -0.19243139,  0.13512893,  0.06973556,\n",
       "       -0.05494175, -0.05941378,  0.03081895, -0.12478106,  0.09996564])"
      ]
     },
     "execution_count": 16,
     "metadata": {},
     "output_type": "execute_result"
    }
   ],
   "source": [
    "# 查看某个词的向量\n",
    "model['dog']"
   ]
  },
  {
   "cell_type": "markdown",
   "metadata": {},
   "source": [
    "## 3.3 相似词语检索"
   ]
  },
  {
   "cell_type": "markdown",
   "metadata": {},
   "source": [
    "以cosine相似度进行检索"
   ]
  },
  {
   "cell_type": "code",
   "execution_count": 18,
   "metadata": {
    "collapsed": true
   },
   "outputs": [],
   "source": [
    "indexes, metrics = model.cosine('dog')"
   ]
  },
  {
   "cell_type": "code",
   "execution_count": 19,
   "metadata": {
    "collapsed": false
   },
   "outputs": [
    {
     "data": {
      "text/plain": [
       "array([ 2436,  5473,  2428,  5749,  3774,  5937,  4804, 17003, 17265, 11562], dtype=int64)"
      ]
     },
     "execution_count": 19,
     "metadata": {},
     "output_type": "execute_result"
    }
   ],
   "source": [
    "# 相似词的index\n",
    "indexes"
   ]
  },
  {
   "cell_type": "code",
   "execution_count": 20,
   "metadata": {
    "collapsed": false
   },
   "outputs": [
    {
     "data": {
      "text/plain": [
       "array([ 0.80874873,  0.74550301,  0.73173909,  0.72597835,  0.71948888,\n",
       "        0.7194813 ,  0.71648858,  0.7071348 ,  0.70334834,  0.7022293 ])"
      ]
     },
     "execution_count": 20,
     "metadata": {},
     "output_type": "execute_result"
    }
   ],
   "source": [
    "# 相似度\n",
    "metrics"
   ]
  },
  {
   "cell_type": "markdown",
   "metadata": {},
   "source": [
    "**通过下标查看具体的相似词组**"
   ]
  },
  {
   "cell_type": "code",
   "execution_count": 21,
   "metadata": {
    "collapsed": false
   },
   "outputs": [
    {
     "data": {
      "text/plain": [
       "array([u'cat', u'cow', u'bear', u'purple', u'grey', u'chicken', u'wolf',\n",
       "       u'coyote', u'stuffed', u'bark'], \n",
       "      dtype='<U78')"
      ]
     },
     "execution_count": 21,
     "metadata": {},
     "output_type": "execute_result"
    }
   ],
   "source": [
    "model.vocab[indexes]"
   ]
  },
  {
   "cell_type": "markdown",
   "metadata": {},
   "source": [
    "## 3.4 相似短语检索"
   ]
  },
  {
   "cell_type": "code",
   "execution_count": 22,
   "metadata": {
    "collapsed": false
   },
   "outputs": [
    {
     "data": {
      "text/plain": [
       "[(u'san_francisco', 0.8543923468728601),\n",
       " (u'boston', 0.826421405644348),\n",
       " (u'chicago', 0.8149681801332046),\n",
       " (u'detroit', 0.7955706694358771),\n",
       " (u'cincinnati', 0.7931334967042376),\n",
       " (u'california', 0.7921662138682769),\n",
       " (u'pittsburgh', 0.7903944287598161),\n",
       " (u'cleveland', 0.789379691514625),\n",
       " (u'minnesota', 0.7848978720662279),\n",
       " (u'san_diego', 0.7802006624681883)]"
      ]
     },
     "execution_count": 22,
     "metadata": {},
     "output_type": "execute_result"
    }
   ],
   "source": [
    "indexes, metrics = model.cosine('los_angeles')\n",
    "model.generate_response(indexes, metrics).tolist()\n",
    "# 输出与los_angeles相似的词组，及其位置"
   ]
  },
  {
   "cell_type": "markdown",
   "metadata": {},
   "source": [
    "## 3.5 复杂推理"
   ]
  },
  {
   "cell_type": "markdown",
   "metadata": {},
   "source": [
    "king - man + woman = queen\n",
    "\n",
    "王的女人，并且不是男的，就是女王"
   ]
  },
  {
   "cell_type": "code",
   "execution_count": 23,
   "metadata": {
    "collapsed": false
   },
   "outputs": [
    {
     "data": {
      "text/plain": [
       "[(u'emperor', 0.306096616944302),\n",
       " (u'wife', 0.295442287841388),\n",
       " (u'son', 0.29537343185425113),\n",
       " (u'queen', 0.2948718756495251),\n",
       " (u'empress', 0.2942050337104657),\n",
       " (u'roman_emperor', 0.2931893452062588),\n",
       " (u'daughter', 0.29266298706150434),\n",
       " (u'aragon', 0.28758922861558867),\n",
       " (u'pope_urban', 0.2872960695655884),\n",
       " (u'aquitaine', 0.28660725616627103)]"
      ]
     },
     "execution_count": 23,
     "metadata": {},
     "output_type": "execute_result"
    }
   ],
   "source": [
    "indexes, metrics = model.analogy(pos=['king', 'woman'], neg=['man'], n=10)\n",
    "model.generate_response(indexes, metrics).tolist()"
   ]
  },
  {
   "cell_type": "markdown",
   "metadata": {},
   "source": [
    "# 4. Cluster"
   ]
  },
  {
   "cell_type": "code",
   "execution_count": 24,
   "metadata": {
    "collapsed": true
   },
   "outputs": [],
   "source": [
    "clusters = word2vec.load_clusters('text8-clusters.txt')"
   ]
  },
  {
   "cell_type": "code",
   "execution_count": 25,
   "metadata": {
    "collapsed": false
   },
   "outputs": [
    {
     "data": {
      "text/plain": [
       "(543L,)"
      ]
     },
     "execution_count": 25,
     "metadata": {},
     "output_type": "execute_result"
    }
   ],
   "source": [
    "clusters.get_words_on_cluster(90).shape # 第90类中，有多少个元素"
   ]
  },
  {
   "cell_type": "code",
   "execution_count": 26,
   "metadata": {
    "collapsed": false,
    "scrolled": true
   },
   "outputs": [
    {
     "data": {
      "text/plain": [
       "array(['had', 'said', 'wrote', 'claims', 'claimed', 'stated', 'argued',\n",
       "       'says', 'asked', 'told', 'felt', 'saying', 'got', 'calls', 'heard',\n",
       "       'learned', 'bears', 'didn', 'knew', 'happened', 'claiming', 'drew',\n",
       "       'doesn', 'tells', 'gets', 'finds', 'seeing', 'concluded', 'looks',\n",
       "       'argues', 'sees', 'writes', 'spoke', 'saved', 'believes',\n",
       "       'realized', 'demanded', 'stating', 'knowing', 'meets', 'wasn',\n",
       "       'mentions', 'suggesting', 'loved', 'knows', 'asking', 'speaks',\n",
       "       'acknowledged', 'informed', 'feared', 'isn', 'forgotten',\n",
       "       'believing', 'possessed', 'requested', 'bore', 'wants', 'declares',\n",
       "       'asks', 'emphasized', 'wore', 'asserted', 'insisted', 'questioned',\n",
       "       'reads', 'speculated', 'reveals', 'announces', 'replied', 'accepts',\n",
       "       'noticed', 'commented', 'answered', 'couldn', 'embraced', 'decides',\n",
       "       'unto', 'asserts', 'rejects', 'suspect', 'teaches', 'wouldn',\n",
       "       'concludes', 'liked', 'proud', 'feels', 'pays', 'remarked',\n",
       "       'anyway', 'warned', 'desires', 'manages', 'chooses', 'thinks',\n",
       "       'discovers', 'appoints', 'feat', 'implying', 'prospect', 'posed',\n",
       "       'loves', 'complained', 'joins', 'likes', 'undertook', 'ensured',\n",
       "       'proves', 'talked', 'objected', 'imagined', 'denies', 'ain',\n",
       "       'testified', 'admits', 'asserting', 'shame', 'preached',\n",
       "       'realizing', 'ate', 'hated', 'guess', 'realised', 'confident',\n",
       "       'oversaw', 'proposes', 'disliked', 'touches', 'mentioning',\n",
       "       'captures', 'weren', 'stole', 'angered', 'requesting', 'forbade',\n",
       "       'remark', 'replies', 'hid', 'learns', 'decreed', 'prefers',\n",
       "       'overturned', 'regret', 'hears', 'intends', 'confessed', 'lied',\n",
       "       'cared', 'postulates', 'aroused', 'eats', 'realizes', 'reviewers',\n",
       "       'conveyed', 'engages', 'contended', 'posits', 'superstition',\n",
       "       'insisting', 'threatens', 'pity', 'spends', 'slept', 'listened',\n",
       "       'insists', 'remembering', 'forgot', 'relinquished', 'hadn',\n",
       "       'acknowledges', 'informs', 'reminded', 'resented', 'uttered',\n",
       "       'shocking', 'prayed', 'despised', 'conjectures', 'glorified',\n",
       "       'entertained', 'acknowledging', 'shouldn', 'misses', 'contends',\n",
       "       'hasn', 'lest', 'doubted', 'defends', 'bids', 'buys', 'warns',\n",
       "       'interprets', 'fucking', 'awful', 'symbolized', 'strove',\n",
       "       'investigates', 'lectured', 'cares', 'lamented', 'realise',\n",
       "       'pleaded', 'praises', 'earns', 'remembers', 'prank', 'expounded',\n",
       "       'unsure', 'joked', 'fatherland', 'contradicting', 'embarrassed',\n",
       "       'begged', 'dwelt', 'announcements', 'dreamed', 'affirms',\n",
       "       'apologized', 'seniority', 'reminds', 'disapproved', 'reiterated',\n",
       "       'chilling', 'exclaimed', 'journeyed', 'complains', 'fetched',\n",
       "       'regretted', 'communicates', 'imagines', 'distanced', 'invites',\n",
       "       'foreshadowed', 'liars', 'deist', 'realising', 'errol',\n",
       "       'hypnotized', 'testifies', 'ensues', 'crook', 'assures',\n",
       "       'undertakes', 'conflicted', 'wept', 'blames', 'guessed',\n",
       "       'wondering', 'carefree', 'kissed', 'qualifies', 'misled', 'risking',\n",
       "       'strictest', 'redeem', 'contemplated', 'emphatically',\n",
       "       'unbeknownst', 'quipped', 'alleges', 'bosom', 'gotta', 'forgiving',\n",
       "       'confesses', 'materialized', 'deems', 'hak', 'lampooned',\n",
       "       'overseer', 'disguises', 'astonished', 'factored', 'worrying',\n",
       "       'nurtured', 'jester', 'stipulation', 'disrespect', 'amok', 'giver',\n",
       "       'juncture', 'interrogated', 'sadistic', 'entitles', 'purchasers',\n",
       "       'meritocratic', 'garb', 'cheated', 'selfless', 'theorised',\n",
       "       'ascribes', 'disinterested', 'presumes', 'puzzled', 'convoked',\n",
       "       'confuses', 'betrays', 'recanted', 'disowned', 'zeitgeist',\n",
       "       'peress', 'foresaw', 'inalienable', 'maecenas', 'worships',\n",
       "       'caveat', 'locates', 'clump', 'amazement', 'mythographers',\n",
       "       'caricatured', 'contented', 'idolized', 'scarred', 'speculates',\n",
       "       'negated', 'pretends', 'clique', 'kneel', 'whomever', 'opined',\n",
       "       'inspires', 'proviso', 'heretofore', 'hypocritical', 'loathed',\n",
       "       'trie', 'anticipates', 'convinces', 'spotty', 'doubting',\n",
       "       'contemplates', 'francorum', 'systematized', 'verifies',\n",
       "       'disconcerting', 'deviates', 'swears', 'antipodes', 'inquired',\n",
       "       'deceiver', 'ganesh', 'wields', 'respectability', 'transpired',\n",
       "       'majored', 'beheld', 'womanizer', 'mooted', 'taunted', 'whiteness',\n",
       "       'chasm', 'toot', 'dispelled', 'criminalized', 'pangloss',\n",
       "       'sanguine', 'bunk', 'forgave', 'tillich', 'woodford', 'leonov',\n",
       "       'crudely', 'exclaims', 'facilitator', 'penitence', 'reprimanded',\n",
       "       'secures', 'maxine', 'verity', 'dares', 'underrated', 'insistent',\n",
       "       'legis', 'wha', 'omphalos', 'callous', 'reassured', 'booed',\n",
       "       'bluntly', 'yea', 'encapsulates', 'providential', 'mudville',\n",
       "       'reus', 'excels', 'shred', 'hersh', 'unconvincing', 'realises',\n",
       "       'paradoxer', 'deplored', 'matriculated', 'stumbles', 'evinced',\n",
       "       'makin', 'smelled', 'praetexta', 'armband', 'longs', 'dorrit',\n",
       "       'maniacs', 'ballplayers', 'anoints', 'catechumens', 'tasted',\n",
       "       'smeaton', 'playgrounds', 'voynich', 'hoaxed', 'seducing', 'iman',\n",
       "       'lifo', 'elicits', 'boineburg', 'rudely', 'reorient', 'essaioi',\n",
       "       'apace', 'bussy', 'blesses', 'emailed', 'maf', 'sear', 'thebans',\n",
       "       'fallible', 'nightwing', 'compels', 'boeotian', 'mandali', 'dalet',\n",
       "       'jigger', 'aegeas', 'sorely', 'pawson', 'hangers', 'truthfully',\n",
       "       'snubbed', 'worshipful', 'musculature', 'prided', 'despaired',\n",
       "       'monteagle', 'ticks', 'inimitable', 'raving', 'whoso',\n",
       "       'itinerarium', 'rowed', 'voracious', 'intently', 'captivated',\n",
       "       'sidetracked', 'tripped', 'suneo', 'remitted', 'bez', 'tithonus',\n",
       "       'lucinschi', 'notifies', 'isadore', 'correlating', 'amaury',\n",
       "       'kooning', 'absconded', 'stash', 'maketh', 'abbadie', 'tourneur',\n",
       "       'outdone', 'wargaming', 'shaves', 'pericardium', 'overstepped',\n",
       "       'grisly', 'thornley', 'insides', 'rundstedt', 'toddler',\n",
       "       'unmentioned', 'hann', 'inflaton', 'undress', 'skoda', 'tman',\n",
       "       'drudge', 'granda', 'rath', 'collip', 'befits', 'thain',\n",
       "       'mistranslated', 'bloodily', 'suckled', 'rectory', 'binyan',\n",
       "       'hutten', 'kuerten', 'lionized', 'audibly', 'ritualized', 'knoweth',\n",
       "       'rainaldi', 'ceaseless', 'propri', 'avlebeli', 'volte', 'jesters',\n",
       "       'ironmen', 'contravened', 'polarising', 'bomp', 'boughs', 'troms',\n",
       "       'nobly', 'shew', 'derkins', 'beregond', 'greeves', 'goring',\n",
       "       'weininger', 'jephthah', 'germaniae', 'talbott', 'beaks',\n",
       "       'nterface', 'stoutly', 'endangers', 'drooling', 'goy', 'amicitia',\n",
       "       'wetherell', 'connoted', 'intoned', 'castaway', 'bruni', 'vomits',\n",
       "       'gsd', 'glorifies', 'tenjin', 'ivins', 'skald', 'charlatan',\n",
       "       'nobler', 'eludes'], dtype=object)"
      ]
     },
     "execution_count": 26,
     "metadata": {},
     "output_type": "execute_result"
    }
   ],
   "source": [
    "clusters.get_words_on_cluster(90) #第90类中，都有哪些东西"
   ]
  }
 ],
 "metadata": {
  "kernelspec": {
   "display_name": "Python 2",
   "language": "python",
   "name": "python2"
  },
  "language_info": {
   "codemirror_mode": {
    "name": "ipython",
    "version": 2
   },
   "file_extension": ".py",
   "mimetype": "text/x-python",
   "name": "python",
   "nbconvert_exporter": "python",
   "pygments_lexer": "ipython2",
   "version": "2.7.12"
  }
 },
 "nbformat": 4,
 "nbformat_minor": 2
}
