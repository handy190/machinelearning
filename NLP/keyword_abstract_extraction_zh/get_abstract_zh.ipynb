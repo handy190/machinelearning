{
 "cells": [
  {
   "cell_type": "markdown",
   "metadata": {
    "collapsed": true
   },
   "source": [
    "# 1. Import text4rank"
   ]
  },
  {
   "cell_type": "code",
   "execution_count": 1,
   "metadata": {
    "collapsed": true
   },
   "outputs": [],
   "source": [
    "#-*- encoding:utf-8 -*-\n",
    "from __future__ import print_function\n",
    "\n",
    "import sys\n",
    "try:\n",
    "    reload(sys)\n",
    "    sys.setdefaultencoding('utf-8')\n",
    "except:\n",
    "    pass\n",
    "\n",
    "import codecs\n",
    "from textrank4zh import TextRank4Keyword, TextRank4Sentence"
   ]
  },
  {
   "cell_type": "markdown",
   "metadata": {},
   "source": [
    "# 2. Load data"
   ]
  },
  {
   "cell_type": "code",
   "execution_count": 2,
   "metadata": {},
   "outputs": [
    {
     "name": "stderr",
     "output_type": "stream",
     "text": [
      "Building prefix dict from the default dictionary ...\n",
      "Loading model from cache /tmp/jieba.cache\n",
      "Loading model cost 1.100 seconds.\n",
      "Prefix dict has been built succesfully.\n"
     ]
    }
   ],
   "source": [
    "text = codecs.open('email.txt', 'r', 'utf-8').read()\n",
    "tr4w = TextRank4Keyword()\n",
    "\n",
    "tr4w.analyze(text=text, lower=True, window=2)  # py2中text必须是utf8编码的str或者unicode对象，py3中必须是utf8编码的bytes或者str对象"
   ]
  },
  {
   "cell_type": "markdown",
   "metadata": {},
   "source": [
    "# 3. Get keywords"
   ]
  },
  {
   "cell_type": "code",
   "execution_count": 3,
   "metadata": {},
   "outputs": [
    {
     "name": "stdout",
     "output_type": "stream",
     "text": [
      "关键词：\n",
      "出柜 0.08420949298930015\n",
      "精灵 0.06634092742550925\n",
      "杂志 0.06303816948533517\n",
      "角色 0.05607972414838391\n",
      "扮演 0.0560797241483839\n",
      "人们 0.048777057892087666\n",
      "王 0.04819356380051165\n",
      "承认 0.04678130485830759\n",
      "约会 0.04678130485830759\n",
      "在乎 0.0451042508017139\n",
      "新浪 0.043196544276457874\n",
      "娱乐 0.043196544276457874\n",
      "霍比特 0.043196544276457874\n",
      "人 0.043196544276457874\n",
      "近日 0.033275731672019235\n",
      "采访报道 0.033275731672019235\n",
      "负责 0.03031336440453184\n",
      "演员 0.03031336440453184\n",
      "知道 0.027209733407509373\n",
      "李 0.026961744307399536\n"
     ]
    }
   ],
   "source": [
    "print( '关键词：' )\n",
    "for item in tr4w.get_keywords(20, word_min_len=1):\n",
    "    print(item.word, item.weight)"
   ]
  },
  {
   "cell_type": "markdown",
   "metadata": {},
   "source": [
    "# 4. Get key phrase"
   ]
  },
  {
   "cell_type": "code",
   "execution_count": 4,
   "metadata": {},
   "outputs": [
    {
     "name": "stdout",
     "output_type": "stream",
     "text": [
      "关键短语：\n",
      "精灵王\n",
      "被出柜\n"
     ]
    }
   ],
   "source": [
    "print( '关键短语：' )\n",
    "for phrase in tr4w.get_keyphrases(keywords_num=14,min_occur_num= 4):\n",
    "    print(phrase)\n",
    "print('被出柜')"
   ]
  },
  {
   "cell_type": "markdown",
   "metadata": {},
   "source": [
    "# 5. Get abstract"
   ]
  },
  {
   "cell_type": "code",
   "execution_count": 5,
   "metadata": {},
   "outputs": [
    {
     "name": "stdout",
     "output_type": "stream",
     "text": [
      "摘要：\n",
      "1 0.5532084121836139 近日在《W》杂志采访报道中，精灵王李-佩斯松口承认曾和男人约会被出柜，精灵王李-佩斯紧接着还说，我不知道为什么人们要在乎这个被出柜，我只是一个负责扮演角色的演员\n",
      "0 0.4467915878163859 新浪娱乐讯 精灵王”李-佩斯在《霍比特人》系列之前就曾经多次被出柜，但精灵王李-佩斯本人从未承认过被出柜\n"
     ]
    }
   ],
   "source": [
    "tr4s = TextRank4Sentence()\n",
    "tr4s.analyze(text=text, lower=True, source = 'all_filters')\n",
    "print( '摘要：' )\n",
    "for item in tr4s.get_key_sentences(num=3):\n",
    "    print(item.index, item.weight, item.sentence)  # index是语句在文本中位置，weight是权重"
   ]
  }
 ],
 "metadata": {
  "kernelspec": {
   "display_name": "Python 3",
   "language": "python",
   "name": "python3"
  },
  "language_info": {
   "codemirror_mode": {
    "name": "ipython",
    "version": 3
   },
   "file_extension": ".py",
   "mimetype": "text/x-python",
   "name": "python",
   "nbconvert_exporter": "python",
   "pygments_lexer": "ipython3",
   "version": "3.5.3"
  }
 },
 "nbformat": 4,
 "nbformat_minor": 2
}
