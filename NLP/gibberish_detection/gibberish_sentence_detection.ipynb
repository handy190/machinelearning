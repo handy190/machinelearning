{
 "cells": [
  {
   "cell_type": "markdown",
   "metadata": {},
   "source": [
    "# 1. load data"
   ]
  },
  {
   "cell_type": "code",
   "execution_count": 2,
   "metadata": {
    "collapsed": false
   },
   "outputs": [],
   "source": [
    "import joblib as jl\n",
    "\n",
    "text_train = jl.load('text_train.jl')\n",
    "text_test = jl.load('text_test.jl')\n",
    "label_train = jl.load('label_train.jl')\n",
    "label_test = jl.load('label_test.jl')"
   ]
  },
  {
   "cell_type": "markdown",
   "metadata": {},
   "source": [
    "# 2. check data"
   ]
  },
  {
   "cell_type": "code",
   "execution_count": 7,
   "metadata": {
    "collapsed": false
   },
   "outputs": [
    {
     "name": "stdout",
     "output_type": "stream",
     "text": [
      "<class 'list'> 90 <class 'list'> 90\n"
     ]
    }
   ],
   "source": [
    "print( type(text_train), len(text_train), type(label_train), len(label_train) )"
   ]
  },
  {
   "cell_type": "code",
   "execution_count": 8,
   "metadata": {
    "collapsed": false
   },
   "outputs": [
    {
     "name": "stdout",
     "output_type": "stream",
     "text": [
      "<class 'list'> 18 <class 'list'> 18\n"
     ]
    }
   ],
   "source": [
    "print( type(text_test), len(text_test), type(label_test), len(label_test) )"
   ]
  },
  {
   "cell_type": "code",
   "execution_count": 11,
   "metadata": {
    "collapsed": false,
    "scrolled": true
   },
   "outputs": [
    {
     "data": {
      "text/plain": [
       "[0,\n",
       " 0,\n",
       " 1,\n",
       " 0,\n",
       " 0,\n",
       " 0,\n",
       " 0,\n",
       " 0,\n",
       " 1,\n",
       " 0,\n",
       " 1,\n",
       " 1,\n",
       " 1,\n",
       " 1,\n",
       " 1,\n",
       " 1,\n",
       " 1,\n",
       " 1,\n",
       " 0,\n",
       " 0,\n",
       " 1,\n",
       " 0,\n",
       " 0,\n",
       " 1,\n",
       " 0,\n",
       " 1,\n",
       " 1,\n",
       " 1,\n",
       " 1,\n",
       " 0,\n",
       " 0,\n",
       " 0,\n",
       " 1,\n",
       " 1,\n",
       " 1,\n",
       " 0,\n",
       " 1,\n",
       " 0,\n",
       " 1,\n",
       " 1,\n",
       " 1,\n",
       " 1,\n",
       " 1,\n",
       " 1,\n",
       " 0,\n",
       " 1,\n",
       " 0,\n",
       " 1,\n",
       " 0,\n",
       " 0,\n",
       " 1,\n",
       " 0,\n",
       " 0,\n",
       " 1,\n",
       " 0,\n",
       " 1,\n",
       " 0,\n",
       " 1,\n",
       " 0,\n",
       " 1,\n",
       " 1,\n",
       " 0,\n",
       " 0,\n",
       " 1,\n",
       " 0,\n",
       " 1,\n",
       " 0,\n",
       " 0,\n",
       " 0,\n",
       " 0,\n",
       " 1,\n",
       " 1,\n",
       " 0,\n",
       " 0,\n",
       " 1,\n",
       " 1,\n",
       " 0,\n",
       " 0,\n",
       " 1,\n",
       " 0,\n",
       " 0,\n",
       " 1,\n",
       " 0,\n",
       " 1,\n",
       " 1,\n",
       " 1,\n",
       " 1,\n",
       " 0,\n",
       " 0,\n",
       " 1]"
      ]
     },
     "execution_count": 11,
     "metadata": {},
     "output_type": "execute_result"
    }
   ],
   "source": [
    "label_train# 0 is good, 1 is gibber"
   ]
  },
  {
   "cell_type": "code",
   "execution_count": 12,
   "metadata": {
    "collapsed": false
   },
   "outputs": [
    {
     "data": {
      "text/plain": [
       "['I missed out on a delivery day when I clicked check in and waited for my turn to get an order only to find out that not only did my check in not register but the gps showed me down the street. I encountered this issue again when one of the warehouse employees placed an order for that location and the app wanted me to drive in a big circle to get back to where I was standing.',\n",
       " \"I've arrived at the pick up restaurant but the staff did not have the barecode for me to scan, however I pick up the package and deliver but my is still not let me move on\",\n",
       " 'ews ri',\n",
       " \"it doesn't work sometimes.\",\n",
       " 'Suggestion: easier way to sign in due alleviate the tediousness of periodically having to sign back in to the app to check for blocks.']"
      ]
     },
     "execution_count": 12,
     "metadata": {},
     "output_type": "execute_result"
    }
   ],
   "source": [
    "text_train[:5]"
   ]
  },
  {
   "cell_type": "markdown",
   "metadata": {},
   "source": [
    "# 3. feature engineering"
   ]
  },
  {
   "cell_type": "code",
   "execution_count": 18,
   "metadata": {
    "collapsed": true
   },
   "outputs": [],
   "source": [
    "from sklearn.feature_extraction.text import CountVectorizer\n",
    "import numpy as np\n",
    "\n",
    "\n",
    "vectorizer = CountVectorizer()\n",
    "x_train = vectorizer.fit_transform(text_train)\n",
    "y_train = np.array(label_train)\n",
    "\n",
    "x_test = vectorizer.transform(text_test)\n",
    "y_test = np.array(label_test)"
   ]
  },
  {
   "cell_type": "code",
   "execution_count": 55,
   "metadata": {
    "collapsed": false
   },
   "outputs": [
    {
     "data": {
      "text/plain": [
       "{'10': 0,\n",
       " '1200': 1,\n",
       " '1203': 2,\n",
       " '15': 3,\n",
       " '150': 4,\n",
       " '15107': 5,\n",
       " '1pm': 6,\n",
       " '20l': 7,\n",
       " '25': 8,\n",
       " '2s': 9,\n",
       " '2w222': 10,\n",
       " '33rd': 11,\n",
       " '40': 12,\n",
       " '5am': 13,\n",
       " '7k9opu': 14,\n",
       " 'aaq': 15,\n",
       " 'aawfhg': 16,\n",
       " 'ability': 17,\n",
       " 'able': 18,\n",
       " 'about': 19,\n",
       " 'acceptable': 20,\n",
       " 'access': 21,\n",
       " 'accurately': 22,\n",
       " 'additional': 23,\n",
       " 'advance': 24,\n",
       " 'af0000': 25,\n",
       " 'after': 26,\n",
       " 'ag0003006033sdgcj12344': 27,\n",
       " 'again': 28,\n",
       " 'ages': 29,\n",
       " 'ahead': 30,\n",
       " 'al001234': 31,\n",
       " 'alerts': 32,\n",
       " 'all': 33,\n",
       " 'alleviate': 34,\n",
       " 'allow': 35,\n",
       " 'am': 36,\n",
       " 'an': 37,\n",
       " 'and': 38,\n",
       " 'android': 39,\n",
       " 'any': 40,\n",
       " 'app': 41,\n",
       " 'appointments': 42,\n",
       " 'are': 43,\n",
       " 'arent': 44,\n",
       " 'arrived': 45,\n",
       " 'ask': 46,\n",
       " 'asks': 47,\n",
       " 'ass': 48,\n",
       " 'assign': 49,\n",
       " 'assigned': 50,\n",
       " 'at': 51,\n",
       " 'availability': 52,\n",
       " 'available': 53,\n",
       " 'awa': 54,\n",
       " 'awesome': 55,\n",
       " 'azc': 56,\n",
       " 'back': 57,\n",
       " 'background': 58,\n",
       " 'barecode': 59,\n",
       " 'bbb': 60,\n",
       " 'bd': 61,\n",
       " 'be': 62,\n",
       " 'bee': 63,\n",
       " 'been': 64,\n",
       " 'being': 65,\n",
       " 'bellevue': 66,\n",
       " 'benefits': 67,\n",
       " 'best': 68,\n",
       " 'better': 69,\n",
       " 'big': 70,\n",
       " 'blank': 71,\n",
       " 'block': 72,\n",
       " 'blocks': 73,\n",
       " 'bought': 74,\n",
       " 'bqyyx': 75,\n",
       " 'bring': 76,\n",
       " 'but': 77,\n",
       " 'button': 78,\n",
       " 'by': 79,\n",
       " 'calender': 80,\n",
       " 'call': 81,\n",
       " 'called': 82,\n",
       " 'calling': 83,\n",
       " 'can': 84,\n",
       " 'cannot': 85,\n",
       " 'cap': 86,\n",
       " 'capped': 87,\n",
       " 'car': 88,\n",
       " 'cargo': 89,\n",
       " 'caused': 90,\n",
       " 'certain': 91,\n",
       " 'chance': 92,\n",
       " 'check': 93,\n",
       " 'choose': 94,\n",
       " 'cincinnati': 95,\n",
       " 'circle': 96,\n",
       " 'cleaner': 97,\n",
       " 'cleaning': 98,\n",
       " 'clicked': 99,\n",
       " 'codes': 100,\n",
       " 'come': 101,\n",
       " 'coming': 102,\n",
       " 'completely': 103,\n",
       " 'concerned': 104,\n",
       " 'conditions': 105,\n",
       " 'constantly': 106,\n",
       " 'consuming': 107,\n",
       " 'continually': 108,\n",
       " 'continuous': 109,\n",
       " 'convenient': 110,\n",
       " 'could': 111,\n",
       " 'couldn': 112,\n",
       " 'crashing': 113,\n",
       " 'current': 114,\n",
       " 'customer': 115,\n",
       " 'customers': 116,\n",
       " 'damage': 117,\n",
       " 'day': 118,\n",
       " 'days': 119,\n",
       " 'ddddedc': 120,\n",
       " 'dear': 121,\n",
       " 'deliver': 122,\n",
       " 'deliveries': 123,\n",
       " 'delivering': 124,\n",
       " 'delivers': 125,\n",
       " 'delivery': 126,\n",
       " 'device': 127,\n",
       " 'did': 128,\n",
       " 'didn': 129,\n",
       " 'different': 130,\n",
       " 'difficult': 131,\n",
       " 'diligent': 132,\n",
       " 'disadvantage': 133,\n",
       " 'disappear': 134,\n",
       " 'disappearing': 135,\n",
       " 'do': 136,\n",
       " 'doctors': 137,\n",
       " 'doesn': 138,\n",
       " 'doing': 139,\n",
       " 'don': 140,\n",
       " 'done': 141,\n",
       " 'dots': 142,\n",
       " 'down': 143,\n",
       " 'dr': 144,\n",
       " 'drive': 145,\n",
       " 'driver': 146,\n",
       " 'drivers': 147,\n",
       " 'driving': 148,\n",
       " 'drop': 149,\n",
       " 'drops': 150,\n",
       " 'due': 151,\n",
       " 'during': 152,\n",
       " 'easier': 153,\n",
       " 'employees': 154,\n",
       " 'encountered': 155,\n",
       " 'enjoy': 156,\n",
       " 'enlight': 157,\n",
       " 'entire': 158,\n",
       " 'erroneously': 159,\n",
       " 'even': 160,\n",
       " 'ever': 161,\n",
       " 'every': 162,\n",
       " 'everytime': 163,\n",
       " 'ews': 164,\n",
       " 'exactly': 165,\n",
       " 'example': 166,\n",
       " 'exit': 167,\n",
       " 'feedback': 168,\n",
       " 'field': 169,\n",
       " 'find': 170,\n",
       " 'fitted': 171,\n",
       " 'fix': 172,\n",
       " 'flawed': 173,\n",
       " 'floor': 174,\n",
       " 'for': 175,\n",
       " 'forever': 176,\n",
       " 'forth': 177,\n",
       " 'forward': 178,\n",
       " 'friends': 179,\n",
       " 'from': 180,\n",
       " 'frustrating': 181,\n",
       " 'full': 182,\n",
       " 'future': 183,\n",
       " 'general': 184,\n",
       " 'get': 185,\n",
       " 'ggt': 186,\n",
       " 'give': 187,\n",
       " 'glad': 188,\n",
       " 'go': 189,\n",
       " 'going': 190,\n",
       " 'gonna': 191,\n",
       " 'good': 192,\n",
       " 'got': 193,\n",
       " 'gps': 194,\n",
       " 'gray': 195,\n",
       " 'great': 196,\n",
       " 'guys': 197,\n",
       " 'had': 198,\n",
       " 'hang': 199,\n",
       " 'happy': 200,\n",
       " 'has': 201,\n",
       " 'hatpa': 202,\n",
       " 'have': 203,\n",
       " 'haven': 204,\n",
       " 'having': 205,\n",
       " 'he': 206,\n",
       " 'hear': 207,\n",
       " 'help': 208,\n",
       " 'helpful': 209,\n",
       " 'her': 210,\n",
       " 'hi': 211,\n",
       " 'hiking': 212,\n",
       " 'hire': 213,\n",
       " 'hiring': 214,\n",
       " 'his': 215,\n",
       " 'hiw': 216,\n",
       " 'hour': 217,\n",
       " 'hours': 218,\n",
       " 'how': 219,\n",
       " 'however': 220,\n",
       " 'hub': 221,\n",
       " 'huge': 222,\n",
       " 'ideal': 223,\n",
       " 'if': 224,\n",
       " 'immediately': 225,\n",
       " 'impossible': 226,\n",
       " 'in': 227,\n",
       " 'include': 228,\n",
       " 'info': 229,\n",
       " 'installed': 230,\n",
       " 'internet': 231,\n",
       " 'into': 232,\n",
       " 'is': 233,\n",
       " 'issue': 234,\n",
       " 'it': 235,\n",
       " 'items': 236,\n",
       " 'itinerary': 237,\n",
       " 'jo': 238,\n",
       " 'jobs': 239,\n",
       " 'juju': 240,\n",
       " 'just': 241,\n",
       " 'keep': 242,\n",
       " 'keeps': 243,\n",
       " 'kirkland': 244,\n",
       " 'know': 245,\n",
       " 'lack': 246,\n",
       " 'lane': 247,\n",
       " 'lbs': 248,\n",
       " 'least': 249,\n",
       " 'let': 250,\n",
       " 'lets': 251,\n",
       " 'lighting': 252,\n",
       " 'like': 253,\n",
       " 'limit': 254,\n",
       " 'line': 255,\n",
       " 'little': 256,\n",
       " 'll': 257,\n",
       " 'loading': 258,\n",
       " 'location': 259,\n",
       " 'log': 260,\n",
       " 'logged': 261,\n",
       " 'login': 262,\n",
       " 'looking': 263,\n",
       " 'looks': 264,\n",
       " 'lot': 265,\n",
       " 'lousy': 266,\n",
       " 'make': 267,\n",
       " 'makes': 268,\n",
       " 'many': 269,\n",
       " 'map': 270,\n",
       " 'market': 271,\n",
       " 'masked': 272,\n",
       " 'matter': 273,\n",
       " 'maybe': 274,\n",
       " 'me': 275,\n",
       " 'meleeee': 276,\n",
       " 'mess': 277,\n",
       " 'messed': 278,\n",
       " 'midnight': 279,\n",
       " 'might': 280,\n",
       " 'mike': 281,\n",
       " 'minute': 282,\n",
       " 'minutes': 283,\n",
       " 'missed': 284,\n",
       " 'missing': 285,\n",
       " 'mmqqm5my': 286,\n",
       " 'modified': 287,\n",
       " 'month': 288,\n",
       " 'more': 289,\n",
       " 'move': 290,\n",
       " 'much': 291,\n",
       " 'multiple': 292,\n",
       " 'my': 293,\n",
       " 'need': 294,\n",
       " 'needs': 295,\n",
       " 'never': 296,\n",
       " 'new': 297,\n",
       " 'next': 298,\n",
       " 'no': 299,\n",
       " 'nor': 300,\n",
       " 'not': 301,\n",
       " 'note': 302,\n",
       " 'notes': 303,\n",
       " 'nothing': 304,\n",
       " 'notifications': 305,\n",
       " 'now': 306,\n",
       " 'number': 307,\n",
       " 'numbers': 308,\n",
       " 'obviously': 309,\n",
       " 'of': 310,\n",
       " 'off': 311,\n",
       " 'old': 312,\n",
       " 'omg': 313,\n",
       " 'on': 314,\n",
       " 'one': 315,\n",
       " 'only': 316,\n",
       " 'open': 317,\n",
       " 'oportunitt': 318,\n",
       " 'opportunity': 319,\n",
       " 'option': 320,\n",
       " 'or': 321,\n",
       " 'order': 322,\n",
       " 'out': 323,\n",
       " 'over': 324,\n",
       " 'package': 325,\n",
       " 'packages': 326,\n",
       " 'packs': 327,\n",
       " 'pain': 328,\n",
       " 'part': 329,\n",
       " 'past': 330,\n",
       " 'pay': 331,\n",
       " 'people': 332,\n",
       " 'perfect': 333,\n",
       " 'period': 334,\n",
       " 'periodically': 335,\n",
       " 'person': 336,\n",
       " 'petey': 337,\n",
       " 'pflugerville': 338,\n",
       " 'phone': 339,\n",
       " 'pick': 340,\n",
       " 'pickup': 341,\n",
       " 'placed': 342,\n",
       " 'play': 343,\n",
       " 'please': 344,\n",
       " 'pm': 345,\n",
       " 'positive': 346,\n",
       " 'possibly': 347,\n",
       " 'problems': 348,\n",
       " 'process': 349,\n",
       " 'properly': 350,\n",
       " 'quick': 351,\n",
       " 'quite': 352,\n",
       " 'rain': 353,\n",
       " 'random': 354,\n",
       " 'real': 355,\n",
       " 'really': 356,\n",
       " 'receive': 357,\n",
       " 'register': 358,\n",
       " 'released': 359,\n",
       " 'remove': 360,\n",
       " 'reopen': 361,\n",
       " 'restaurant': 362,\n",
       " 'return': 363,\n",
       " 'rewards': 364,\n",
       " 'ri': 365,\n",
       " 'route': 366,\n",
       " 'rpm': 367,\n",
       " 'rude': 368,\n",
       " 'save': 369,\n",
       " 'says': 370,\n",
       " 'scan': 371,\n",
       " 'sceduled': 372,\n",
       " 'schedule': 373,\n",
       " 'scheduled': 374,\n",
       " 'scheduling': 375,\n",
       " 'score': 376,\n",
       " 'screen': 377,\n",
       " 'screens': 378,\n",
       " 'se': 379,\n",
       " 'sea': 380,\n",
       " 'seconds': 381,\n",
       " 'see': 382,\n",
       " 'seen': 383,\n",
       " 'seesaw': 384,\n",
       " 'send': 385,\n",
       " 'seriously': 386,\n",
       " 'service': 387,\n",
       " 'set': 388,\n",
       " 'should': 389,\n",
       " 'showed': 390,\n",
       " 'shows': 391,\n",
       " 'shut': 392,\n",
       " 'sign': 393,\n",
       " 'situation': 394,\n",
       " 'slow': 395,\n",
       " 'slower': 396,\n",
       " 'smh': 397,\n",
       " 'so': 398,\n",
       " 'software': 399,\n",
       " 'some': 400,\n",
       " 'sometimes': 401,\n",
       " 'sort': 402,\n",
       " 'sprouts': 403,\n",
       " 'staff': 404,\n",
       " 'stagger': 405,\n",
       " 'standing': 406,\n",
       " 'start': 407,\n",
       " 'started': 408,\n",
       " 'starting': 409,\n",
       " 'stay': 410,\n",
       " 'steam': 411,\n",
       " 'still': 412,\n",
       " 'street': 413,\n",
       " 'stroke': 414,\n",
       " 'suggestion': 415,\n",
       " 'supplies': 416,\n",
       " 'support': 417,\n",
       " 'sure': 418,\n",
       " 'swipe': 419,\n",
       " 'swq': 420,\n",
       " 'system': 421,\n",
       " 'tab': 422,\n",
       " 'takes': 423,\n",
       " 'tasgt': 424,\n",
       " 'team': 425,\n",
       " 'tediousness': 426,\n",
       " 'tell': 427,\n",
       " 'text': 428,\n",
       " 'than': 429,\n",
       " 'thank': 430,\n",
       " 'thanks': 431,\n",
       " 'that': 432,\n",
       " 'the': 433,\n",
       " 'them': 434,\n",
       " 'there': 435,\n",
       " 'they': 436,\n",
       " 'this': 437,\n",
       " 'though': 438,\n",
       " 'three': 439,\n",
       " 'throughout': 440,\n",
       " 'thursday': 441,\n",
       " 'time': 442,\n",
       " 'times': 443,\n",
       " 'timing': 444,\n",
       " 'to': 445,\n",
       " 'today': 446,\n",
       " 'told': 447,\n",
       " 'tonight': 448,\n",
       " 'too': 449,\n",
       " 'treated': 450,\n",
       " 'turn': 451,\n",
       " 'two': 452,\n",
       " 'tx': 453,\n",
       " 'type': 454,\n",
       " 'ueteu': 455,\n",
       " 'uhu': 456,\n",
       " 'unable': 457,\n",
       " 'understand': 458,\n",
       " 'unfair': 459,\n",
       " 'unfairly': 460,\n",
       " 'unless': 461,\n",
       " 'unprofessional': 462,\n",
       " 'until': 463,\n",
       " 'up': 464,\n",
       " 'upcoming': 465,\n",
       " 'update': 466,\n",
       " 'updated': 467,\n",
       " 'us': 468,\n",
       " 'used': 469,\n",
       " 'vacuum': 470,\n",
       " 've': 471,\n",
       " 'vehical': 472,\n",
       " 'very': 473,\n",
       " 'vgcx': 474,\n",
       " 'viewing': 475,\n",
       " 'visible': 476,\n",
       " 'wa': 477,\n",
       " 'waarnnnkwn': 478,\n",
       " 'wait': 479,\n",
       " 'waited': 480,\n",
       " 'want': 481,\n",
       " 'wanted': 482,\n",
       " 'warehouse': 483,\n",
       " 'was': 484,\n",
       " 'wasted': 485,\n",
       " 'wawaa': 486,\n",
       " 'wawi': 487,\n",
       " 'way': 488,\n",
       " 'we': 489,\n",
       " 'wednesday': 490,\n",
       " 'week': 491,\n",
       " 'weeks': 492,\n",
       " 'were': 493,\n",
       " 'wests': 494,\n",
       " 'wet': 495,\n",
       " 'wew2ww2wwwew2i2wkkk': 496,\n",
       " 'wh': 497,\n",
       " 'what': 498,\n",
       " 'when': 499,\n",
       " 'where': 500,\n",
       " 'which': 501,\n",
       " 'whined': 502,\n",
       " 'who': 503,\n",
       " 'whole': 504,\n",
       " 'why': 505,\n",
       " 'wide': 506,\n",
       " 'will': 507,\n",
       " 'with': 508,\n",
       " 'work': 509,\n",
       " 'worked': 510,\n",
       " 'would': 511,\n",
       " 'wqq2fwqq2fz22': 512,\n",
       " 'wqxd': 513,\n",
       " 'wu': 514,\n",
       " 'wwnw': 515,\n",
       " 'www': 516,\n",
       " 'wxdfcs': 517,\n",
       " 'xd': 518,\n",
       " 'yet': 519,\n",
       " 'you': 520,\n",
       " 'yu': 521,\n",
       " 'zoom': 522}"
      ]
     },
     "execution_count": 55,
     "metadata": {},
     "output_type": "execute_result"
    }
   ],
   "source": [
    "# 词汇表\n",
    "vectorizer.vocabulary_ "
   ]
  },
  {
   "cell_type": "code",
   "execution_count": 19,
   "metadata": {
    "collapsed": false
   },
   "outputs": [
    {
     "data": {
      "text/plain": [
       "(90, 523)"
      ]
     },
     "execution_count": 19,
     "metadata": {},
     "output_type": "execute_result"
    }
   ],
   "source": [
    "x_train.shape"
   ]
  },
  {
   "cell_type": "code",
   "execution_count": 20,
   "metadata": {
    "collapsed": false
   },
   "outputs": [
    {
     "data": {
      "text/plain": [
       "(90,)"
      ]
     },
     "execution_count": 20,
     "metadata": {},
     "output_type": "execute_result"
    }
   ],
   "source": [
    "y_train.shape"
   ]
  },
  {
   "cell_type": "code",
   "execution_count": 21,
   "metadata": {
    "collapsed": false
   },
   "outputs": [
    {
     "data": {
      "text/plain": [
       "(18, 523)"
      ]
     },
     "execution_count": 21,
     "metadata": {},
     "output_type": "execute_result"
    }
   ],
   "source": [
    "x_test.shape"
   ]
  },
  {
   "cell_type": "code",
   "execution_count": 22,
   "metadata": {
    "collapsed": false
   },
   "outputs": [
    {
     "data": {
      "text/plain": [
       "(18,)"
      ]
     },
     "execution_count": 22,
     "metadata": {},
     "output_type": "execute_result"
    }
   ],
   "source": [
    "y_test.shape"
   ]
  },
  {
   "cell_type": "markdown",
   "metadata": {},
   "source": [
    "# 4. model training & predict & evaluation"
   ]
  },
  {
   "cell_type": "markdown",
   "metadata": {},
   "source": [
    "## 4.1 linear model"
   ]
  },
  {
   "cell_type": "code",
   "execution_count": 25,
   "metadata": {
    "collapsed": true
   },
   "outputs": [],
   "source": [
    "from sklearn import metrics"
   ]
  },
  {
   "cell_type": "code",
   "execution_count": 28,
   "metadata": {
    "collapsed": false
   },
   "outputs": [
    {
     "name": "stdout",
     "output_type": "stream",
     "text": [
      "             precision    recall  f1-score   support\n",
      "\n",
      "          0       1.00      0.17      0.29        12\n",
      "          1       0.38      1.00      0.55         6\n",
      "\n",
      "avg / total       0.79      0.44      0.37        18\n",
      "\n"
     ]
    }
   ],
   "source": [
    "from sklearn.linear_model import LogisticRegression\n",
    "\n",
    "model = LogisticRegression()\n",
    "model.fit(x_train, y_train)\n",
    "y_pred = model.predict(x_test)\n",
    "y_true = y_test\n",
    "print( metrics.classification_report(y_true, y_pred) )"
   ]
  },
  {
   "cell_type": "markdown",
   "metadata": {},
   "source": [
    "## 4.2 decision tree"
   ]
  },
  {
   "cell_type": "code",
   "execution_count": 47,
   "metadata": {
    "collapsed": false
   },
   "outputs": [
    {
     "name": "stdout",
     "output_type": "stream",
     "text": [
      "             precision    recall  f1-score   support\n",
      "\n",
      "          0       1.00      0.42      0.59        12\n",
      "          1       0.46      1.00      0.63         6\n",
      "\n",
      "avg / total       0.82      0.61      0.60        18\n",
      "\n"
     ]
    }
   ],
   "source": [
    "from sklearn.tree import DecisionTreeClassifier\n",
    "\n",
    "model = DecisionTreeClassifier(criterion='gini', max_depth=10, random_state=88)\n",
    "model.fit(x_train, y_train)\n",
    "y_pred = model.predict(x_test)\n",
    "y_true = y_test\n",
    "print( metrics.classification_report(y_true, y_pred) )"
   ]
  },
  {
   "cell_type": "markdown",
   "metadata": {},
   "source": [
    "## 4.3 svm"
   ]
  },
  {
   "cell_type": "code",
   "execution_count": 54,
   "metadata": {
    "collapsed": false
   },
   "outputs": [
    {
     "name": "stdout",
     "output_type": "stream",
     "text": [
      "             precision    recall  f1-score   support\n",
      "\n",
      "          0       0.00      0.00      0.00        12\n",
      "          1       0.33      1.00      0.50         6\n",
      "\n",
      "avg / total       0.11      0.33      0.17        18\n",
      "\n"
     ]
    },
    {
     "name": "stderr",
     "output_type": "stream",
     "text": [
      "/home/bin_yin/py3project/lib/python3.5/site-packages/sklearn/metrics/classification.py:1113: UndefinedMetricWarning: Precision and F-score are ill-defined and being set to 0.0 in labels with no predicted samples.\n",
      "  'precision', 'predicted', average, warn_for)\n"
     ]
    }
   ],
   "source": [
    "from sklearn.svm import SVC\n",
    "\n",
    "model = SVC(C=0.5, kernel='poly', degree=30)\n",
    "model.fit(x_train, y_train)\n",
    "y_pred = model.predict(x_test)\n",
    "y_true = y_test\n",
    "print( metrics.classification_report(y_true, y_pred) )"
   ]
  }
 ],
 "metadata": {
  "kernelspec": {
   "display_name": "Python 3",
   "language": "python",
   "name": "python3"
  },
  "language_info": {
   "codemirror_mode": {
    "name": "ipython",
    "version": 3
   },
   "file_extension": ".py",
   "mimetype": "text/x-python",
   "name": "python",
   "nbconvert_exporter": "python",
   "pygments_lexer": "ipython3",
   "version": "3.5.2"
  }
 },
 "nbformat": 4,
 "nbformat_minor": 2
}
