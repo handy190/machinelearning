{
 "cells": [
  {
   "cell_type": "markdown",
   "metadata": {},
   "source": [
    "# 1. 关联分析理论基础"
   ]
  },
  {
   "cell_type": "markdown",
   "metadata": {},
   "source": [
    "**关联分析**\n",
    "* association analysis，或 association rule learning\n",
    "* 从大规模数据集中寻找物品间的隐含关系\n",
    "* 如果一个事务中有X，则该事务中则很有可能有Y，写成关联规则\n",
    "   * {X}→{Y}\n",
    "   * 将这种找出项目之间联系的方法叫做关联分析"
   ]
  },
  {
   "cell_type": "markdown",
   "metadata": {},
   "source": [
    "**关联分析能得到什么结果？**\n",
    "* 频繁项集：经常出现在一起的物品集合\n",
    "* 关联规则：两个物品之间的关系强弱"
   ]
  },
  {
   "cell_type": "markdown",
   "metadata": {},
   "source": [
    "**例子：从交易清单中挖掘信息**\n",
    "\n",
    "* 交易号码0：豆奶，莴苣\n",
    "* 交易号码1：莴苣，尿布，葡萄酒，甜菜\n",
    "* 交易号码2：豆奶，尿布，葡萄酒，橙汁\n",
    "* 交易号码3：莴苣，豆奶，尿布，葡萄酒\n",
    "* 交易号码4：莴苣，豆奶，尿布，橙汁"
   ]
  },
  {
   "cell_type": "markdown",
   "metadata": {},
   "source": [
    "**如何挖掘？**\n",
    "* 根据支持度（support），置信度（confidence）\n",
    "* **支持度support**\n",
    "   * 5条交易记录中，豆奶出现4次，则豆奶的support为4/5\n",
    "   * 5条交易记录中，{豆奶，尿布}出现4次，则{豆奶，尿布}的support为3/5\n",
    "* **置信度confidence**\n",
    "   * 两个item的支持度之比\n",
    "      * 比如，{尿布，葡萄酒}的support=3/5；{尿布}的support=4/5\n",
    "      * 则{尿布}--->{葡萄酒}的confidence为(3/5)/(4/5)=3/4\n",
    "      * 说明这条规则对75%的记录都适用\n",
    "   * {葡萄酒}->{尿布} ?\n",
    "      * {尿布，葡萄酒}的support=3/5；{葡萄酒}的support=3/5\n",
    "      * C({葡萄酒}->{尿布}) = 1"
   ]
  },
  {
   "cell_type": "markdown",
   "metadata": {},
   "source": [
    "公式定义confidence(A->B) = P(B|A) = SUPPORT(A&B)/SUPPORT(A)"
   ]
  },
  {
   "cell_type": "markdown",
   "metadata": {},
   "source": [
    "# 2. Apriori算法"
   ]
  },
  {
   "cell_type": "markdown",
   "metadata": {},
   "source": [
    "**Apriori算法**\n",
    "   * 生成频繁项集，即满足最小支持度阈值的所有项集；\n",
    "   * 生成关联规则，从上一步中找出的频繁项集中找出搞置信度的规则，即满足最小置信度阈值。\n"
   ]
  },
  {
   "cell_type": "markdown",
   "metadata": {},
   "source": [
    "**Apriori核心原理**\n",
    "* 如果某个项集是频繁的，那么它的子集也是频繁的\n",
    "* 如下图，若某个项集不频繁，则它的父集也不频繁"
   ]
  },
  {
   "cell_type": "markdown",
   "metadata": {},
   "source": [
    "<img src=\"apriori_algorithm.png\">"
   ]
  },
  {
   "cell_type": "code",
   "execution_count": 13,
   "metadata": {},
   "outputs": [],
   "source": [
    "from apyori import apriori\n",
    "\n",
    "transactions = [\n",
    "    ['豆奶', '莴苣'],\n",
    "    ['莴苣', '尿布', '葡萄酒', '甜菜'],\n",
    "    ['豆奶', '尿布', '葡萄酒', '橙汁'],\n",
    "    ['莴苣', '豆奶', '尿布', '葡萄酒'],\n",
    "    ['莴苣', '豆奶', '尿布', '橙汁'],\n",
    "]\n",
    "results = list(apriori(transactions))"
   ]
  },
  {
   "cell_type": "code",
   "execution_count": 22,
   "metadata": {},
   "outputs": [
    {
     "data": {
      "text/plain": [
       "[RelationRecord(items=frozenset({'尿布'}), support=0.8, ordered_statistics=[OrderedStatistic(items_base=frozenset(), items_add=frozenset({'尿布'}), confidence=0.8, lift=1.0)]),\n",
       " RelationRecord(items=frozenset({'橙汁'}), support=0.4, ordered_statistics=[OrderedStatistic(items_base=frozenset(), items_add=frozenset({'橙汁'}), confidence=0.4, lift=1.0)]),\n",
       " RelationRecord(items=frozenset({'甜菜'}), support=0.2, ordered_statistics=[OrderedStatistic(items_base=frozenset(), items_add=frozenset({'甜菜'}), confidence=0.2, lift=1.0)]),\n",
       " RelationRecord(items=frozenset({'莴苣'}), support=0.8, ordered_statistics=[OrderedStatistic(items_base=frozenset(), items_add=frozenset({'莴苣'}), confidence=0.8, lift=1.0)]),\n",
       " RelationRecord(items=frozenset({'葡萄酒'}), support=0.6, ordered_statistics=[OrderedStatistic(items_base=frozenset(), items_add=frozenset({'葡萄酒'}), confidence=0.6, lift=1.0)]),\n",
       " RelationRecord(items=frozenset({'豆奶'}), support=0.8, ordered_statistics=[OrderedStatistic(items_base=frozenset(), items_add=frozenset({'豆奶'}), confidence=0.8, lift=1.0)]),\n",
       " RelationRecord(items=frozenset({'橙汁', '尿布'}), support=0.4, ordered_statistics=[OrderedStatistic(items_base=frozenset({'尿布'}), items_add=frozenset({'橙汁'}), confidence=0.5, lift=1.25), OrderedStatistic(items_base=frozenset({'橙汁'}), items_add=frozenset({'尿布'}), confidence=1.0, lift=1.25)]),\n",
       " RelationRecord(items=frozenset({'尿布', '甜菜'}), support=0.2, ordered_statistics=[OrderedStatistic(items_base=frozenset({'尿布'}), items_add=frozenset({'甜菜'}), confidence=0.25, lift=1.25), OrderedStatistic(items_base=frozenset({'甜菜'}), items_add=frozenset({'尿布'}), confidence=1.0, lift=1.25)]),\n",
       " RelationRecord(items=frozenset({'尿布', '莴苣'}), support=0.6, ordered_statistics=[OrderedStatistic(items_base=frozenset({'尿布'}), items_add=frozenset({'莴苣'}), confidence=0.7499999999999999, lift=0.9374999999999998), OrderedStatistic(items_base=frozenset({'莴苣'}), items_add=frozenset({'尿布'}), confidence=0.7499999999999999, lift=0.9374999999999998)]),\n",
       " RelationRecord(items=frozenset({'尿布', '葡萄酒'}), support=0.6, ordered_statistics=[OrderedStatistic(items_base=frozenset({'尿布'}), items_add=frozenset({'葡萄酒'}), confidence=0.7499999999999999, lift=1.2499999999999998), OrderedStatistic(items_base=frozenset({'葡萄酒'}), items_add=frozenset({'尿布'}), confidence=1.0, lift=1.25)]),\n",
       " RelationRecord(items=frozenset({'尿布', '豆奶'}), support=0.6, ordered_statistics=[OrderedStatistic(items_base=frozenset({'尿布'}), items_add=frozenset({'豆奶'}), confidence=0.7499999999999999, lift=0.9374999999999998), OrderedStatistic(items_base=frozenset({'豆奶'}), items_add=frozenset({'尿布'}), confidence=0.7499999999999999, lift=0.9374999999999998)]),\n",
       " RelationRecord(items=frozenset({'橙汁', '莴苣'}), support=0.2, ordered_statistics=[OrderedStatistic(items_base=frozenset({'橙汁'}), items_add=frozenset({'莴苣'}), confidence=0.5, lift=0.625), OrderedStatistic(items_base=frozenset({'莴苣'}), items_add=frozenset({'橙汁'}), confidence=0.25, lift=0.625)]),\n",
       " RelationRecord(items=frozenset({'橙汁', '葡萄酒'}), support=0.2, ordered_statistics=[OrderedStatistic(items_base=frozenset({'橙汁'}), items_add=frozenset({'葡萄酒'}), confidence=0.5, lift=0.8333333333333334), OrderedStatistic(items_base=frozenset({'葡萄酒'}), items_add=frozenset({'橙汁'}), confidence=0.33333333333333337, lift=0.8333333333333334)]),\n",
       " RelationRecord(items=frozenset({'橙汁', '豆奶'}), support=0.4, ordered_statistics=[OrderedStatistic(items_base=frozenset({'橙汁'}), items_add=frozenset({'豆奶'}), confidence=1.0, lift=1.25), OrderedStatistic(items_base=frozenset({'豆奶'}), items_add=frozenset({'橙汁'}), confidence=0.5, lift=1.25)]),\n",
       " RelationRecord(items=frozenset({'莴苣', '甜菜'}), support=0.2, ordered_statistics=[OrderedStatistic(items_base=frozenset({'甜菜'}), items_add=frozenset({'莴苣'}), confidence=1.0, lift=1.25), OrderedStatistic(items_base=frozenset({'莴苣'}), items_add=frozenset({'甜菜'}), confidence=0.25, lift=1.25)]),\n",
       " RelationRecord(items=frozenset({'葡萄酒', '甜菜'}), support=0.2, ordered_statistics=[OrderedStatistic(items_base=frozenset({'甜菜'}), items_add=frozenset({'葡萄酒'}), confidence=1.0, lift=1.6666666666666667), OrderedStatistic(items_base=frozenset({'葡萄酒'}), items_add=frozenset({'甜菜'}), confidence=0.33333333333333337, lift=1.6666666666666667)]),\n",
       " RelationRecord(items=frozenset({'莴苣', '葡萄酒'}), support=0.4, ordered_statistics=[OrderedStatistic(items_base=frozenset({'莴苣'}), items_add=frozenset({'葡萄酒'}), confidence=0.5, lift=0.8333333333333334), OrderedStatistic(items_base=frozenset({'葡萄酒'}), items_add=frozenset({'莴苣'}), confidence=0.6666666666666667, lift=0.8333333333333334)]),\n",
       " RelationRecord(items=frozenset({'莴苣', '豆奶'}), support=0.6, ordered_statistics=[OrderedStatistic(items_base=frozenset({'莴苣'}), items_add=frozenset({'豆奶'}), confidence=0.7499999999999999, lift=0.9374999999999998), OrderedStatistic(items_base=frozenset({'豆奶'}), items_add=frozenset({'莴苣'}), confidence=0.7499999999999999, lift=0.9374999999999998)]),\n",
       " RelationRecord(items=frozenset({'葡萄酒', '豆奶'}), support=0.4, ordered_statistics=[OrderedStatistic(items_base=frozenset({'葡萄酒'}), items_add=frozenset({'豆奶'}), confidence=0.6666666666666667, lift=0.8333333333333334), OrderedStatistic(items_base=frozenset({'豆奶'}), items_add=frozenset({'葡萄酒'}), confidence=0.5, lift=0.8333333333333334)]),\n",
       " RelationRecord(items=frozenset({'橙汁', '尿布', '莴苣'}), support=0.2, ordered_statistics=[OrderedStatistic(items_base=frozenset({'橙汁', '尿布'}), items_add=frozenset({'莴苣'}), confidence=0.5, lift=0.625), OrderedStatistic(items_base=frozenset({'尿布', '莴苣'}), items_add=frozenset({'橙汁'}), confidence=0.33333333333333337, lift=0.8333333333333334), OrderedStatistic(items_base=frozenset({'橙汁', '莴苣'}), items_add=frozenset({'尿布'}), confidence=1.0, lift=1.25)]),\n",
       " RelationRecord(items=frozenset({'橙汁', '尿布', '葡萄酒'}), support=0.2, ordered_statistics=[OrderedStatistic(items_base=frozenset({'橙汁', '尿布'}), items_add=frozenset({'葡萄酒'}), confidence=0.5, lift=0.8333333333333334), OrderedStatistic(items_base=frozenset({'尿布', '葡萄酒'}), items_add=frozenset({'橙汁'}), confidence=0.33333333333333337, lift=0.8333333333333334), OrderedStatistic(items_base=frozenset({'橙汁', '葡萄酒'}), items_add=frozenset({'尿布'}), confidence=1.0, lift=1.25)]),\n",
       " RelationRecord(items=frozenset({'橙汁', '尿布', '豆奶'}), support=0.4, ordered_statistics=[OrderedStatistic(items_base=frozenset({'橙汁', '尿布'}), items_add=frozenset({'豆奶'}), confidence=1.0, lift=1.25), OrderedStatistic(items_base=frozenset({'尿布', '豆奶'}), items_add=frozenset({'橙汁'}), confidence=0.6666666666666667, lift=1.6666666666666667), OrderedStatistic(items_base=frozenset({'橙汁', '豆奶'}), items_add=frozenset({'尿布'}), confidence=1.0, lift=1.25)]),\n",
       " RelationRecord(items=frozenset({'尿布', '莴苣', '甜菜'}), support=0.2, ordered_statistics=[OrderedStatistic(items_base=frozenset({'尿布', '甜菜'}), items_add=frozenset({'莴苣'}), confidence=1.0, lift=1.25), OrderedStatistic(items_base=frozenset({'尿布', '莴苣'}), items_add=frozenset({'甜菜'}), confidence=0.33333333333333337, lift=1.6666666666666667), OrderedStatistic(items_base=frozenset({'莴苣', '甜菜'}), items_add=frozenset({'尿布'}), confidence=1.0, lift=1.25)]),\n",
       " RelationRecord(items=frozenset({'尿布', '葡萄酒', '甜菜'}), support=0.2, ordered_statistics=[OrderedStatistic(items_base=frozenset({'尿布', '甜菜'}), items_add=frozenset({'葡萄酒'}), confidence=1.0, lift=1.6666666666666667), OrderedStatistic(items_base=frozenset({'尿布', '葡萄酒'}), items_add=frozenset({'甜菜'}), confidence=0.33333333333333337, lift=1.6666666666666667), OrderedStatistic(items_base=frozenset({'葡萄酒', '甜菜'}), items_add=frozenset({'尿布'}), confidence=1.0, lift=1.25)]),\n",
       " RelationRecord(items=frozenset({'尿布', '莴苣', '葡萄酒'}), support=0.4, ordered_statistics=[OrderedStatistic(items_base=frozenset({'尿布', '莴苣'}), items_add=frozenset({'葡萄酒'}), confidence=0.6666666666666667, lift=1.1111111111111114), OrderedStatistic(items_base=frozenset({'尿布', '葡萄酒'}), items_add=frozenset({'莴苣'}), confidence=0.6666666666666667, lift=0.8333333333333334), OrderedStatistic(items_base=frozenset({'莴苣', '葡萄酒'}), items_add=frozenset({'尿布'}), confidence=1.0, lift=1.25)]),\n",
       " RelationRecord(items=frozenset({'尿布', '莴苣', '豆奶'}), support=0.4, ordered_statistics=[OrderedStatistic(items_base=frozenset({'尿布', '莴苣'}), items_add=frozenset({'豆奶'}), confidence=0.6666666666666667, lift=0.8333333333333334), OrderedStatistic(items_base=frozenset({'尿布', '豆奶'}), items_add=frozenset({'莴苣'}), confidence=0.6666666666666667, lift=0.8333333333333334), OrderedStatistic(items_base=frozenset({'莴苣', '豆奶'}), items_add=frozenset({'尿布'}), confidence=0.6666666666666667, lift=0.8333333333333334)]),\n",
       " RelationRecord(items=frozenset({'尿布', '葡萄酒', '豆奶'}), support=0.4, ordered_statistics=[OrderedStatistic(items_base=frozenset({'尿布', '葡萄酒'}), items_add=frozenset({'豆奶'}), confidence=0.6666666666666667, lift=0.8333333333333334), OrderedStatistic(items_base=frozenset({'尿布', '豆奶'}), items_add=frozenset({'葡萄酒'}), confidence=0.6666666666666667, lift=1.1111111111111114), OrderedStatistic(items_base=frozenset({'葡萄酒', '豆奶'}), items_add=frozenset({'尿布'}), confidence=1.0, lift=1.25)]),\n",
       " RelationRecord(items=frozenset({'橙汁', '莴苣', '豆奶'}), support=0.2, ordered_statistics=[OrderedStatistic(items_base=frozenset({'橙汁', '莴苣'}), items_add=frozenset({'豆奶'}), confidence=1.0, lift=1.25), OrderedStatistic(items_base=frozenset({'橙汁', '豆奶'}), items_add=frozenset({'莴苣'}), confidence=0.5, lift=0.625), OrderedStatistic(items_base=frozenset({'莴苣', '豆奶'}), items_add=frozenset({'橙汁'}), confidence=0.33333333333333337, lift=0.8333333333333334)]),\n",
       " RelationRecord(items=frozenset({'橙汁', '葡萄酒', '豆奶'}), support=0.2, ordered_statistics=[OrderedStatistic(items_base=frozenset({'橙汁', '葡萄酒'}), items_add=frozenset({'豆奶'}), confidence=1.0, lift=1.25), OrderedStatistic(items_base=frozenset({'橙汁', '豆奶'}), items_add=frozenset({'葡萄酒'}), confidence=0.5, lift=0.8333333333333334), OrderedStatistic(items_base=frozenset({'葡萄酒', '豆奶'}), items_add=frozenset({'橙汁'}), confidence=0.5, lift=1.25)]),\n",
       " RelationRecord(items=frozenset({'莴苣', '葡萄酒', '甜菜'}), support=0.2, ordered_statistics=[OrderedStatistic(items_base=frozenset({'莴苣', '甜菜'}), items_add=frozenset({'葡萄酒'}), confidence=1.0, lift=1.6666666666666667), OrderedStatistic(items_base=frozenset({'葡萄酒', '甜菜'}), items_add=frozenset({'莴苣'}), confidence=1.0, lift=1.25), OrderedStatistic(items_base=frozenset({'莴苣', '葡萄酒'}), items_add=frozenset({'甜菜'}), confidence=0.5, lift=2.5)]),\n",
       " RelationRecord(items=frozenset({'豆奶', '莴苣', '葡萄酒'}), support=0.2, ordered_statistics=[OrderedStatistic(items_base=frozenset({'莴苣', '葡萄酒'}), items_add=frozenset({'豆奶'}), confidence=0.5, lift=0.625), OrderedStatistic(items_base=frozenset({'莴苣', '豆奶'}), items_add=frozenset({'葡萄酒'}), confidence=0.33333333333333337, lift=0.5555555555555557), OrderedStatistic(items_base=frozenset({'葡萄酒', '豆奶'}), items_add=frozenset({'莴苣'}), confidence=0.5, lift=0.625)]),\n",
       " RelationRecord(items=frozenset({'橙汁', '尿布', '莴苣', '豆奶'}), support=0.2, ordered_statistics=[OrderedStatistic(items_base=frozenset({'橙汁', '尿布', '莴苣'}), items_add=frozenset({'豆奶'}), confidence=1.0, lift=1.25), OrderedStatistic(items_base=frozenset({'橙汁', '尿布', '豆奶'}), items_add=frozenset({'莴苣'}), confidence=0.5, lift=0.625), OrderedStatistic(items_base=frozenset({'尿布', '莴苣', '豆奶'}), items_add=frozenset({'橙汁'}), confidence=0.5, lift=1.25), OrderedStatistic(items_base=frozenset({'橙汁', '莴苣', '豆奶'}), items_add=frozenset({'尿布'}), confidence=1.0, lift=1.25)]),\n",
       " RelationRecord(items=frozenset({'橙汁', '尿布', '葡萄酒', '豆奶'}), support=0.2, ordered_statistics=[OrderedStatistic(items_base=frozenset({'橙汁', '尿布', '葡萄酒'}), items_add=frozenset({'豆奶'}), confidence=1.0, lift=1.25), OrderedStatistic(items_base=frozenset({'橙汁', '尿布', '豆奶'}), items_add=frozenset({'葡萄酒'}), confidence=0.5, lift=0.8333333333333334), OrderedStatistic(items_base=frozenset({'尿布', '葡萄酒', '豆奶'}), items_add=frozenset({'橙汁'}), confidence=0.5, lift=1.25), OrderedStatistic(items_base=frozenset({'橙汁', '葡萄酒', '豆奶'}), items_add=frozenset({'尿布'}), confidence=1.0, lift=1.25)]),\n",
       " RelationRecord(items=frozenset({'尿布', '莴苣', '葡萄酒', '甜菜'}), support=0.2, ordered_statistics=[OrderedStatistic(items_base=frozenset({'尿布', '莴苣', '甜菜'}), items_add=frozenset({'葡萄酒'}), confidence=1.0, lift=1.6666666666666667), OrderedStatistic(items_base=frozenset({'尿布', '葡萄酒', '甜菜'}), items_add=frozenset({'莴苣'}), confidence=1.0, lift=1.25), OrderedStatistic(items_base=frozenset({'尿布', '莴苣', '葡萄酒'}), items_add=frozenset({'甜菜'}), confidence=0.5, lift=2.5), OrderedStatistic(items_base=frozenset({'莴苣', '葡萄酒', '甜菜'}), items_add=frozenset({'尿布'}), confidence=1.0, lift=1.25)]),\n",
       " RelationRecord(items=frozenset({'豆奶', '尿布', '莴苣', '葡萄酒'}), support=0.2, ordered_statistics=[OrderedStatistic(items_base=frozenset({'尿布', '莴苣', '葡萄酒'}), items_add=frozenset({'豆奶'}), confidence=0.5, lift=0.625), OrderedStatistic(items_base=frozenset({'尿布', '莴苣', '豆奶'}), items_add=frozenset({'葡萄酒'}), confidence=0.5, lift=0.8333333333333334), OrderedStatistic(items_base=frozenset({'尿布', '葡萄酒', '豆奶'}), items_add=frozenset({'莴苣'}), confidence=0.5, lift=0.625), OrderedStatistic(items_base=frozenset({'豆奶', '莴苣', '葡萄酒'}), items_add=frozenset({'尿布'}), confidence=1.0, lift=1.25)])]"
      ]
     },
     "execution_count": 22,
     "metadata": {},
     "output_type": "execute_result"
    }
   ],
   "source": [
    "results"
   ]
  },
  {
   "cell_type": "markdown",
   "metadata": {},
   "source": [
    "**从结果中可以看到**\n",
    "\n",
    "```python\n",
    "RelationRecord(items=frozenset({'尿布', '葡萄酒'}), support=0.6, ordered_statistics=[OrderedStatistic(items_base=frozenset({'尿布'}), items_add=frozenset({'葡萄酒'}), confidence=0.7499999999999999, lift=1.2499999999999998), OrderedStatistic(items_base=frozenset({'葡萄酒'}), items_add=frozenset({'尿布'}), confidence=1.0, lift=1.25)]),\n",
    "```\n",
    "\n",
    "* {'尿布'}->{'葡萄酒'}的confidence=0.7499999999999999\n",
    "* {'葡萄酒'}->{'尿布'}的confidence=1.0\n"
   ]
  },
  {
   "cell_type": "code",
   "execution_count": null,
   "metadata": {
    "collapsed": true
   },
   "outputs": [],
   "source": []
  },
  {
   "cell_type": "markdown",
   "metadata": {
    "collapsed": true
   },
   "source": [
    "# 3. FP-Growth算法"
   ]
  },
  {
   "cell_type": "markdown",
   "metadata": {
    "collapsed": true
   },
   "source": [
    "* 效率比Aprior高"
   ]
  },
  {
   "cell_type": "code",
   "execution_count": 38,
   "metadata": {
    "collapsed": true
   },
   "outputs": [],
   "source": [
    "import pyfpgrowth\n",
    "transactions = [\n",
    "    ['豆奶', '莴苣'],\n",
    "    ['莴苣', '尿布', '葡萄酒', '甜菜'],\n",
    "    ['豆奶', '尿布', '葡萄酒', '橙汁'],\n",
    "    ['莴苣', '豆奶', '尿布', '葡萄酒'],\n",
    "    ['莴苣', '豆奶', '尿布', '橙汁'],\n",
    "]\n",
    "\n",
    "#Use find_frequent_patterns to find patterns in baskets that occur over the support threshold:\n",
    "patterns = pyfpgrowth.find_frequent_patterns(transactions, 3)\n",
    "#Use generate_association_rules to find patterns that are associated with another with a certain minimum probability:\n",
    "rules = pyfpgrowth.generate_association_rules(patterns, 0.5)"
   ]
  },
  {
   "cell_type": "code",
   "execution_count": 37,
   "metadata": {},
   "outputs": [
    {
     "data": {
      "text/plain": [
       "{('尿布', '莴苣'): 3,\n",
       " ('尿布', '葡萄酒'): 3,\n",
       " ('尿布', '豆奶'): 3,\n",
       " ('莴苣',): 4,\n",
       " ('葡萄酒',): 3,\n",
       " ('豆奶',): 4}"
      ]
     },
     "execution_count": 37,
     "metadata": {},
     "output_type": "execute_result"
    }
   ],
   "source": [
    "patterns"
   ]
  },
  {
   "cell_type": "code",
   "execution_count": 39,
   "metadata": {},
   "outputs": [
    {
     "data": {
      "text/plain": [
       "{('莴苣',): (('尿布',), 0.75), ('葡萄酒',): (('尿布',), 1.0), ('豆奶',): (('尿布',), 0.75)}"
      ]
     },
     "execution_count": 39,
     "metadata": {},
     "output_type": "execute_result"
    }
   ],
   "source": [
    "rules"
   ]
  }
 ],
 "metadata": {
  "kernelspec": {
   "display_name": "Python 3",
   "language": "python",
   "name": "python3"
  },
  "language_info": {
   "codemirror_mode": {
    "name": "ipython",
    "version": 3
   },
   "file_extension": ".py",
   "mimetype": "text/x-python",
   "name": "python",
   "nbconvert_exporter": "python",
   "pygments_lexer": "ipython3",
   "version": "3.5.3"
  }
 },
 "nbformat": 4,
 "nbformat_minor": 2
}
