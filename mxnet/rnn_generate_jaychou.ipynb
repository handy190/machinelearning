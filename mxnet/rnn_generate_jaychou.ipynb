{
 "cells": [
  {
   "cell_type": "code",
   "execution_count": null,
   "metadata": {},
   "outputs": [],
   "source": []
  },
  {
   "cell_type": "markdown",
   "metadata": {},
   "source": [
    "# 1. 读入歌词数据集"
   ]
  },
  {
   "cell_type": "code",
   "execution_count": 2,
   "metadata": {},
   "outputs": [],
   "source": [
    "import d2lzh as d2l\n",
    "import math\n",
    "from mxnet import autograd, gluon, init, nd\n",
    "from mxnet.gluon import loss as gloss, nn, rnn\n",
    "import time\n",
    "\n",
    "(corpus_indices, char_to_idx, idx_to_char, vocab_size) = d2l.load_data_jay_lyrics()"
   ]
  },
  {
   "cell_type": "code",
   "execution_count": 7,
   "metadata": {},
   "outputs": [
    {
     "name": "stdout",
     "output_type": "stream",
     "text": [
      "10000 [376, 505, 337, 42, 152, 270, 343, 376, 505, 941]\n",
      "1027\n",
      "42\n",
      "直\n"
     ]
    }
   ],
   "source": [
    "print(len(corpus_indices), corpus_indices[:10])# 读入的歌词，每个字都根据字典转为编号\n",
    "print(vocab_size)#一共有1027个独立的字\n",
    "print(char_to_idx['直'])\n",
    "print(idx_to_char[42])"
   ]
  },
  {
   "cell_type": "markdown",
   "metadata": {},
   "source": [
    "# 2. 创建RNN模型"
   ]
  },
  {
   "cell_type": "code",
   "execution_count": 8,
   "metadata": {},
   "outputs": [],
   "source": [
    "# 构造一个含单隐藏层、隐藏单元个数为256的循环神经网络层\n",
    "num_hiddens = 256\n",
    "rnn_layer = rnn.RNN(num_hiddens)\n",
    "rnn_layer.initialize()"
   ]
  },
  {
   "cell_type": "code",
   "execution_count": 10,
   "metadata": {},
   "outputs": [],
   "source": [
    "ctx = d2l.try_gpu()\n",
    "model = d2l.RNNModel(rnn_layer, vocab_size)\n",
    "model.initialize(force_reinit=True, ctx=ctx)"
   ]
  },
  {
   "cell_type": "code",
   "execution_count": 16,
   "metadata": {},
   "outputs": [],
   "source": [
    "num_steps = 35\n"
   ]
  },
  {
   "cell_type": "code",
   "execution_count": 17,
   "metadata": {},
   "outputs": [
    {
     "name": "stdout",
     "output_type": "stream",
     "text": [
      "epoch 50, perplexity 82.006825, time 0.67 sec\n",
      " - 分开 我一在 一沉两 我给么 一颗两 一颗两人 快使用双 我谁了双 我谁了双 我谁了双 我谁了双 我谁了\n",
      " - 不分开 我想在这 我谁用双 我谁一双 我不了这 我谁了双 我谁了双 我谁了双 我谁了双 我谁了双 我谁了双\n",
      "epoch 100, perplexity 14.187644, time 0.69 sec\n",
      " - 分开 娘子我 娘你我 每你怎么每着我 甩发抖 语沉默抬子头 有话去对医我 选你这进队不多米亚平原我 别发\n",
      " - 不分开 我不你的爱写在西元前风见不我妈你 我不你的爱写在西元前的你更美受 我想的黑是你看你的手不放开 爱可\n",
      "epoch 150, perplexity 4.478787, time 0.74 sec\n",
      " - 分开你 一直线觉 我想我有节奏 后知后觉 我该好好生活 哼哼哈兮 如果我有轻功 哼檐哈兮 如果我有不功 \n",
      " - 不分开是一只 不要再这我只惯气亚小原的铁板 我不要再想你黑家你 是好了你 一果这人防守 配北几斤的牛肉说我\n",
      "epoch 200, perplexity 2.431000, time 0.67 sec\n",
      " - 分开 什么的黑猫笑起来 哭到啦 娘子我欠你有多 一壶好酒 再来一碗热粥 配上几斤的牛肉 我说店小二 三两\n",
      " - 不分开  你知么离开我 不知不觉 我跟了这节奏 后乡后觉 默已风霜落飘 近乡后觉 我该好好生活 后乡尽头 \n"
     ]
    }
   ],
   "source": [
    "num_epochs, batch_size, lr, clipping_theta = 200, 32, 1e2, 1e-2\n",
    "pred_period, pred_len, prefixes = 50, 50, ['分开', '不分开']\n",
    "d2l.train_and_predict_rnn_gluon(model, num_hiddens, vocab_size, ctx,\n",
    "                            corpus_indices, idx_to_char, char_to_idx,\n",
    "                            num_epochs, num_steps, lr, clipping_theta,\n",
    "                            batch_size, pred_period, pred_len, prefixes)"
   ]
  },
  {
   "cell_type": "code",
   "execution_count": null,
   "metadata": {},
   "outputs": [],
   "source": []
  }
 ],
 "metadata": {
  "kernelspec": {
   "display_name": "Python 3",
   "language": "python",
   "name": "python3"
  },
  "language_info": {
   "codemirror_mode": {
    "name": "ipython",
    "version": 3
   },
   "file_extension": ".py",
   "mimetype": "text/x-python",
   "name": "python",
   "nbconvert_exporter": "python",
   "pygments_lexer": "ipython3",
   "version": "3.5.6"
  }
 },
 "nbformat": 4,
 "nbformat_minor": 2
}
