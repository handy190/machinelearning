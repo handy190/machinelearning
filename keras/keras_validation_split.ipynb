{
 "cells": [
  {
   "cell_type": "markdown",
   "metadata": {},
   "source": [
    "# easy validation by validation_split"
   ]
  },
  {
   "cell_type": "code",
   "execution_count": 8,
   "metadata": {},
   "outputs": [
    {
     "ename": "SyntaxError",
     "evalue": "invalid syntax (<unknown>, line 19)",
     "output_type": "error",
     "traceback": [
      "Traceback \u001b[0;36m(most recent call last)\u001b[0m:\n",
      "  File \u001b[1;32m\"/root/anaconda3/lib/python3.6/site-packages/IPython/core/interactiveshell.py\"\u001b[0m, line \u001b[1;32m2862\u001b[0m, in \u001b[1;35mrun_code\u001b[0m\n    exec(code_obj, self.user_global_ns, self.user_ns)\n",
      "  File \u001b[1;32m\"<ipython-input-8-a5c9f7705993>\"\u001b[0m, line \u001b[1;32m1\u001b[0m, in \u001b[1;35m<module>\u001b[0m\n    get_ipython().run_cell_magic('time', '', 'from keras.models import Sequential\\nfrom keras.layers.core import Dense, Dropout, Activation\\nfrom sklearn.datasets import load_iris\\nfrom keras.utils import np_utils\\n\\n\\n# Data\\niris = load_iris()\\ndata_x = iris.data\\ndata_y = iris.target\\ntrain_x = data_x\\ntrain_y = np_utils.to_categorical(data_y, 3)\\n\\n\\n# Model\\nmodel = Sequential() # 顺序模型\\n# 输入层\\nmodel.add(LSTM(512, return_sequences=True, input_shape=(100,4))\\nmodel.add(Activation(\\'sigmoid\\')) # 激活函数\\n# 隐层\\nmodel.add(Dense(160))  # Dense就是常用的全连接层\\nmodel.add(Activation(\\'sigmoid\\')) # 激活函数\\n# 输出层\\nmodel.add(Dense(3))\\nmodel.add(Activation(\\'softmax\\'))\\nmodel.compile(optimizer=\\'adam\\', loss=\\'categorical_crossentropy\\', metrics=[\"accuracy\"])\\n\\n\\nhistory = model.fit(train_x, train_y, epochs=50,  verbose=0, validation_split=0.1)# 10% training data for validation\\n\\nscores = model.evaluate(train_x, train_y, verbose=0)\\nprint(\\'Model train score:{0}\\'.format(scores[0]))\\nprint(\\'Model train accuracy:{0}\\'.format(scores[1]))')\n",
      "  File \u001b[1;32m\"/root/anaconda3/lib/python3.6/site-packages/IPython/core/interactiveshell.py\"\u001b[0m, line \u001b[1;32m2103\u001b[0m, in \u001b[1;35mrun_cell_magic\u001b[0m\n    result = fn(magic_arg_s, cell)\n",
      "  File \u001b[1;32m\"<decorator-gen-62>\"\u001b[0m, line \u001b[1;32m2\u001b[0m, in \u001b[1;35mtime\u001b[0m\n",
      "  File \u001b[1;32m\"/root/anaconda3/lib/python3.6/site-packages/IPython/core/magic.py\"\u001b[0m, line \u001b[1;32m187\u001b[0m, in \u001b[1;35m<lambda>\u001b[0m\n    call = lambda f, *a, **k: f(*a, **k)\n",
      "  File \u001b[1;32m\"/root/anaconda3/lib/python3.6/site-packages/IPython/core/magics/execution.py\"\u001b[0m, line \u001b[1;32m1179\u001b[0m, in \u001b[1;35mtime\u001b[0m\n    expr_ast = self.shell.compile.ast_parse(expr)\n",
      "\u001b[0;36m  File \u001b[0;32m\"/root/anaconda3/lib/python3.6/site-packages/IPython/core/compilerop.py\"\u001b[0;36m, line \u001b[0;32m99\u001b[0;36m, in \u001b[0;35mast_parse\u001b[0;36m\u001b[0m\n\u001b[0;31m    return compile(source, filename, symbol, self.flags | PyCF_ONLY_AST, 1)\u001b[0m\n",
      "\u001b[0;36m  File \u001b[0;32m\"<unknown>\"\u001b[0;36m, line \u001b[0;32m19\u001b[0m\n\u001b[0;31m    model.add(Activation('sigmoid')) # 激活函数\u001b[0m\n\u001b[0m        ^\u001b[0m\n\u001b[0;31mSyntaxError\u001b[0m\u001b[0;31m:\u001b[0m invalid syntax\n"
     ]
    }
   ],
   "source": [
    "%%time\n",
    "from keras.models import Sequential\n",
    "from keras.layers.core import Dense, Dropout, Activation\n",
    "from sklearn.datasets import load_iris\n",
    "from keras.utils import np_utils\n",
    "\n",
    "\n",
    "# Data\n",
    "iris = load_iris()\n",
    "data_x = iris.data\n",
    "data_y = iris.target\n",
    "train_x = data_x\n",
    "train_y = np_utils.to_categorical(data_y, 3)\n",
    "\n",
    "\n",
    "# Model\n",
    "model = Sequential() # 顺序模型\n",
    "# 输入层\n",
    "model.add(Dense(4, input_shape=(4,)))  # Dense就是常用的全连接层\n",
    "model.add(Activation('sigmoid')) # 激活函数\n",
    "# 隐层\n",
    "model.add(Dense(160))  # Dense就是常用的全连接层\n",
    "model.add(Activation('sigmoid')) # 激活函数\n",
    "# 输出层\n",
    "model.add(Dense(3))\n",
    "model.add(Activation('softmax'))\n",
    "model.compile(optimizer='adam', loss='categorical_crossentropy', metrics=[\"accuracy\"])\n",
    "\n",
    "\n",
    "history = model.fit(train_x, train_y, epochs=50,  verbose=0, validation_split=0.1)# 10% training data for validation\n",
    "\n",
    "scores = model.evaluate(train_x, train_y, verbose=0)\n",
    "print('Model train score:{0}'.format(scores[0]))\n",
    "print('Model train accuracy:{0}'.format(scores[1]))\n"
   ]
  }
 ],
 "metadata": {
  "kernelspec": {
   "display_name": "Python 3",
   "language": "python",
   "name": "python3"
  },
  "language_info": {
   "codemirror_mode": {
    "name": "ipython",
    "version": 3
   },
   "file_extension": ".py",
   "mimetype": "text/x-python",
   "name": "python",
   "nbconvert_exporter": "python",
   "pygments_lexer": "ipython3",
   "version": "3.6.3"
  }
 },
 "nbformat": 4,
 "nbformat_minor": 2
}
