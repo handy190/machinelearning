{
 "cells": [
  {
   "cell_type": "markdown",
   "metadata": {},
   "source": [
    "# LSTM"
   ]
  },
  {
   "cell_type": "code",
   "execution_count": 19,
   "metadata": {},
   "outputs": [
    {
     "name": "stdout",
     "output_type": "stream",
     "text": [
      "Model train score:0.08039293810725212\n",
      "Model train accuracy:0.9666666666666667\n",
      "CPU times: user 52 s, sys: 856 ms, total: 52.9 s\n",
      "Wall time: 18.3 s\n"
     ]
    }
   ],
   "source": [
    "%%time\n",
    "from keras.models import Sequential\n",
    "from keras.layers.core import Dense, Dropout, Activation\n",
    "from keras.layers import Dense, Embedding\n",
    "from keras.layers import LSTM\n",
    "from keras import backend as K\n",
    "\n",
    "from sklearn.datasets import load_iris\n",
    "from keras.utils import np_utils\n",
    "from sklearn.model_selection import train_test_split\n",
    "\n",
    "\n",
    "# Data\n",
    "iris = load_iris()\n",
    "x_data = iris.data\n",
    "y_data = iris.target\n",
    "y_data = np_utils.to_categorical(y_data, 3)\n",
    "\n",
    "x_train, x_test, y_train, y_test = train_test_split(x_data, y_data, test_size=0.20, random_state=42)\n",
    "\n",
    "\n",
    "batch_size = 128\n",
    "num_classes = 3\n",
    "epochs = 40\n",
    "\n",
    "# input image dimensions\n",
    "img_rows, img_cols = 1,4\n",
    "x_train = x_train.reshape(x_train.shape[0], img_rows, img_cols)\n",
    "x_test = x_test.reshape(x_test.shape[0], img_rows, img_cols)\n",
    "input_shape = (img_rows, img_cols)\n",
    "\n",
    "\n",
    "# Model\n",
    "model = Sequential()\n",
    "model.add(LSTM(512, return_sequences=True, input_shape=input_shape))\n",
    "model.add(LSTM(64, dropout=0.2, recurrent_dropout=0.2))\n",
    "model.add(Dense(3, activation='sigmoid'))\n",
    "model.compile(optimizer='adam', loss='categorical_crossentropy', metrics=[\"accuracy\"])\n",
    "\n",
    "\n",
    "history = model.fit(x_train, y_train, epochs=50,  verbose=0, validation_split=0.1)# 10% training data for validation\n",
    "\n",
    "scores = model.evaluate(x_train, y_train, verbose=0)\n",
    "print('Model train score:{0}'.format(scores[0]))\n",
    "print('Model train accuracy:{0}'.format(scores[1]))\n"
   ]
  }
 ],
 "metadata": {
  "kernelspec": {
   "display_name": "Python 3",
   "language": "python",
   "name": "python3"
  },
  "language_info": {
   "codemirror_mode": {
    "name": "ipython",
    "version": 3
   },
   "file_extension": ".py",
   "mimetype": "text/x-python",
   "name": "python",
   "nbconvert_exporter": "python",
   "pygments_lexer": "ipython3",
   "version": "3.6.3"
  }
 },
 "nbformat": 4,
 "nbformat_minor": 2
}
