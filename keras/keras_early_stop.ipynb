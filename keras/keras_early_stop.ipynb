{
 "cells": [
  {
   "cell_type": "markdown",
   "metadata": {},
   "source": [
    "# early stop"
   ]
  },
  {
   "cell_type": "code",
   "execution_count": 20,
   "metadata": {},
   "outputs": [
    {
     "name": "stdout",
     "output_type": "stream",
     "text": [
      "Epoch 00517: early stopping\n",
      "Model test score:0.09632749855518341\n",
      "Model test accuracy:1.0\n"
     ]
    }
   ],
   "source": [
    "from keras.models import Sequential\n",
    "from keras.layers.core import Dense, Dropout, Activation\n",
    "from sklearn.datasets import load_iris\n",
    "from keras.utils import np_utils\n",
    "from sklearn.model_selection import train_test_split\n",
    "\n",
    "\n",
    "# Data\n",
    "iris = load_iris()\n",
    "x_data = iris.data\n",
    "y_data = iris.target\n",
    "y_data = np_utils.to_categorical(y_data, 3)\n",
    "\n",
    "x_train, x_test, y_train, y_test = train_test_split(x_data, y_data, test_size=0.20, random_state=66)\n",
    "\n",
    "\n",
    "# Model\n",
    "model = Sequential() # 顺序模型\n",
    "# 输入层\n",
    "model.add(Dense(4, input_shape=(4,)))  # Dense就是常用的全连接层\n",
    "model.add(Activation('sigmoid')) # 激活函数\n",
    "# 隐层\n",
    "model.add(Dense(160))  # Dense就是常用的全连接层\n",
    "model.add(Activation('sigmoid')) # 激活函数\n",
    "# 输出层\n",
    "model.add(Dense(3))\n",
    "model.add(Activation('softmax'))\n",
    "model.compile(optimizer='adam', loss='categorical_crossentropy', metrics=[\"accuracy\"])\n",
    "\n",
    "\n",
    "# 定义Early Stop回调函数\n",
    "# 连续20次val_loss都不降低，则stop\n",
    "cb_es = keras.callbacks.EarlyStopping(monitor='val_loss', min_delta=0, patience=20, verbose=1, mode='auto')\n",
    "\n",
    "history = model.fit(x_train, y_train, epochs=1000,  verbose=0, validation_split=0.1, callbacks=[cb_es])# 10% training data for validation\n",
    "\n",
    "scores = model.evaluate(x_test, y_test, verbose=0)\n",
    "print('Model test score:{0}'.format(scores[0]))\n",
    "print('Model test accuracy:{0}'.format(scores[1]))\n"
   ]
  },
  {
   "cell_type": "markdown",
   "metadata": {},
   "source": [
    "**Result**: model training stopped at 517 epoch"
   ]
  }
 ],
 "metadata": {
  "kernelspec": {
   "display_name": "Python 3",
   "language": "python",
   "name": "python3"
  },
  "language_info": {
   "codemirror_mode": {
    "name": "ipython",
    "version": 3
   },
   "file_extension": ".py",
   "mimetype": "text/x-python",
   "name": "python",
   "nbconvert_exporter": "python",
   "pygments_lexer": "ipython3",
   "version": "3.6.3"
  }
 },
 "nbformat": 4,
 "nbformat_minor": 2
}
