{
 "cells": [
  {
   "cell_type": "code",
   "execution_count": 1,
   "metadata": {},
   "outputs": [
    {
     "name": "stderr",
     "output_type": "stream",
     "text": [
      "Using TensorFlow backend.\n",
      "/root/anaconda3/lib/python3.6/importlib/_bootstrap.py:219: RuntimeWarning: compiletime version 3.5 of module 'tensorflow.python.framework.fast_tensor_util' does not match runtime version 3.6\n",
      "  return f(*args, **kwds)\n"
     ]
    },
    {
     "name": "stdout",
     "output_type": "stream",
     "text": [
      "Model train score:0.7532872279485067\n",
      "Model train accuracy:0.6666666666666666\n",
      "CPU times: user 3.04 s, sys: 156 ms, total: 3.2 s\n",
      "Wall time: 2.93 s\n"
     ]
    }
   ],
   "source": [
    "%%time\n",
    "from keras.models import Sequential\n",
    "from keras.layers.core import Dense, Dropout, Activation\n",
    "from sklearn.datasets import load_iris\n",
    "from keras.utils import np_utils\n",
    "\n",
    "\n",
    "# Data\n",
    "iris = load_iris()\n",
    "data_x = iris.data\n",
    "data_y = iris.target\n",
    "train_x = data_x\n",
    "train_y = np_utils.to_categorical(data_y, 3)\n",
    "\n",
    "\n",
    "# Model\n",
    "model = Sequential() # 顺序模型\n",
    "# 输入层\n",
    "model.add(Dense(4, input_shape=(4,)))  # Dense就是常用的全连接层\n",
    "model.add(Activation('sigmoid')) # 激活函数\n",
    "# 隐层\n",
    "model.add(Dense(160))  # Dense就是常用的全连接层\n",
    "model.add(Activation('sigmoid')) # 激活函数\n",
    "# 输出层\n",
    "model.add(Dense(3))\n",
    "model.add(Activation('softmax'))\n",
    "model.compile(optimizer='adam', loss='categorical_crossentropy', metrics=[\"accuracy\"])\n",
    "\n",
    "\n",
    "history = model.fit(train_x, train_y, epochs=50,  verbose=0, validation_split=0.1)# 10% training data for validation\n",
    "\n",
    "scores = model.evaluate(train_x, train_y, verbose=0)\n",
    "print('Model train score:{0}'.format(scores[0]))\n",
    "print('Model train accuracy:{0}'.format(scores[1]))\n"
   ]
  },
  {
   "cell_type": "code",
   "execution_count": 3,
   "metadata": {
    "collapsed": true
   },
   "outputs": [],
   "source": [
    "# model save (whole structure and parameters)\n",
    "model.save('model.h5')"
   ]
  },
  {
   "cell_type": "code",
   "execution_count": 4,
   "metadata": {},
   "outputs": [
    {
     "name": "stdout",
     "output_type": "stream",
     "text": [
      "Model train score:0.7532872279485067\n",
      "Model train accuracy:0.6666666666666666\n"
     ]
    }
   ],
   "source": [
    "# model load\n",
    "from keras.models import load_model\n",
    "\n",
    "model2 = load_model('model.h5')\n",
    "\n",
    "# check\n",
    "scores = model2.evaluate(train_x, train_y, verbose=0)\n",
    "print('Model train score:{0}'.format(scores[0]))\n",
    "print('Model train accuracy:{0}'.format(scores[1]))\n"
   ]
  }
 ],
 "metadata": {
  "kernelspec": {
   "display_name": "Python 3",
   "language": "python",
   "name": "python3"
  },
  "language_info": {
   "codemirror_mode": {
    "name": "ipython",
    "version": 3
   },
   "file_extension": ".py",
   "mimetype": "text/x-python",
   "name": "python",
   "nbconvert_exporter": "python",
   "pygments_lexer": "ipython3",
   "version": "3.6.3"
  }
 },
 "nbformat": 4,
 "nbformat_minor": 2
}
