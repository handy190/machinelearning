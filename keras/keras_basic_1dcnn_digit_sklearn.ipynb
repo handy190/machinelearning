{
 "cells": [
  {
   "cell_type": "markdown",
   "metadata": {},
   "source": [
    "# CNN for Digit Recognition"
   ]
  },
  {
   "cell_type": "markdown",
   "metadata": {},
   "source": [
    "## 1. load data"
   ]
  },
  {
   "cell_type": "code",
   "execution_count": 22,
   "metadata": {
    "collapsed": true
   },
   "outputs": [],
   "source": [
    "from sklearn.datasets import load_digits\n",
    "from sklearn.model_selection import train_test_split\n",
    "\n",
    "\n",
    "digit = load_digits()\n",
    "\n",
    "data_x = digit.data\n",
    "data_y = digit.target\n",
    "\n",
    "\n",
    "x_train, x_test, y_train, y_test = train_test_split(data_x, data_y, test_size=0.2, random_state=42)"
   ]
  },
  {
   "cell_type": "markdown",
   "metadata": {},
   "source": [
    "## 2. data preprocess"
   ]
  },
  {
   "cell_type": "code",
   "execution_count": 23,
   "metadata": {},
   "outputs": [
    {
     "name": "stdout",
     "output_type": "stream",
     "text": [
      "x_train shape: (1437, 64)\n",
      "y_train shape: (1437,)\n",
      "1437 train samples\n",
      "360 test samples\n"
     ]
    }
   ],
   "source": [
    "import keras\n",
    "from keras.datasets import mnist\n",
    "from keras.models import Sequential\n",
    "from keras.layers import Dense, Dropout, Flatten\n",
    "from keras.layers import Conv1D, MaxPooling1D, Embedding\n",
    "from keras import backend as K\n",
    "\n",
    "batch_size = 128\n",
    "num_classes = 10\n",
    "epochs = 12\n",
    "\n",
    "# input image dimensions\n",
    "img_rows, img_cols = 8, 8\n",
    "input_shape = (img_rows, img_cols)\n",
    "\n",
    "x_train = x_train.astype('float32')\n",
    "x_test = x_test.astype('float32')\n",
    "x_train /= 255\n",
    "x_test /= 255\n",
    "print('x_train shape:', x_train.shape)\n",
    "print('y_train shape:', y_train.shape)\n",
    "print(x_train.shape[0], 'train samples')\n",
    "print(x_test.shape[0], 'test samples')"
   ]
  },
  {
   "cell_type": "markdown",
   "metadata": {},
   "source": [
    "## 3. CNN model"
   ]
  },
  {
   "cell_type": "code",
   "execution_count": 24,
   "metadata": {},
   "outputs": [],
   "source": [
    "# convert class vectors to binary class matrices\n",
    "y_train = keras.utils.to_categorical(y_train, num_classes)\n",
    "y_test = keras.utils.to_categorical(y_test, num_classes)\n",
    "\n",
    "model = Sequential()\n",
    "model.add(Embedding(20,\n",
    "                    30,\n",
    "                    input_length=64))\n",
    "model.add(Dropout(0.2))\n",
    "\n",
    "model.add(Conv1D(32, kernel_size=3,\n",
    "                 activation='relu'))\n",
    "model.add(Conv1D(64, 3, activation='relu'))\n",
    "model.add(MaxPooling1D(pool_size=2))\n",
    "model.add(Dropout(0.25))\n",
    "model.add(Flatten())\n",
    "model.add(Dense(128, activation='relu'))\n",
    "model.add(Dropout(0.5))\n",
    "model.add(Dense(num_classes, activation='softmax'))\n",
    "\n",
    "model.compile(loss=keras.losses.categorical_crossentropy,\n",
    "              optimizer=keras.optimizers.Adadelta(),\n",
    "              metrics=['accuracy'])\n"
   ]
  },
  {
   "cell_type": "markdown",
   "metadata": {},
   "source": [
    "## 4. train & test"
   ]
  },
  {
   "cell_type": "code",
   "execution_count": 25,
   "metadata": {
    "scrolled": true
   },
   "outputs": [
    {
     "name": "stdout",
     "output_type": "stream",
     "text": [
      "Train on 1437 samples, validate on 360 samples\n",
      "Epoch 1/12\n",
      "1437/1437 [==============================] - 1s - loss: 2.3027 - acc: 0.0905 - val_loss: 2.3031 - val_acc: 0.0944\n",
      "Epoch 2/12\n",
      "1437/1437 [==============================] - 0s - loss: 2.3027 - acc: 0.0905 - val_loss: 2.3031 - val_acc: 0.0944\n",
      "Epoch 3/12\n",
      "1437/1437 [==============================] - 0s - loss: 2.3025 - acc: 0.1030 - val_loss: 2.3035 - val_acc: 0.0778\n",
      "Epoch 4/12\n",
      "1437/1437 [==============================] - 0s - loss: 2.3026 - acc: 0.0919 - val_loss: 2.3037 - val_acc: 0.0778\n",
      "Epoch 5/12\n",
      "1437/1437 [==============================] - 0s - loss: 2.3024 - acc: 0.1058 - val_loss: 2.3040 - val_acc: 0.0778\n",
      "Epoch 6/12\n",
      "1437/1437 [==============================] - 0s - loss: 2.3022 - acc: 0.1093 - val_loss: 2.3042 - val_acc: 0.0778\n",
      "Epoch 7/12\n",
      "1437/1437 [==============================] - 0s - loss: 2.3023 - acc: 0.1044 - val_loss: 2.3045 - val_acc: 0.0778\n",
      "Epoch 8/12\n",
      "1437/1437 [==============================] - 0s - loss: 2.3023 - acc: 0.1176 - val_loss: 2.3048 - val_acc: 0.0778\n",
      "Epoch 9/12\n",
      "1437/1437 [==============================] - 0s - loss: 2.3024 - acc: 0.1044 - val_loss: 2.3049 - val_acc: 0.0778\n",
      "Epoch 10/12\n",
      "1437/1437 [==============================] - 0s - loss: 2.3026 - acc: 0.1058 - val_loss: 2.3049 - val_acc: 0.0778\n",
      "Epoch 11/12\n",
      "1437/1437 [==============================] - 1s - loss: 2.3024 - acc: 0.1030 - val_loss: 2.3050 - val_acc: 0.0778\n",
      "Epoch 12/12\n",
      "1437/1437 [==============================] - 1s - loss: 2.3022 - acc: 0.1023 - val_loss: 2.3053 - val_acc: 0.0778\n",
      "Test loss: 2.30525929663\n",
      "Test accuracy: 0.0777777777778\n"
     ]
    }
   ],
   "source": [
    "model.fit(x_train, y_train,\n",
    "          batch_size=batch_size,\n",
    "          epochs=epochs,\n",
    "          verbose=1,\n",
    "          validation_data=(x_test, y_test))\n",
    "score = model.evaluate(x_test, y_test, verbose=0)\n",
    "print('Test loss:', score[0])\n",
    "print('Test accuracy:', score[1])"
   ]
  },
  {
   "cell_type": "code",
   "execution_count": 26,
   "metadata": {
    "collapsed": true
   },
   "outputs": [],
   "source": [
    "import numpy as np\n",
    "# Convert one-hot to index\n",
    "y_pred = np.argmax(model.predict(x_train), axis=1)"
   ]
  },
  {
   "cell_type": "code",
   "execution_count": 17,
   "metadata": {},
   "outputs": [
    {
     "data": {
      "text/plain": [
       "array([1, 1, 1, ..., 1, 1, 1], dtype=int64)"
      ]
     },
     "execution_count": 17,
     "metadata": {},
     "output_type": "execute_result"
    }
   ],
   "source": [
    "y_pred"
   ]
  },
  {
   "cell_type": "markdown",
   "metadata": {},
   "source": [
    "## 5. model visualize"
   ]
  },
  {
   "cell_type": "code",
   "execution_count": 27,
   "metadata": {},
   "outputs": [
    {
     "data": {
      "image/svg+xml": [
       "<svg height=\"775pt\" viewBox=\"0.00 0.00 217.00 775.00\" width=\"217pt\" xmlns=\"http://www.w3.org/2000/svg\" xmlns:xlink=\"http://www.w3.org/1999/xlink\">\n",
       "<g class=\"graph\" id=\"graph0\" transform=\"scale(1 1) rotate(0) translate(4 771)\">\n",
       "<title>G</title>\n",
       "<polygon fill=\"white\" points=\"-4,4 -4,-771 213,-771 213,4 -4,4\" stroke=\"none\"/>\n",
       "<!-- 225491992 -->\n",
       "<g class=\"node\" id=\"node1\"><title>225491992</title>\n",
       "<polygon fill=\"none\" points=\"7,-730.5 7,-766.5 202,-766.5 202,-730.5 7,-730.5\" stroke=\"black\"/>\n",
       "<text font-family=\"Times New Roman,serif\" font-size=\"14.00\" text-anchor=\"middle\" x=\"104.5\" y=\"-744.8\">embedding_5_input: InputLayer</text>\n",
       "</g>\n",
       "<!-- 225491768 -->\n",
       "<g class=\"node\" id=\"node2\"><title>225491768</title>\n",
       "<polygon fill=\"none\" points=\"23,-657.5 23,-693.5 186,-693.5 186,-657.5 23,-657.5\" stroke=\"black\"/>\n",
       "<text font-family=\"Times New Roman,serif\" font-size=\"14.00\" text-anchor=\"middle\" x=\"104.5\" y=\"-671.8\">embedding_5: Embedding</text>\n",
       "</g>\n",
       "<!-- 225491992&#45;&gt;225491768 -->\n",
       "<g class=\"edge\" id=\"edge1\"><title>225491992-&gt;225491768</title>\n",
       "<path d=\"M104.5,-730.313C104.5,-722.289 104.5,-712.547 104.5,-703.569\" fill=\"none\" stroke=\"black\"/>\n",
       "<polygon fill=\"black\" points=\"108,-703.529 104.5,-693.529 101,-703.529 108,-703.529\" stroke=\"black\"/>\n",
       "</g>\n",
       "<!-- 225491880 -->\n",
       "<g class=\"node\" id=\"node3\"><title>225491880</title>\n",
       "<polygon fill=\"none\" points=\"36,-584.5 36,-620.5 173,-620.5 173,-584.5 36,-584.5\" stroke=\"black\"/>\n",
       "<text font-family=\"Times New Roman,serif\" font-size=\"14.00\" text-anchor=\"middle\" x=\"104.5\" y=\"-598.8\">dropout_13: Dropout</text>\n",
       "</g>\n",
       "<!-- 225491768&#45;&gt;225491880 -->\n",
       "<g class=\"edge\" id=\"edge2\"><title>225491768-&gt;225491880</title>\n",
       "<path d=\"M104.5,-657.313C104.5,-649.289 104.5,-639.547 104.5,-630.569\" fill=\"none\" stroke=\"black\"/>\n",
       "<polygon fill=\"black\" points=\"108,-630.529 104.5,-620.529 101,-630.529 108,-630.529\" stroke=\"black\"/>\n",
       "</g>\n",
       "<!-- 225492608 -->\n",
       "<g class=\"node\" id=\"node4\"><title>225492608</title>\n",
       "<polygon fill=\"none\" points=\"41,-511.5 41,-547.5 168,-547.5 168,-511.5 41,-511.5\" stroke=\"black\"/>\n",
       "<text font-family=\"Times New Roman,serif\" font-size=\"14.00\" text-anchor=\"middle\" x=\"104.5\" y=\"-525.8\">conv1d_9: Conv1D</text>\n",
       "</g>\n",
       "<!-- 225491880&#45;&gt;225492608 -->\n",
       "<g class=\"edge\" id=\"edge3\"><title>225491880-&gt;225492608</title>\n",
       "<path d=\"M104.5,-584.313C104.5,-576.289 104.5,-566.547 104.5,-557.569\" fill=\"none\" stroke=\"black\"/>\n",
       "<polygon fill=\"black\" points=\"108,-557.529 104.5,-547.529 101,-557.529 108,-557.529\" stroke=\"black\"/>\n",
       "</g>\n",
       "<!-- 225492328 -->\n",
       "<g class=\"node\" id=\"node5\"><title>225492328</title>\n",
       "<polygon fill=\"none\" points=\"37.5,-438.5 37.5,-474.5 171.5,-474.5 171.5,-438.5 37.5,-438.5\" stroke=\"black\"/>\n",
       "<text font-family=\"Times New Roman,serif\" font-size=\"14.00\" text-anchor=\"middle\" x=\"104.5\" y=\"-452.8\">conv1d_10: Conv1D</text>\n",
       "</g>\n",
       "<!-- 225492608&#45;&gt;225492328 -->\n",
       "<g class=\"edge\" id=\"edge4\"><title>225492608-&gt;225492328</title>\n",
       "<path d=\"M104.5,-511.313C104.5,-503.289 104.5,-493.547 104.5,-484.569\" fill=\"none\" stroke=\"black\"/>\n",
       "<polygon fill=\"black\" points=\"108,-484.529 104.5,-474.529 101,-484.529 108,-484.529\" stroke=\"black\"/>\n",
       "</g>\n",
       "<!-- 234848552 -->\n",
       "<g class=\"node\" id=\"node6\"><title>234848552</title>\n",
       "<polygon fill=\"none\" points=\"0,-365.5 0,-401.5 209,-401.5 209,-365.5 0,-365.5\" stroke=\"black\"/>\n",
       "<text font-family=\"Times New Roman,serif\" font-size=\"14.00\" text-anchor=\"middle\" x=\"104.5\" y=\"-379.8\">max_pooling1d_5: MaxPooling1D</text>\n",
       "</g>\n",
       "<!-- 225492328&#45;&gt;234848552 -->\n",
       "<g class=\"edge\" id=\"edge5\"><title>225492328-&gt;234848552</title>\n",
       "<path d=\"M104.5,-438.313C104.5,-430.289 104.5,-420.547 104.5,-411.569\" fill=\"none\" stroke=\"black\"/>\n",
       "<polygon fill=\"black\" points=\"108,-411.529 104.5,-401.529 101,-411.529 108,-411.529\" stroke=\"black\"/>\n",
       "</g>\n",
       "<!-- 235030400 -->\n",
       "<g class=\"node\" id=\"node7\"><title>235030400</title>\n",
       "<polygon fill=\"none\" points=\"36,-292.5 36,-328.5 173,-328.5 173,-292.5 36,-292.5\" stroke=\"black\"/>\n",
       "<text font-family=\"Times New Roman,serif\" font-size=\"14.00\" text-anchor=\"middle\" x=\"104.5\" y=\"-306.8\">dropout_14: Dropout</text>\n",
       "</g>\n",
       "<!-- 234848552&#45;&gt;235030400 -->\n",
       "<g class=\"edge\" id=\"edge6\"><title>234848552-&gt;235030400</title>\n",
       "<path d=\"M104.5,-365.313C104.5,-357.289 104.5,-347.547 104.5,-338.569\" fill=\"none\" stroke=\"black\"/>\n",
       "<polygon fill=\"black\" points=\"108,-338.529 104.5,-328.529 101,-338.529 108,-338.529\" stroke=\"black\"/>\n",
       "</g>\n",
       "<!-- 225860520 -->\n",
       "<g class=\"node\" id=\"node8\"><title>225860520</title>\n",
       "<polygon fill=\"none\" points=\"50,-219.5 50,-255.5 159,-255.5 159,-219.5 50,-219.5\" stroke=\"black\"/>\n",
       "<text font-family=\"Times New Roman,serif\" font-size=\"14.00\" text-anchor=\"middle\" x=\"104.5\" y=\"-233.8\">flatten_5: Flatten</text>\n",
       "</g>\n",
       "<!-- 235030400&#45;&gt;225860520 -->\n",
       "<g class=\"edge\" id=\"edge7\"><title>235030400-&gt;225860520</title>\n",
       "<path d=\"M104.5,-292.313C104.5,-284.289 104.5,-274.547 104.5,-265.569\" fill=\"none\" stroke=\"black\"/>\n",
       "<polygon fill=\"black\" points=\"108,-265.529 104.5,-255.529 101,-265.529 108,-265.529\" stroke=\"black\"/>\n",
       "</g>\n",
       "<!-- 225900976 -->\n",
       "<g class=\"node\" id=\"node9\"><title>225900976</title>\n",
       "<polygon fill=\"none\" points=\"52.5,-146.5 52.5,-182.5 156.5,-182.5 156.5,-146.5 52.5,-146.5\" stroke=\"black\"/>\n",
       "<text font-family=\"Times New Roman,serif\" font-size=\"14.00\" text-anchor=\"middle\" x=\"104.5\" y=\"-160.8\">dense_9: Dense</text>\n",
       "</g>\n",
       "<!-- 225860520&#45;&gt;225900976 -->\n",
       "<g class=\"edge\" id=\"edge8\"><title>225860520-&gt;225900976</title>\n",
       "<path d=\"M104.5,-219.313C104.5,-211.289 104.5,-201.547 104.5,-192.569\" fill=\"none\" stroke=\"black\"/>\n",
       "<polygon fill=\"black\" points=\"108,-192.529 104.5,-182.529 101,-192.529 108,-192.529\" stroke=\"black\"/>\n",
       "</g>\n",
       "<!-- 225825904 -->\n",
       "<g class=\"node\" id=\"node10\"><title>225825904</title>\n",
       "<polygon fill=\"none\" points=\"36,-73.5 36,-109.5 173,-109.5 173,-73.5 36,-73.5\" stroke=\"black\"/>\n",
       "<text font-family=\"Times New Roman,serif\" font-size=\"14.00\" text-anchor=\"middle\" x=\"104.5\" y=\"-87.8\">dropout_15: Dropout</text>\n",
       "</g>\n",
       "<!-- 225900976&#45;&gt;225825904 -->\n",
       "<g class=\"edge\" id=\"edge9\"><title>225900976-&gt;225825904</title>\n",
       "<path d=\"M104.5,-146.313C104.5,-138.289 104.5,-128.547 104.5,-119.569\" fill=\"none\" stroke=\"black\"/>\n",
       "<polygon fill=\"black\" points=\"108,-119.529 104.5,-109.529 101,-119.529 108,-119.529\" stroke=\"black\"/>\n",
       "</g>\n",
       "<!-- 228465968 -->\n",
       "<g class=\"node\" id=\"node11\"><title>228465968</title>\n",
       "<polygon fill=\"none\" points=\"49,-0.5 49,-36.5 160,-36.5 160,-0.5 49,-0.5\" stroke=\"black\"/>\n",
       "<text font-family=\"Times New Roman,serif\" font-size=\"14.00\" text-anchor=\"middle\" x=\"104.5\" y=\"-14.8\">dense_10: Dense</text>\n",
       "</g>\n",
       "<!-- 225825904&#45;&gt;228465968 -->\n",
       "<g class=\"edge\" id=\"edge10\"><title>225825904-&gt;228465968</title>\n",
       "<path d=\"M104.5,-73.3129C104.5,-65.2895 104.5,-55.5475 104.5,-46.5691\" fill=\"none\" stroke=\"black\"/>\n",
       "<polygon fill=\"black\" points=\"108,-46.5288 104.5,-36.5288 101,-46.5289 108,-46.5288\" stroke=\"black\"/>\n",
       "</g>\n",
       "</g>\n",
       "</svg>"
      ],
      "text/plain": [
       "<IPython.core.display.SVG object>"
      ]
     },
     "execution_count": 27,
     "metadata": {},
     "output_type": "execute_result"
    }
   ],
   "source": [
    "from IPython.display import SVG\n",
    "from keras.utils.vis_utils import model_to_dot\n",
    "\n",
    "SVG(model_to_dot(model).create(prog='dot', format='svg'))"
   ]
  },
  {
   "cell_type": "code",
   "execution_count": 11,
   "metadata": {
    "collapsed": true
   },
   "outputs": [],
   "source": []
  }
 ],
 "metadata": {
  "kernelspec": {
   "display_name": "Python 3",
   "language": "python",
   "name": "python3"
  },
  "language_info": {
   "codemirror_mode": {
    "name": "ipython",
    "version": 3
   },
   "file_extension": ".py",
   "mimetype": "text/x-python",
   "name": "python",
   "nbconvert_exporter": "python",
   "pygments_lexer": "ipython3",
   "version": "3.5.3"
  }
 },
 "nbformat": 4,
 "nbformat_minor": 2
}
