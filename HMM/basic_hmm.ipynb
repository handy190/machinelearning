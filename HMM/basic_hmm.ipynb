{
 "cells": [
  {
   "cell_type": "markdown",
   "metadata": {},
   "source": [
    "# HMM (Hidden Markov Model) Basic"
   ]
  },
  {
   "cell_type": "markdown",
   "metadata": {},
   "source": [
    "# 1 理论基础\n",
    "\n",
    "HMM是概率图模型的一种。\n",
    "\n",
    "**HMM模型可用三个变量描述**\n",
    "\n",
    "* 状态转移概率矩阵\n",
    "* 观测概率矩阵\n",
    "* 初始状态概率向量\n",
    "\n",
    "**HMM中存在的三大问题**\n",
    "\n",
    "* 给定模型，求其生成观测序列的概率\n",
    "* 给定模型和观测序列，求与该观测序列最匹配的状态序列\n",
    "* 给定观测序列，求模型"
   ]
  },
  {
   "cell_type": "markdown",
   "metadata": {},
   "source": [
    "# 2 sklearn中的HMM\n",
    "\n",
    "[参考资料](http://hmmlearn.readthedocs.io/en/stable/tutorial.html)\n",
    "\n",
    "sklearn提供了3中HMM模型\n",
    "* GaussianHMM\n",
    "* MultinomialHMM\n",
    "* GMMHMM"
   ]
  },
  {
   "cell_type": "markdown",
   "metadata": {},
   "source": [
    "# 3 实际使用"
   ]
  },
  {
   "cell_type": "markdown",
   "metadata": {},
   "source": [
    "## 3.1 用参数生成一个GaussianHMM模型"
   ]
  },
  {
   "cell_type": "markdown",
   "metadata": {},
   "source": [
    "### 3.1.1 法1\n",
    "生成标准GaussianHMM，需要给定4个参数"
   ]
  },
  {
   "cell_type": "code",
   "execution_count": 2,
   "metadata": {
    "collapsed": true
   },
   "outputs": [],
   "source": [
    "import numpy as np\n",
    "from hmmlearn import hmm\n",
    "np.random.seed(42)\n",
    "\n",
    "m = hmm.GaussianHMM(n_components=3, covariance_type=\"full\")#3个状态\n",
    "\n",
    "m.startprob_ = np.array([0.6, 0.3, 0.1])#初始状态概率向量（三大参数之1）\n",
    "m.transmat_ = np.array([[0.7, 0.2, 0.1],#状态转移概率矩阵（三大参数之2）\n",
    "                            [0.3, 0.5, 0.2],\n",
    "                            [0.3, 0.3, 0.4]])\n",
    "\n",
    "m.means_ = np.array([[0.0, 0.0], [3.0, -3.0], [5.0, 10.0]])#观测状态均值\n",
    "m.covars_ = np.tile(np.identity(2), (3, 1, 1))#观测状态协方差\n",
    "# 至此，模型生成完毕\n",
    "\n",
    "# 下面用该模型生成100个观测值，与对应的状态值\n",
    "X, Z = m.sample(100)\n"
   ]
  },
  {
   "cell_type": "markdown",
   "metadata": {},
   "source": [
    "### 3.1.2 法2\n",
    "\n",
    "生成left-right HMM，只需要给定2个参数"
   ]
  },
  {
   "cell_type": "code",
   "execution_count": 3,
   "metadata": {
    "collapsed": true
   },
   "outputs": [],
   "source": [
    "lrm = hmm.GaussianHMM(n_components=3, covariance_type=\"diag\",\n",
    "                      init_params=\"cm\", params=\"cmt\")\n",
    "lrm.startprob_ = np.array([1.0, 0.0, 0.0])\n",
    "lrm.transmat_ = np.array([[0.5, 0.5, 0.0],\n",
    "                          [0.0, 0.5, 0.5],\n",
    "                          [0.0, 0.0, 1.0]])\n"
   ]
  },
  {
   "cell_type": "markdown",
   "metadata": {},
   "source": [
    "### 3.1.3 法3\n",
    "用EM算法，可以做参数估计，只需要给定1个参数"
   ]
  },
  {
   "cell_type": "code",
   "execution_count": 4,
   "metadata": {
    "collapsed": false
   },
   "outputs": [],
   "source": [
    "m = hmm.GaussianHMM(n_components=3, n_iter=100, init_params=\"mcs\")\n",
    "m.transmat_ = np.array([[0.7, 0.2, 0.1],\n",
    "                             [0.3, 0.5, 0.2],\n",
    "                             [0.3, 0.3, 0.4]])\n"
   ]
  },
  {
   "cell_type": "markdown",
   "metadata": {},
   "source": [
    "## 3.2 给定观测序列，求模型 (3大问题之1)"
   ]
  },
  {
   "cell_type": "code",
   "execution_count": 5,
   "metadata": {
    "collapsed": false
   },
   "outputs": [
    {
     "data": {
      "text/plain": [
       "GaussianHMM(algorithm='viterbi', covariance_type='full', covars_prior=0.01,\n",
       "      covars_weight=1, init_params='stmc', means_prior=0, means_weight=0,\n",
       "      min_covar=0.001, n_components=3, n_iter=100, params='stmc',\n",
       "      random_state=None, startprob_prior=1.0, tol=0.01, transmat_prior=1.0,\n",
       "      verbose=False)"
      ]
     },
     "execution_count": 5,
     "metadata": {},
     "output_type": "execute_result"
    }
   ],
   "source": [
    "X = [[0], [1], [0], [1], [0], [0], [1], [0]]\n",
    "\n",
    "m = hmm.GaussianHMM(n_components=3, covariance_type=\"full\", n_iter=100)\n",
    "m.fit(X)  \n"
   ]
  },
  {
   "cell_type": "markdown",
   "metadata": {},
   "source": [
    "##  3.3 给定模型和观测序列，求与该观测序列最匹配的状态序列 (3大问题之2)"
   ]
  },
  {
   "cell_type": "code",
   "execution_count": 6,
   "metadata": {
    "collapsed": false
   },
   "outputs": [
    {
     "data": {
      "text/plain": [
       "array([1, 0, 1])"
      ]
     },
     "execution_count": 6,
     "metadata": {},
     "output_type": "execute_result"
    }
   ],
   "source": [
    "X = [[0], [1], [0]]\n",
    "Z = m.predict(X)\n",
    "Z"
   ]
  },
  {
   "cell_type": "markdown",
   "metadata": {
    "collapsed": true
   },
   "source": [
    "## 3.3 给定模型，求其生成观测序列的概率(3大问题之3)"
   ]
  },
  {
   "cell_type": "code",
   "execution_count": 11,
   "metadata": {
    "collapsed": false
   },
   "outputs": [
    {
     "data": {
      "text/plain": [
       "3.9425601220046569"
      ]
     },
     "execution_count": 11,
     "metadata": {},
     "output_type": "execute_result"
    }
   ],
   "source": [
    "p = m.score([[0], [0], [1]])\n",
    "p"
   ]
  }
 ],
 "metadata": {
  "kernelspec": {
   "display_name": "Python 3",
   "language": "python",
   "name": "python3"
  },
  "language_info": {
   "codemirror_mode": {
    "name": "ipython",
    "version": 3
   },
   "file_extension": ".py",
   "mimetype": "text/x-python",
   "name": "python",
   "nbconvert_exporter": "python",
   "pygments_lexer": "ipython3",
   "version": "3.5.2"
  }
 },
 "nbformat": 4,
 "nbformat_minor": 0
}
