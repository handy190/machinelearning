{
 "cells": [
  {
   "cell_type": "markdown",
   "metadata": {},
   "source": [
    "# 1. 基本用法"
   ]
  },
  {
   "cell_type": "code",
   "execution_count": 18,
   "metadata": {
    "collapsed": true
   },
   "outputs": [],
   "source": [
    "from sklearn.metrics.cluster import completeness_score\n",
    "from sklearn.metrics.cluster import homogeneity_score\n",
    "from sklearn.metrics.cluster import v_measure_score"
   ]
  },
  {
   "cell_type": "code",
   "execution_count": 19,
   "metadata": {},
   "outputs": [],
   "source": [
    "# 12 个样本\n",
    "# 正确的结果应该是分为3类\n",
    "# 最终分为了4类（预测结果）\n",
    "y_true = [1,1,1, 2,2,2,2, 3,3,3,3,3] # \n",
    "y_pred = [4,4,4, 1,1,1,1, 2,2,2,3,3]\n",
    "# 下面的衡量准则，对于无监督学习，都不考虑label的含义，只看label是否为一类"
   ]
  },
  {
   "cell_type": "code",
   "execution_count": 14,
   "metadata": {},
   "outputs": [
    {
     "name": "stdout",
     "output_type": "stream",
     "text": [
      "1.0\n"
     ]
    }
   ],
   "source": [
    "# homogeneity， 同质性\n",
    "print(homogeneity_score(y_true,y_pred)) # 最终该在一个cluster的是否在一个cluster。不管你最终把结果分为多细，只要改在一起的也在一起，就是正确的"
   ]
  },
  {
   "cell_type": "code",
   "execution_count": 15,
   "metadata": {},
   "outputs": [
    {
     "name": "stdout",
     "output_type": "stream",
     "text": [
      "0.7935006621126817\n"
     ]
    }
   ],
   "source": [
    "# completeness，完整性\n",
    "print(completeness_score(y_true,y_pred)) # 本来是3类，最终分为4类，就不对了"
   ]
  },
  {
   "cell_type": "code",
   "execution_count": 16,
   "metadata": {},
   "outputs": [
    {
     "name": "stdout",
     "output_type": "stream",
     "text": [
      "0.8848624133519587\n"
     ]
    }
   ],
   "source": [
    "print(v_measure_score(y_true,y_pred)) # 综合上述两点"
   ]
  },
  {
   "cell_type": "markdown",
   "metadata": {},
   "source": [
    "# 2. 其他用法"
   ]
  },
  {
   "cell_type": "code",
   "execution_count": 22,
   "metadata": {},
   "outputs": [
    {
     "name": "stdout",
     "output_type": "stream",
     "text": [
      "1.0\n",
      "0.7935006621126817\n",
      "0.8848624133519587\n"
     ]
    }
   ],
   "source": [
    "y_true = ['a','a','a', 'b','b','b','b', 'c','c','c','c','c'] # label不要求一定为int类型\n",
    "y_pred = [4,4,4, 1,1,1,1, 2,2,2,3,3]\n",
    "print(homogeneity_score(y_true,y_pred))\n",
    "print(completeness_score(y_true,y_pred))\n",
    "print(v_measure_score(y_true,y_pred))"
   ]
  },
  {
   "cell_type": "code",
   "execution_count": 24,
   "metadata": {},
   "outputs": [
    {
     "name": "stdout",
     "output_type": "stream",
     "text": [
      "1.0\n",
      "0.7935006621126817\n",
      "0.8848624133519587\n"
     ]
    }
   ],
   "source": [
    "y_true = ['a','a','a', 'b','b','b','b', 'c','c','c','c','c'] # label不要求一定为int类型\n",
    "y_pred = ['4','4','4', '1','1','1','1', '2','2','2','3','3']# label不要求一定为int类型\n",
    "print(homogeneity_score(y_true,y_pred))\n",
    "print(completeness_score(y_true,y_pred))\n",
    "print(v_measure_score(y_true,y_pred))"
   ]
  },
  {
   "cell_type": "code",
   "execution_count": null,
   "metadata": {
    "collapsed": true
   },
   "outputs": [],
   "source": []
  }
 ],
 "metadata": {
  "kernelspec": {
   "display_name": "Python 3",
   "language": "python",
   "name": "python3"
  },
  "language_info": {
   "codemirror_mode": {
    "name": "ipython",
    "version": 3
   },
   "file_extension": ".py",
   "mimetype": "text/x-python",
   "name": "python",
   "nbconvert_exporter": "python",
   "pygments_lexer": "ipython3",
   "version": "3.6.1"
  }
 },
 "nbformat": 4,
 "nbformat_minor": 2
}
