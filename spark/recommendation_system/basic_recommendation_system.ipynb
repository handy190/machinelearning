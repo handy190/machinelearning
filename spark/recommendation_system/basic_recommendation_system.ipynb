{
 "cells": [
  {
   "cell_type": "markdown",
   "metadata": {},
   "source": [
    "# Environment Preparation"
   ]
  },
  {
   "cell_type": "code",
   "execution_count": 4,
   "metadata": {
    "collapsed": true
   },
   "outputs": [],
   "source": [
    "import os\n",
    "import sys\n",
    "# set environment variable\n",
    "os.environ['SPARK_HOME'] = \"/home/bin_yin/tmp/spark-2.0.2-bin-hadoop2.7/\"\n",
    "os.environ['PYSPARK_SUBMIT_ARGS'] = \"--master local[2] pyspark-shell\" \n",
    "# we can check by os.environ.get(\"SPARK_HOME\")\n",
    "\n",
    "# Init sc\n",
    "import findspark\n",
    "findspark.init()\n",
    "import pyspark\n",
    "sc = pyspark.SparkContext(appName=\"myAppName\")"
   ]
  },
  {
   "cell_type": "markdown",
   "metadata": {},
   "source": [
    "# 1. Data Description"
   ]
  },
  {
   "cell_type": "markdown",
   "metadata": {},
   "source": [
    "**u.user**\n",
    "\n",
    "u'1|24|M|technician|85711'\n",
    "* [0]: users id\n",
    "* [1]: age\n",
    "* [2]: gender\n",
    "* [3]: occupation\n",
    "* [4]: zipcode\n",
    "\n",
    "\n",
    "**u.item**\n",
    "\n",
    "u'1|Toy Story (1995)|01-Jan-1995||http://us.imdb.com/M/title-exact?Toy%20Story%20(1995)|0|0|0|1|1|1|0|0|0|0|0|0|0|0|0|0|0|0|0'\n",
    "\n",
    "* [0]: movie id\n",
    "* [1]: movie title\n",
    "* [2]: release date\n",
    "* [3]: video release date\n",
    "* [4]: IMDb URL\n",
    "* unknown | Action | Adventure | Animation | Children's | Comedy | Crime | Documentary | Drama | Fantasy | Film-Noir | Horror | Musical | Mystery | Romance | Sci-Fi | Thriller | War | Western\n",
    "\n",
    "\n",
    "**u.data**\n",
    "\n",
    "u'196\\t242\\t3\\t881250949'\n",
    "* [0]: user id\n",
    "* [1]: item id\n",
    "* [2]: rating\n",
    "* [3]: timestamp"
   ]
  },
  {
   "cell_type": "markdown",
   "metadata": {},
   "source": [
    "# 2. Train & Predict"
   ]
  },
  {
   "cell_type": "code",
   "execution_count": 5,
   "metadata": {
    "collapsed": false
   },
   "outputs": [
    {
     "data": {
      "text/plain": [
       "(196, 242, 3.0)"
      ]
     },
     "execution_count": 5,
     "metadata": {},
     "output_type": "execute_result"
    }
   ],
   "source": [
    "# get data\n",
    "raw_data = sc.textFile('ml-100k/u.data')\n",
    "raw_ratings = raw_data.map(lambda line:line.split('\\t'))\n",
    "\n",
    "ratings = raw_ratings.map(  lambda f:( int(f[0]), int(f[1]), float(f[2]))  )\n",
    "ratings.first() # 用户ID，电影ID，得分"
   ]
  },
  {
   "cell_type": "code",
   "execution_count": 6,
   "metadata": {
    "collapsed": false
   },
   "outputs": [
    {
     "data": {
      "text/plain": [
       "(100000, 3)"
      ]
     },
     "execution_count": 6,
     "metadata": {},
     "output_type": "execute_result"
    }
   ],
   "source": [
    "# check ratings data\n",
    "import numpy as np\n",
    "np.array(ratings.collect()).shape# 矩阵维度：(100000, 3)"
   ]
  },
  {
   "cell_type": "code",
   "execution_count": 7,
   "metadata": {
    "collapsed": false
   },
   "outputs": [
    {
     "name": "stdout",
     "output_type": "stream",
     "text": [
      "CPU times: user 30 ms, sys: 4 ms, total: 34 ms\n",
      "Wall time: 7.45 s\n"
     ]
    }
   ],
   "source": [
    "%%time\n",
    "# train model\n",
    "from  pyspark.mllib.recommendation import ALS\n",
    "model = ALS.train(ratings, rank=50, iterations=10, lambda_=0.01)\n",
    "\n",
    "# 核心原理就是把ratings矩阵分解（协同过滤），类似为每个用户训练一个线性回归模型\n",
    "# rank：线性模型维度"
   ]
  },
  {
   "cell_type": "code",
   "execution_count": 8,
   "metadata": {
    "collapsed": false
   },
   "outputs": [
    {
     "data": {
      "text/plain": [
       "3.6064214156362575"
      ]
     },
     "execution_count": 8,
     "metadata": {},
     "output_type": "execute_result"
    }
   ],
   "source": [
    "# predict\n",
    "\n",
    "model.predict(789, 123) # 用户789对电影123的打分是3.107"
   ]
  },
  {
   "cell_type": "markdown",
   "metadata": {},
   "source": [
    "# 3. TOP-K"
   ]
  },
  {
   "cell_type": "code",
   "execution_count": 9,
   "metadata": {
    "collapsed": false
   },
   "outputs": [
    {
     "data": {
      "text/plain": [
       "[Rating(user=789, product=56, rating=6.433282385793653),\n",
       " Rating(user=789, product=192, rating=5.826250960884829),\n",
       " Rating(user=789, product=187, rating=5.8088165421500975),\n",
       " Rating(user=789, product=47, rating=5.759490453447884),\n",
       " Rating(user=789, product=182, rating=5.649288992949691),\n",
       " Rating(user=789, product=295, rating=5.506189508660589),\n",
       " Rating(user=789, product=514, rating=5.412293938331513),\n",
       " Rating(user=789, product=482, rating=5.372076382840295),\n",
       " Rating(user=789, product=23, rating=5.366697943160618),\n",
       " Rating(user=789, product=144, rating=5.327318132527473)]"
      ]
     },
     "execution_count": 9,
     "metadata": {},
     "output_type": "execute_result"
    }
   ],
   "source": [
    "# TOP-10 \n",
    "\n",
    "model.recommendProducts(789, 10) # get top-10 movide id for user 789"
   ]
  },
  {
   "cell_type": "code",
   "execution_count": 10,
   "metadata": {
    "collapsed": false
   },
   "outputs": [
    {
     "data": {
      "text/plain": [
       "[56, 192, 187, 47, 182, 295, 514, 482, 23, 144]"
      ]
     },
     "execution_count": 10,
     "metadata": {},
     "output_type": "execute_result"
    }
   ],
   "source": [
    "rts = model.recommendProducts(789, 10) # get top-10 movide id for user 789\n",
    "movie_ids = [r[1] for r in rts]\n",
    "movie_ids"
   ]
  },
  {
   "cell_type": "code",
   "execution_count": 11,
   "metadata": {
    "collapsed": false
   },
   "outputs": [
    {
     "name": "stdout",
     "output_type": "stream",
     "text": [
      "Taxi Driver (1976)\n",
      "Ed Wood (1994)\n",
      "Pulp Fiction (1994)\n",
      "Die Hard (1988)\n",
      "GoodFellas (1990)\n",
      "Godfather: Part II, The (1974)\n",
      "Raging Bull (1980)\n",
      "Breakdown (1997)\n",
      "Some Like It Hot (1959)\n",
      "Annie Hall (1977)\n"
     ]
    }
   ],
   "source": [
    "# what is Top-10 movie name?\n",
    "\n",
    "movie_raw_data = sc.textFile('ml-100k/u.item')\n",
    "movies_by_id = movie_raw_data.map(lambda line: line.split('|')).map(lambda x:(x[0],x[1])).collect()\n",
    "for m in movies_by_id:\n",
    "    k = m[0]\n",
    "    v = m[1]\n",
    "    if(int(k) in movie_ids):\n",
    "        print(v)"
   ]
  },
  {
   "cell_type": "markdown",
   "metadata": {},
   "source": [
    "# 4. Details"
   ]
  },
  {
   "cell_type": "code",
   "execution_count": 22,
   "metadata": {
    "collapsed": false,
    "scrolled": true
   },
   "outputs": [
    {
     "data": {
      "text/plain": [
       "[(789, 1012, 4.0),\n",
       " (789, 127, 5.0),\n",
       " (789, 475, 5.0),\n",
       " (789, 93, 4.0),\n",
       " (789, 1161, 3.0),\n",
       " (789, 286, 1.0),\n",
       " (789, 293, 4.0),\n",
       " (789, 9, 5.0),\n",
       " (789, 50, 5.0),\n",
       " (789, 294, 3.0),\n",
       " (789, 181, 4.0),\n",
       " (789, 1, 3.0),\n",
       " (789, 1008, 4.0),\n",
       " (789, 508, 4.0),\n",
       " (789, 284, 3.0),\n",
       " (789, 1017, 3.0),\n",
       " (789, 137, 2.0),\n",
       " (789, 111, 3.0),\n",
       " (789, 742, 3.0),\n",
       " (789, 248, 3.0),\n",
       " (789, 249, 3.0),\n",
       " (789, 1007, 4.0),\n",
       " (789, 591, 3.0),\n",
       " (789, 150, 5.0),\n",
       " (789, 276, 5.0),\n",
       " (789, 151, 2.0),\n",
       " (789, 129, 5.0),\n",
       " (789, 100, 5.0),\n",
       " (789, 741, 5.0),\n",
       " (789, 288, 3.0),\n",
       " (789, 762, 3.0),\n",
       " (789, 628, 3.0),\n",
       " (789, 124, 4.0)]"
      ]
     },
     "execution_count": 22,
     "metadata": {},
     "output_type": "execute_result"
    }
   ],
   "source": [
    "moviesForUser = ratings.keyBy(lambda f:f[0]).lookup(789) # UserID=789 的用户评价过的电影\n",
    "moviesForUser # UserID, ProductID, Rating"
   ]
  },
  {
   "cell_type": "code",
   "execution_count": 20,
   "metadata": {
    "collapsed": false
   },
   "outputs": [
    {
     "data": {
      "text/plain": [
       "33"
      ]
     },
     "execution_count": 20,
     "metadata": {},
     "output_type": "execute_result"
    }
   ],
   "source": [
    "len(moviesForUser)# 用户评价过33部电影"
   ]
  },
  {
   "cell_type": "code",
   "execution_count": 24,
   "metadata": {
    "collapsed": false,
    "scrolled": true
   },
   "outputs": [
    {
     "name": "stdout",
     "output_type": "stream",
     "text": [
      "1: Toy Story (1995)\n",
      "9: Dead Man Walking (1995)\n",
      "50: Star Wars (1977)\n",
      "93: Welcome to the Dollhouse (1995)\n",
      "100: Fargo (1996)\n",
      "111: Truth About Cats & Dogs, The (1996)\n",
      "124: Lone Star (1996)\n",
      "127: Godfather, The (1972)\n",
      "129: Bound (1996)\n",
      "137: Big Night (1996)\n",
      "150: Swingers (1996)\n",
      "151: Willy Wonka and the Chocolate Factory (1971)\n",
      "181: Return of the Jedi (1983)\n",
      "248: Grosse Pointe Blank (1997)\n",
      "249: Austin Powers: International Man of Mystery (1997)\n",
      "276: Leaving Las Vegas (1995)\n",
      "284: Tin Cup (1996)\n",
      "286: English Patient, The (1996)\n",
      "288: Scream (1996)\n",
      "293: Donnie Brasco (1997)\n",
      "294: Liar Liar (1997)\n",
      "475: Trainspotting (1996)\n",
      "508: People vs. Larry Flynt, The (1996)\n",
      "591: Primal Fear (1996)\n",
      "628: Sleepers (1996)\n",
      "741: Last Supper, The (1995)\n",
      "742: Ransom (1996)\n",
      "762: Beautiful Girls (1996)\n",
      "1007: Waiting for Guffman (1996)\n",
      "1008: I Shot Andy Warhol (1996)\n",
      "1012: Private Parts (1997)\n",
      "1017: Trees Lounge (1996)\n",
      "1161: Palookaville (1996)\n"
     ]
    }
   ],
   "source": [
    "# what is movies name?\n",
    "\n",
    "movies_ids_for_user = [x[1] for x in moviesForUser]\n",
    "\n",
    "movie_raw_data = sc.textFile('ml-100k/u.item')\n",
    "movies_by_id = movie_raw_data.map(lambda line: line.split('|')).map(lambda x:(x[0],x[1])).collect()\n",
    "for m in movies_by_id:\n",
    "    k = m[0]\n",
    "    v = m[1]\n",
    "    if(int(k) in movies_ids_for_user):\n",
    "        print('{0}: {1}'.format(k,v))"
   ]
  },
  {
   "cell_type": "code",
   "execution_count": 26,
   "metadata": {
    "collapsed": false
   },
   "outputs": [
    {
     "name": "stdout",
     "output_type": "stream",
     "text": [
      "5.0\n"
     ]
    }
   ],
   "source": [
    "# 他对电影Dead Man Walking (1995)（MovieID=9）的评分是5.0\n",
    "for x in moviesForUser:\n",
    "    if(x[1]==9):\n",
    "        print(x[2])"
   ]
  },
  {
   "cell_type": "markdown",
   "metadata": {},
   "source": [
    "**Analysis**: 这里的电影就是这个用户评价过的电影。这个用户对Dead Man Walking (1995)（MovieID=9）的评分是5.0，说明他很喜欢这部电影。而我们给他推荐的TOP-10中，也有一部电影跟这个很接近：Die Hard (1988)。说明推荐还是有效果的"
   ]
  },
  {
   "cell_type": "code",
   "execution_count": null,
   "metadata": {
    "collapsed": true
   },
   "outputs": [],
   "source": []
  },
  {
   "cell_type": "code",
   "execution_count": null,
   "metadata": {
    "collapsed": true
   },
   "outputs": [],
   "source": []
  },
  {
   "cell_type": "code",
   "execution_count": 3,
   "metadata": {
    "collapsed": true
   },
   "outputs": [],
   "source": [
    "sc.stop()# Stop Spark"
   ]
  },
  {
   "cell_type": "code",
   "execution_count": null,
   "metadata": {
    "collapsed": true
   },
   "outputs": [],
   "source": []
  }
 ],
 "metadata": {
  "kernelspec": {
   "display_name": "Python 2",
   "language": "python",
   "name": "python2"
  },
  "language_info": {
   "codemirror_mode": {
    "name": "ipython",
    "version": 2
   },
   "file_extension": ".py",
   "mimetype": "text/x-python",
   "name": "python",
   "nbconvert_exporter": "python",
   "pygments_lexer": "ipython2",
   "version": "2.7.10"
  }
 },
 "nbformat": 4,
 "nbformat_minor": 1
}
