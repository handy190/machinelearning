{
 "cells": [
  {
   "cell_type": "markdown",
   "metadata": {},
   "source": [
    "# STL 3D\n",
    "\n",
    "* 基于三角面片的三维图形\n",
    "* 多个三角面片组成\n",
    "* 每个三角面片有三个点，每个点是X-Y-Z坐标组成"
   ]
  },
  {
   "cell_type": "code",
   "execution_count": null,
   "metadata": {
    "collapsed": true
   },
   "outputs": [],
   "source": [
    "! pip install numpy-stl"
   ]
  },
  {
   "cell_type": "code",
   "execution_count": 1,
   "metadata": {
    "collapsed": true
   },
   "outputs": [],
   "source": [
    "import numpy as np\n",
    "from stl import mesh\n",
    "\n",
    "def get_all_mesh(stl_file):\n",
    "    try:\n",
    "        mesh_all = []\n",
    "        pmesh = mesh.Mesh.from_file(stl_file)\n",
    "        for m in pmesh.vectors:\n",
    "            mesh_all.append(m)\n",
    "        return np.array(mesh_all)\n",
    "    except Exception as e:\n",
    "        s = sys.exc_info()\n",
    "        print('exception error msg : {0}'.format(s[1]))\n",
    "        print('exception on line: {0} '.format(s[2].tb_lineno))\n",
    "        return np.array([])\n",
    "\n",
    "mesh_list = get_all_mesh('060606.stl')    "
   ]
  },
  {
   "cell_type": "code",
   "execution_count": 2,
   "metadata": {},
   "outputs": [
    {
     "data": {
      "text/plain": [
       "(8516, 3, 3)"
      ]
     },
     "execution_count": 2,
     "metadata": {},
     "output_type": "execute_result"
    }
   ],
   "source": [
    "mesh_list.shape"
   ]
  },
  {
   "cell_type": "markdown",
   "metadata": {},
   "source": [
    "* 8516个三角面片\n",
    "* 每个三角面片有3个点，每个点是X-Y-Z坐标组成"
   ]
  }
 ],
 "metadata": {
  "kernelspec": {
   "display_name": "Python 3",
   "language": "python",
   "name": "python3"
  },
  "language_info": {
   "codemirror_mode": {
    "name": "ipython",
    "version": 3
   },
   "file_extension": ".py",
   "mimetype": "text/x-python",
   "name": "python",
   "nbconvert_exporter": "python",
   "pygments_lexer": "ipython3",
   "version": "3.5.3"
  }
 },
 "nbformat": 4,
 "nbformat_minor": 2
}
