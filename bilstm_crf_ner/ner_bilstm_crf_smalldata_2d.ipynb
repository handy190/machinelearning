{
 "cells": [
  {
   "cell_type": "code",
   "execution_count": null,
   "metadata": {
    "collapsed": true
   },
   "outputs": [],
   "source": [
    "# 2D for bert embedding, elmo embedding and so on"
   ]
  },
  {
   "cell_type": "code",
   "execution_count": 1,
   "metadata": {
    "collapsed": true
   },
   "outputs": [],
   "source": [
    "# !pip install git+https://www.github.com/keras-team/keras-contrib.git"
   ]
  },
  {
   "cell_type": "code",
   "execution_count": 2,
   "metadata": {},
   "outputs": [
    {
     "name": "stderr",
     "output_type": "stream",
     "text": [
      "/root/anaconda3/lib/python3.6/site-packages/h5py/__init__.py:34: FutureWarning: Conversion of the second argument of issubdtype from `float` to `np.floating` is deprecated. In future, it will be treated as `np.float64 == np.dtype(float).type`.\n",
      "  from ._conv import register_converters as _register_converters\n",
      "Using TensorFlow backend.\n",
      "/root/anaconda3/lib/python3.6/site-packages/tensorflow/python/framework/dtypes.py:516: FutureWarning: Passing (type, 1) or '1type' as a synonym of type is deprecated; in a future version of numpy, it will be understood as (type, (1,)) / '(1,)type'.\n",
      "  _np_qint8 = np.dtype([(\"qint8\", np.int8, 1)])\n",
      "/root/anaconda3/lib/python3.6/site-packages/tensorflow/python/framework/dtypes.py:517: FutureWarning: Passing (type, 1) or '1type' as a synonym of type is deprecated; in a future version of numpy, it will be understood as (type, (1,)) / '(1,)type'.\n",
      "  _np_quint8 = np.dtype([(\"quint8\", np.uint8, 1)])\n",
      "/root/anaconda3/lib/python3.6/site-packages/tensorflow/python/framework/dtypes.py:518: FutureWarning: Passing (type, 1) or '1type' as a synonym of type is deprecated; in a future version of numpy, it will be understood as (type, (1,)) / '(1,)type'.\n",
      "  _np_qint16 = np.dtype([(\"qint16\", np.int16, 1)])\n",
      "/root/anaconda3/lib/python3.6/site-packages/tensorflow/python/framework/dtypes.py:519: FutureWarning: Passing (type, 1) or '1type' as a synonym of type is deprecated; in a future version of numpy, it will be understood as (type, (1,)) / '(1,)type'.\n",
      "  _np_quint16 = np.dtype([(\"quint16\", np.uint16, 1)])\n",
      "/root/anaconda3/lib/python3.6/site-packages/tensorflow/python/framework/dtypes.py:520: FutureWarning: Passing (type, 1) or '1type' as a synonym of type is deprecated; in a future version of numpy, it will be understood as (type, (1,)) / '(1,)type'.\n",
      "  _np_qint32 = np.dtype([(\"qint32\", np.int32, 1)])\n",
      "/root/anaconda3/lib/python3.6/site-packages/tensorflow/python/framework/dtypes.py:525: FutureWarning: Passing (type, 1) or '1type' as a synonym of type is deprecated; in a future version of numpy, it will be understood as (type, (1,)) / '(1,)type'.\n",
      "  np_resource = np.dtype([(\"resource\", np.ubyte, 1)])\n"
     ]
    },
    {
     "name": "stdout",
     "output_type": "stream",
     "text": [
      "2.3.1\n"
     ]
    },
    {
     "name": "stderr",
     "output_type": "stream",
     "text": [
      "/root/anaconda3/lib/python3.6/site-packages/tensorboard/compat/tensorflow_stub/dtypes.py:541: FutureWarning: Passing (type, 1) or '1type' as a synonym of type is deprecated; in a future version of numpy, it will be understood as (type, (1,)) / '(1,)type'.\n",
      "  _np_qint8 = np.dtype([(\"qint8\", np.int8, 1)])\n",
      "/root/anaconda3/lib/python3.6/site-packages/tensorboard/compat/tensorflow_stub/dtypes.py:542: FutureWarning: Passing (type, 1) or '1type' as a synonym of type is deprecated; in a future version of numpy, it will be understood as (type, (1,)) / '(1,)type'.\n",
      "  _np_quint8 = np.dtype([(\"quint8\", np.uint8, 1)])\n",
      "/root/anaconda3/lib/python3.6/site-packages/tensorboard/compat/tensorflow_stub/dtypes.py:543: FutureWarning: Passing (type, 1) or '1type' as a synonym of type is deprecated; in a future version of numpy, it will be understood as (type, (1,)) / '(1,)type'.\n",
      "  _np_qint16 = np.dtype([(\"qint16\", np.int16, 1)])\n",
      "/root/anaconda3/lib/python3.6/site-packages/tensorboard/compat/tensorflow_stub/dtypes.py:544: FutureWarning: Passing (type, 1) or '1type' as a synonym of type is deprecated; in a future version of numpy, it will be understood as (type, (1,)) / '(1,)type'.\n",
      "  _np_quint16 = np.dtype([(\"quint16\", np.uint16, 1)])\n",
      "/root/anaconda3/lib/python3.6/site-packages/tensorboard/compat/tensorflow_stub/dtypes.py:545: FutureWarning: Passing (type, 1) or '1type' as a synonym of type is deprecated; in a future version of numpy, it will be understood as (type, (1,)) / '(1,)type'.\n",
      "  _np_qint32 = np.dtype([(\"qint32\", np.int32, 1)])\n",
      "/root/anaconda3/lib/python3.6/site-packages/tensorboard/compat/tensorflow_stub/dtypes.py:550: FutureWarning: Passing (type, 1) or '1type' as a synonym of type is deprecated; in a future version of numpy, it will be understood as (type, (1,)) / '(1,)type'.\n",
      "  np_resource = np.dtype([(\"resource\", np.ubyte, 1)])\n"
     ]
    }
   ],
   "source": [
    "import numpy as np \n",
    "import pandas as pd \n",
    "import keras\n",
    "print(keras.__version__)\n",
    "\n",
    "from math import nan\n",
    "from keras.callbacks import ModelCheckpoint\n",
    "\n",
    "from keras_contrib.layers import CRF\n",
    "\n"
   ]
  },
  {
   "cell_type": "code",
   "execution_count": 3,
   "metadata": {
    "collapsed": true
   },
   "outputs": [],
   "source": [
    "dframe = pd.read_csv(\"ner_small.csv\", encoding = \"ISO-8859-1\", error_bad_lines=False)"
   ]
  },
  {
   "cell_type": "code",
   "execution_count": 4,
   "metadata": {
    "collapsed": true
   },
   "outputs": [],
   "source": [
    "dataset=dframe.drop(['Unnamed: 0', 'lemma', 'next-lemma', 'next-next-lemma', 'next-next-pos',\n",
    "       'next-next-shape', 'next-next-word', 'next-pos', 'next-shape',\n",
    "       'next-word', 'prev-iob', 'prev-lemma', 'prev-pos',\n",
    "       'prev-prev-iob', 'prev-prev-lemma', 'prev-prev-pos', 'prev-prev-shape',\n",
    "       'prev-prev-word', 'prev-shape', 'prev-word',\"pos\"],axis=1)"
   ]
  },
  {
   "cell_type": "code",
   "execution_count": 5,
   "metadata": {},
   "outputs": [
    {
     "name": "stdout",
     "output_type": "stream",
     "text": [
      "<class 'pandas.core.frame.DataFrame'>\n",
      "RangeIndex: 15591 entries, 0 to 15590\n",
      "Data columns (total 4 columns):\n",
      "sentence_idx    15591 non-null int64\n",
      "shape           15591 non-null object\n",
      "word            15591 non-null object\n",
      "tag             15591 non-null object\n",
      "dtypes: int64(1), object(3)\n",
      "memory usage: 487.3+ KB\n"
     ]
    }
   ],
   "source": [
    "dataset.info()"
   ]
  },
  {
   "cell_type": "code",
   "execution_count": 6,
   "metadata": {},
   "outputs": [
    {
     "data": {
      "text/html": [
       "<div>\n",
       "<style scoped>\n",
       "    .dataframe tbody tr th:only-of-type {\n",
       "        vertical-align: middle;\n",
       "    }\n",
       "\n",
       "    .dataframe tbody tr th {\n",
       "        vertical-align: top;\n",
       "    }\n",
       "\n",
       "    .dataframe thead th {\n",
       "        text-align: right;\n",
       "    }\n",
       "</style>\n",
       "<table border=\"1\" class=\"dataframe\">\n",
       "  <thead>\n",
       "    <tr style=\"text-align: right;\">\n",
       "      <th></th>\n",
       "      <th>sentence_idx</th>\n",
       "      <th>shape</th>\n",
       "      <th>word</th>\n",
       "      <th>tag</th>\n",
       "    </tr>\n",
       "  </thead>\n",
       "  <tbody>\n",
       "    <tr>\n",
       "      <td>0</td>\n",
       "      <td>1</td>\n",
       "      <td>capitalized</td>\n",
       "      <td>Thousands</td>\n",
       "      <td>O</td>\n",
       "    </tr>\n",
       "    <tr>\n",
       "      <td>1</td>\n",
       "      <td>1</td>\n",
       "      <td>lowercase</td>\n",
       "      <td>of</td>\n",
       "      <td>O</td>\n",
       "    </tr>\n",
       "    <tr>\n",
       "      <td>2</td>\n",
       "      <td>1</td>\n",
       "      <td>lowercase</td>\n",
       "      <td>demonstrators</td>\n",
       "      <td>O</td>\n",
       "    </tr>\n",
       "    <tr>\n",
       "      <td>3</td>\n",
       "      <td>1</td>\n",
       "      <td>lowercase</td>\n",
       "      <td>have</td>\n",
       "      <td>O</td>\n",
       "    </tr>\n",
       "    <tr>\n",
       "      <td>4</td>\n",
       "      <td>1</td>\n",
       "      <td>lowercase</td>\n",
       "      <td>marched</td>\n",
       "      <td>O</td>\n",
       "    </tr>\n",
       "  </tbody>\n",
       "</table>\n",
       "</div>"
      ],
      "text/plain": [
       "   sentence_idx        shape           word tag\n",
       "0             1  capitalized      Thousands   O\n",
       "1             1    lowercase             of   O\n",
       "2             1    lowercase  demonstrators   O\n",
       "3             1    lowercase           have   O\n",
       "4             1    lowercase        marched   O"
      ]
     },
     "execution_count": 6,
     "metadata": {},
     "output_type": "execute_result"
    }
   ],
   "source": [
    "dataset.head()"
   ]
  },
  {
   "cell_type": "code",
   "execution_count": 7,
   "metadata": {
    "collapsed": true
   },
   "outputs": [],
   "source": [
    "dataset=dataset.drop(['shape'],axis=1)"
   ]
  },
  {
   "cell_type": "code",
   "execution_count": 8,
   "metadata": {},
   "outputs": [
    {
     "data": {
      "text/html": [
       "<div>\n",
       "<style scoped>\n",
       "    .dataframe tbody tr th:only-of-type {\n",
       "        vertical-align: middle;\n",
       "    }\n",
       "\n",
       "    .dataframe tbody tr th {\n",
       "        vertical-align: top;\n",
       "    }\n",
       "\n",
       "    .dataframe thead th {\n",
       "        text-align: right;\n",
       "    }\n",
       "</style>\n",
       "<table border=\"1\" class=\"dataframe\">\n",
       "  <thead>\n",
       "    <tr style=\"text-align: right;\">\n",
       "      <th></th>\n",
       "      <th>sentence_idx</th>\n",
       "      <th>word</th>\n",
       "      <th>tag</th>\n",
       "    </tr>\n",
       "  </thead>\n",
       "  <tbody>\n",
       "    <tr>\n",
       "      <td>0</td>\n",
       "      <td>1</td>\n",
       "      <td>Thousands</td>\n",
       "      <td>O</td>\n",
       "    </tr>\n",
       "    <tr>\n",
       "      <td>1</td>\n",
       "      <td>1</td>\n",
       "      <td>of</td>\n",
       "      <td>O</td>\n",
       "    </tr>\n",
       "    <tr>\n",
       "      <td>2</td>\n",
       "      <td>1</td>\n",
       "      <td>demonstrators</td>\n",
       "      <td>O</td>\n",
       "    </tr>\n",
       "    <tr>\n",
       "      <td>3</td>\n",
       "      <td>1</td>\n",
       "      <td>have</td>\n",
       "      <td>O</td>\n",
       "    </tr>\n",
       "    <tr>\n",
       "      <td>4</td>\n",
       "      <td>1</td>\n",
       "      <td>marched</td>\n",
       "      <td>O</td>\n",
       "    </tr>\n",
       "  </tbody>\n",
       "</table>\n",
       "</div>"
      ],
      "text/plain": [
       "   sentence_idx           word tag\n",
       "0             1      Thousands   O\n",
       "1             1             of   O\n",
       "2             1  demonstrators   O\n",
       "3             1           have   O\n",
       "4             1        marched   O"
      ]
     },
     "execution_count": 8,
     "metadata": {},
     "output_type": "execute_result"
    }
   ],
   "source": [
    "dataset.head()"
   ]
  },
  {
   "cell_type": "code",
   "execution_count": 9,
   "metadata": {
    "collapsed": true
   },
   "outputs": [],
   "source": [
    "class SentenceGetter(object):\n",
    "    \n",
    "    def __init__(self, dataset):\n",
    "        self.n_sent = 1\n",
    "        self.dataset = dataset\n",
    "        self.empty = False\n",
    "        agg_func = lambda s: [(w, t) for w,t in zip(s[\"word\"].values.tolist(),\n",
    "                                                        s[\"tag\"].values.tolist())]\n",
    "        self.grouped = self.dataset.groupby(\"sentence_idx\").apply(agg_func)\n",
    "        self.sentences = [s for s in self.grouped]\n",
    "    \n",
    "    def get_next(self):\n",
    "        try:\n",
    "            s = self.grouped[\"Sentence: {}\".format(self.n_sent)]\n",
    "            self.n_sent += 1\n",
    "            return s\n",
    "        except:\n",
    "            return None"
   ]
  },
  {
   "cell_type": "code",
   "execution_count": 10,
   "metadata": {
    "collapsed": true
   },
   "outputs": [],
   "source": [
    "getter = SentenceGetter(dataset)"
   ]
  },
  {
   "cell_type": "code",
   "execution_count": 11,
   "metadata": {
    "collapsed": true
   },
   "outputs": [],
   "source": [
    "sentences = getter.sentences"
   ]
  },
  {
   "cell_type": "code",
   "execution_count": 12,
   "metadata": {},
   "outputs": [
    {
     "name": "stdout",
     "output_type": "stream",
     "text": [
      "[('The', 'O'), ('party', 'O'), ('is', 'O'), ('divided', 'O'), ('over', 'O'), ('Britain', 'B-gpe'), (\"'s\", 'O'), ('participation', 'O'), ('in', 'O'), ('the', 'O'), ('Iraq', 'B-geo'), ('conflict', 'O'), ('and', 'O'), ('the', 'O'), ('continued', 'O'), ('deployment', 'O'), ('of', 'O'), ('8,500', 'O'), ('British', 'B-gpe'), ('troops', 'O'), ('in', 'O'), ('that', 'O'), ('country', 'O'), ('.', 'O')]\n"
     ]
    }
   ],
   "source": [
    "print(sentences[5])"
   ]
  },
  {
   "cell_type": "code",
   "execution_count": 13,
   "metadata": {},
   "outputs": [
    {
     "name": "stdout",
     "output_type": "stream",
     "text": [
      "Maximum sequence length: 62\n"
     ]
    }
   ],
   "source": [
    "maxlen = max([len(s) for s in sentences])\n",
    "print ('Maximum sequence length:', maxlen)"
   ]
  },
  {
   "cell_type": "code",
   "execution_count": 14,
   "metadata": {
    "collapsed": true
   },
   "outputs": [],
   "source": [
    "words = list(set(dataset[\"word\"].values))\n",
    "words.append(\"ENDPAD\")"
   ]
  },
  {
   "cell_type": "code",
   "execution_count": 15,
   "metadata": {},
   "outputs": [
    {
     "data": {
      "text/plain": [
       "3691"
      ]
     },
     "execution_count": 15,
     "metadata": {},
     "output_type": "execute_result"
    }
   ],
   "source": [
    "n_words = len(words); n_words"
   ]
  },
  {
   "cell_type": "code",
   "execution_count": 16,
   "metadata": {},
   "outputs": [
    {
     "name": "stdout",
     "output_type": "stream",
     "text": [
      "['I-per', 'I-gpe', 'I-nat', 'B-geo', 'I-art', 'I-org', 'I-eve', 'B-eve', 'O', 'B-per', 'B-gpe', 'B-tim', 'B-art', 'I-geo', 'B-org', 'I-tim', 'B-nat']\n"
     ]
    }
   ],
   "source": [
    "tags = []\n",
    "for tag in set(dataset[\"tag\"].values):\n",
    "    if tag is nan or isinstance(tag, float):\n",
    "        tags.append('unk')\n",
    "    else:\n",
    "        tags.append(tag)\n",
    "print(tags)"
   ]
  },
  {
   "cell_type": "code",
   "execution_count": 17,
   "metadata": {},
   "outputs": [
    {
     "data": {
      "text/plain": [
       "17"
      ]
     },
     "execution_count": 17,
     "metadata": {},
     "output_type": "execute_result"
    }
   ],
   "source": [
    "n_tags = len(tags); n_tags"
   ]
  },
  {
   "cell_type": "code",
   "execution_count": null,
   "metadata": {
    "collapsed": true
   },
   "outputs": [],
   "source": []
  },
  {
   "cell_type": "code",
   "execution_count": 18,
   "metadata": {
    "collapsed": true
   },
   "outputs": [],
   "source": [
    "from future.utils import iteritems\n",
    "word2idx = {w: i for i, w in enumerate(words)}\n",
    "tag2idx = {t: i for i, t in enumerate(tags)}\n",
    "idx2tag = {v: k for k, v in iteritems(tag2idx)}"
   ]
  },
  {
   "cell_type": "code",
   "execution_count": 19,
   "metadata": {
    "collapsed": true
   },
   "outputs": [],
   "source": [
    "from keras.preprocessing.sequence import pad_sequences\n",
    "X = [[word2idx[w[0]] for w in s] for s in sentences]"
   ]
  },
  {
   "cell_type": "code",
   "execution_count": 20,
   "metadata": {},
   "outputs": [],
   "source": [
    "np.array(X).shape\n",
    "X2=X"
   ]
  },
  {
   "cell_type": "code",
   "execution_count": 21,
   "metadata": {
    "collapsed": true
   },
   "outputs": [],
   "source": [
    "X = pad_sequences(maxlen=1400, sequences=X, padding=\"post\",value=n_words - 1)\n",
    "X2 = pad_sequences(maxlen=140, sequences=X2, padding=\"post\",value=n_words - 1)"
   ]
  },
  {
   "cell_type": "code",
   "execution_count": 22,
   "metadata": {},
   "outputs": [
    {
     "name": "stdout",
     "output_type": "stream",
     "text": [
      "[('The', 'O'), ('Pakistani', 'B-gpe'), ('military', 'O'), ('launched', 'O'), ('its', 'O'), ('offensive', 'O'), ('in', 'O'), ('Orakzai', 'B-geo'), ('to', 'O'), ('hunt', 'O'), ('Taliban', 'B-org'), ('insurgents', 'O'), ('.', 'O')]\n",
      "[8, 10, 8, 8, 8, 8, 8, 3, 8, 8, 14, 8, 8]\n"
     ]
    }
   ],
   "source": [
    "y_idx = [[tag2idx[w[1]] for w in s] for s in sentences]\n",
    "print(sentences[100])\n",
    "print(y_idx[100])"
   ]
  },
  {
   "cell_type": "code",
   "execution_count": 23,
   "metadata": {},
   "outputs": [
    {
     "name": "stdout",
     "output_type": "stream",
     "text": [
      "[8, 10, 8, 8, 8, 8, 8, 3, 8, 8, 14, 8, 8]\n"
     ]
    }
   ],
   "source": [
    "y = pad_sequences(maxlen=140, sequences=y_idx, padding=\"post\", value=tag2idx[\"O\"])\n",
    "print(y_idx[100])"
   ]
  },
  {
   "cell_type": "code",
   "execution_count": 24,
   "metadata": {
    "collapsed": true
   },
   "outputs": [],
   "source": [
    "from keras.utils import to_categorical\n",
    "y = [to_categorical(i, num_classes=n_tags) for i in y]"
   ]
  },
  {
   "cell_type": "code",
   "execution_count": 25,
   "metadata": {},
   "outputs": [
    {
     "data": {
      "text/plain": [
       "(702, 1400)"
      ]
     },
     "execution_count": 25,
     "metadata": {},
     "output_type": "execute_result"
    }
   ],
   "source": [
    "X.shape"
   ]
  },
  {
   "cell_type": "code",
   "execution_count": 26,
   "metadata": {},
   "outputs": [
    {
     "data": {
      "text/plain": [
       "(702, 140, 10)"
      ]
     },
     "execution_count": 26,
     "metadata": {},
     "output_type": "execute_result"
    }
   ],
   "source": [
    "X = X.reshape((X.shape[0],140,10))\n",
    "X.shape"
   ]
  },
  {
   "cell_type": "code",
   "execution_count": 27,
   "metadata": {
    "collapsed": true
   },
   "outputs": [],
   "source": [
    "from sklearn.model_selection import train_test_split\n",
    "X_train, X_test, y_train, y_test = train_test_split(X, y, test_size=0.2, random_state=666)\n",
    "X_train2, X_test2, y_train2, y_test2 = train_test_split(X2, y, test_size=0.2, random_state=666)"
   ]
  },
  {
   "cell_type": "code",
   "execution_count": 28,
   "metadata": {},
   "outputs": [
    {
     "data": {
      "text/plain": [
       "(561, 140, 10)"
      ]
     },
     "execution_count": 28,
     "metadata": {},
     "output_type": "execute_result"
    }
   ],
   "source": [
    "X_train.shape"
   ]
  },
  {
   "cell_type": "code",
   "execution_count": 29,
   "metadata": {},
   "outputs": [
    {
     "data": {
      "text/plain": [
       "array([[1452, 2209,  762, ..., 2749,  678, 2901],\n",
       "       [1778, 2352, 3613, ..., 3690, 3690, 3690],\n",
       "       [3690, 3690, 3690, ..., 3690, 3690, 3690],\n",
       "       ...,\n",
       "       [3690, 3690, 3690, ..., 3690, 3690, 3690],\n",
       "       [3690, 3690, 3690, ..., 3690, 3690, 3690],\n",
       "       [3690, 3690, 3690, ..., 3690, 3690, 3690]], dtype=int32)"
      ]
     },
     "execution_count": 29,
     "metadata": {},
     "output_type": "execute_result"
    }
   ],
   "source": [
    "X_train[0]"
   ]
  },
  {
   "cell_type": "code",
   "execution_count": 30,
   "metadata": {},
   "outputs": [
    {
     "data": {
      "text/plain": [
       "(array([[0., 0., 0., ..., 0., 0., 0.],\n",
       "        [0., 0., 0., ..., 0., 0., 0.],\n",
       "        [0., 0., 0., ..., 0., 0., 0.],\n",
       "        ...,\n",
       "        [0., 0., 0., ..., 0., 0., 0.],\n",
       "        [0., 0., 0., ..., 0., 0., 0.],\n",
       "        [0., 0., 0., ..., 0., 0., 0.]], dtype=float32), (140, 17))"
      ]
     },
     "execution_count": 30,
     "metadata": {},
     "output_type": "execute_result"
    }
   ],
   "source": [
    "y_train[1],y_train[1].shape"
   ]
  },
  {
   "cell_type": "code",
   "execution_count": 31,
   "metadata": {
    "collapsed": true
   },
   "outputs": [],
   "source": [
    "from keras.models import Model, Input\n",
    "from keras.layers import LSTM, Embedding, Dense, TimeDistributed, Dropout, Bidirectional\n",
    "import keras as k\n"
   ]
  },
  {
   "cell_type": "code",
   "execution_count": 32,
   "metadata": {
    "collapsed": true
   },
   "outputs": [],
   "source": [
    "input = Input(shape=(140,10))\n",
    "word_embedding_size = 10\n",
    "model = Bidirectional(LSTM(units=word_embedding_size, \n",
    "                           return_sequences=True, \n",
    "                           dropout=0.5, \n",
    "                           recurrent_dropout=0.5, \n",
    "                           kernel_initializer=k.initializers.he_normal()))(input)\n",
    "model = LSTM(units=word_embedding_size * 2, \n",
    "             return_sequences=True, \n",
    "             dropout=0.5, \n",
    "             recurrent_dropout=0.5, \n",
    "             kernel_initializer=k.initializers.he_normal())(model)\n",
    "model = TimeDistributed(Dense(n_tags, activation=\"relu\"))(model)  # previously softmax output layer\n",
    "\n",
    "crf = CRF(n_tags)  # CRF layer\n",
    "out = crf(model)  # output\n"
   ]
  },
  {
   "cell_type": "code",
   "execution_count": 33,
   "metadata": {
    "collapsed": true
   },
   "outputs": [],
   "source": [
    "model = Model(input, out)\n"
   ]
  },
  {
   "cell_type": "code",
   "execution_count": 34,
   "metadata": {},
   "outputs": [
    {
     "name": "stderr",
     "output_type": "stream",
     "text": [
      "/root/anaconda3/lib/python3.6/site-packages/keras_contrib/layers/crf.py:346: UserWarning: CRF.loss_function is deprecated and it might be removed in the future. Please use losses.crf_loss instead.\n",
      "  warnings.warn('CRF.loss_function is deprecated '\n",
      "/root/anaconda3/lib/python3.6/site-packages/keras_contrib/layers/crf.py:353: UserWarning: CRF.accuracy is deprecated and it might be removed in the future. Please use metrics.crf_accuracy\n",
      "  warnings.warn('CRF.accuracy is deprecated and it '\n"
     ]
    },
    {
     "name": "stdout",
     "output_type": "stream",
     "text": [
      "WARNING:tensorflow:From /root/anaconda3/lib/python3.6/site-packages/tensorflow/python/ops/math_ops.py:2403: add_dispatch_support.<locals>.wrapper (from tensorflow.python.ops.array_ops) is deprecated and will be removed in a future version.\n",
      "Instructions for updating:\n",
      "Use tf.where in 2.0, which has the same broadcast rule as np.where\n"
     ]
    }
   ],
   "source": [
    "adam = k.optimizers.Adam(lr=0.0005, beta_1=0.9, beta_2=0.999)\n",
    "#model.compile(optimizer=adam, loss=\"categorical_crossentropy\", metrics=[\"accuracy\"])\n",
    "model.compile(optimizer=adam, loss=crf.loss_function, metrics=[crf.accuracy, 'accuracy'])\n"
   ]
  },
  {
   "cell_type": "code",
   "execution_count": 35,
   "metadata": {},
   "outputs": [
    {
     "name": "stdout",
     "output_type": "stream",
     "text": [
      "WARNING:tensorflow:From /root/anaconda3/lib/python3.6/site-packages/keras/backend/tensorflow_backend.py:422: The name tf.global_variables is deprecated. Please use tf.compat.v1.global_variables instead.\n",
      "\n",
      "Train on 448 samples, validate on 113 samples\n",
      "Epoch 1/3\n",
      "448/448 [==============================] - 3s 6ms/step - loss: 2.7265 - crf_viterbi_accuracy: 0.1537 - accuracy: 0.0028 - val_loss: 2.7363 - val_crf_viterbi_accuracy: 0.0044 - val_accuracy: 0.0044\n",
      "Epoch 2/3\n",
      "448/448 [==============================] - 1s 2ms/step - loss: 2.7060 - crf_viterbi_accuracy: 0.1636 - accuracy: 0.0028 - val_loss: 2.7054 - val_crf_viterbi_accuracy: 0.0052 - val_accuracy: 0.0052\n",
      "Epoch 3/3\n",
      "448/448 [==============================] - 1s 2ms/step - loss: 2.6905 - crf_viterbi_accuracy: 0.1517 - accuracy: 0.0028 - val_loss: 2.6764 - val_crf_viterbi_accuracy: 0.0068 - val_accuracy: 0.0068\n"
     ]
    }
   ],
   "source": [
    "history = model.fit(X_train, np.array(y_train), batch_size=256, epochs=3, validation_split=0.2, verbose=1)\n"
   ]
  },
  {
   "cell_type": "code",
   "execution_count": 36,
   "metadata": {},
   "outputs": [
    {
     "name": "stdout",
     "output_type": "stream",
     "text": [
      "[[ 5  1  9 10  3  9  1  9  1  9  1  9  1  9  1  9  1  9  1  9  1  9  1  9\n",
      "   1  9  1  9  1  9  1  9  1  9  1  9  1  9  1  9  1  9  1  9  1  9  1  9\n",
      "   1  9  1  9  1  9  1  9  1  9  1  9  1  9  1  9  1  9  1  9  1  9  1  9\n",
      "   1  9  1  9  1  9  1  9  1  9  1  9  1  9  1  9  1  9  1  9  1  9  1  9\n",
      "   1  9  1  9  1  9  1  9  1  9  1  9  1  9  1  9  1  9  1  9  1  9  1  9\n",
      "   1  9  1  9  1  9  1  9  1  9  1  9  1  9  1  9  1  9  1  9]]\n"
     ]
    }
   ],
   "source": [
    "p = model.predict(np.array([X_test[0]]))\n",
    "p = np.argmax(p, axis=-1)\n",
    "print(p)"
   ]
  },
  {
   "cell_type": "code",
   "execution_count": 37,
   "metadata": {},
   "outputs": [
    {
     "data": {
      "text/plain": [
       "(141, 140)"
      ]
     },
     "execution_count": 37,
     "metadata": {},
     "output_type": "execute_result"
    }
   ],
   "source": [
    "X_test2.shape"
   ]
  },
  {
   "cell_type": "code",
   "execution_count": 38,
   "metadata": {},
   "outputs": [
    {
     "name": "stdout",
     "output_type": "stream",
     "text": [
      "[8 8 8 8 8 9 0 8 8 8 8 8 8 8 8 8 8 8 8 8 8 8 8 8 8 8 8 8 8 8 8 8 8 8 8 8 8\n",
      " 8 8 8 8 8 8 8 8 8 8 8 8 8 8 8 8 8 8 8 8 8 8 8 8 8 8 8 8 8 8 8 8 8 8 8 8 8\n",
      " 8 8 8 8 8 8 8 8 8 8 8 8 8 8 8 8 8 8 8 8 8 8 8 8 8 8 8 8 8 8 8 8 8 8 8 8 8\n",
      " 8 8 8 8 8 8 8 8 8 8 8 8 8 8 8 8 8 8 8 8 8 8 8 8 8 8 8 8 8]\n",
      "Word          : (True ): Pred\n",
      "A             : (O    ): I-org\n",
      "military      : (O    ): I-gpe\n",
      "tribunal      : (O    ): B-per\n",
      "has           : (O    ): B-gpe\n",
      "charged       : (O    ): B-geo\n",
      "Dr.           : (B-per): B-per\n",
      "Besigye       : (I-per): I-gpe\n",
      "with          : (O    ): B-per\n",
      "terrorism     : (O    ): I-gpe\n",
      "and           : (O    ): B-per\n",
      "possessing    : (O    ): I-gpe\n",
      "illegal       : (O    ): B-per\n",
      "weapons       : (O    ): I-gpe\n",
      ".             : (O    ): B-per\n",
      "ENDPAD        : (O    ): I-gpe\n",
      "ENDPAD        : (O    ): B-per\n",
      "ENDPAD        : (O    ): I-gpe\n",
      "ENDPAD        : (O    ): B-per\n",
      "ENDPAD        : (O    ): I-gpe\n",
      "ENDPAD        : (O    ): B-per\n",
      "ENDPAD        : (O    ): I-gpe\n",
      "ENDPAD        : (O    ): B-per\n",
      "ENDPAD        : (O    ): I-gpe\n",
      "ENDPAD        : (O    ): B-per\n",
      "ENDPAD        : (O    ): I-gpe\n",
      "ENDPAD        : (O    ): B-per\n",
      "ENDPAD        : (O    ): I-gpe\n",
      "ENDPAD        : (O    ): B-per\n",
      "ENDPAD        : (O    ): I-gpe\n",
      "ENDPAD        : (O    ): B-per\n",
      "ENDPAD        : (O    ): I-gpe\n",
      "ENDPAD        : (O    ): B-per\n",
      "ENDPAD        : (O    ): I-gpe\n",
      "ENDPAD        : (O    ): B-per\n",
      "ENDPAD        : (O    ): I-gpe\n",
      "ENDPAD        : (O    ): B-per\n",
      "ENDPAD        : (O    ): I-gpe\n",
      "ENDPAD        : (O    ): B-per\n",
      "ENDPAD        : (O    ): I-gpe\n",
      "ENDPAD        : (O    ): B-per\n",
      "ENDPAD        : (O    ): I-gpe\n",
      "ENDPAD        : (O    ): B-per\n",
      "ENDPAD        : (O    ): I-gpe\n",
      "ENDPAD        : (O    ): B-per\n",
      "ENDPAD        : (O    ): I-gpe\n",
      "ENDPAD        : (O    ): B-per\n",
      "ENDPAD        : (O    ): I-gpe\n",
      "ENDPAD        : (O    ): B-per\n",
      "ENDPAD        : (O    ): I-gpe\n",
      "ENDPAD        : (O    ): B-per\n",
      "ENDPAD        : (O    ): I-gpe\n",
      "ENDPAD        : (O    ): B-per\n",
      "ENDPAD        : (O    ): I-gpe\n",
      "ENDPAD        : (O    ): B-per\n",
      "ENDPAD        : (O    ): I-gpe\n",
      "ENDPAD        : (O    ): B-per\n",
      "ENDPAD        : (O    ): I-gpe\n",
      "ENDPAD        : (O    ): B-per\n",
      "ENDPAD        : (O    ): I-gpe\n",
      "ENDPAD        : (O    ): B-per\n",
      "ENDPAD        : (O    ): I-gpe\n",
      "ENDPAD        : (O    ): B-per\n",
      "ENDPAD        : (O    ): I-gpe\n",
      "ENDPAD        : (O    ): B-per\n",
      "ENDPAD        : (O    ): I-gpe\n",
      "ENDPAD        : (O    ): B-per\n",
      "ENDPAD        : (O    ): I-gpe\n",
      "ENDPAD        : (O    ): B-per\n",
      "ENDPAD        : (O    ): I-gpe\n",
      "ENDPAD        : (O    ): B-per\n",
      "ENDPAD        : (O    ): I-gpe\n",
      "ENDPAD        : (O    ): B-per\n",
      "ENDPAD        : (O    ): I-gpe\n",
      "ENDPAD        : (O    ): B-per\n",
      "ENDPAD        : (O    ): I-gpe\n",
      "ENDPAD        : (O    ): B-per\n",
      "ENDPAD        : (O    ): I-gpe\n",
      "ENDPAD        : (O    ): B-per\n",
      "ENDPAD        : (O    ): I-gpe\n",
      "ENDPAD        : (O    ): B-per\n",
      "ENDPAD        : (O    ): I-gpe\n",
      "ENDPAD        : (O    ): B-per\n",
      "ENDPAD        : (O    ): I-gpe\n",
      "ENDPAD        : (O    ): B-per\n",
      "ENDPAD        : (O    ): I-gpe\n",
      "ENDPAD        : (O    ): B-per\n",
      "ENDPAD        : (O    ): I-gpe\n",
      "ENDPAD        : (O    ): B-per\n",
      "ENDPAD        : (O    ): I-gpe\n",
      "ENDPAD        : (O    ): B-per\n",
      "ENDPAD        : (O    ): I-gpe\n",
      "ENDPAD        : (O    ): B-per\n",
      "ENDPAD        : (O    ): I-gpe\n",
      "ENDPAD        : (O    ): B-per\n",
      "ENDPAD        : (O    ): I-gpe\n",
      "ENDPAD        : (O    ): B-per\n",
      "ENDPAD        : (O    ): I-gpe\n",
      "ENDPAD        : (O    ): B-per\n",
      "ENDPAD        : (O    ): I-gpe\n",
      "ENDPAD        : (O    ): B-per\n",
      "ENDPAD        : (O    ): I-gpe\n",
      "ENDPAD        : (O    ): B-per\n",
      "ENDPAD        : (O    ): I-gpe\n",
      "ENDPAD        : (O    ): B-per\n",
      "ENDPAD        : (O    ): I-gpe\n",
      "ENDPAD        : (O    ): B-per\n",
      "ENDPAD        : (O    ): I-gpe\n",
      "ENDPAD        : (O    ): B-per\n",
      "ENDPAD        : (O    ): I-gpe\n",
      "ENDPAD        : (O    ): B-per\n",
      "ENDPAD        : (O    ): I-gpe\n",
      "ENDPAD        : (O    ): B-per\n",
      "ENDPAD        : (O    ): I-gpe\n",
      "ENDPAD        : (O    ): B-per\n",
      "ENDPAD        : (O    ): I-gpe\n",
      "ENDPAD        : (O    ): B-per\n",
      "ENDPAD        : (O    ): I-gpe\n",
      "ENDPAD        : (O    ): B-per\n",
      "ENDPAD        : (O    ): I-gpe\n",
      "ENDPAD        : (O    ): B-per\n",
      "ENDPAD        : (O    ): I-gpe\n",
      "ENDPAD        : (O    ): B-per\n",
      "ENDPAD        : (O    ): I-gpe\n",
      "ENDPAD        : (O    ): B-per\n",
      "ENDPAD        : (O    ): I-gpe\n",
      "ENDPAD        : (O    ): B-per\n",
      "ENDPAD        : (O    ): I-gpe\n",
      "ENDPAD        : (O    ): B-per\n",
      "ENDPAD        : (O    ): I-gpe\n",
      "ENDPAD        : (O    ): B-per\n",
      "ENDPAD        : (O    ): I-gpe\n",
      "ENDPAD        : (O    ): B-per\n",
      "ENDPAD        : (O    ): I-gpe\n",
      "ENDPAD        : (O    ): B-per\n",
      "ENDPAD        : (O    ): I-gpe\n",
      "ENDPAD        : (O    ): B-per\n",
      "ENDPAD        : (O    ): I-gpe\n",
      "ENDPAD        : (O    ): B-per\n",
      "ENDPAD        : (O    ): I-gpe\n",
      "ENDPAD        : (O    ): B-per\n"
     ]
    }
   ],
   "source": [
    "gt = np.argmax(y_test[0], axis=-1)\n",
    "print(gt)\n",
    "print(\"{:14}: ({:5}): {}\".format(\"Word\", \"True\", \"Pred\"))\n",
    "for idx, (w,pred) in enumerate(zip(X_test2[0],p[0])):\n",
    "    #\n",
    "    print(\"{:14}: ({:5}): {}\".format(words[w],idx2tag[gt[idx]],tags[pred]))\n"
   ]
  },
  {
   "cell_type": "code",
   "execution_count": null,
   "metadata": {},
   "outputs": [],
   "source": []
  },
  {
   "cell_type": "code",
   "execution_count": null,
   "metadata": {
    "collapsed": true
   },
   "outputs": [],
   "source": []
  }
 ],
 "metadata": {
  "kernelspec": {
   "display_name": "Python 3",
   "language": "python",
   "name": "python3"
  },
  "language_info": {
   "codemirror_mode": {
    "name": "ipython",
    "version": 3
   },
   "file_extension": ".py",
   "mimetype": "text/x-python",
   "name": "python",
   "nbconvert_exporter": "python",
   "pygments_lexer": "ipython3",
   "version": "3.6.1"
  }
 },
 "nbformat": 4,
 "nbformat_minor": 2
}
