{
 "cells": [
  {
   "cell_type": "markdown",
   "metadata": {},
   "source": [
    "# DNN : 100N-200N-150N-50N\n",
    "\n",
    "* https://www.tensorflow.org/get_started/estimator\n",
    "* batch size at data set part\n",
    "* epoch at train stage"
   ]
  },
  {
   "cell_type": "code",
   "execution_count": 3,
   "metadata": {},
   "outputs": [],
   "source": [
    "import os\n",
    "import numpy as np\n",
    "import tensorflow as tf\n",
    "from sklearn.datasets import load_iris"
   ]
  },
  {
   "cell_type": "code",
   "execution_count": 4,
   "metadata": {
    "collapsed": true
   },
   "outputs": [],
   "source": [
    "# data set\n",
    "from sklearn.model_selection import train_test_split\n",
    "\n",
    "iris = load_iris()\n",
    "x_data = iris.data\n",
    "y_data = iris.target\n",
    "x_train, x_test, y_train, y_test = train_test_split(x_data, y_data, test_size=0.20, random_state=42)\n",
    "\n",
    "# Define the training inputs\n",
    "train_input_fn = tf.estimator.inputs.numpy_input_fn(\n",
    "      x={\"x\": np.array(x_train)},\n",
    "      y=np.array(y_train),\n",
    "      num_epochs=100,\n",
    "      batch_size=20, # batch size here\n",
    "      shuffle=False)\n",
    "\n",
    "# Define the test inputs\n",
    "test_input_fn = tf.estimator.inputs.numpy_input_fn(\n",
    "      x={\"x\": np.array(x_test)},\n",
    "      y=np.array(y_test),\n",
    "      num_epochs=1,\n",
    "      batch_size=20, # batch size here\n",
    "      shuffle=False)"
   ]
  },
  {
   "cell_type": "code",
   "execution_count": 5,
   "metadata": {},
   "outputs": [
    {
     "name": "stdout",
     "output_type": "stream",
     "text": [
      "INFO:tensorflow:Using default config.\n",
      "INFO:tensorflow:Using config: {'_model_dir': './iris_model', '_tf_random_seed': None, '_save_summary_steps': 100, '_save_checkpoints_steps': None, '_save_checkpoints_secs': 600, '_session_config': None, '_keep_checkpoint_max': 5, '_keep_checkpoint_every_n_hours': 10000, '_log_step_count_steps': 100, '_service': None, '_cluster_spec': <tensorflow.python.training.server_lib.ClusterSpec object at 0x7f7b5c0bd390>, '_task_type': 'worker', '_task_id': 0, '_master': '', '_is_chief': True, '_num_ps_replicas': 0, '_num_worker_replicas': 1}\n"
     ]
    }
   ],
   "source": [
    "# MODEL\n",
    "# Specify that all features have real-value data\n",
    "feature_columns = [tf.feature_column.numeric_column(\"x\", shape=[x_data.shape[1]])]\n",
    "\n",
    "# Build 3 layer DNN with 10, 20, 10 units respectively.\n",
    "classifier = tf.estimator.DNNClassifier(feature_columns=feature_columns,\n",
    "                                          hidden_units=[100, 200, 150, 50],\n",
    "                                          n_classes=3,\n",
    "                                          model_dir=\"./iris_model\")"
   ]
  },
  {
   "cell_type": "code",
   "execution_count": 6,
   "metadata": {},
   "outputs": [
    {
     "name": "stdout",
     "output_type": "stream",
     "text": [
      "INFO:tensorflow:Create CheckpointSaverHook.\n",
      "INFO:tensorflow:Saving checkpoints for 1 into ./iris_model/model.ckpt.\n",
      "INFO:tensorflow:loss = 23.006, step = 1\n",
      "INFO:tensorflow:global_step/sec: 338.685\n",
      "INFO:tensorflow:loss = 4.6746, step = 101 (0.297 sec)\n",
      "INFO:tensorflow:Saving checkpoints for 200 into ./iris_model/model.ckpt.\n",
      "INFO:tensorflow:Loss for final step: 0.735581.\n"
     ]
    },
    {
     "data": {
      "text/plain": [
       "<tensorflow.python.estimator.canned.dnn.DNNClassifier at 0x7f7b97eaa1d0>"
      ]
     },
     "execution_count": 6,
     "metadata": {},
     "output_type": "execute_result"
    }
   ],
   "source": [
    "# Train MODEL\n",
    "classifier.train(input_fn=train_input_fn, steps=200)# epoch=200"
   ]
  },
  {
   "cell_type": "code",
   "execution_count": 7,
   "metadata": {},
   "outputs": [
    {
     "name": "stdout",
     "output_type": "stream",
     "text": [
      "INFO:tensorflow:Starting evaluation at 2018-01-15-09:25:23\n",
      "INFO:tensorflow:Restoring parameters from ./iris_model/model.ckpt-200\n",
      "INFO:tensorflow:Finished evaluation at 2018-01-15-09:25:23\n",
      "INFO:tensorflow:Saving dict for global step 200: accuracy = 0.966667, average_loss = 0.0489528, global_step = 200, loss = 0.734292\n"
     ]
    },
    {
     "data": {
      "text/plain": [
       "{'accuracy': 0.96666664,\n",
       " 'average_loss': 0.048952769,\n",
       " 'global_step': 200,\n",
       " 'loss': 0.73429155}"
      ]
     },
     "execution_count": 7,
     "metadata": {},
     "output_type": "execute_result"
    }
   ],
   "source": [
    "# ACC for test\n",
    "score = classifier.evaluate(input_fn=test_input_fn)\n",
    "score"
   ]
  },
  {
   "cell_type": "code",
   "execution_count": 8,
   "metadata": {},
   "outputs": [
    {
     "name": "stdout",
     "output_type": "stream",
     "text": [
      "INFO:tensorflow:Restoring parameters from ./iris_model/model.ckpt-200\n",
      "[array([b'1'], dtype=object), array([b'0'], dtype=object), array([b'2'], dtype=object), array([b'1'], dtype=object), array([b'1'], dtype=object), array([b'0'], dtype=object), array([b'1'], dtype=object), array([b'2'], dtype=object), array([b'2'], dtype=object), array([b'1'], dtype=object), array([b'2'], dtype=object), array([b'0'], dtype=object), array([b'0'], dtype=object), array([b'0'], dtype=object), array([b'0'], dtype=object), array([b'1'], dtype=object), array([b'2'], dtype=object), array([b'1'], dtype=object), array([b'1'], dtype=object), array([b'2'], dtype=object), array([b'0'], dtype=object), array([b'2'], dtype=object), array([b'0'], dtype=object), array([b'2'], dtype=object), array([b'2'], dtype=object), array([b'2'], dtype=object), array([b'2'], dtype=object), array([b'2'], dtype=object), array([b'0'], dtype=object), array([b'0'], dtype=object)]\n"
     ]
    }
   ],
   "source": [
    "# predict\n",
    "predictions = list(classifier.predict(input_fn=test_input_fn))\n",
    "predicted_classes = [p[\"classes\"] for p in predictions]\n",
    "print(predicted_classes)"
   ]
  }
 ],
 "metadata": {
  "kernelspec": {
   "display_name": "Python 3",
   "language": "python",
   "name": "python3"
  },
  "language_info": {
   "codemirror_mode": {
    "name": "ipython",
    "version": 3
   },
   "file_extension": ".py",
   "mimetype": "text/x-python",
   "name": "python",
   "nbconvert_exporter": "python",
   "pygments_lexer": "ipython3",
   "version": "3.6.3"
  }
 },
 "nbformat": 4,
 "nbformat_minor": 2
}
