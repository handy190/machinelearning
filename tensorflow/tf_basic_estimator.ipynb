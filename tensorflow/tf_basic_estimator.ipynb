{
 "cells": [
  {
   "cell_type": "markdown",
   "metadata": {},
   "source": [
    "# tf.estimator \n",
    "\n",
    "* tf.estimator is a high-level TensorFlow library that simplifies the mechanics of machine learning\n",
    "* https://www.tensorflow.org/get_started/get_started\n"
   ]
  },
  {
   "cell_type": "code",
   "execution_count": 1,
   "metadata": {},
   "outputs": [],
   "source": [
    "import numpy as np\n",
    "import tensorflow as tf"
   ]
  },
  {
   "cell_type": "code",
   "execution_count": 2,
   "metadata": {},
   "outputs": [
    {
     "name": "stdout",
     "output_type": "stream",
     "text": [
      "INFO:tensorflow:Using default config.\n",
      "WARNING:tensorflow:Using temporary folder as model directory: /tmp/tmp9bzpqrx4\n",
      "INFO:tensorflow:Using config: {'_keep_checkpoint_max': 5, '_save_checkpoints_secs': 600, '_log_step_count_steps': 100, '_is_chief': True, '_service': None, '_save_summary_steps': 100, '_tf_random_seed': None, '_model_dir': '/tmp/tmp9bzpqrx4', '_num_ps_replicas': 0, '_master': '', '_cluster_spec': <tensorflow.python.training.server_lib.ClusterSpec object at 0x7fb9a7d0dba8>, '_session_config': None, '_num_worker_replicas': 1, '_keep_checkpoint_every_n_hours': 10000, '_task_type': 'worker', '_save_checkpoints_steps': None, '_task_id': 0}\n",
      "INFO:tensorflow:Create CheckpointSaverHook.\n",
      "INFO:tensorflow:Saving checkpoints for 1 into /tmp/tmp9bzpqrx4/model.ckpt.\n",
      "INFO:tensorflow:loss = 20.0, step = 1\n",
      "INFO:tensorflow:global_step/sec: 682.47\n",
      "INFO:tensorflow:loss = 0.324427, step = 101 (0.149 sec)\n",
      "INFO:tensorflow:global_step/sec: 808.941\n",
      "INFO:tensorflow:loss = 0.0911291, step = 201 (0.127 sec)\n",
      "INFO:tensorflow:global_step/sec: 833.425\n",
      "INFO:tensorflow:loss = 0.0270906, step = 301 (0.117 sec)\n",
      "INFO:tensorflow:global_step/sec: 839.161\n",
      "INFO:tensorflow:loss = 0.00235319, step = 401 (0.122 sec)\n",
      "INFO:tensorflow:global_step/sec: 860.88\n",
      "INFO:tensorflow:loss = 0.000922474, step = 501 (0.114 sec)\n",
      "INFO:tensorflow:global_step/sec: 887.242\n",
      "INFO:tensorflow:loss = 0.000263102, step = 601 (0.113 sec)\n",
      "INFO:tensorflow:global_step/sec: 935.06\n",
      "INFO:tensorflow:loss = 7.64675e-05, step = 701 (0.104 sec)\n",
      "INFO:tensorflow:global_step/sec: 978.46\n",
      "INFO:tensorflow:loss = 2.04271e-05, step = 801 (0.102 sec)\n",
      "INFO:tensorflow:global_step/sec: 963.194\n",
      "INFO:tensorflow:loss = 4.23185e-06, step = 901 (0.106 sec)\n",
      "INFO:tensorflow:Saving checkpoints for 1000 into /tmp/tmp9bzpqrx4/model.ckpt.\n",
      "INFO:tensorflow:Loss for final step: 5.56178e-07.\n",
      "INFO:tensorflow:Starting evaluation at 2017-11-29-13:09:30\n",
      "INFO:tensorflow:Restoring parameters from /tmp/tmp9bzpqrx4/model.ckpt-1000\n",
      "INFO:tensorflow:Finished evaluation at 2017-11-29-13:09:31\n",
      "INFO:tensorflow:Saving dict for global step 1000: average_loss = 4.44468e-07, global_step = 1000, loss = 1.77787e-06\n",
      "INFO:tensorflow:Starting evaluation at 2017-11-29-13:09:31\n",
      "INFO:tensorflow:Restoring parameters from /tmp/tmp9bzpqrx4/model.ckpt-1000\n",
      "INFO:tensorflow:Finished evaluation at 2017-11-29-13:09:32\n",
      "INFO:tensorflow:Saving dict for global step 1000: average_loss = 0.00259994, global_step = 1000, loss = 0.0103997\n",
      "train metrics: {'average_loss': 4.444677e-07, 'loss': 1.7778708e-06, 'global_step': 1000}\n",
      "eval metrics: {'average_loss': 0.0025999369, 'loss': 0.010399748, 'global_step': 1000}\n"
     ]
    }
   ],
   "source": [
    "# Declare list of features. We only have one numeric feature. There are many\n",
    "# other types of columns that are more complicated and useful.\n",
    "feature_columns = [tf.feature_column.numeric_column(\"x\", shape=[1])]# 输入\n",
    "\n",
    "# LinearRegressor 已经被estimator实现好了\n",
    "estimator = tf.estimator.LinearRegressor(feature_columns=feature_columns)\n",
    "\n",
    "# 训练集\n",
    "x_train = np.array([1., 2., 3., 4.])\n",
    "y_train = np.array([0., -1., -2., -3.])\n",
    "# 验证集\n",
    "x_eval = np.array([2., 5., 8., 1.])\n",
    "y_eval = np.array([-1.01, -4.1, -7, 0.])\n",
    "# input_fn 占个位子\n",
    "input_fn = tf.estimator.inputs.numpy_input_fn(\n",
    "    {\"x\": x_train}, y_train, batch_size=4, num_epochs=None, shuffle=True)\n",
    "# 具体的训练集\n",
    "train_input_fn = tf.estimator.inputs.numpy_input_fn(\n",
    "    {\"x\": x_train}, y_train, batch_size=4, num_epochs=1000, shuffle=False)\n",
    "# 具体的验证集\n",
    "eval_input_fn = tf.estimator.inputs.numpy_input_fn(\n",
    "    {\"x\": x_eval}, y_eval, batch_size=4, num_epochs=1000, shuffle=False)\n",
    "\n",
    "# 训练\n",
    "estimator.train(input_fn=input_fn, steps=1000)#训练1000次\n",
    "\n",
    "# Here we evaluate how well our model did.\n",
    "train_metrics = estimator.evaluate(input_fn=train_input_fn)\n",
    "eval_metrics = estimator.evaluate(input_fn=eval_input_fn)\n",
    "print(\"train metrics: %r\"% train_metrics)\n",
    "print(\"eval metrics: %r\"% eval_metrics)\n"
   ]
  }
 ],
 "metadata": {
  "kernelspec": {
   "display_name": "Python 3",
   "language": "python",
   "name": "python3"
  },
  "language_info": {
   "codemirror_mode": {
    "name": "ipython",
    "version": 3
   },
   "file_extension": ".py",
   "mimetype": "text/x-python",
   "name": "python",
   "nbconvert_exporter": "python",
   "pygments_lexer": "ipython3",
   "version": "3.5.4"
  }
 },
 "nbformat": 4,
 "nbformat_minor": 2
}
