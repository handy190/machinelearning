{
 "cells": [
  {
   "cell_type": "markdown",
   "metadata": {},
   "source": [
    "# 计算 10x-5"
   ]
  },
  {
   "cell_type": "markdown",
   "metadata": {},
   "source": [
    "**TF核心**：计算图"
   ]
  },
  {
   "cell_type": "code",
   "execution_count": null,
   "metadata": {
    "collapsed": true
   },
   "outputs": [],
   "source": [
    "import tensorflow as tf\n",
    "\n",
    "with tf.Session() as sess:                 \n",
    "    with tf.device(\"/cpu:0\"):\n",
    "        with tf.name_scope('My-Graphic') as scope:                         # 计算图的名字\n",
    "            x = tf.placeholder(tf.float32, name='Input-X')                 # 未知数，待输入\n",
    "            v = tf.Variable([10.0], name='Variable')                       # 变量\n",
    "            c = tf.constant([5.0], name='Constant')                        # 常量\n",
    "            mul = tf.multiply(x, v, name='Mul')                            # 定义乘法\n",
    "            out = tf.subtract(mul, c, name='Output')                       # 定义减法\n",
    "            file_writer = tf.summary.FileWriter('tflog', sess.graph)       # tensorboard所用的log\n",
    "            # 完成了计算图的定义\n",
    "    \n",
    "            # 开始计算\n",
    "            sess.run(tf.global_variables_initializer())                     # 初始化计算图中的变量\n",
    "            print(sess.run([out], feed_dict={x:[2.0]}))"
   ]
  },
  {
   "cell_type": "code",
   "execution_count": null,
   "metadata": {
    "collapsed": true
   },
   "outputs": [],
   "source": [
    "! tensorboard --logdir=tflog"
   ]
  },
  {
   "cell_type": "markdown",
   "metadata": {},
   "source": [
    "access http://localhost:6006/"
   ]
  }
 ],
 "metadata": {
  "kernelspec": {
   "display_name": "Python 3",
   "language": "python",
   "name": "python3"
  },
  "language_info": {
   "codemirror_mode": {
    "name": "ipython",
    "version": 3
   },
   "file_extension": ".py",
   "mimetype": "text/x-python",
   "name": "python",
   "nbconvert_exporter": "python",
   "pygments_lexer": "ipython3",
   "version": "3.5.3"
  }
 },
 "nbformat": 4,
 "nbformat_minor": 2
}
