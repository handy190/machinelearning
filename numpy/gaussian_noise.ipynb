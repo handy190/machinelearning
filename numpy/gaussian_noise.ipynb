{
 "cells": [
  {
   "cell_type": "code",
   "execution_count": null,
   "metadata": {
    "collapsed": true
   },
   "outputs": [],
   "source": []
  },
  {
   "cell_type": "code",
   "execution_count": 10,
   "metadata": {
    "collapsed": true
   },
   "outputs": [],
   "source": [
    "import numpy as np\n",
    "\n",
    "noise = np.random.normal(0,1,30)\n",
    "\n",
    "# 0 is the mean of the normal distribution you are choosing from\n",
    "# 1 is the standard deviation of the normal distribution\n",
    "# 30 is the number of elements you get in array noise"
   ]
  },
  {
   "cell_type": "code",
   "execution_count": 13,
   "metadata": {},
   "outputs": [
    {
     "data": {
      "text/plain": [
       "array([-1.13608384,  0.37512889,  0.0263793 ,  1.16293738,  0.80661726,\n",
       "        1.47281329, -0.21373503, -0.70424247,  0.37455404,  0.55665054,\n",
       "       -0.26925933,  0.56275403, -0.93706337, -0.15830708, -0.38182832,\n",
       "        1.1316102 , -0.52149308, -0.25669986,  1.00811478, -0.23900979,\n",
       "       -0.22045461,  0.15739684,  0.41296497,  0.84834625,  0.6583024 ,\n",
       "       -0.04200808,  1.1715986 ,  0.40179468, -2.43056147, -0.39240578])"
      ]
     },
     "execution_count": 13,
     "metadata": {},
     "output_type": "execute_result"
    }
   ],
   "source": [
    "noise"
   ]
  },
  {
   "cell_type": "code",
   "execution_count": 11,
   "metadata": {},
   "outputs": [],
   "source": [
    "X = np.linspace(0, 20, 30)\n",
    "X_noise = X+noise"
   ]
  },
  {
   "cell_type": "code",
   "execution_count": 14,
   "metadata": {},
   "outputs": [
    {
     "data": {
      "image/png": "[encoded data removed]",
      "text/plain": [
       "<matplotlib.figure.Figure at 0x7efd5d8110f0>"
      ]
     },
     "metadata": {},
     "output_type": "display_data"
    }
   ],
   "source": [
    "%matplotlib inline\n",
    "\n",
    "import matplotlib\n",
    "import matplotlib.pyplot as plt\n",
    "\n",
    "#matplotlib.rcParams['figure.figsize'] = (50.0, 10.0)\n",
    "\n",
    "\n",
    "plt.xlabel('x')\n",
    "plt.ylabel('y')\n",
    "plt.title('compare')\n",
    "\n",
    "plt.plot(range(len(X)), X, 'r')\n",
    "plt.plot(range(len(X_noise)), X_noise, 'g')\n",
    "\n",
    "\n",
    "plt.show()\n"
   ]
  },
  {
   "cell_type": "code",
   "execution_count": null,
   "metadata": {
    "collapsed": true
   },
   "outputs": [],
   "source": []
  }
 ],
 "metadata": {
  "kernelspec": {
   "display_name": "Python 3",
   "language": "python",
   "name": "python3"
  },
  "language_info": {
   "codemirror_mode": {
    "name": "ipython",
    "version": 3
   },
   "file_extension": ".py",
   "mimetype": "text/x-python",
   "name": "python",
   "nbconvert_exporter": "python",
   "pygments_lexer": "ipython3",
   "version": "3.6.2"
  }
 },
 "nbformat": 4,
 "nbformat_minor": 2
}
