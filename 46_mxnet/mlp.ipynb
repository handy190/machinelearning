{
 "cells": [
  {
   "cell_type": "markdown",
   "metadata": {},
   "source": [
    "# MLP by gluon"
   ]
  },
  {
   "cell_type": "code",
   "execution_count": 6,
   "metadata": {},
   "outputs": [],
   "source": [
    "import d2lzh as d2l\n",
    "from mxnet import gluon, init\n",
    "from mxnet.gluon import loss as gloss, nn"
   ]
  },
  {
   "cell_type": "code",
   "execution_count": 7,
   "metadata": {},
   "outputs": [],
   "source": [
    "# model\n",
    "net = nn.Sequential()\n",
    "net.add(nn.Dense(256, activation='relu'),nn.Dense(2, activation='relu'),\n",
    "        nn.Dense(10))\n",
    "net.initialize(init.Normal(sigma=0.01))"
   ]
  },
  {
   "cell_type": "code",
   "execution_count": 8,
   "metadata": {},
   "outputs": [],
   "source": [
    "# data\n",
    "batch_size = 256\n",
    "train_iter, test_iter = d2l.load_data_fashion_mnist(batch_size)"
   ]
  },
  {
   "cell_type": "code",
   "execution_count": 9,
   "metadata": {},
   "outputs": [],
   "source": [
    "# cost function & optimization func\n",
    "loss = gloss.SoftmaxCrossEntropyLoss()\n",
    "trainer = gluon.Trainer(net.collect_params(), 'sgd', {'learning_rate': 0.5})"
   ]
  },
  {
   "cell_type": "code",
   "execution_count": 10,
   "metadata": {},
   "outputs": [
    {
     "name": "stdout",
     "output_type": "stream",
     "text": [
      "epoch 1, loss 1.9317, train acc 0.236, test acc 0.173\n",
      "epoch 2, loss 1.4685, train acc 0.420, test acc 0.541\n",
      "epoch 3, loss 1.0208, train acc 0.527, test acc 0.510\n",
      "epoch 4, loss 2.1428, train acc 0.206, test acc 0.100\n",
      "epoch 5, loss 2.3032, train acc 0.099, test acc 0.100\n"
     ]
    }
   ],
   "source": [
    "num_epochs = 5\n",
    "d2l.train_ch3(net, train_iter, test_iter, loss, num_epochs, batch_size, None, None, trainer)"
   ]
  },
  {
   "cell_type": "code",
   "execution_count": 11,
   "metadata": {},
   "outputs": [],
   "source": [
    "# access model para"
   ]
  },
  {
   "cell_type": "code",
   "execution_count": 15,
   "metadata": {},
   "outputs": [
    {
     "data": {
      "text/plain": [
       "(dense2_ (\n",
       "   Parameter dense2_weight (shape=(256, 784), dtype=float32)\n",
       "   Parameter dense2_bias (shape=(256,), dtype=float32)\n",
       " ), mxnet.gluon.parameter.ParameterDict)"
      ]
     },
     "execution_count": 15,
     "metadata": {},
     "output_type": "execute_result"
    }
   ],
   "source": [
    "net[0].params, type(net[0].params)"
   ]
  },
  {
   "cell_type": "code",
   "execution_count": 16,
   "metadata": {},
   "outputs": [
    {
     "data": {
      "text/plain": [
       "(Parameter dense2_weight (shape=(256, 784), dtype=float32),\n",
       " Parameter dense2_weight (shape=(256, 784), dtype=float32))"
      ]
     },
     "execution_count": 16,
     "metadata": {},
     "output_type": "execute_result"
    }
   ],
   "source": [
    "net[0].params['dense2_weight'], net[0].weight"
   ]
  },
  {
   "cell_type": "code",
   "execution_count": 17,
   "metadata": {},
   "outputs": [
    {
     "data": {
      "text/plain": [
       "\n",
       "[[-1.9173643e-02 -1.6809843e-02 -2.6441807e-02 ... -7.8859702e-03\n",
       "  -2.4430018e-03  2.2307150e-03]\n",
       " [-4.7957352e-03 -1.6061187e-02 -1.2080413e-02 ... -1.4667552e-03\n",
       "   1.8119836e-02  1.0312379e-02]\n",
       " [-1.9501178e-02  1.6508941e-02 -1.1737199e-02 ...  2.4781907e-02\n",
       "  -6.1785574e-03 -9.8882876e-03]\n",
       " ...\n",
       " [-3.2747341e-03  1.6158322e-02  1.0328829e-02 ... -6.7299320e-03\n",
       "   2.0808465e-04  6.6252151e-03]\n",
       " [ 9.6921213e-03  7.5180302e-03 -2.1073619e-02 ...  2.2837601e-03\n",
       "   1.1352825e-02 -6.8231183e-03]\n",
       " [ 1.6938936e-02 -2.5341100e-05  1.0821577e-02 ...  4.7614174e-03\n",
       "  -5.7446053e-03  8.2231732e-03]]\n",
       "<NDArray 256x784 @cpu(0)>"
      ]
     },
     "execution_count": 17,
     "metadata": {},
     "output_type": "execute_result"
    }
   ],
   "source": [
    "net[0].weight.data()"
   ]
  },
  {
   "cell_type": "code",
   "execution_count": 18,
   "metadata": {},
   "outputs": [
    {
     "data": {
      "text/plain": [
       "\n",
       "[0.80129045 1.3157992 ]\n",
       "<NDArray 2 @cpu(0)>"
      ]
     },
     "execution_count": 18,
     "metadata": {},
     "output_type": "execute_result"
    }
   ],
   "source": [
    "net[1].bias.data()"
   ]
  },
  {
   "cell_type": "code",
   "execution_count": 19,
   "metadata": {},
   "outputs": [
    {
     "data": {
      "text/plain": [
       "sequential1_ (\n",
       "  Parameter dense2_weight (shape=(256, 784), dtype=float32)\n",
       "  Parameter dense2_bias (shape=(256,), dtype=float32)\n",
       "  Parameter dense3_weight (shape=(2, 256), dtype=float32)\n",
       "  Parameter dense3_bias (shape=(2,), dtype=float32)\n",
       "  Parameter dense4_weight (shape=(10, 2), dtype=float32)\n",
       "  Parameter dense4_bias (shape=(10,), dtype=float32)\n",
       ")"
      ]
     },
     "execution_count": 19,
     "metadata": {},
     "output_type": "execute_result"
    }
   ],
   "source": [
    "net.collect_params()"
   ]
  }
 ],
 "metadata": {
  "kernelspec": {
   "display_name": "Python 3",
   "language": "python",
   "name": "python3"
  },
  "language_info": {
   "codemirror_mode": {
    "name": "ipython",
    "version": 3
   },
   "file_extension": ".py",
   "mimetype": "text/x-python",
   "name": "python",
   "nbconvert_exporter": "python",
   "pygments_lexer": "ipython3",
   "version": "3.5.6"
  }
 },
 "nbformat": 4,
 "nbformat_minor": 2
}
