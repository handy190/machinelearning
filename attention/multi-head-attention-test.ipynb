{
 "cells": [
  {
   "cell_type": "code",
   "execution_count": null,
   "metadata": {
    "collapsed": true
   },
   "outputs": [],
   "source": []
  },
  {
   "cell_type": "code",
   "execution_count": null,
   "metadata": {
    "collapsed": true
   },
   "outputs": [],
   "source": []
  },
  {
   "cell_type": "markdown",
   "metadata": {},
   "source": [
    "# 1. 1D-multii-head-attention"
   ]
  },
  {
   "cell_type": "code",
   "execution_count": 34,
   "metadata": {
    "scrolled": true
   },
   "outputs": [],
   "source": [
    "import numpy as np\n",
    "\n",
    "x_data = np.random.randint(10, size=(10, 18))\n",
    "y_data = np.random.randint(2, size=(10,2))"
   ]
  },
  {
   "cell_type": "code",
   "execution_count": 35,
   "metadata": {},
   "outputs": [
    {
     "data": {
      "text/plain": [
       "array([[0, 0],\n",
       "       [1, 0],\n",
       "       [0, 0],\n",
       "       [0, 1],\n",
       "       [1, 1],\n",
       "       [0, 1],\n",
       "       [1, 0],\n",
       "       [1, 1],\n",
       "       [0, 0],\n",
       "       [1, 1]])"
      ]
     },
     "execution_count": 35,
     "metadata": {},
     "output_type": "execute_result"
    }
   ],
   "source": [
    "y_data"
   ]
  },
  {
   "cell_type": "code",
   "execution_count": 36,
   "metadata": {},
   "outputs": [
    {
     "name": "stdout",
     "output_type": "stream",
     "text": [
      "Model: \"sequential_9\"\n",
      "_________________________________________________________________\n",
      "Layer (type)                 Output Shape              Param #   \n",
      "=================================================================\n",
      "Embedding (Embedding)        (None, None, 20)          360       \n",
      "_________________________________________________________________\n",
      "Multi-LSTMs (MultiHead)      (None, 32, 5)             33920     \n",
      "_________________________________________________________________\n",
      "Flatten (Flatten)            (None, 160)               0         \n",
      "_________________________________________________________________\n",
      "Dense (Dense)                (None, 2)                 322       \n",
      "=================================================================\n",
      "Total params: 34,602\n",
      "Trainable params: 34,602\n",
      "Non-trainable params: 0\n",
      "_________________________________________________________________\n"
     ]
    }
   ],
   "source": [
    "import keras\n",
    "from keras_multi_head import MultiHead\n",
    "\n",
    "\n",
    "model = keras.models.Sequential()\n",
    "model.add(keras.layers.Embedding(input_dim=18, output_dim=20, name='Embedding'))\n",
    "model.add(MultiHead(keras.layers.LSTM(units=32), layer_num=5, name='Multi-LSTMs'))\n",
    "model.add(keras.layers.Flatten(name='Flatten'))\n",
    "model.add(keras.layers.Dense(units=2, activation='softmax', name='Dense'))\n",
    "model.compile(loss='binary_crossentropy', optimizer='adam')\n",
    "model.build()\n",
    "model.summary()"
   ]
  },
  {
   "cell_type": "code",
   "execution_count": 37,
   "metadata": {},
   "outputs": [
    {
     "name": "stdout",
     "output_type": "stream",
     "text": [
      "Epoch 1/10\n",
      "10/10 [==============================] - 2s 194ms/step - loss: 0.6937\n",
      "Epoch 2/10\n",
      "10/10 [==============================] - 0s 1ms/step - loss: 0.6928\n",
      "Epoch 3/10\n",
      "10/10 [==============================] - 0s 1ms/step - loss: 0.6917\n",
      "Epoch 4/10\n",
      "10/10 [==============================] - 0s 1ms/step - loss: 0.6907\n",
      "Epoch 5/10\n",
      "10/10 [==============================] - 0s 1ms/step - loss: 0.6897\n",
      "Epoch 6/10\n",
      "10/10 [==============================] - 0s 1ms/step - loss: 0.6887\n",
      "Epoch 7/10\n",
      "10/10 [==============================] - 0s 1ms/step - loss: 0.6875\n",
      "Epoch 8/10\n",
      "10/10 [==============================] - 0s 1ms/step - loss: 0.6863\n",
      "Epoch 9/10\n",
      "10/10 [==============================] - 0s 1ms/step - loss: 0.6850\n",
      "Epoch 10/10\n",
      "10/10 [==============================] - 0s 1ms/step - loss: 0.6837\n"
     ]
    },
    {
     "data": {
      "text/plain": [
       "<keras.callbacks.callbacks.History at 0x7f171ef138d0>"
      ]
     },
     "execution_count": 37,
     "metadata": {},
     "output_type": "execute_result"
    }
   ],
   "source": [
    "model.fit(x_data,y_data,epochs=10)"
   ]
  },
  {
   "cell_type": "markdown",
   "metadata": {},
   "source": [
    "# 2. 2D data"
   ]
  },
  {
   "cell_type": "code",
   "execution_count": 39,
   "metadata": {
    "collapsed": true
   },
   "outputs": [],
   "source": [
    "import numpy as np\n",
    "\n",
    "x_data2 = np.random.randint(10, size=(10,6,18))\n",
    "y_data2 = np.random.randint(2, size=(10,2))"
   ]
  },
  {
   "cell_type": "markdown",
   "metadata": {},
   "source": [
    "## without multi-head-attention"
   ]
  },
  {
   "cell_type": "code",
   "execution_count": 48,
   "metadata": {},
   "outputs": [
    {
     "name": "stdout",
     "output_type": "stream",
     "text": [
      "Epoch 1/10\n",
      "10/10 [==============================] - 2s 156ms/step - loss: 0.7118\n",
      "Epoch 2/10\n",
      "10/10 [==============================] - 0s 414us/step - loss: 0.7046\n",
      "Epoch 3/10\n",
      "10/10 [==============================] - 0s 367us/step - loss: 0.7028\n",
      "Epoch 4/10\n",
      "10/10 [==============================] - 0s 372us/step - loss: 0.6974\n",
      "Epoch 5/10\n",
      "10/10 [==============================] - 0s 562us/step - loss: 0.6919\n",
      "Epoch 6/10\n",
      "10/10 [==============================] - 0s 390us/step - loss: 0.6998\n",
      "Epoch 7/10\n",
      "10/10 [==============================] - 0s 380us/step - loss: 0.6884\n",
      "Epoch 8/10\n",
      "10/10 [==============================] - 0s 374us/step - loss: 0.6844\n",
      "Epoch 9/10\n",
      "10/10 [==============================] - 0s 388us/step - loss: 0.6926\n",
      "Epoch 10/10\n",
      "10/10 [==============================] - 0s 342us/step - loss: 0.6862\n"
     ]
    },
    {
     "data": {
      "text/plain": [
       "<keras.callbacks.callbacks.History at 0x7f171ba09cf8>"
      ]
     },
     "execution_count": 48,
     "metadata": {},
     "output_type": "execute_result"
    }
   ],
   "source": [
    "from keras.models import Sequential\n",
    "from keras.layers import Dense, Dropout, Flatten, Activation, BatchNormalization, GlobalAveragePooling2D\n",
    "from keras.layers import Conv2D, MaxPooling2D, Convolution2D, ZeroPadding2D,LSTM\n",
    "from keras_multi_head import MultiHead\n",
    "\n",
    "# LSTM model\n",
    "model = Sequential()\n",
    "model.add(LSTM(4, kernel_initializer='glorot_uniform', recurrent_initializer='orthogonal', return_sequences=True))\n",
    "model.add(LSTM(6))\n",
    "model.add(Dense(20, activation='relu'))\n",
    "model.add(Dropout(0.5))\n",
    "model.add(Dense(2, activation='softmax'))\n",
    "\n",
    "model.compile(loss='binary_crossentropy', optimizer='adam')\n",
    "\n",
    "batch_size = 128\n",
    "\n",
    "# fit model to data\n",
    "# paramter validation_data to show validation-data for each step of training\n",
    "# parameter callbacks to use tensorboard\n",
    "model.fit(x_data2, y_data2,\n",
    "          epochs=10)\n"
   ]
  },
  {
   "cell_type": "code",
   "execution_count": 50,
   "metadata": {},
   "outputs": [
    {
     "name": "stdout",
     "output_type": "stream",
     "text": [
      "Model: \"sequential_18\"\n",
      "_________________________________________________________________\n",
      "Layer (type)                 Output Shape              Param #   \n",
      "=================================================================\n",
      "lstm_24 (LSTM)               (None, 6, 4)              368       \n",
      "_________________________________________________________________\n",
      "lstm_25 (LSTM)               (None, 6)                 264       \n",
      "_________________________________________________________________\n",
      "dense_10 (Dense)             (None, 20)                140       \n",
      "_________________________________________________________________\n",
      "dropout_6 (Dropout)          (None, 20)                0         \n",
      "_________________________________________________________________\n",
      "dense_11 (Dense)             (None, 2)                 42        \n",
      "=================================================================\n",
      "Total params: 814\n",
      "Trainable params: 814\n",
      "Non-trainable params: 0\n",
      "_________________________________________________________________\n"
     ]
    }
   ],
   "source": [
    "model.summary()"
   ]
  },
  {
   "cell_type": "markdown",
   "metadata": {},
   "source": [
    "## with multi-head-attention\n",
    "\n",
    "**should reshape dataset, then use 1d-attention**"
   ]
  },
  {
   "cell_type": "code",
   "execution_count": 55,
   "metadata": {},
   "outputs": [],
   "source": [
    "x_data2 = x_data2.reshape(x_data2.shape[0], x_data2.shape[1]*x_data2.shape[2])\n",
    "y_data2 = y_data2"
   ]
  },
  {
   "cell_type": "code",
   "execution_count": 58,
   "metadata": {},
   "outputs": [
    {
     "name": "stdout",
     "output_type": "stream",
     "text": [
      "Model: \"sequential_24\"\n",
      "_________________________________________________________________\n",
      "Layer (type)                 Output Shape              Param #   \n",
      "=================================================================\n",
      "Embedding (Embedding)        (None, None, 20)          2160      \n",
      "_________________________________________________________________\n",
      "Multi-LSTMs (MultiHead)      (None, 32, 5)             33920     \n",
      "_________________________________________________________________\n",
      "Flatten (Flatten)            (None, 160)               0         \n",
      "_________________________________________________________________\n",
      "Dense (Dense)                (None, 2)                 322       \n",
      "=================================================================\n",
      "Total params: 36,402\n",
      "Trainable params: 36,402\n",
      "Non-trainable params: 0\n",
      "_________________________________________________________________\n",
      "Epoch 1/10\n",
      "10/10 [==============================] - 3s 268ms/step - loss: 0.6948\n",
      "Epoch 2/10\n",
      "10/10 [==============================] - 0s 6ms/step - loss: 0.6923\n",
      "Epoch 3/10\n",
      "10/10 [==============================] - 0s 6ms/step - loss: 0.6900\n",
      "Epoch 4/10\n",
      "10/10 [==============================] - 0s 6ms/step - loss: 0.6879\n",
      "Epoch 5/10\n",
      "10/10 [==============================] - 0s 6ms/step - loss: 0.6860\n",
      "Epoch 6/10\n",
      "10/10 [==============================] - 0s 6ms/step - loss: 0.6842\n",
      "Epoch 7/10\n",
      "10/10 [==============================] - 0s 6ms/step - loss: 0.6825\n",
      "Epoch 8/10\n",
      "10/10 [==============================] - 0s 6ms/step - loss: 0.6809\n",
      "Epoch 9/10\n",
      "10/10 [==============================] - 0s 9ms/step - loss: 0.6794\n",
      "Epoch 10/10\n",
      "10/10 [==============================] - 0s 8ms/step - loss: 0.6778\n"
     ]
    },
    {
     "data": {
      "text/plain": [
       "<keras.callbacks.callbacks.History at 0x7f171727d9e8>"
      ]
     },
     "execution_count": 58,
     "metadata": {},
     "output_type": "execute_result"
    }
   ],
   "source": [
    "import keras\n",
    "from keras_multi_head import MultiHead\n",
    "\n",
    "\n",
    "model = keras.models.Sequential()\n",
    "model.add(keras.layers.Embedding(input_dim=x_data2.shape[1], output_dim=20, name='Embedding'))\n",
    "model.add(MultiHead(keras.layers.LSTM(units=32), layer_num=5, name='Multi-LSTMs'))\n",
    "model.add(keras.layers.Flatten(name='Flatten'))\n",
    "model.add(keras.layers.Dense(units=2, activation='softmax', name='Dense'))\n",
    "model.compile(loss='binary_crossentropy', optimizer='adam')\n",
    "model.build()\n",
    "model.summary()\n",
    "\n",
    "model.fit(x_data2,y_data2,epochs=10)"
   ]
  },
  {
   "cell_type": "code",
   "execution_count": null,
   "metadata": {},
   "outputs": [],
   "source": []
  },
  {
   "cell_type": "code",
   "execution_count": null,
   "metadata": {
    "collapsed": true
   },
   "outputs": [],
   "source": []
  },
  {
   "cell_type": "code",
   "execution_count": null,
   "metadata": {
    "collapsed": true
   },
   "outputs": [],
   "source": []
  },
  {
   "cell_type": "code",
   "execution_count": null,
   "metadata": {
    "collapsed": true
   },
   "outputs": [],
   "source": []
  }
 ],
 "metadata": {
  "kernelspec": {
   "display_name": "Python 3",
   "language": "python",
   "name": "python3"
  },
  "language_info": {
   "codemirror_mode": {
    "name": "ipython",
    "version": 3
   },
   "file_extension": ".py",
   "mimetype": "text/x-python",
   "name": "python",
   "nbconvert_exporter": "python",
   "pygments_lexer": "ipython3",
   "version": "3.6.2"
  }
 },
 "nbformat": 4,
 "nbformat_minor": 2
}
