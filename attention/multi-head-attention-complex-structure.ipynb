{
 "cells": [
  {
   "cell_type": "markdown",
   "metadata": {
    "collapsed": true
   },
   "source": [
    "##### ref\n",
    "* https://github.com/CyberZHG/keras-multi-head"
   ]
  },
  {
   "cell_type": "markdown",
   "metadata": {},
   "source": [
    "# 1. multi-head"
   ]
  },
  {
   "cell_type": "markdown",
   "metadata": {},
   "source": [
    "**MultiHead is not MultiHeadAttention**"
   ]
  },
  {
   "cell_type": "markdown",
   "metadata": {},
   "source": [
    "# 2D data"
   ]
  },
  {
   "cell_type": "code",
   "execution_count": 1,
   "metadata": {
    "collapsed": true
   },
   "outputs": [],
   "source": [
    "import numpy as np\n",
    "\n",
    "x_data2 = np.random.randint(10, size=(10,6,18))\n",
    "y_data2 = np.random.randint(2, size=(10,2))"
   ]
  },
  {
   "cell_type": "markdown",
   "metadata": {},
   "source": [
    "## without multi-head-attention"
   ]
  },
  {
   "cell_type": "code",
   "execution_count": 2,
   "metadata": {
    "scrolled": true
   },
   "outputs": [
    {
     "name": "stderr",
     "output_type": "stream",
     "text": [
      "Using TensorFlow backend.\n",
      "/root/anaconda3/envs/env_slp_py36/lib/python3.6/site-packages/tensorflow/python/framework/dtypes.py:516: FutureWarning: Passing (type, 1) or '1type' as a synonym of type is deprecated; in a future version of numpy, it will be understood as (type, (1,)) / '(1,)type'.\n",
      "  _np_qint8 = np.dtype([(\"qint8\", np.int8, 1)])\n",
      "/root/anaconda3/envs/env_slp_py36/lib/python3.6/site-packages/tensorflow/python/framework/dtypes.py:517: FutureWarning: Passing (type, 1) or '1type' as a synonym of type is deprecated; in a future version of numpy, it will be understood as (type, (1,)) / '(1,)type'.\n",
      "  _np_quint8 = np.dtype([(\"quint8\", np.uint8, 1)])\n",
      "/root/anaconda3/envs/env_slp_py36/lib/python3.6/site-packages/tensorflow/python/framework/dtypes.py:518: FutureWarning: Passing (type, 1) or '1type' as a synonym of type is deprecated; in a future version of numpy, it will be understood as (type, (1,)) / '(1,)type'.\n",
      "  _np_qint16 = np.dtype([(\"qint16\", np.int16, 1)])\n",
      "/root/anaconda3/envs/env_slp_py36/lib/python3.6/site-packages/tensorflow/python/framework/dtypes.py:519: FutureWarning: Passing (type, 1) or '1type' as a synonym of type is deprecated; in a future version of numpy, it will be understood as (type, (1,)) / '(1,)type'.\n",
      "  _np_quint16 = np.dtype([(\"quint16\", np.uint16, 1)])\n",
      "/root/anaconda3/envs/env_slp_py36/lib/python3.6/site-packages/tensorflow/python/framework/dtypes.py:520: FutureWarning: Passing (type, 1) or '1type' as a synonym of type is deprecated; in a future version of numpy, it will be understood as (type, (1,)) / '(1,)type'.\n",
      "  _np_qint32 = np.dtype([(\"qint32\", np.int32, 1)])\n",
      "/root/anaconda3/envs/env_slp_py36/lib/python3.6/site-packages/tensorflow/python/framework/dtypes.py:525: FutureWarning: Passing (type, 1) or '1type' as a synonym of type is deprecated; in a future version of numpy, it will be understood as (type, (1,)) / '(1,)type'.\n",
      "  np_resource = np.dtype([(\"resource\", np.ubyte, 1)])\n",
      "/root/anaconda3/envs/env_slp_py36/lib/python3.6/site-packages/tensorboard/compat/tensorflow_stub/dtypes.py:541: FutureWarning: Passing (type, 1) or '1type' as a synonym of type is deprecated; in a future version of numpy, it will be understood as (type, (1,)) / '(1,)type'.\n",
      "  _np_qint8 = np.dtype([(\"qint8\", np.int8, 1)])\n",
      "/root/anaconda3/envs/env_slp_py36/lib/python3.6/site-packages/tensorboard/compat/tensorflow_stub/dtypes.py:542: FutureWarning: Passing (type, 1) or '1type' as a synonym of type is deprecated; in a future version of numpy, it will be understood as (type, (1,)) / '(1,)type'.\n",
      "  _np_quint8 = np.dtype([(\"quint8\", np.uint8, 1)])\n",
      "/root/anaconda3/envs/env_slp_py36/lib/python3.6/site-packages/tensorboard/compat/tensorflow_stub/dtypes.py:543: FutureWarning: Passing (type, 1) or '1type' as a synonym of type is deprecated; in a future version of numpy, it will be understood as (type, (1,)) / '(1,)type'.\n",
      "  _np_qint16 = np.dtype([(\"qint16\", np.int16, 1)])\n",
      "/root/anaconda3/envs/env_slp_py36/lib/python3.6/site-packages/tensorboard/compat/tensorflow_stub/dtypes.py:544: FutureWarning: Passing (type, 1) or '1type' as a synonym of type is deprecated; in a future version of numpy, it will be understood as (type, (1,)) / '(1,)type'.\n",
      "  _np_quint16 = np.dtype([(\"quint16\", np.uint16, 1)])\n",
      "/root/anaconda3/envs/env_slp_py36/lib/python3.6/site-packages/tensorboard/compat/tensorflow_stub/dtypes.py:545: FutureWarning: Passing (type, 1) or '1type' as a synonym of type is deprecated; in a future version of numpy, it will be understood as (type, (1,)) / '(1,)type'.\n",
      "  _np_qint32 = np.dtype([(\"qint32\", np.int32, 1)])\n",
      "/root/anaconda3/envs/env_slp_py36/lib/python3.6/site-packages/tensorboard/compat/tensorflow_stub/dtypes.py:550: FutureWarning: Passing (type, 1) or '1type' as a synonym of type is deprecated; in a future version of numpy, it will be understood as (type, (1,)) / '(1,)type'.\n",
      "  np_resource = np.dtype([(\"resource\", np.ubyte, 1)])\n"
     ]
    },
    {
     "name": "stdout",
     "output_type": "stream",
     "text": [
      "WARNING:tensorflow:From /root/anaconda3/envs/env_slp_py36/lib/python3.6/site-packages/tensorflow/python/ops/math_grad.py:1250: add_dispatch_support.<locals>.wrapper (from tensorflow.python.ops.array_ops) is deprecated and will be removed in a future version.\n",
      "Instructions for updating:\n",
      "Use tf.where in 2.0, which has the same broadcast rule as np.where\n",
      "WARNING:tensorflow:From /root/anaconda3/envs/env_slp_py36/lib/python3.6/site-packages/keras/backend/tensorflow_backend.py:422: The name tf.global_variables is deprecated. Please use tf.compat.v1.global_variables instead.\n",
      "\n",
      "Epoch 1/10\n",
      "10/10 [==============================] - 1s 55ms/step - loss: 0.6996\n",
      "Epoch 2/10\n",
      "10/10 [==============================] - 0s 372us/step - loss: 0.6939\n",
      "Epoch 3/10\n",
      "10/10 [==============================] - 0s 405us/step - loss: 0.7173\n",
      "Epoch 4/10\n",
      "10/10 [==============================] - 0s 332us/step - loss: 0.6813\n",
      "Epoch 5/10\n",
      "10/10 [==============================] - 0s 322us/step - loss: 0.7093\n",
      "Epoch 6/10\n",
      "10/10 [==============================] - 0s 418us/step - loss: 0.6798\n",
      "Epoch 7/10\n",
      "10/10 [==============================] - 0s 320us/step - loss: 0.6734\n",
      "Epoch 8/10\n",
      "10/10 [==============================] - 0s 484us/step - loss: 0.6766\n",
      "Epoch 9/10\n",
      "10/10 [==============================] - 0s 318us/step - loss: 0.6845\n",
      "Epoch 10/10\n",
      "10/10 [==============================] - 0s 477us/step - loss: 0.6720\n"
     ]
    },
    {
     "data": {
      "text/plain": [
       "<keras.callbacks.callbacks.History at 0x7f1bf80ac2b0>"
      ]
     },
     "execution_count": 2,
     "metadata": {},
     "output_type": "execute_result"
    }
   ],
   "source": [
    "from keras.models import Sequential\n",
    "from keras.layers import Dense, Dropout, Flatten, Activation, BatchNormalization, GlobalAveragePooling2D\n",
    "from keras.layers import Conv2D, MaxPooling2D, Convolution2D, ZeroPadding2D,LSTM\n",
    "from keras_multi_head import MultiHead\n",
    "\n",
    "# LSTM model\n",
    "model = Sequential()\n",
    "model.add(LSTM(4, kernel_initializer='glorot_uniform', recurrent_initializer='orthogonal', return_sequences=True))\n",
    "model.add(LSTM(6))\n",
    "model.add(Dense(20, activation='relu'))\n",
    "model.add(Dropout(0.5))\n",
    "model.add(Dense(2, activation='softmax'))\n",
    "\n",
    "model.compile(loss='binary_crossentropy', optimizer='adam')\n",
    "\n",
    "batch_size = 128\n",
    "\n",
    "# fit model to data\n",
    "# paramter validation_data to show validation-data for each step of training\n",
    "# parameter callbacks to use tensorboard\n",
    "model.fit(x_data2, y_data2,\n",
    "          epochs=10)\n"
   ]
  },
  {
   "cell_type": "code",
   "execution_count": 3,
   "metadata": {},
   "outputs": [
    {
     "name": "stdout",
     "output_type": "stream",
     "text": [
      "Model: \"sequential_1\"\n",
      "_________________________________________________________________\n",
      "Layer (type)                 Output Shape              Param #   \n",
      "=================================================================\n",
      "lstm_1 (LSTM)                (None, 6, 4)              368       \n",
      "_________________________________________________________________\n",
      "lstm_2 (LSTM)                (None, 6)                 264       \n",
      "_________________________________________________________________\n",
      "dense_1 (Dense)              (None, 20)                140       \n",
      "_________________________________________________________________\n",
      "dropout_1 (Dropout)          (None, 20)                0         \n",
      "_________________________________________________________________\n",
      "dense_2 (Dense)              (None, 2)                 42        \n",
      "=================================================================\n",
      "Total params: 814\n",
      "Trainable params: 814\n",
      "Non-trainable params: 0\n",
      "_________________________________________________________________\n"
     ]
    }
   ],
   "source": [
    "model.summary()"
   ]
  },
  {
   "cell_type": "markdown",
   "metadata": {},
   "source": [
    "## with multi-head-attention\n",
    "\n",
    "**should reshape dataset, then use 1d-attention**"
   ]
  },
  {
   "cell_type": "code",
   "execution_count": 4,
   "metadata": {
    "collapsed": true
   },
   "outputs": [],
   "source": [
    "x_data2 = x_data2.reshape(x_data2.shape[0], x_data2.shape[1]*x_data2.shape[2])\n",
    "y_data2 = y_data2"
   ]
  },
  {
   "cell_type": "code",
   "execution_count": 5,
   "metadata": {},
   "outputs": [
    {
     "name": "stdout",
     "output_type": "stream",
     "text": [
      "Model: \"sequential_2\"\n",
      "_________________________________________________________________\n",
      "Layer (type)                 Output Shape              Param #   \n",
      "=================================================================\n",
      "Embedding (Embedding)        (None, None, 20)          2160      \n",
      "_________________________________________________________________\n",
      "Multi-LSTMs (MultiHead)      (None, 32, 5)             33920     \n",
      "_________________________________________________________________\n",
      "Flatten (Flatten)            (None, 160)               0         \n",
      "_________________________________________________________________\n",
      "Dense (Dense)                (None, 2)                 322       \n",
      "=================================================================\n",
      "Total params: 36,402\n",
      "Trainable params: 36,402\n",
      "Non-trainable params: 0\n",
      "_________________________________________________________________\n",
      "Epoch 1/10\n",
      "10/10 [==============================] - 1s 140ms/step - loss: 0.6929\n",
      "Epoch 2/10\n",
      "10/10 [==============================] - 0s 5ms/step - loss: 0.6909\n",
      "Epoch 3/10\n",
      "10/10 [==============================] - 0s 5ms/step - loss: 0.6891\n",
      "Epoch 4/10\n",
      "10/10 [==============================] - 0s 6ms/step - loss: 0.6874\n",
      "Epoch 5/10\n",
      "10/10 [==============================] - 0s 6ms/step - loss: 0.6859\n",
      "Epoch 6/10\n",
      "10/10 [==============================] - 0s 6ms/step - loss: 0.6846\n",
      "Epoch 7/10\n",
      "10/10 [==============================] - 0s 5ms/step - loss: 0.6834\n",
      "Epoch 8/10\n",
      "10/10 [==============================] - 0s 5ms/step - loss: 0.6824\n",
      "Epoch 9/10\n",
      "10/10 [==============================] - 0s 5ms/step - loss: 0.6815\n",
      "Epoch 10/10\n",
      "10/10 [==============================] - 0s 6ms/step - loss: 0.6806\n"
     ]
    },
    {
     "data": {
      "text/plain": [
       "<keras.callbacks.callbacks.History at 0x7f1be4e27550>"
      ]
     },
     "execution_count": 5,
     "metadata": {},
     "output_type": "execute_result"
    }
   ],
   "source": [
    "import keras\n",
    "from keras_multi_head import MultiHead\n",
    "\n",
    "\n",
    "model = keras.models.Sequential()\n",
    "model.add(keras.layers.Embedding(input_dim=x_data2.shape[1], output_dim=20, name='Embedding'))\n",
    "model.add(MultiHead(keras.layers.LSTM(units=32), layer_num=5, name='Multi-LSTMs'))\n",
    "model.add(keras.layers.Flatten(name='Flatten'))\n",
    "model.add(keras.layers.Dense(units=2, activation='softmax', name='Dense'))\n",
    "model.compile(loss='binary_crossentropy', optimizer='adam')\n",
    "model.build()\n",
    "model.summary()\n",
    "\n",
    "model.fit(x_data2,y_data2,epochs=10)"
   ]
  },
  {
   "cell_type": "code",
   "execution_count": null,
   "metadata": {
    "collapsed": true
   },
   "outputs": [],
   "source": []
  },
  {
   "cell_type": "markdown",
   "metadata": {},
   "source": [
    "## other layers with attention"
   ]
  },
  {
   "cell_type": "markdown",
   "metadata": {},
   "source": [
    "### (1) multi-lstm layers"
   ]
  },
  {
   "cell_type": "code",
   "execution_count": 6,
   "metadata": {},
   "outputs": [
    {
     "name": "stdout",
     "output_type": "stream",
     "text": [
      "Model: \"sequential_3\"\n",
      "_________________________________________________________________\n",
      "Layer (type)                 Output Shape              Param #   \n",
      "=================================================================\n",
      "Embedding (Embedding)        (None, None, 20)          2160      \n",
      "_________________________________________________________________\n",
      "Multi-LSTMs (MultiHead)      (None, 32, 1)             6784      \n",
      "_________________________________________________________________\n",
      "Multi-LSTMs2 (MultiHead)     (None, 32, 1)             4352      \n",
      "_________________________________________________________________\n",
      "Flatten (Flatten)            (None, 32)                0         \n",
      "_________________________________________________________________\n",
      "Dense (Dense)                (None, 2)                 66        \n",
      "=================================================================\n",
      "Total params: 13,362\n",
      "Trainable params: 13,362\n",
      "Non-trainable params: 0\n",
      "_________________________________________________________________\n",
      "Epoch 1/10\n",
      "10/10 [==============================] - 1s 78ms/step - loss: 0.6931\n",
      "Epoch 2/10\n",
      "10/10 [==============================] - 0s 2ms/step - loss: 0.6924\n",
      "Epoch 3/10\n",
      "10/10 [==============================] - 0s 2ms/step - loss: 0.6917\n",
      "Epoch 4/10\n",
      "10/10 [==============================] - 0s 2ms/step - loss: 0.6910\n",
      "Epoch 5/10\n",
      "10/10 [==============================] - 0s 2ms/step - loss: 0.6904\n",
      "Epoch 6/10\n",
      "10/10 [==============================] - 0s 2ms/step - loss: 0.6897\n",
      "Epoch 7/10\n",
      "10/10 [==============================] - 0s 2ms/step - loss: 0.6891\n",
      "Epoch 8/10\n",
      "10/10 [==============================] - 0s 2ms/step - loss: 0.6886\n",
      "Epoch 9/10\n",
      "10/10 [==============================] - 0s 2ms/step - loss: 0.6881\n",
      "Epoch 10/10\n",
      "10/10 [==============================] - 0s 2ms/step - loss: 0.6878\n"
     ]
    },
    {
     "data": {
      "text/plain": [
       "<keras.callbacks.callbacks.History at 0x7f1bdef84b38>"
      ]
     },
     "execution_count": 6,
     "metadata": {},
     "output_type": "execute_result"
    }
   ],
   "source": [
    "import keras\n",
    "from keras_multi_head import MultiHead\n",
    "\n",
    "\n",
    "model = keras.models.Sequential()\n",
    "model.add(keras.layers.Embedding(input_dim=x_data2.shape[1], output_dim=20, name='Embedding'))\n",
    "model.add(MultiHead(keras.layers.LSTM(units=32), layer_num=1, name='Multi-LSTMs'))\n",
    "model.add(MultiHead(keras.layers.LSTM(units=32), layer_num=1, name='Multi-LSTMs2'))\n",
    "model.add(keras.layers.Flatten(name='Flatten'))\n",
    "model.add(keras.layers.Dense(units=2, activation='softmax', name='Dense'))\n",
    "model.compile(loss='binary_crossentropy', optimizer='adam')\n",
    "model.build()\n",
    "model.summary()\n",
    "\n",
    "model.fit(x_data2,y_data2,epochs=10)"
   ]
  },
  {
   "cell_type": "markdown",
   "metadata": {},
   "source": [
    "### (2) lstm+dense layers"
   ]
  },
  {
   "cell_type": "code",
   "execution_count": 7,
   "metadata": {},
   "outputs": [
    {
     "name": "stdout",
     "output_type": "stream",
     "text": [
      "Model: \"sequential_4\"\n",
      "_________________________________________________________________\n",
      "Layer (type)                 Output Shape              Param #   \n",
      "=================================================================\n",
      "Embedding (Embedding)        (None, None, 20)          2160      \n",
      "_________________________________________________________________\n",
      "Multi-LSTMs2 (MultiHead)     (None, 32, 1)             6784      \n",
      "_________________________________________________________________\n",
      "Flatten (Flatten)            (None, 32)                0         \n",
      "_________________________________________________________________\n",
      "Multi-LSTMs (MultiHead)      (None, 32, 1)             1056      \n",
      "_________________________________________________________________\n",
      "Flatten2 (Flatten)           (None, 32)                0         \n",
      "_________________________________________________________________\n",
      "Dense (Dense)                (None, 2)                 66        \n",
      "=================================================================\n",
      "Total params: 10,066\n",
      "Trainable params: 10,066\n",
      "Non-trainable params: 0\n",
      "_________________________________________________________________\n",
      "Epoch 1/10\n",
      "10/10 [==============================] - 1s 70ms/step - loss: 0.6924\n",
      "Epoch 2/10\n",
      "10/10 [==============================] - 0s 3ms/step - loss: 0.6903\n",
      "Epoch 3/10\n",
      "10/10 [==============================] - 0s 3ms/step - loss: 0.6885\n",
      "Epoch 4/10\n",
      "10/10 [==============================] - 0s 3ms/step - loss: 0.6869\n",
      "Epoch 5/10\n",
      "10/10 [==============================] - 0s 3ms/step - loss: 0.6855\n",
      "Epoch 6/10\n",
      "10/10 [==============================] - 0s 3ms/step - loss: 0.6844\n",
      "Epoch 7/10\n",
      "10/10 [==============================] - 0s 3ms/step - loss: 0.6834\n",
      "Epoch 8/10\n",
      "10/10 [==============================] - 0s 3ms/step - loss: 0.6825\n",
      "Epoch 9/10\n",
      "10/10 [==============================] - 0s 3ms/step - loss: 0.6817\n",
      "Epoch 10/10\n",
      "10/10 [==============================] - 0s 3ms/step - loss: 0.6808\n"
     ]
    },
    {
     "data": {
      "text/plain": [
       "<keras.callbacks.callbacks.History at 0x7f1bde0a78d0>"
      ]
     },
     "execution_count": 7,
     "metadata": {},
     "output_type": "execute_result"
    }
   ],
   "source": [
    "import keras\n",
    "from keras_multi_head import MultiHead\n",
    "\n",
    "\n",
    "model = keras.models.Sequential()\n",
    "model.add(keras.layers.Embedding(input_dim=x_data2.shape[1], output_dim=20, name='Embedding'))\n",
    "model.add(MultiHead(keras.layers.LSTM(units=32), layer_num=1, name='Multi-LSTMs2'))\n",
    "model.add(keras.layers.Flatten(name='Flatten'))\n",
    "model.add(MultiHead(keras.layers.Dense(units=32), layer_num=1, name='Multi-LSTMs'))\n",
    "model.add(keras.layers.Flatten(name='Flatten2'))\n",
    "model.add(keras.layers.Dense(units=2, activation='softmax', name='Dense'))\n",
    "model.compile(loss='binary_crossentropy', optimizer='adam')\n",
    "model.build()\n",
    "model.summary()\n",
    "\n",
    "model.fit(x_data2,y_data2,epochs=10)"
   ]
  },
  {
   "cell_type": "markdown",
   "metadata": {},
   "source": [
    "### (3) lstm+cnn+dense layers"
   ]
  },
  {
   "cell_type": "code",
   "execution_count": 8,
   "metadata": {},
   "outputs": [
    {
     "name": "stdout",
     "output_type": "stream",
     "text": [
      "Model: \"sequential_5\"\n",
      "_________________________________________________________________\n",
      "Layer (type)                 Output Shape              Param #   \n",
      "=================================================================\n",
      "Embedding (Embedding)        (None, None, 20)          2160      \n",
      "_________________________________________________________________\n",
      "Multi-LSTMs2 (MultiHead)     (None, 32, 1)             6784      \n",
      "_________________________________________________________________\n",
      "Flatten (Flatten)            (None, 32)                0         \n",
      "_________________________________________________________________\n",
      "Multi-LSTMs (MultiHead)      (None, 32, 1)             1056      \n",
      "_________________________________________________________________\n",
      "Multi-CNN (MultiHead)        (None, 32, 32, 1)         128       \n",
      "_________________________________________________________________\n",
      "Flatten2 (Flatten)           (None, 1024)              0         \n",
      "_________________________________________________________________\n",
      "Dense (Dense)                (None, 2)                 2050      \n",
      "=================================================================\n",
      "Total params: 12,178\n",
      "Trainable params: 12,178\n",
      "Non-trainable params: 0\n",
      "_________________________________________________________________\n",
      "Epoch 1/10\n",
      "10/10 [==============================] - 1s 81ms/step - loss: 0.6933\n",
      "Epoch 2/10\n",
      "10/10 [==============================] - 0s 3ms/step - loss: 0.6922\n",
      "Epoch 3/10\n",
      "10/10 [==============================] - 0s 3ms/step - loss: 0.6912\n",
      "Epoch 4/10\n",
      "10/10 [==============================] - 0s 3ms/step - loss: 0.6902\n",
      "Epoch 5/10\n",
      "10/10 [==============================] - 0s 3ms/step - loss: 0.6891\n",
      "Epoch 6/10\n",
      "10/10 [==============================] - 0s 3ms/step - loss: 0.6881\n",
      "Epoch 7/10\n",
      "10/10 [==============================] - 0s 3ms/step - loss: 0.6872\n",
      "Epoch 8/10\n",
      "10/10 [==============================] - 0s 3ms/step - loss: 0.6865\n",
      "Epoch 9/10\n",
      "10/10 [==============================] - 0s 3ms/step - loss: 0.6859\n",
      "Epoch 10/10\n",
      "10/10 [==============================] - 0s 3ms/step - loss: 0.6855\n"
     ]
    },
    {
     "data": {
      "text/plain": [
       "<keras.callbacks.callbacks.History at 0x7f1bdd499a20>"
      ]
     },
     "execution_count": 8,
     "metadata": {},
     "output_type": "execute_result"
    }
   ],
   "source": [
    "import keras\n",
    "from keras_multi_head import MultiHead\n",
    "\n",
    "\n",
    "model = keras.models.Sequential()\n",
    "model.add(keras.layers.Embedding(input_dim=x_data2.shape[1], output_dim=20, name='Embedding'))\n",
    "model.add(MultiHead(keras.layers.LSTM(units=32), layer_num=1, name='Multi-LSTMs2'))\n",
    "model.add(keras.layers.Flatten(name='Flatten'))\n",
    "model.add(MultiHead(keras.layers.Dense(units=32), layer_num=1, name='Multi-LSTMs'))\n",
    "model.add(MultiHead(keras.layers.Conv1D(filters=32, kernel_size=3, padding='same'), layer_num=1, name='Multi-CNN'))\n",
    "model.add(keras.layers.Flatten(name='Flatten2'))\n",
    "model.add(keras.layers.Dense(units=2, activation='softmax', name='Dense'))\n",
    "model.compile(loss='binary_crossentropy', optimizer='adam')\n",
    "model.build()\n",
    "model.summary()\n",
    "\n",
    "model.fit(x_data2,y_data2,epochs=10)"
   ]
  },
  {
   "cell_type": "code",
   "execution_count": null,
   "metadata": {
    "collapsed": true
   },
   "outputs": [],
   "source": []
  },
  {
   "cell_type": "code",
   "execution_count": null,
   "metadata": {
    "collapsed": true
   },
   "outputs": [],
   "source": []
  },
  {
   "cell_type": "code",
   "execution_count": 34,
   "metadata": {},
   "outputs": [
    {
     "name": "stdout",
     "output_type": "stream",
     "text": [
      "Model: \"sequential_25\"\n",
      "_________________________________________________________________\n",
      "Layer (type)                 Output Shape              Param #   \n",
      "=================================================================\n",
      "Embedding (Embedding)        (None, None, 20)          2160      \n",
      "_________________________________________________________________\n",
      "Multi-LSTMs2 (MultiHead)     (None, 32, 1)             6784      \n",
      "_________________________________________________________________\n",
      "Flatten (Flatten)            (None, 32)                0         \n",
      "_________________________________________________________________\n",
      "Multi-LSTMs (MultiHead)      (None, 32, 1)             1056      \n",
      "_________________________________________________________________\n",
      "Multi-CNN (MultiHead)        (None, 32, 32, 1)         128       \n",
      "_________________________________________________________________\n",
      "Flatten2 (Flatten)           (None, 1024)              0         \n",
      "_________________________________________________________________\n",
      "Dense (Dense)                (None, 2)                 2050      \n",
      "=================================================================\n",
      "Total params: 12,178\n",
      "Trainable params: 12,178\n",
      "Non-trainable params: 0\n",
      "_________________________________________________________________\n"
     ]
    }
   ],
   "source": [
    "from keras.layers import Input, Deconvolution2D\n",
    "\n",
    "model = keras.models.Sequential()\n",
    "model.add(keras.layers.Embedding(input_dim=x_data2.shape[1], output_dim=20, name='Embedding'))\n",
    "model.add(MultiHead(keras.layers.LSTM(units=32), layer_num=1, name='Multi-LSTMs2'))\n",
    "model.add(keras.layers.Flatten(name='Flatten'))\n",
    "model.add(MultiHead(keras.layers.Dense(units=32), layer_num=1, name='Multi-LSTMs'))\n",
    "model.add(MultiHead(keras.layers.Conv1D(filters=32, kernel_size=3, padding='same'), layer_num=1, name='Multi-CNN'))\n",
    "model.add(keras.layers.Flatten(name='Flatten2'))\n",
    "model.add(keras.layers.Dense(units=2, activation='softmax', name='Dense'))\n",
    "model.compile(loss='binary_crossentropy', optimizer='adam')\n",
    "model.build()\n",
    "model.summary()\n"
   ]
  },
  {
   "cell_type": "code",
   "execution_count": null,
   "metadata": {
    "collapsed": true
   },
   "outputs": [],
   "source": []
  },
  {
   "cell_type": "code",
   "execution_count": null,
   "metadata": {
    "collapsed": true
   },
   "outputs": [],
   "source": []
  },
  {
   "cell_type": "code",
   "execution_count": 26,
   "metadata": {},
   "outputs": [
    {
     "name": "stdout",
     "output_type": "stream",
     "text": [
      "Model: \"model_4\"\n",
      "_________________________________________________________________\n",
      "Layer (type)                 Output Shape              Param #   \n",
      "=================================================================\n",
      "Input (InputLayer)           (None, 2, 3)              0         \n",
      "_________________________________________________________________\n",
      "Multi-Head (MultiHeadAttenti (None, 2, 3)              48        \n",
      "=================================================================\n",
      "Total params: 48\n",
      "Trainable params: 48\n",
      "Non-trainable params: 0\n",
      "_________________________________________________________________\n"
     ]
    }
   ],
   "source": [
    "import keras\n",
    "from keras_multi_head import MultiHeadAttention\n",
    "\n",
    "input_layer = keras.layers.Input(\n",
    "    shape=(2, 3),\n",
    "    name='Input',\n",
    ")\n",
    "att_layer = MultiHeadAttention(\n",
    "    head_num=3,\n",
    "    name='Multi-Head',\n",
    ")(input_layer)\n",
    "model = keras.models.Model(inputs=input_layer, outputs=att_layer)\n",
    "model.compile(\n",
    "    optimizer='adam',\n",
    "    loss='mse',\n",
    "    metrics={},\n",
    ")\n",
    "model.summary()\n"
   ]
  },
  {
   "cell_type": "markdown",
   "metadata": {
    "collapsed": true
   },
   "source": [
    "# 2. MultiHeadAttention"
   ]
  },
  {
   "cell_type": "markdown",
   "metadata": {},
   "source": [
    "## 2.1 LSTM+MultiHeadAttention"
   ]
  },
  {
   "cell_type": "code",
   "execution_count": 74,
   "metadata": {},
   "outputs": [
    {
     "name": "stdout",
     "output_type": "stream",
     "text": [
      "Model: \"sequential_65\"\n",
      "_________________________________________________________________\n",
      "Layer (type)                 Output Shape              Param #   \n",
      "=================================================================\n",
      "Embedding (Embedding)        (None, None, 20)          2160      \n",
      "_________________________________________________________________\n",
      "multi_head_attention_28 (Mul (None, None, 20)          1680      \n",
      "_________________________________________________________________\n",
      "lstm_50 (LSTM)               (None, 32)                6784      \n",
      "_________________________________________________________________\n",
      "Dense (Dense)                (None, 2)                 66        \n",
      "=================================================================\n",
      "Total params: 10,690\n",
      "Trainable params: 10,690\n",
      "Non-trainable params: 0\n",
      "_________________________________________________________________\n",
      "Epoch 1/10\n",
      "10/10 [==============================] - 7s 694ms/step - loss: 0.6932\n",
      "Epoch 2/10\n",
      "10/10 [==============================] - 0s 11ms/step - loss: 0.6923\n",
      "Epoch 3/10\n",
      "10/10 [==============================] - 0s 42ms/step - loss: 0.6915\n",
      "Epoch 4/10\n",
      "10/10 [==============================] - 0s 8ms/step - loss: 0.6909\n",
      "Epoch 5/10\n",
      "10/10 [==============================] - 0s 7ms/step - loss: 0.6902\n",
      "Epoch 6/10\n",
      "10/10 [==============================] - 0s 7ms/step - loss: 0.6896\n",
      "Epoch 7/10\n",
      "10/10 [==============================] - 0s 7ms/step - loss: 0.6890\n",
      "Epoch 8/10\n",
      "10/10 [==============================] - 0s 7ms/step - loss: 0.6884\n",
      "Epoch 9/10\n",
      "10/10 [==============================] - 0s 7ms/step - loss: 0.6880\n",
      "Epoch 10/10\n",
      "10/10 [==============================] - 0s 7ms/step - loss: 0.6877\n"
     ]
    },
    {
     "data": {
      "text/plain": [
       "<keras.callbacks.callbacks.History at 0x7f1b9977eb38>"
      ]
     },
     "execution_count": 74,
     "metadata": {},
     "output_type": "execute_result"
    }
   ],
   "source": [
    "import keras\n",
    "from keras_multi_head import MultiHeadAttention\n",
    "\n",
    "\n",
    "model = keras.models.Sequential()\n",
    "model.add(keras.layers.Embedding(input_dim=x_data2.shape[1], output_dim=20, name='Embedding'))\n",
    "model.add(MultiHeadAttention(head_num=20))\n",
    "model.add(keras.layers.LSTM(units=32))\n",
    "#model.add(keras.layers.Flatten(name='Flatten'))\n",
    "model.add(keras.layers.Dense(units=2, activation='softmax', name='Dense'))\n",
    "model.compile(loss='binary_crossentropy', optimizer='adam')\n",
    "model.build()\n",
    "model.summary()\n",
    "\n",
    "model.fit(x_data2,y_data2,epochs=10)"
   ]
  },
  {
   "cell_type": "code",
   "execution_count": null,
   "metadata": {
    "collapsed": true
   },
   "outputs": [],
   "source": []
  },
  {
   "cell_type": "markdown",
   "metadata": {},
   "source": [
    "## 2.2 DCNN+MultiHeadAttention+Complex"
   ]
  },
  {
   "cell_type": "code",
   "execution_count": 79,
   "metadata": {},
   "outputs": [
    {
     "name": "stdout",
     "output_type": "stream",
     "text": [
      "Model: \"sequential_69\"\n",
      "_________________________________________________________________\n",
      "Layer (type)                 Output Shape              Param #   \n",
      "=================================================================\n",
      "Embedding (Embedding)        (None, None, 26)          13000     \n",
      "_________________________________________________________________\n",
      "multi_head_attention_32 (Mul (None, None, 26)          2808      \n",
      "_________________________________________________________________\n",
      "Multi-LSTM (MultiHead)       (None, 32, 1)             7552      \n",
      "_________________________________________________________________\n",
      "Flatten (Flatten)            (None, 32)                0         \n",
      "_________________________________________________________________\n",
      "Multi-Dense (MultiHead)      (None, 32, 1)             1056      \n",
      "_________________________________________________________________\n",
      "Multi-CNN (MultiHead)        (None, 32, 32, 1)         128       \n",
      "_________________________________________________________________\n",
      "conv2d_transpose_85 (Conv2DT (None, 33, 32, 6)         18        \n",
      "_________________________________________________________________\n",
      "conv2d_transpose_86 (Conv2DT (None, 35, 33, 8)         296       \n",
      "_________________________________________________________________\n",
      "conv2d_transpose_87 (Conv2DT (None, 36, 34, 4)         132       \n",
      "_________________________________________________________________\n",
      "conv2d_transpose_88 (Conv2DT (None, 36, 35, 9)         81        \n",
      "_________________________________________________________________\n",
      "Flatten2 (Flatten)           (None, 11340)             0         \n",
      "_________________________________________________________________\n",
      "Dense (Dense)                (None, 2)                 22682     \n",
      "=================================================================\n",
      "Total params: 47,753\n",
      "Trainable params: 47,753\n",
      "Non-trainable params: 0\n",
      "_________________________________________________________________\n",
      "Epoch 1/10\n",
      "10/10 [==============================] - 3s 262ms/step - loss: 0.6932\n",
      "Epoch 2/10\n",
      "10/10 [==============================] - 0s 9ms/step - loss: 0.6929\n",
      "Epoch 3/10\n",
      "10/10 [==============================] - 0s 9ms/step - loss: 0.6917\n",
      "Epoch 4/10\n",
      "10/10 [==============================] - 0s 9ms/step - loss: 0.6901\n",
      "Epoch 5/10\n",
      "10/10 [==============================] - 0s 10ms/step - loss: 0.6885\n",
      "Epoch 6/10\n",
      "10/10 [==============================] - 0s 9ms/step - loss: 0.6884\n",
      "Epoch 7/10\n",
      "10/10 [==============================] - 0s 9ms/step - loss: 0.6897\n",
      "Epoch 8/10\n",
      "10/10 [==============================] - 0s 9ms/step - loss: 0.6894\n",
      "Epoch 9/10\n",
      "10/10 [==============================] - 0s 9ms/step - loss: 0.6885\n",
      "Epoch 10/10\n",
      "10/10 [==============================] - 0s 9ms/step - loss: 0.6881\n"
     ]
    },
    {
     "data": {
      "text/plain": [
       "<keras.callbacks.callbacks.History at 0x7f1b95847b70>"
      ]
     },
     "execution_count": 79,
     "metadata": {},
     "output_type": "execute_result"
    }
   ],
   "source": [
    "from keras.layers import Input, Deconvolution2D\n",
    "\n",
    "model = keras.models.Sequential()\n",
    "model.add(keras.layers.Embedding(input_dim=500, output_dim=26, name='Embedding'))\n",
    "model.add(MultiHeadAttention(head_num=26))\n",
    "model.add(MultiHead(keras.layers.LSTM(units=32), layer_num=1, name='Multi-LSTM',reg_factor=0.1))\n",
    "\n",
    "model.add(keras.layers.Flatten(name='Flatten'))\n",
    "model.add(MultiHead(keras.layers.Dense(units=32), layer_num=1, name='Multi-Dense',reg_factor=0.1))\n",
    "\n",
    "model.add(MultiHead(keras.layers.Conv1D(filters=32, kernel_size=3, padding='same'), layer_num=1, name='Multi-CNN'))\n",
    "model.add(Deconvolution2D(6, kernel_size=(2,1), activation='relu'))\n",
    "model.add(Deconvolution2D(8, kernel_size=(3,2), activation='relu'))\n",
    "model.add(Deconvolution2D(4, kernel_size=(2,2), activation='relu'))\n",
    "model.add(Deconvolution2D(9, kernel_size=(1,2), activation='relu'))\n",
    "\n",
    "model.add(keras.layers.Flatten(name='Flatten2'))\n",
    "model.add(keras.layers.Dense(units=2, activation='softmax', name='Dense'))\n",
    "model.compile(loss='binary_crossentropy', optimizer='adam')\n",
    "\n",
    "model.build()\n",
    "model.summary()\n",
    "\n",
    "model.fit(x_data2,y_data2,epochs=10)"
   ]
  },
  {
   "cell_type": "code",
   "execution_count": null,
   "metadata": {
    "collapsed": true
   },
   "outputs": [],
   "source": []
  }
 ],
 "metadata": {
  "kernelspec": {
   "display_name": "Python 3",
   "language": "python",
   "name": "python3"
  },
  "language_info": {
   "codemirror_mode": {
    "name": "ipython",
    "version": 3
   },
   "file_extension": ".py",
   "mimetype": "text/x-python",
   "name": "python",
   "nbconvert_exporter": "python",
   "pygments_lexer": "ipython3",
   "version": "3.6.2"
  }
 },
 "nbformat": 4,
 "nbformat_minor": 2
}
