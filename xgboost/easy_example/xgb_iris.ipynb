{
 "cells": [
  {
   "cell_type": "markdown",
   "metadata": {},
   "source": [
    "# 1. load iris dataset"
   ]
  },
  {
   "cell_type": "code",
   "execution_count": 2,
   "metadata": {},
   "outputs": [],
   "source": [
    "from sklearn import datasets\n",
    "\n",
    "iris = datasets.load_iris()\n",
    "x_data = iris.data\n",
    "y_data = iris.target"
   ]
  },
  {
   "cell_type": "code",
   "execution_count": 6,
   "metadata": {},
   "outputs": [],
   "source": [
    "from sklearn.model_selection import train_test_split\n",
    "\n",
    "x_train, x_test, y_train, y_test = train_test_split(x_data, y_data, test_size=0.2, random_state=0)"
   ]
  },
  {
   "cell_type": "markdown",
   "metadata": {},
   "source": [
    "# 2. construct data to xgb data format"
   ]
  },
  {
   "cell_type": "code",
   "execution_count": 8,
   "metadata": {},
   "outputs": [],
   "source": [
    "import xgboost as xgb\n",
    "\n",
    "dtrain = xgb.DMatrix(x_train, label=y_train)\n",
    "dtest = xgb.DMatrix(x_test, label=y_test)"
   ]
  },
  {
   "cell_type": "markdown",
   "metadata": {},
   "source": [
    "# 3. train xgb"
   ]
  },
  {
   "cell_type": "code",
   "execution_count": 9,
   "metadata": {},
   "outputs": [],
   "source": [
    "param = {\n",
    "    'max_depth': 3,  # the maximum depth of each tree\n",
    "    'eta': 0.3,  # the training step for each iteration\n",
    "    'silent': 1,  # logging mode - quiet\n",
    "    'objective': 'multi:softprob',  # error evaluation for multiclass training\n",
    "    'num_class': 3}  # the number of classes that exist in this datset\n",
    "num_round = 20  # the number of training iterations"
   ]
  },
  {
   "cell_type": "code",
   "execution_count": 10,
   "metadata": {},
   "outputs": [],
   "source": [
    "bst = xgb.train(param, dtrain, num_round)"
   ]
  },
  {
   "cell_type": "markdown",
   "metadata": {},
   "source": [
    "# 4. model evaluation"
   ]
  },
  {
   "cell_type": "code",
   "execution_count": 11,
   "metadata": {},
   "outputs": [],
   "source": [
    "preds = bst.predict(dtest)"
   ]
  },
  {
   "cell_type": "code",
   "execution_count": 12,
   "metadata": {},
   "outputs": [
    {
     "data": {
      "text/plain": [
       "array([[0.00580842, 0.03016039, 0.96403116],\n",
       "       [0.00688668, 0.9835607 , 0.00955265],\n",
       "       [0.979875  , 0.01659266, 0.00353238],\n",
       "       [0.00370642, 0.00654464, 0.9897489 ],\n",
       "       [0.9905529 , 0.0058763 , 0.00357088],\n",
       "       [0.00448035, 0.00673794, 0.98878163],\n",
       "       [0.9905529 , 0.0058763 , 0.00357088],\n",
       "       [0.00441976, 0.9853099 , 0.01027041],\n",
       "       [0.00444062, 0.9899602 , 0.00559916],\n",
       "       [0.0062554 , 0.9858571 , 0.00788741],\n",
       "       [0.0587752 , 0.5120683 , 0.42915654],\n",
       "       [0.00442203, 0.985816  , 0.00976201],\n",
       "       [0.0062554 , 0.9858571 , 0.00788741],\n",
       "       [0.0043267 , 0.9645649 , 0.03110838],\n",
       "       [0.0062554 , 0.9858571 , 0.00788741],\n",
       "       [0.99096584, 0.00546184, 0.00357237],\n",
       "       [0.006142  , 0.9679853 , 0.0258727 ],\n",
       "       [0.00518121, 0.98828584, 0.00653297],\n",
       "       [0.99045813, 0.00545904, 0.00408281],\n",
       "       [0.9844855 , 0.01196551, 0.003549  ],\n",
       "       [0.00501135, 0.06578495, 0.92920375],\n",
       "       [0.00510317, 0.97340006, 0.02149671],\n",
       "       [0.99096584, 0.00546184, 0.00357237],\n",
       "       [0.99045813, 0.00545904, 0.00408281],\n",
       "       [0.01105735, 0.1578264 , 0.8311163 ],\n",
       "       [0.99096584, 0.00546184, 0.00357237],\n",
       "       [0.9905529 , 0.0058763 , 0.00357088],\n",
       "       [0.00444062, 0.9899602 , 0.00559916],\n",
       "       [0.01960962, 0.95687985, 0.02351052],\n",
       "       [0.9905529 , 0.0058763 , 0.00357088]], dtype=float32)"
      ]
     },
     "execution_count": 12,
     "metadata": {},
     "output_type": "execute_result"
    }
   ],
   "source": [
    "preds"
   ]
  },
  {
   "cell_type": "code",
   "execution_count": 13,
   "metadata": {},
   "outputs": [],
   "source": [
    "import numpy as np\n",
    "best_preds = np.asarray([np.argmax(line) for line in preds])"
   ]
  },
  {
   "cell_type": "code",
   "execution_count": 14,
   "metadata": {},
   "outputs": [
    {
     "data": {
      "text/plain": [
       "array([2, 1, 0, 2, 0, 2, 0, 1, 1, 1, 1, 1, 1, 1, 1, 0, 1, 1, 0, 0, 2, 1,\n",
       "       0, 0, 2, 0, 0, 1, 1, 0])"
      ]
     },
     "execution_count": 14,
     "metadata": {},
     "output_type": "execute_result"
    }
   ],
   "source": [
    "best_preds"
   ]
  },
  {
   "cell_type": "code",
   "execution_count": 16,
   "metadata": {},
   "outputs": [
    {
     "name": "stdout",
     "output_type": "stream",
     "text": [
      "0.9761904761904763\n"
     ]
    }
   ],
   "source": [
    "from sklearn.metrics import precision_score\n",
    "\n",
    "print( precision_score(y_test, best_preds, average='macro') )"
   ]
  },
  {
   "cell_type": "code",
   "execution_count": null,
   "metadata": {},
   "outputs": [],
   "source": []
  }
 ],
 "metadata": {
  "kernelspec": {
   "display_name": "Python 3",
   "language": "python",
   "name": "python3"
  },
  "language_info": {
   "codemirror_mode": {
    "name": "ipython",
    "version": 3
   },
   "file_extension": ".py",
   "mimetype": "text/x-python",
   "name": "python",
   "nbconvert_exporter": "python",
   "pygments_lexer": "ipython3",
   "version": "3.5.5"
  }
 },
 "nbformat": 4,
 "nbformat_minor": 2
}
