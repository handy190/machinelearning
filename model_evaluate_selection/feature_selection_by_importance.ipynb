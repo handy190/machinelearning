{
 "cells": [
  {
   "cell_type": "markdown",
   "metadata": {
    "deletable": true,
    "editable": true
   },
   "source": [
    "# Feature selection by Gini"
   ]
  },
  {
   "cell_type": "code",
   "execution_count": 2,
   "metadata": {
    "collapsed": true,
    "deletable": true,
    "editable": true
   },
   "outputs": [],
   "source": [
    "import joblib as jl\n",
    "x_1gram_data = jl.load('x_data_1gram_count.jl')\n",
    "fea_1gram_list = jl.load('hexnum_list.jl')"
   ]
  },
  {
   "cell_type": "code",
   "execution_count": 15,
   "metadata": {
    "collapsed": false,
    "deletable": true,
    "editable": true
   },
   "outputs": [
    {
     "data": {
      "text/plain": [
       "(53080, 256)"
      ]
     },
     "execution_count": 15,
     "metadata": {},
     "output_type": "execute_result"
    }
   ],
   "source": [
    "x_1gram_data.shape # 256 features"
   ]
  },
  {
   "cell_type": "code",
   "execution_count": 22,
   "metadata": {
    "collapsed": true,
    "deletable": true,
    "editable": true
   },
   "outputs": [],
   "source": [
    "from sklearn import tree\n",
    "\n",
    "y_data = jl.load('sample_y.jl')\n",
    "clf = tree.DecisionTreeClassifier() # default is gini, criterion='entropy' to get by iformation gain\n",
    "clf = clf.fit(x_1gram_data, y_data)"
   ]
  },
  {
   "cell_type": "code",
   "execution_count": 25,
   "metadata": {
    "collapsed": false,
    "deletable": true,
    "editable": true
   },
   "outputs": [],
   "source": [
    "# get top 100 most important index\n",
    "index_gini = clf.feature_importances_.argsort()[-100:][::-1]"
   ]
  },
  {
   "cell_type": "code",
   "execution_count": 26,
   "metadata": {
    "collapsed": false
   },
   "outputs": [
    {
     "data": {
      "text/plain": [
       "array([ 82, 178,  20,   4, 117,  84,  73, 127,  97,  86,  68, 193, 200,\n",
       "        92, 226,   5,  85,  79, 141,   7, 167,  41,  98, 224,  46, 165,\n",
       "       148,  83, 132, 113,  69,  75,  87, 130,  38, 106,  52, 131, 111,\n",
       "       176, 149, 216,  72, 139,  89,  95, 194,  33,  96,  32,  50, 211,\n",
       "       142, 220, 202, 150, 201, 210,  70,   2,  19, 179,  26, 156, 112,\n",
       "        29,  44, 196, 138, 109,   0, 143,  14,  30,   8, 222, 116, 225,\n",
       "        43, 213, 135,  74, 159, 219,  28,  11, 118,  39,  94,  15, 103,\n",
       "        17,  13, 208, 100, 212, 190,  18,   1, 221])"
      ]
     },
     "execution_count": 26,
     "metadata": {},
     "output_type": "execute_result"
    }
   ],
   "source": [
    "index_gini"
   ]
  },
  {
   "cell_type": "code",
   "execution_count": 27,
   "metadata": {
    "collapsed": false,
    "deletable": true,
    "editable": true
   },
   "outputs": [
    {
     "data": {
      "text/plain": [
       "array([ 0.65020845,  0.03055145,  0.02663763,  0.0180863 ,  0.01764678,\n",
       "        0.01579626,  0.00770341,  0.00625089,  0.00579705,  0.00551854,\n",
       "        0.00542049,  0.0043786 ,  0.00420017,  0.00418254,  0.00400344,\n",
       "        0.0039669 ,  0.00382641,  0.00375717,  0.00361299,  0.00359737,\n",
       "        0.00348964,  0.00304117,  0.0030107 ,  0.00290184,  0.0028556 ,\n",
       "        0.00283379,  0.00282371,  0.00276759,  0.00273228,  0.00257945,\n",
       "        0.00255858,  0.00247988,  0.00245132,  0.00237445,  0.00230947,\n",
       "        0.00228631,  0.00228349,  0.00227456,  0.00221821,  0.0021832 ,\n",
       "        0.00216814,  0.00211726,  0.00208029,  0.00194125,  0.00189284,\n",
       "        0.00184418,  0.00180992,  0.00178687,  0.00176755,  0.00176179,\n",
       "        0.00172712,  0.00172283,  0.00170906,  0.0016851 ,  0.00164527,\n",
       "        0.00156932,  0.00153189,  0.00151799,  0.00151754,  0.00150734,\n",
       "        0.00149456,  0.00141896,  0.00140464,  0.00138463,  0.00136834,\n",
       "        0.00136261,  0.00131474,  0.00130094,  0.00127897,  0.00125581,\n",
       "        0.00125388,  0.00124925,  0.00122104,  0.00121943,  0.00118145,\n",
       "        0.00114522,  0.00110111,  0.00109255,  0.00108882,  0.00108832,\n",
       "        0.001083  ,  0.00106554,  0.00102117,  0.00101746,  0.0010085 ,\n",
       "        0.00098583,  0.00096989,  0.00095793,  0.00095351,  0.00092736,\n",
       "        0.00092314,  0.00092148,  0.00091938,  0.00091191,  0.00091114,\n",
       "        0.00090747,  0.0009069 ,  0.0008935 ,  0.00088371,  0.00087939])"
      ]
     },
     "execution_count": 27,
     "metadata": {},
     "output_type": "execute_result"
    }
   ],
   "source": [
    "# sorted importance\n",
    "clf.feature_importances_[index_gini]"
   ]
  },
  {
   "cell_type": "code",
   "execution_count": 13,
   "metadata": {
    "collapsed": false,
    "deletable": true,
    "editable": true
   },
   "outputs": [],
   "source": [
    "x_selected = x_1gram_data[:, index]"
   ]
  },
  {
   "cell_type": "code",
   "execution_count": 14,
   "metadata": {
    "collapsed": false
   },
   "outputs": [
    {
     "data": {
      "text/plain": [
       "(53080, 100)"
      ]
     },
     "execution_count": 14,
     "metadata": {},
     "output_type": "execute_result"
    }
   ],
   "source": [
    "x_selected.shape # selected 100 from 256 feature"
   ]
  },
  {
   "cell_type": "markdown",
   "metadata": {},
   "source": [
    "# Feature selection by Information Gain"
   ]
  },
  {
   "cell_type": "code",
   "execution_count": 28,
   "metadata": {
    "collapsed": true
   },
   "outputs": [],
   "source": [
    "from sklearn import tree\n",
    "\n",
    "y_data = jl.load('sample_y.jl')\n",
    "clf = tree.DecisionTreeClassifier(criterion='entropy') # default is gini, criterion='entropy' to get by iformation gain\n",
    "clf = clf.fit(x_1gram_data, y_data)"
   ]
  },
  {
   "cell_type": "code",
   "execution_count": 29,
   "metadata": {
    "collapsed": true
   },
   "outputs": [],
   "source": [
    "# get top 100 most important index\n",
    "index_infogain = clf.feature_importances_.argsort()[-100:][::-1]"
   ]
  },
  {
   "cell_type": "code",
   "execution_count": 30,
   "metadata": {
    "collapsed": false
   },
   "outputs": [
    {
     "data": {
      "text/plain": [
       "array([ 82, 111, 130,  20, 178, 117,  73, 201,  79,  89, 131, 226,  83,\n",
       "        30, 181,   7,  70,  94,  84, 123,  16,  13, 104,  68, 165,  99,\n",
       "       211,  47, 106, 141,   0, 219, 113,  85, 144,  51, 152,  60, 213,\n",
       "        96,  44, 176, 183,  88,  19,  34,  52, 103, 142,  41,  98, 220,\n",
       "        33, 192,  92, 157, 114,  87,  28, 187, 200, 194,  39, 137, 182,\n",
       "        26, 179,  48, 148, 210, 163,   8,  56, 132,  32, 116,  53,   1,\n",
       "        55,  38, 149,  54,  23, 164,  75, 154, 129, 214,   5,  57,  43,\n",
       "       120,  35, 119,  78,  17,  24,   4, 110, 125])"
      ]
     },
     "execution_count": 30,
     "metadata": {},
     "output_type": "execute_result"
    }
   ],
   "source": [
    "index_infogain"
   ]
  },
  {
   "cell_type": "code",
   "execution_count": 31,
   "metadata": {
    "collapsed": false
   },
   "outputs": [
    {
     "data": {
      "text/plain": [
       "array([ 0.55758536,  0.03647461,  0.03279714,  0.03107535,  0.02361915,\n",
       "        0.01598621,  0.01455498,  0.01035915,  0.007868  ,  0.00755263,\n",
       "        0.00728152,  0.00643142,  0.00638054,  0.00634877,  0.0060165 ,\n",
       "        0.00599335,  0.0048804 ,  0.00485054,  0.00436165,  0.00430109,\n",
       "        0.00414421,  0.00410998,  0.00408367,  0.00401372,  0.00384321,\n",
       "        0.0038064 ,  0.00375437,  0.0036102 ,  0.00348271,  0.00343168,\n",
       "        0.00340571,  0.00313639,  0.00309622,  0.00297357,  0.00294184,\n",
       "        0.0027363 ,  0.00263638,  0.00258408,  0.00253766,  0.00250399,\n",
       "        0.00249101,  0.00244437,  0.00242677,  0.00238536,  0.00235906,\n",
       "        0.00232526,  0.00226297,  0.0022328 ,  0.0021853 ,  0.00216697,\n",
       "        0.00211706,  0.00202823,  0.0020123 ,  0.00200536,  0.00193664,\n",
       "        0.00188293,  0.00185048,  0.00183179,  0.00178988,  0.00175411,\n",
       "        0.00168146,  0.0016705 ,  0.0016524 ,  0.00163426,  0.00163263,\n",
       "        0.00162179,  0.00160587,  0.00158853,  0.00155302,  0.00151769,\n",
       "        0.00147458,  0.00147113,  0.00140113,  0.00139817,  0.00139326,\n",
       "        0.00139311,  0.0013819 ,  0.00134272,  0.00133367,  0.00130085,\n",
       "        0.00128409,  0.00127365,  0.00124412,  0.001236  ,  0.00121104,\n",
       "        0.00117388,  0.0011723 ,  0.00116473,  0.00116061,  0.0011524 ,\n",
       "        0.00114963,  0.00114501,  0.00112934,  0.00111677,  0.00111431,\n",
       "        0.00111233,  0.00098591,  0.00097853,  0.00097293,  0.0009724 ])"
      ]
     },
     "execution_count": 31,
     "metadata": {},
     "output_type": "execute_result"
    }
   ],
   "source": [
    "# sorted importance\n",
    "clf.feature_importances_[index_infogain]"
   ]
  },
  {
   "cell_type": "code",
   "execution_count": 32,
   "metadata": {
    "collapsed": true
   },
   "outputs": [],
   "source": [
    "x_selected = x_1gram_data[:, index_infogain]"
   ]
  },
  {
   "cell_type": "code",
   "execution_count": 33,
   "metadata": {
    "collapsed": false
   },
   "outputs": [
    {
     "data": {
      "text/plain": [
       "(53080, 100)"
      ]
     },
     "execution_count": 33,
     "metadata": {},
     "output_type": "execute_result"
    }
   ],
   "source": [
    "x_selected.shape # selected 100 from 256 feature"
   ]
  },
  {
   "cell_type": "markdown",
   "metadata": {},
   "source": [
    "# Features selected by information gain & gini is diffirent"
   ]
  },
  {
   "cell_type": "code",
   "execution_count": 34,
   "metadata": {
    "collapsed": false
   },
   "outputs": [
    {
     "data": {
      "text/plain": [
       "{16,\n",
       " 23,\n",
       " 24,\n",
       " 34,\n",
       " 35,\n",
       " 47,\n",
       " 48,\n",
       " 51,\n",
       " 53,\n",
       " 54,\n",
       " 55,\n",
       " 56,\n",
       " 57,\n",
       " 60,\n",
       " 78,\n",
       " 88,\n",
       " 99,\n",
       " 104,\n",
       " 110,\n",
       " 114,\n",
       " 119,\n",
       " 120,\n",
       " 123,\n",
       " 125,\n",
       " 129,\n",
       " 137,\n",
       " 144,\n",
       " 152,\n",
       " 154,\n",
       " 157,\n",
       " 163,\n",
       " 164,\n",
       " 181,\n",
       " 182,\n",
       " 183,\n",
       " 187,\n",
       " 192,\n",
       " 214}"
      ]
     },
     "execution_count": 34,
     "metadata": {},
     "output_type": "execute_result"
    }
   ],
   "source": [
    "set(index_infogain) - set(index_gini)"
   ]
  }
 ],
 "metadata": {
  "kernelspec": {
   "display_name": "Python 3",
   "language": "python",
   "name": "python3"
  },
  "language_info": {
   "codemirror_mode": {
    "name": "ipython",
    "version": 3
   },
   "file_extension": ".py",
   "mimetype": "text/x-python",
   "name": "python",
   "nbconvert_exporter": "python",
   "pygments_lexer": "ipython3",
   "version": "3.5.2"
  }
 },
 "nbformat": 4,
 "nbformat_minor": 2
}
