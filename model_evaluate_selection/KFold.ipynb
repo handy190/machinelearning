{
 "cells": [
  {
   "cell_type": "markdown",
   "metadata": {},
   "source": [
    "# 1. KFold"
   ]
  },
  {
   "cell_type": "code",
   "execution_count": 1,
   "metadata": {
    "collapsed": false
   },
   "outputs": [
    {
     "name": "stdout",
     "output_type": "stream",
     "text": [
      "train:[ 2  3  4  5  6  7  8  9 10 11 12 13 14 15 16 17 18 19]    test:[0 1]\n",
      "train:[ 0  1  4  5  6  7  8  9 10 11 12 13 14 15 16 17 18 19]    test:[2 3]\n",
      "train:[ 0  1  2  3  6  7  8  9 10 11 12 13 14 15 16 17 18 19]    test:[4 5]\n",
      "train:[ 0  1  2  3  4  5  8  9 10 11 12 13 14 15 16 17 18 19]    test:[6 7]\n",
      "train:[ 0  1  2  3  4  5  6  7 10 11 12 13 14 15 16 17 18 19]    test:[8 9]\n",
      "train:[ 0  1  2  3  4  5  6  7  8  9 12 13 14 15 16 17 18 19]    test:[10 11]\n",
      "train:[ 0  1  2  3  4  5  6  7  8  9 10 11 14 15 16 17 18 19]    test:[12 13]\n",
      "train:[ 0  1  2  3  4  5  6  7  8  9 10 11 12 13 16 17 18 19]    test:[14 15]\n",
      "train:[ 0  1  2  3  4  5  6  7  8  9 10 11 12 13 14 15 18 19]    test:[16 17]\n",
      "train:[ 0  1  2  3  4  5  6  7  8  9 10 11 12 13 14 15 16 17]    test:[18 19]\n"
     ]
    }
   ],
   "source": [
    "from sklearn.model_selection import KFold\n",
    "import numpy as np\n",
    "\n",
    "x_data = np.array([[1, 2], [2, 4], [3, 2], [4, 4], [5, 4], [6, 2], [7, 4], [8, 4], [9, 2], [10, 4],\n",
    "              [11, 2], [12, 4], [13, 2], [14, 4], [15, 4], [16, 2], [17, 4], [18, 4], [19, 2], [20, 4]\n",
    "             ])\n",
    "y_data = np.array([0]*10+[1]*10)\n",
    "\n",
    "kf = KFold(n_splits=10)\n",
    "\n",
    "for train_index, test_index in kf.split(x_data):\n",
    "    x_train = x_data[train_index]\n",
    "    y_train = y_data[train_index]\n",
    "    x_test = x_data[test_index]\n",
    "    y_test = y_data[test_index]\n",
    "    print('train:{0}    test:{1}'.format(train_index, test_index))"
   ]
  },
  {
   "cell_type": "markdown",
   "metadata": {},
   "source": [
    "数据集有两类数据：0和1\n",
    "\n",
    "KFold会抽到数据类型全为0的数据做测试集，这样测试集中只有一类数据"
   ]
  },
  {
   "cell_type": "markdown",
   "metadata": {},
   "source": [
    "# 2. StratifiedKFold"
   ]
  },
  {
   "cell_type": "code",
   "execution_count": 2,
   "metadata": {
    "collapsed": false
   },
   "outputs": [
    {
     "name": "stdout",
     "output_type": "stream",
     "text": [
      "train:[ 1  2  3  4  5  6  7  8  9 11 12 13 14 15 16 17 18 19]    test:[ 0 10]\n",
      "train:[ 0  2  3  4  5  6  7  8  9 10 12 13 14 15 16 17 18 19]    test:[ 1 11]\n",
      "train:[ 0  1  3  4  5  6  7  8  9 10 11 13 14 15 16 17 18 19]    test:[ 2 12]\n",
      "train:[ 0  1  2  4  5  6  7  8  9 10 11 12 14 15 16 17 18 19]    test:[ 3 13]\n",
      "train:[ 0  1  2  3  5  6  7  8  9 10 11 12 13 15 16 17 18 19]    test:[ 4 14]\n",
      "train:[ 0  1  2  3  4  6  7  8  9 10 11 12 13 14 16 17 18 19]    test:[ 5 15]\n",
      "train:[ 0  1  2  3  4  5  7  8  9 10 11 12 13 14 15 17 18 19]    test:[ 6 16]\n",
      "train:[ 0  1  2  3  4  5  6  8  9 10 11 12 13 14 15 16 18 19]    test:[ 7 17]\n",
      "train:[ 0  1  2  3  4  5  6  7  9 10 11 12 13 14 15 16 17 19]    test:[ 8 18]\n",
      "train:[ 0  1  2  3  4  5  6  7  8 10 11 12 13 14 15 16 17 18]    test:[ 9 19]\n"
     ]
    }
   ],
   "source": [
    "from sklearn.model_selection import StratifiedKFold\n",
    "\n",
    "x_data = np.array([[1, 2], [2, 4], [3, 2], [4, 4], [5, 4], [6, 2], [7, 4], [8, 4], [9, 2], [10, 4],\n",
    "              [11, 2], [12, 4], [13, 2], [14, 4], [15, 4], [16, 2], [17, 4], [18, 4], [19, 2], [20, 4]\n",
    "             ])\n",
    "y_data = np.array([0]*10+[1]*10)\n",
    "\n",
    "\n",
    "skf = StratifiedKFold(n_splits=10)\n",
    "\n",
    "\n",
    "for train_index, test_index in skf.split(x_data, y_data):\n",
    "    x_train = x_data[train_index]\n",
    "    y_train = y_data[train_index]\n",
    "    x_test = x_data[test_index]\n",
    "    y_test = y_data[test_index]\n",
    "    print('train:{0}    test:{1}'.format(train_index, test_index))\n"
   ]
  },
  {
   "cell_type": "markdown",
   "metadata": {},
   "source": [
    "数据集有两类数据：0和1\n",
    "\n",
    "StratifiedKFold保证抽样的测试集中，即有0，又有1"
   ]
  }
 ],
 "metadata": {
  "kernelspec": {
   "display_name": "Python 3",
   "language": "python",
   "name": "python3"
  },
  "language_info": {
   "codemirror_mode": {
    "name": "ipython",
    "version": 3
   },
   "file_extension": ".py",
   "mimetype": "text/x-python",
   "name": "python",
   "nbconvert_exporter": "python",
   "pygments_lexer": "ipython3",
   "version": "3.5.2"
  }
 },
 "nbformat": 4,
 "nbformat_minor": 2
}
