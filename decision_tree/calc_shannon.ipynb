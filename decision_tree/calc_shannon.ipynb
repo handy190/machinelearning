{
 "cells": [
  {
   "cell_type": "code",
   "execution_count": 5,
   "metadata": {
    "collapsed": false
   },
   "outputs": [],
   "source": [
    "from math import log\n",
    "\n",
    "\n",
    "def calcShannonEnt(dataSet):\n",
    "    numEntries = len(dataSet)\n",
    "    labelCounts = {}\n",
    "    for featVec in dataSet:\n",
    "        currentLabel = featVec[-1]\n",
    "        if currentLabel not in labelCounts.keys():\n",
    "            labelCounts[currentLabel] = 0\n",
    "        labelCounts[currentLabel] += 1\n",
    "    shannonEnt = 0.0\n",
    "    for key in labelCounts:\n",
    "        prob = float(labelCounts[key])/numEntries\n",
    "        shannonEnt -= prob*log(prob,2)\n",
    "    return shannonEnt\n",
    "\n",
    "\n",
    "\n",
    "def splitDataset(dataSet,axis,value):\n",
    "    retDataset = []     #符合特征的数据\n",
    "    for vec in dataSet:\n",
    "        if vec[axis] == value:       #数据特征符合要求\n",
    "            reducedVec = vec[:axis]  #提取该数据的剩余特征\n",
    "            reducedVec.extend(vec[axis+1:])   #将两列表合成一个列表\n",
    "            reDataset.append(reducedVec)      \n",
    "    return reDataset\n",
    "\n",
    "\n",
    "\n",
    "\n",
    "#########################################################################\n",
    "dataset = [[1,1,'yes'],\n",
    "          [1,1,'yes'],\n",
    "          [1,0,'no'],\n",
    "          [0,1,'no'],\n",
    "          [0,1,'no']]\n",
    "labels = ['no surfacing', 'flippers']\n",
    "\n",
    "h = calcShannonEnt(dataset)\n",
    "\n",
    "\n",
    "\n",
    "\n"
   ]
  },
  {
   "cell_type": "code",
   "execution_count": null,
   "metadata": {
    "collapsed": true
   },
   "outputs": [],
   "source": []
  }
 ],
 "metadata": {
  "kernelspec": {
   "display_name": "Python 3",
   "language": "python",
   "name": "python3"
  },
  "language_info": {
   "codemirror_mode": {
    "name": "ipython",
    "version": 3
   },
   "file_extension": ".py",
   "mimetype": "text/x-python",
   "name": "python",
   "nbconvert_exporter": "python",
   "pygments_lexer": "ipython3",
   "version": "3.5.1"
  }
 },
 "nbformat": 4,
 "nbformat_minor": 0
}
