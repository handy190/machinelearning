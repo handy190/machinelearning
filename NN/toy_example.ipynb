{
 "cells": [
  {
   "cell_type": "code",
   "execution_count": 25,
   "metadata": {
    "collapsed": false,
    "scrolled": true
   },
   "outputs": [
    {
     "name": "stdout",
     "output_type": "stream",
     "text": [
      "# Neural Network with 795010 learnable parameters\n",
      "\n",
      "## Layer information\n",
      "\n",
      "  #  name    size\n",
      "---  ------  -------\n",
      "  0  input   1x28x28\n",
      "  1  hidden  1000\n",
      "  2  output  10\n",
      "\n",
      "  epoch    train loss    valid loss    train/val    valid acc  dur\n",
      "-------  ------------  ------------  -----------  -----------  ------\n",
      "      1     \u001b[36m108.92857\u001b[0m      \u001b[32m84.75658\u001b[0m      1.28519      0.19231  31.94s\n",
      "      2      \u001b[36m64.84754\u001b[0m      95.53094      0.67881      0.15385  31.69s\n",
      "      3      \u001b[36m63.53240\u001b[0m      \u001b[32m75.64333\u001b[0m      0.83989      0.42308  32.24s\n",
      "      4      \u001b[36m30.47790\u001b[0m      \u001b[32m59.12283\u001b[0m      0.51550      0.42308  32.57s\n",
      "      5      \u001b[36m14.28162\u001b[0m      \u001b[32m43.22949\u001b[0m      0.33037      0.50000  33.51s\n",
      "      6       \u001b[36m3.31916\u001b[0m      \u001b[32m38.59443\u001b[0m      0.08600      0.53846  32.24s\n",
      "      7       \u001b[36m1.20370\u001b[0m      \u001b[32m34.74778\u001b[0m      0.03464      0.53846  32.45s\n",
      "      8       \u001b[36m0.73275\u001b[0m      \u001b[32m32.31742\u001b[0m      0.02267      0.50000  31.60s\n",
      "      9       \u001b[36m0.15696\u001b[0m      \u001b[32m30.85520\u001b[0m      0.00509      0.57692  32.70s\n",
      "     10       \u001b[36m0.14614\u001b[0m      \u001b[32m30.81158\u001b[0m      0.00474      0.57692  32.53s\n",
      "     11       \u001b[36m0.02039\u001b[0m      \u001b[32m30.27885\u001b[0m      0.00067      0.57692  32.20s\n",
      "     12       0.04545      31.00821      0.00147      0.57692  32.09s\n",
      "     13       \u001b[36m0.00000\u001b[0m      31.76320      0.00000      0.53846  31.64s\n",
      "     14       \u001b[36m0.00000\u001b[0m      32.96451      0.00000      0.61538  31.64s\n",
      "     15       0.00000      34.20787      0.00000      0.61538  32.22s\n"
     ]
    },
    {
     "data": {
      "text/plain": [
       "NeuralNet(X_tensor_type=None,\n",
       "     batch_iterator_test=<nolearn.lasagne.base.BatchIterator object at 0x000000DFCDC29630>,\n",
       "     batch_iterator_train=<nolearn.lasagne.base.BatchIterator object at 0x000000DFCDC294A8>,\n",
       "     check_input=True, custom_scores=None, hidden_num_units=1000,\n",
       "     input_shape=(None, 1, 28, 28),\n",
       "     layers=[('input', <class 'lasagne.layers.input.InputLayer'>), ('hidden', <class 'lasagne.layers.dense.DenseLayer'>), ('output', <class 'lasagne.layers.dense.DenseLayer'>)],\n",
       "     loss=None, max_epochs=15, more_params={},\n",
       "     objective=<function objective at 0x000000DFCDD7E048>,\n",
       "     objective_loss_function=<function categorical_crossentropy at 0x000000DFCDB46158>,\n",
       "     on_batch_finished=[],\n",
       "     on_epoch_finished=[<nolearn.lasagne.handlers.PrintLog object at 0x000000DFD2615710>],\n",
       "     on_training_finished=[],\n",
       "     on_training_started=[<nolearn.lasagne.handlers.PrintLayerInfo object at 0x000000DFD2615160>],\n",
       "     output_nonlinearity=<function softmax at 0x000000DFCD9CB840>,\n",
       "     output_num_units=10, regression=False,\n",
       "     train_split=<nolearn.lasagne.base.TrainSplit object at 0x000000DFCDD70EF0>,\n",
       "     update=<function nesterov_momentum at 0x000000DFCDB4C158>,\n",
       "     update_learning_rate=0.0001, update_momentum=0.9,\n",
       "     use_label_encoder=False, verbose=1,\n",
       "     y_tensor_type=TensorType(int32, vector))"
      ]
     },
     "execution_count": 25,
     "metadata": {},
     "output_type": "execute_result"
    }
   ],
   "source": [
    "import numpy as np\n",
    "import pandas as pd\n",
    "\n",
    "import lasagne\n",
    "from lasagne import layers\n",
    "from lasagne.updates import nesterov_momentum\n",
    "from nolearn.lasagne import NeuralNet\n",
    "from nolearn.lasagne import visualize\n",
    "\n",
    "\n",
    "dataset = pd.read_csv(\"toy_train.csv\")\n",
    "target = dataset[[0]].values.ravel()\n",
    "train = dataset.iloc[:,1:].values\n",
    "test = pd.read_csv(\"toy_test.csv\").values\n",
    "\n",
    "# convert to array, specify data type, and reshape\n",
    "target = target.astype(np.uint8)\n",
    "train = np.array(train).reshape((-1, 1, 28, 28)).astype(np.uint8)\n",
    "test = np.array(test).reshape((-1, 1, 28, 28)).astype(np.uint8)\n",
    "\n",
    "\n",
    "net1 = NeuralNet(\n",
    "        layers=[('input', layers.InputLayer),\n",
    "                ('hidden', layers.DenseLayer),\n",
    "                ('output', layers.DenseLayer),\n",
    "                ],\n",
    "        # layer parameters:\n",
    "        input_shape=(None,1,28,28),\n",
    "        hidden_num_units=1000, # number of units in 'hidden' layer\n",
    "        output_nonlinearity=lasagne.nonlinearities.softmax,\n",
    "        output_num_units=10,  # 10 target values for the digits 0, 1, 2, ..., 9\n",
    "\n",
    "        # optimization method:\n",
    "        update=nesterov_momentum,\n",
    "        update_learning_rate=0.0001,\n",
    "        update_momentum=0.9,\n",
    "\n",
    "        max_epochs=15,\n",
    "        verbose=1,\n",
    "        )\n",
    "\n",
    "# Train the network\n",
    "net1.fit(train, target)\n"
   ]
  },
  {
   "cell_type": "code",
   "execution_count": 26,
   "metadata": {
    "collapsed": false
   },
   "outputs": [
    {
     "name": "stdout",
     "output_type": "stream",
     "text": [
      "0.17\n"
     ]
    }
   ],
   "source": [
    "import sklearn\n",
    "print(sklearn.__version__)"
   ]
  },
  {
   "cell_type": "code",
   "execution_count": 29,
   "metadata": {
    "collapsed": false
   },
   "outputs": [],
   "source": [
    "test = pd.read_csv(\"toy_test.csv\").values\n",
    "test = np.array(test).reshape((-1, 1, 28, 28)).astype(np.uint8)\n",
    "\n",
    "p = net1.predict(test)"
   ]
  },
  {
   "cell_type": "code",
   "execution_count": 30,
   "metadata": {
    "collapsed": false
   },
   "outputs": [
    {
     "data": {
      "text/plain": [
       "array([6, 0, 9, 4, 5, 2, 0, 3, 0, 3, 5, 2, 4, 0, 4, 3, 2, 1, 9, 0, 4, 1, 1,\n",
       "       3, 7, 4, 6, 4, 5, 9, 9, 0, 4, 1, 6, 5, 4, 1, 1, 0, 9, 7, 4, 9, 5, 7,\n",
       "       3, 3, 6, 1, 6, 4, 1, 8, 4, 6, 1, 2, 8, 0, 4, 1, 4, 3, 0, 0, 1, 4, 0,\n",
       "       1, 6, 5, 0, 3, 2, 5, 8, 9, 2, 5, 3, 9, 1, 0, 9, 1, 4, 3, 6, 4, 8, 0,\n",
       "       6, 6, 1, 4, 3, 9], dtype=int64)"
      ]
     },
     "execution_count": 30,
     "metadata": {},
     "output_type": "execute_result"
    }
   ],
   "source": [
    "p"
   ]
  },
  {
   "cell_type": "code",
   "execution_count": null,
   "metadata": {
    "collapsed": true
   },
   "outputs": [],
   "source": []
  }
 ],
 "metadata": {
  "kernelspec": {
   "display_name": "Python 3",
   "language": "python",
   "name": "python3"
  },
  "language_info": {
   "codemirror_mode": {
    "name": "ipython",
    "version": 3
   },
   "file_extension": ".py",
   "mimetype": "text/x-python",
   "name": "python",
   "nbconvert_exporter": "python",
   "pygments_lexer": "ipython3",
   "version": "3.5.1"
  }
 },
 "nbformat": 4,
 "nbformat_minor": 0
}
