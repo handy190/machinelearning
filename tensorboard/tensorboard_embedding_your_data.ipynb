{
 "cells": [
  {
   "cell_type": "markdown",
   "metadata": {
    "collapsed": false,
    "deletable": true,
    "editable": true
   },
   "source": [
    "# visualize your own data"
   ]
  },
  {
   "cell_type": "code",
   "execution_count": 14,
   "metadata": {
    "collapsed": true,
    "deletable": true,
    "editable": true
   },
   "outputs": [],
   "source": [
    "# load data & label\n",
    "\n",
    "import numpy as np\n",
    "\n",
    "x_data = np.array([\n",
    "    [1,2,3,4,5],\n",
    "    [2,3,4,5,6],\n",
    "    [3,4,5,6,7],\n",
    "    [7,8,9,10,11],\n",
    "    [8,9,10,11,12],\n",
    "    [9,10,11,12,13],    \n",
    "])\n",
    "\n",
    "y_data = np.array(['first','first','first','second','second','second'])"
   ]
  },
  {
   "cell_type": "code",
   "execution_count": 12,
   "metadata": {
    "collapsed": true,
    "deletable": true,
    "editable": true
   },
   "outputs": [],
   "source": [
    "! mkdir logs_own"
   ]
  },
  {
   "cell_type": "code",
   "execution_count": 13,
   "metadata": {
    "collapsed": false,
    "deletable": true,
    "editable": true
   },
   "outputs": [],
   "source": [
    "import os\n",
    "import tensorflow as tf\n",
    "from tensorflow.examples.tutorials.mnist import input_data\n",
    "from tensorflow.contrib.tensorboard.plugins import projector\n",
    "\n",
    "\n",
    "LOG_DIR = 'logs_own'\n",
    "metadata = os.path.join(LOG_DIR, 'metadata.tsv')\n",
    "\n",
    "rawdata = tf.Variable(x_data, name='raw_data')\n",
    "\n",
    "with open(metadata, 'w') as metadata_file:\n",
    "    for row in y_data:\n",
    "        metadata_file.write( '{0}\\n'.format(row) )\n",
    "\n",
    "with tf.Session() as sess:\n",
    "    saver = tf.train.Saver([rawdata])\n",
    "\n",
    "    sess.run(rawdata.initializer)\n",
    "    saver.save(sess, os.path.join(LOG_DIR, 'model.ckpt'))\n",
    "\n",
    "    config = projector.ProjectorConfig()\n",
    "    # One can add multiple embeddings.\n",
    "    embedding = config.embeddings.add()\n",
    "    embedding.tensor_name = rawdata.name\n",
    "    # Link this tensor to its metadata file (e.g. labels).\n",
    "    embedding.metadata_path = metadata\n",
    "    # Saves a config file that TensorBoard will read during startup.\n",
    "    projector.visualize_embeddings(tf.summary.FileWriter(LOG_DIR), config)\n"
   ]
  },
  {
   "cell_type": "code",
   "execution_count": 10,
   "metadata": {
    "collapsed": false,
    "deletable": true,
    "editable": true
   },
   "outputs": [
    {
     "name": "stdout",
     "output_type": "stream",
     "text": [
      "Starting TensorBoard b'41' on port 6006\r\n",
      "(You can navigate to http://127.0.1.1:6006)\r\n"
     ]
    }
   ],
   "source": [
    "! tensorboard --logdir=LOG_DIR"
   ]
  }
 ],
 "metadata": {
  "kernelspec": {
   "display_name": "Python 3",
   "language": "python",
   "name": "python3"
  },
  "language_info": {
   "codemirror_mode": {
    "name": "ipython",
    "version": 3
   },
   "file_extension": ".py",
   "mimetype": "text/x-python",
   "name": "python",
   "nbconvert_exporter": "python",
   "pygments_lexer": "ipython3",
   "version": "3.5.2"
  }
 },
 "nbformat": 4,
 "nbformat_minor": 2
}
