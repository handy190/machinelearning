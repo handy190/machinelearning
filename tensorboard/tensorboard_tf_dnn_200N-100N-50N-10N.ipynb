{
 "cells": [
  {
   "cell_type": "markdown",
   "metadata": {},
   "source": [
    "# Neural Network: 200N-100N-50N-10N"
   ]
  },
  {
   "cell_type": "code",
   "execution_count": 1,
   "metadata": {},
   "outputs": [
    {
     "name": "stderr",
     "output_type": "stream",
     "text": [
      "/root/anaconda3/lib/python3.6/importlib/_bootstrap.py:219: RuntimeWarning: compiletime version 3.5 of module 'tensorflow.python.framework.fast_tensor_util' does not match runtime version 3.6\n",
      "  return f(*args, **kwds)\n"
     ]
    },
    {
     "name": "stdout",
     "output_type": "stream",
     "text": [
      "Extracting MNIST_data/train-images-idx3-ubyte.gz\n",
      "Extracting MNIST_data/train-labels-idx1-ubyte.gz\n",
      "Extracting MNIST_data/t10k-images-idx3-ubyte.gz\n",
      "Extracting MNIST_data/t10k-labels-idx1-ubyte.gz\n"
     ]
    }
   ],
   "source": [
    "# DATA\n",
    "from tensorflow.examples.tutorials.mnist import input_data\n",
    "mnist = input_data.read_data_sets('MNIST_data', one_hot=True)"
   ]
  },
  {
   "cell_type": "code",
   "execution_count": 2,
   "metadata": {
    "collapsed": true
   },
   "outputs": [],
   "source": [
    "# TRUE data for each iteration\n",
    "import tensorflow as tf\n",
    "x = tf.placeholder(tf.float32, shape=[None, 784])# input\n",
    "y_ = tf.placeholder(tf.float32, shape=[None, 10])"
   ]
  },
  {
   "cell_type": "code",
   "execution_count": 3,
   "metadata": {
    "collapsed": true
   },
   "outputs": [],
   "source": [
    "# Define functions\n",
    "\n",
    "# weight init\n",
    "def weight_variable(shape, name):\n",
    "    initial = tf.truncated_normal(shape, stddev=0.1)\n",
    "    return tf.Variable(initial, name=name)\n",
    "\n",
    "def bias_variable(shape, name):\n",
    "    initial = tf.constant(0.1, shape=shape)\n",
    "    return tf.Variable(initial, name=name)"
   ]
  },
  {
   "cell_type": "code",
   "execution_count": 4,
   "metadata": {},
   "outputs": [],
   "source": [
    "# MODEL\n",
    "# First Layer 200N\n",
    "weights_1 = weight_variable([784, 200], name='weights_1') # \n",
    "biases_1 = bias_variable([200], name='biases_1')# \n",
    "\n",
    "x_image = x\n",
    "hidden1 = tf.nn.relu(tf.matmul(x_image, weights_1) + biases_1)\n",
    "\n",
    "\n",
    "# Second Layer 100N\n",
    "weights_2 = weight_variable([200, 100], name='weights_2') # \n",
    "biases_2 = bias_variable([100], name='biases_2')# \n",
    "hidden2 = tf.nn.relu(tf.matmul(hidden1, weights_2) + biases_2)\n",
    "\n",
    "\n",
    "# Third Layer 50N\n",
    "weights_3 = weight_variable([100, 50], name='weights_3') # \n",
    "biases_3 = bias_variable([50], name='biases_3')# \n",
    "hidden3 = tf.nn.relu(tf.matmul(hidden2, weights_3) + biases_3)\n",
    "\n",
    "# Dropout\n",
    "keep_prob = tf.placeholder(tf.float32)\n",
    "hidden3 = tf.nn.dropout(hidden3, keep_prob)\n",
    "\n",
    "\n",
    "# Readout Layer 10N\n",
    "weights_4 = weight_variable([50, 10], name='weights_4')# 50N to 10 classes\n",
    "biases_4 = bias_variable([10], name='biases_4')\n",
    "y_out = tf.nn.relu(tf.matmul(hidden3, weights_4) + biases_4)"
   ]
  },
  {
   "cell_type": "code",
   "execution_count": 7,
   "metadata": {
    "scrolled": true
   },
   "outputs": [
    {
     "name": "stdout",
     "output_type": "stream",
     "text": [
      "step 0, training accuracy 0.04\n",
      "step 1, training accuracy 0.04\n",
      "step 2, training accuracy 0.04\n",
      "step 3, training accuracy 0.04\n",
      "step 4, training accuracy 0.04\n",
      "step 5, training accuracy 0.04\n",
      "step 6, training accuracy 0.04\n",
      "step 7, training accuracy 0.04\n",
      "step 8, training accuracy 0.04\n",
      "step 9, training accuracy 0.04\n",
      "test accuracy 0.1506\n"
     ]
    }
   ],
   "source": [
    "# TRAIN\n",
    "cross_entropy = tf.reduce_mean(\n",
    "    tf.nn.softmax_cross_entropy_with_logits(labels=y_, logits=y_out))\n",
    "\n",
    "train_step = tf.train.AdamOptimizer(1e-4).minimize(cross_entropy)\n",
    "correct_prediction = tf.equal(tf.argmax(y_out, 1), tf.argmax(y_, 1))\n",
    "accuracy = tf.reduce_mean(tf.cast(correct_prediction, tf.float32))\n",
    "\n",
    "\n",
    "with tf.Session() as sess:\n",
    "    sess.run(tf.global_variables_initializer())\n",
    "    # tensorboard\n",
    "    writer = tf.summary.FileWriter(\"tmp_tensorboard/\", sess.graph)\n",
    "    for i in range(10): \n",
    "        batch = mnist.train.next_batch(50)\n",
    "        if i % 100 == 0:\n",
    "            train_accuracy = accuracy.eval(feed_dict={\n",
    "                x: batch[0], y_: batch[1], keep_prob: 1.0})\n",
    "        print('step %d, training accuracy %g' % (i, train_accuracy))\n",
    "        train_step.run(feed_dict={x: batch[0], y_: batch[1], keep_prob: 0.5})\n",
    "    writer.close()\n",
    "    print('test accuracy %g' % accuracy.eval(feed_dict={\n",
    "      x: mnist.test.images, y_: mnist.test.labels, keep_prob: 1.0}))\n"
   ]
  },
  {
   "cell_type": "code",
   "execution_count": null,
   "metadata": {
    "collapsed": true
   },
   "outputs": [],
   "source": []
  },
  {
   "cell_type": "code",
   "execution_count": null,
   "metadata": {},
   "outputs": [
    {
     "name": "stdout",
     "output_type": "stream",
     "text": [
      "/root/anaconda3/lib/python3.6/importlib/_bootstrap.py:219: RuntimeWarning: compiletime version 3.5 of module 'tensorflow.python.framework.fast_tensor_util' does not match runtime version 3.6\n",
      "  return f(*args, **kwds)\n",
      "TensorBoard 0.4.0rc3 at http://ubuntu:6006 (Press CTRL+C to quit)\n",
      "\u001b[33mW1218 14:05:50.351313 Reloader tf_logging.py:86] Found more than one graph event per run, or there was a metagraph containing a graph_def, as well as one or more graph events.  Overwriting the graph with the newest event.\n",
      "\u001b[0m\u001b[33mW1218 14:05:50.351926 Reloader tf_logging.py:86] Found more than one metagraph event per run. Overwriting the metagraph with the newest event.\n",
      "\u001b[0m\u001b[33mW1218 14:05:50.353023 Reloader tf_logging.py:86] Found more than one graph event per run, or there was a metagraph containing a graph_def, as well as one or more graph events.  Overwriting the graph with the newest event.\n",
      "\u001b[0m\u001b[33mW1218 14:05:50.353736 Reloader tf_logging.py:86] Found more than one metagraph event per run. Overwriting the metagraph with the newest event.\n",
      "\u001b[0m"
     ]
    }
   ],
   "source": [
    "! tensorboard --logdir tmp_tensorboard/"
   ]
  },
  {
   "cell_type": "code",
   "execution_count": null,
   "metadata": {
    "collapsed": true
   },
   "outputs": [],
   "source": []
  }
 ],
 "metadata": {
  "kernelspec": {
   "display_name": "Python 3",
   "language": "python",
   "name": "python3"
  },
  "language_info": {
   "codemirror_mode": {
    "name": "ipython",
    "version": 3
   },
   "file_extension": ".py",
   "mimetype": "text/x-python",
   "name": "python",
   "nbconvert_exporter": "python",
   "pygments_lexer": "ipython3",
   "version": "3.6.3"
  }
 },
 "nbformat": 4,
 "nbformat_minor": 2
}
