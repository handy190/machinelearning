{
 "cells": [
  {
   "cell_type": "code",
   "execution_count": 12,
   "metadata": {},
   "outputs": [
    {
     "name": "stdout",
     "output_type": "stream",
     "text": [
      "W: [-0.9999969] b: [ 0.99999082] loss: 5.69997e-11\n"
     ]
    }
   ],
   "source": [
    "import tensorflow as tf\n",
    "\n",
    "with tf.Graph().as_default():\n",
    "\n",
    "    # create model\n",
    "    # Model parameters\n",
    "    W = tf.Variable([.3], dtype=tf.float32, name='weights')\n",
    "    b = tf.Variable([-.3], dtype=tf.float32, name='bias')\n",
    "    # Model input and output\n",
    "    x = tf.placeholder(tf.float32)\n",
    "    linear_model = W*x + b\n",
    "    y = tf.placeholder(tf.float32)\n",
    "\n",
    "    # creat loss\n",
    "    loss = tf.reduce_sum(tf.square(linear_model - y),  name='sum_square') # sum of the squares\n",
    "\n",
    "    # optimizer\n",
    "    optimizer = tf.train.GradientDescentOptimizer(0.01) # learning_rate=0.01\n",
    "    train = optimizer.minimize(loss)\n",
    "\n",
    "    # training data set\n",
    "    x_train = [1, 2, 3, 4]\n",
    "    y_train = [0, -1, -2, -3]\n",
    "\n",
    "\n",
    "    # training loop\n",
    "    init = tf.global_variables_initializer()\n",
    "    sess = tf.Session()\n",
    "    sess.run(init) # reset values to wrong\n",
    "    # tensorboard\n",
    "    writer = tf.summary.FileWriter(\"tbd_tmp/\", sess.graph)\n",
    "    for i in range(1000): # train 1000 times\n",
    "        sess.run(train, {x: x_train, y: y_train})\n",
    "    writer.close()\n",
    "\n",
    "    # evaluate training accuracy\n",
    "    curr_W, curr_b, curr_loss = sess.run([W, b, loss], {x: x_train, y: y_train})\n",
    "    print(\"W: %s b: %s loss: %s\"%(curr_W, curr_b, curr_loss))\n"
   ]
  },
  {
   "cell_type": "code",
   "execution_count": null,
   "metadata": {},
   "outputs": [
    {
     "name": "stdout",
     "output_type": "stream",
     "text": [
      "/root/anaconda3/lib/python3.6/importlib/_bootstrap.py:219: RuntimeWarning: compiletime version 3.5 of module 'tensorflow.python.framework.fast_tensor_util' does not match runtime version 3.6\n",
      "  return f(*args, **kwds)\n",
      "TensorBoard 0.4.0rc3 at http://ubuntu:6006 (Press CTRL+C to quit)\n"
     ]
    }
   ],
   "source": [
    "! tensorboard --logdir tbd_tmp/"
   ]
  },
  {
   "cell_type": "markdown",
   "metadata": {},
   "source": [
    "** ref ** : https://www.tensorflow.org/programmers_guide/graphs"
   ]
  }
 ],
 "metadata": {
  "kernelspec": {
   "display_name": "Python 3",
   "language": "python",
   "name": "python3"
  },
  "language_info": {
   "codemirror_mode": {
    "name": "ipython",
    "version": 3
   },
   "file_extension": ".py",
   "mimetype": "text/x-python",
   "name": "python",
   "nbconvert_exporter": "python",
   "pygments_lexer": "ipython3",
   "version": "3.6.3"
  }
 },
 "nbformat": 4,
 "nbformat_minor": 2
}
