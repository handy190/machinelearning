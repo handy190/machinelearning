{
 "cells": [
  {
   "cell_type": "markdown",
   "metadata": {
    "collapsed": true
   },
   "source": [
    "# RNN for MNIST dataset\n",
    "\n",
    "* https://github.com/fchollet/keras/blob/master/examples/mnist_irnn.py\n"
   ]
  },
  {
   "cell_type": "code",
   "execution_count": 1,
   "metadata": {},
   "outputs": [
    {
     "name": "stderr",
     "output_type": "stream",
     "text": [
      "Using TensorFlow backend.\n"
     ]
    }
   ],
   "source": [
    "from __future__ import print_function\n",
    "\n",
    "import keras\n",
    "from keras.datasets import mnist\n",
    "from keras.models import Sequential\n",
    "from keras.layers import Dense, Activation\n",
    "from keras.layers import SimpleRNN\n",
    "from keras import initializers\n",
    "from keras.optimizers import RMSprop"
   ]
  },
  {
   "cell_type": "code",
   "execution_count": 2,
   "metadata": {},
   "outputs": [
    {
     "name": "stdout",
     "output_type": "stream",
     "text": [
      "x_train shape: (60000, 784, 1)\n",
      "60000 train samples\n",
      "10000 test samples\n"
     ]
    }
   ],
   "source": [
    "batch_size = 32\n",
    "num_classes = 10\n",
    "epochs = 200\n",
    "hidden_units = 100\n",
    "\n",
    "learning_rate = 1e-6\n",
    "clip_norm = 1.0\n",
    "\n",
    "# the data, shuffled and split between train and test sets\n",
    "(x_train, y_train), (x_test, y_test) = mnist.load_data()\n",
    "\n",
    "x_train = x_train.reshape(x_train.shape[0], -1, 1)\n",
    "x_test = x_test.reshape(x_test.shape[0], -1, 1)\n",
    "x_train = x_train.astype('float32')\n",
    "x_test = x_test.astype('float32')\n",
    "x_train /= 255\n",
    "x_test /= 255\n",
    "print('x_train shape:', x_train.shape)\n",
    "print(x_train.shape[0], 'train samples')\n",
    "print(x_test.shape[0], 'test samples')"
   ]
  },
  {
   "cell_type": "code",
   "execution_count": 3,
   "metadata": {
    "collapsed": true
   },
   "outputs": [],
   "source": [
    "# convert class vectors to binary class matrices\n",
    "y_train = keras.utils.to_categorical(y_train, num_classes)\n",
    "y_test = keras.utils.to_categorical(y_test, num_classes)"
   ]
  },
  {
   "cell_type": "code",
   "execution_count": 4,
   "metadata": {},
   "outputs": [
    {
     "data": {
      "text/plain": [
       "array([ 0.,  0.,  0.,  0.,  0.,  1.,  0.,  0.,  0.,  0.])"
      ]
     },
     "execution_count": 4,
     "metadata": {},
     "output_type": "execute_result"
    }
   ],
   "source": [
    "y_train[0]"
   ]
  },
  {
   "cell_type": "code",
   "execution_count": 5,
   "metadata": {
    "scrolled": true
   },
   "outputs": [],
   "source": [
    "model = Sequential()\n",
    "model.add(SimpleRNN(hidden_units,\n",
    "                    kernel_initializer=initializers.RandomNormal(stddev=0.001),\n",
    "                    recurrent_initializer=initializers.Identity(gain=1.0),\n",
    "                    activation='relu',\n",
    "                    input_shape=x_train.shape[1:]))\n",
    "model.add(Dense(num_classes))\n",
    "model.add(Activation('softmax'))\n",
    "rmsprop = RMSprop(lr=learning_rate)\n",
    "model.compile(loss='categorical_crossentropy',\n",
    "              optimizer=rmsprop,\n",
    "              metrics=['accuracy'])"
   ]
  },
  {
   "cell_type": "code",
   "execution_count": null,
   "metadata": {},
   "outputs": [
    {
     "name": "stdout",
     "output_type": "stream",
     "text": [
      "Train on 60000 samples, validate on 10000 samples\n",
      "Epoch 1/200\n",
      "60000/60000 [==============================] - 601s - loss: 2.1472 - acc: 0.1914 - val_loss: 1.9792 - val_acc: 0.2483\n",
      "Epoch 2/200\n",
      "60000/60000 [==============================] - 590s - loss: 1.9472 - acc: 0.2669 - val_loss: 1.9111 - val_acc: 0.3051\n",
      "Epoch 3/200\n",
      "60000/60000 [==============================] - 589s - loss: 1.8968 - acc: 0.2968 - val_loss: 1.8573 - val_acc: 0.3226\n",
      "Epoch 4/200\n",
      "60000/60000 [==============================] - 592s - loss: 1.8275 - acc: 0.3289 - val_loss: 1.8019 - val_acc: 0.3443\n",
      "Epoch 5/200\n",
      "60000/60000 [==============================] - 590s - loss: 1.7653 - acc: 0.3645 - val_loss: 1.7291 - val_acc: 0.3875\n",
      "Epoch 6/200\n",
      "60000/60000 [==============================] - 590s - loss: 1.7253 - acc: 0.3758 - val_loss: 1.6998 - val_acc: 0.3856\n",
      "Epoch 7/200\n",
      "60000/60000 [==============================] - 599s - loss: 1.6986 - acc: 0.3806 - val_loss: 1.6796 - val_acc: 0.3884\n",
      "Epoch 8/200\n",
      " 8704/60000 [===>..........................] - ETA: 485s - loss: 1.6933 - acc: 0.3819"
     ]
    },
    {
     "name": "stderr",
     "output_type": "stream",
     "text": [
      "ERROR:root:Internal Python error in the inspect module.\n",
      "Below is the traceback from this internal error.\n",
      "\n"
     ]
    },
    {
     "name": "stdout",
     "output_type": "stream",
     "text": [
      "Traceback (most recent call last):\n",
      "  File \"c:\\users\\biny\\anaconda3\\envs\\envtf\\lib\\site-packages\\IPython\\core\\interactiveshell.py\", line 2847, in run_code\n",
      "    exec(code_obj, self.user_global_ns, self.user_ns)\n",
      "  File \"<ipython-input-6-0fe017f98074>\", line 5, in <module>\n",
      "    validation_data=(x_test, y_test))\n",
      "  File \"c:\\users\\biny\\anaconda3\\envs\\envtf\\lib\\site-packages\\keras\\models.py\", line 856, in fit\n",
      "    initial_epoch=initial_epoch)\n",
      "  File \"c:\\users\\biny\\anaconda3\\envs\\envtf\\lib\\site-packages\\keras\\engine\\training.py\", line 1498, in fit\n",
      "    initial_epoch=initial_epoch)\n",
      "  File \"c:\\users\\biny\\anaconda3\\envs\\envtf\\lib\\site-packages\\keras\\engine\\training.py\", line 1152, in _fit_loop\n",
      "    outs = f(ins_batch)\n",
      "  File \"c:\\users\\biny\\anaconda3\\envs\\envtf\\lib\\site-packages\\keras\\backend\\tensorflow_backend.py\", line 2229, in __call__\n",
      "    feed_dict=feed_dict)\n",
      "  File \"c:\\users\\biny\\anaconda3\\envs\\envtf\\lib\\site-packages\\tensorflow\\python\\client\\session.py\", line 767, in run\n",
      "    run_metadata_ptr)\n",
      "  File \"c:\\users\\biny\\anaconda3\\envs\\envtf\\lib\\site-packages\\tensorflow\\python\\client\\session.py\", line 965, in _run\n",
      "    feed_dict_string, options, run_metadata)\n",
      "  File \"c:\\users\\biny\\anaconda3\\envs\\envtf\\lib\\site-packages\\tensorflow\\python\\client\\session.py\", line 1015, in _do_run\n",
      "    target_list, options, run_metadata)\n",
      "  File \"c:\\users\\biny\\anaconda3\\envs\\envtf\\lib\\site-packages\\tensorflow\\python\\client\\session.py\", line 1022, in _do_call\n",
      "    return fn(*args)\n",
      "  File \"c:\\users\\biny\\anaconda3\\envs\\envtf\\lib\\site-packages\\tensorflow\\python\\client\\session.py\", line 1004, in _run_fn\n",
      "    status, run_metadata)\n",
      "KeyboardInterrupt\n",
      "\n",
      "During handling of the above exception, another exception occurred:\n",
      "\n",
      "Traceback (most recent call last):\n",
      "  File \"c:\\users\\biny\\anaconda3\\envs\\envtf\\lib\\site-packages\\IPython\\core\\interactiveshell.py\", line 1795, in showtraceback\n",
      "    stb = value._render_traceback_()\n",
      "AttributeError: 'KeyboardInterrupt' object has no attribute '_render_traceback_'\n",
      "\n",
      "During handling of the above exception, another exception occurred:\n",
      "\n",
      "Traceback (most recent call last):\n",
      "  File \"c:\\users\\biny\\anaconda3\\envs\\envtf\\lib\\site-packages\\IPython\\core\\ultratb.py\", line 1092, in get_records\n",
      "    return _fixed_getinnerframes(etb, number_of_lines_of_context, tb_offset)\n",
      "  File \"c:\\users\\biny\\anaconda3\\envs\\envtf\\lib\\site-packages\\IPython\\core\\ultratb.py\", line 312, in wrapped\n",
      "    return f(*args, **kwargs)\n",
      "  File \"c:\\users\\biny\\anaconda3\\envs\\envtf\\lib\\site-packages\\IPython\\core\\ultratb.py\", line 347, in _fixed_getinnerframes\n",
      "    records = fix_frame_records_filenames(inspect.getinnerframes(etb, context))\n",
      "  File \"c:\\users\\biny\\anaconda3\\envs\\envtf\\lib\\inspect.py\", line 1454, in getinnerframes\n",
      "    frameinfo = (tb.tb_frame,) + getframeinfo(tb, context)\n",
      "  File \"c:\\users\\biny\\anaconda3\\envs\\envtf\\lib\\inspect.py\", line 1411, in getframeinfo\n",
      "    filename = getsourcefile(frame) or getfile(frame)\n",
      "  File \"c:\\users\\biny\\anaconda3\\envs\\envtf\\lib\\inspect.py\", line 671, in getsourcefile\n",
      "    if getattr(getmodule(object, filename), '__loader__', None) is not None:\n",
      "  File \"c:\\users\\biny\\anaconda3\\envs\\envtf\\lib\\inspect.py\", line 714, in getmodule\n",
      "    f = getabsfile(module)\n",
      "  File \"c:\\users\\biny\\anaconda3\\envs\\envtf\\lib\\inspect.py\", line 683, in getabsfile\n",
      "    _filename = getsourcefile(object) or getfile(object)\n",
      "  File \"c:\\users\\biny\\anaconda3\\envs\\envtf\\lib\\inspect.py\", line 668, in getsourcefile\n",
      "    if os.path.exists(filename):\n",
      "  File \"c:\\users\\biny\\anaconda3\\envs\\envtf\\lib\\genericpath.py\", line 19, in exists\n",
      "    os.stat(path)\n",
      "KeyboardInterrupt\n"
     ]
    },
    {
     "ename": "KeyboardInterrupt",
     "evalue": "",
     "output_type": "error",
     "traceback": [
      "\u001b[1;31m---------------------------------------------------------------------------\u001b[0m"
     ]
    },
    {
     "name": "stderr",
     "output_type": "stream",
     "text": [
      "ERROR:tornado.general:Uncaught exception, closing connection.\n",
      "Traceback (most recent call last):\n",
      "  File \"c:\\users\\biny\\anaconda3\\envs\\envtf\\lib\\site-packages\\zmq\\eventloop\\zmqstream.py\", line 414, in _run_callback\n",
      "    callback(*args, **kwargs)\n",
      "  File \"c:\\users\\biny\\anaconda3\\envs\\envtf\\lib\\site-packages\\tornado\\stack_context.py\", line 277, in null_wrapper\n",
      "    return fn(*args, **kwargs)\n",
      "  File \"c:\\users\\biny\\anaconda3\\envs\\envtf\\lib\\site-packages\\ipykernel\\kernelbase.py\", line 283, in dispatcher\n",
      "    return self.dispatch_shell(stream, msg)\n",
      "  File \"c:\\users\\biny\\anaconda3\\envs\\envtf\\lib\\site-packages\\ipykernel\\kernelbase.py\", line 235, in dispatch_shell\n",
      "    handler(stream, idents, msg)\n",
      "  File \"c:\\users\\biny\\anaconda3\\envs\\envtf\\lib\\site-packages\\ipykernel\\kernelbase.py\", line 421, in execute_request\n",
      "    self._abort_queues()\n",
      "  File \"c:\\users\\biny\\anaconda3\\envs\\envtf\\lib\\site-packages\\ipykernel\\kernelbase.py\", line 637, in _abort_queues\n",
      "    self._abort_queue(stream)\n",
      "  File \"c:\\users\\biny\\anaconda3\\envs\\envtf\\lib\\site-packages\\ipykernel\\kernelbase.py\", line 662, in _abort_queue\n",
      "    poller.poll(50)\n",
      "  File \"c:\\users\\biny\\anaconda3\\envs\\envtf\\lib\\site-packages\\zmq\\sugar\\poll.py\", line 99, in poll\n",
      "    return zmq_poll(self.sockets, timeout=timeout)\n",
      "  File \"zmq\\backend\\cython\\_poll.pyx\", line 116, in zmq.backend.cython._poll.zmq_poll (zmq\\backend\\cython\\_poll.c:2036)\n",
      "  File \"zmq\\backend\\cython\\checkrc.pxd\", line 12, in zmq.backend.cython.checkrc._check_rc (zmq\\backend\\cython\\_poll.c:2418)\n",
      "KeyboardInterrupt\n",
      "ERROR:tornado.general:Uncaught exception, closing connection.\n",
      "Traceback (most recent call last):\n",
      "  File \"c:\\users\\biny\\anaconda3\\envs\\envtf\\lib\\site-packages\\zmq\\eventloop\\zmqstream.py\", line 440, in _handle_events\n",
      "    self._handle_recv()\n",
      "  File \"c:\\users\\biny\\anaconda3\\envs\\envtf\\lib\\site-packages\\zmq\\eventloop\\zmqstream.py\", line 472, in _handle_recv\n",
      "    self._run_callback(callback, msg)\n",
      "  File \"c:\\users\\biny\\anaconda3\\envs\\envtf\\lib\\site-packages\\zmq\\eventloop\\zmqstream.py\", line 414, in _run_callback\n",
      "    callback(*args, **kwargs)\n",
      "  File \"c:\\users\\biny\\anaconda3\\envs\\envtf\\lib\\site-packages\\tornado\\stack_context.py\", line 277, in null_wrapper\n",
      "    return fn(*args, **kwargs)\n",
      "  File \"c:\\users\\biny\\anaconda3\\envs\\envtf\\lib\\site-packages\\ipykernel\\kernelbase.py\", line 283, in dispatcher\n",
      "    return self.dispatch_shell(stream, msg)\n",
      "  File \"c:\\users\\biny\\anaconda3\\envs\\envtf\\lib\\site-packages\\ipykernel\\kernelbase.py\", line 235, in dispatch_shell\n",
      "    handler(stream, idents, msg)\n",
      "  File \"c:\\users\\biny\\anaconda3\\envs\\envtf\\lib\\site-packages\\ipykernel\\kernelbase.py\", line 421, in execute_request\n",
      "    self._abort_queues()\n",
      "  File \"c:\\users\\biny\\anaconda3\\envs\\envtf\\lib\\site-packages\\ipykernel\\kernelbase.py\", line 637, in _abort_queues\n",
      "    self._abort_queue(stream)\n",
      "  File \"c:\\users\\biny\\anaconda3\\envs\\envtf\\lib\\site-packages\\ipykernel\\kernelbase.py\", line 662, in _abort_queue\n",
      "    poller.poll(50)\n",
      "  File \"c:\\users\\biny\\anaconda3\\envs\\envtf\\lib\\site-packages\\zmq\\sugar\\poll.py\", line 99, in poll\n",
      "    return zmq_poll(self.sockets, timeout=timeout)\n",
      "  File \"zmq\\backend\\cython\\_poll.pyx\", line 116, in zmq.backend.cython._poll.zmq_poll (zmq\\backend\\cython\\_poll.c:2036)\n",
      "  File \"zmq\\backend\\cython\\checkrc.pxd\", line 12, in zmq.backend.cython.checkrc._check_rc (zmq\\backend\\cython\\_poll.c:2418)\n",
      "KeyboardInterrupt\n"
     ]
    }
   ],
   "source": [
    "model.fit(x_train, y_train,\n",
    "          batch_size=batch_size,\n",
    "          epochs=epochs,\n",
    "          verbose=1,\n",
    "          validation_data=(x_test, y_test))\n",
    "\n",
    "scores = model.evaluate(x_test, y_test, verbose=0)\n",
    "print('IRNN test score:', scores[0])\n",
    "print('IRNN test accuracy:', scores[1])"
   ]
  }
 ],
 "metadata": {
  "kernelspec": {
   "display_name": "Python 3",
   "language": "python",
   "name": "python3"
  },
  "language_info": {
   "codemirror_mode": {
    "name": "ipython",
    "version": 3
   },
   "file_extension": ".py",
   "mimetype": "text/x-python",
   "name": "python",
   "nbconvert_exporter": "python",
   "pygments_lexer": "ipython3",
   "version": "3.5.3"
  }
 },
 "nbformat": 4,
 "nbformat_minor": 2
}
